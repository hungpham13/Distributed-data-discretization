{
 "cells": [
  {
   "cell_type": "markdown",
   "metadata": {
    "colab_type": "text",
    "id": "view-in-github"
   },
   "source": [
    "<a href=\"https://colab.research.google.com/github/hungpham13/Distributed-data-discretization/blob/main/Data-preparation.ipynb\" target=\"_parent\"><img src=\"https://colab.research.google.com/assets/colab-badge.svg\" alt=\"Open In Colab\"/></a>"
   ]
  },
  {
   "cell_type": "code",
   "execution_count": 1,
   "id": "70bcee23",
   "metadata": {},
   "outputs": [],
   "source": [
    "# !git clone https://github.com/hungpham13/Distributed-data-discretization\n",
    "# %cd Distributed-data-discretization/\n",
    "# !pip install -r requirements.txt"
   ]
  },
  {
   "cell_type": "code",
   "execution_count": 2,
   "id": "543a6409",
   "metadata": {
    "id": "543a6409"
   },
   "outputs": [],
   "source": [
    "import pandas as pd\n",
    "\n",
    "\n",
    "import seaborn as sns\n",
    "import matplotlib.pyplot as plt"
   ]
  },
  {
   "cell_type": "code",
   "execution_count": 3,
   "id": "bc16a1b1",
   "metadata": {},
   "outputs": [
    {
     "name": "stdout",
     "output_type": "stream",
     "text": [
      "Generating exponential distribution, 36 days, 1000 samples...\n"
     ]
    },
    {
     "name": "stderr",
     "output_type": "stream",
     "text": [
      "100%|██████████| 35/35 [00:39<00:00,  1.12s/it]\n"
     ]
    },
    {
     "data": {
      "image/png": "[encoded data removed]",
      "text/plain": [
       "<Figure size 432x288 with 1 Axes>"
      ]
     },
     "metadata": {
      "needs_background": "light"
     },
     "output_type": "display_data"
    },
    {
     "name": "stdout",
     "output_type": "stream",
     "text": [
      "[[300 300 300 ... 300 300   0]\n",
      " [300 300 300 ... 300 353   0]\n",
      " [300 311 300 ... 300 300   0]\n",
      " [300 300 300 ... 300 300   0]\n",
      " [300 300 300 ... 300 300   0]]\n"
     ]
    }
   ],
   "source": [
    "from data_generation.gen_data import generate_data\n",
    "data = generate_data(36, 1000, 'exponential', mode='normal', visualize=True)\n",
    "\n",
    "# nums_sam = [1000, 3000, 10000, 30000, 100000, 300000, 1000000]\n",
    "# nums_day = [30, 60, 120, 365, 365*2, 365*3]\n",
    "# dists = ['exponential']\n",
    "\n",
    "# for dist in dists:\n",
    "#     for num_samples in nums_sam:\n",
    "#         for num_days in nums_day:\n",
    "#             data = generate_data(num_days, num_samples, dist, visualize=False)"
   ]
  },
  {
   "cell_type": "code",
   "execution_count": 3,
   "id": "d3160d0b",
   "metadata": {},
   "outputs": [
    {
     "name": "stdout",
     "output_type": "stream",
     "text": [
      "37 True\n",
      "0 False\n"
     ]
    }
   ],
   "source": [
    "import numpy as np\n",
    "data[0, :-1]\n",
    "print(np.max(data[:,:-1]), np.max(data[:,:-1]) <= 850)\n",
    "print(np.min(data[:, :-1]), np.min(data[:, :-1]) >=300)"
   ]
  },
  {
   "cell_type": "code",
   "execution_count": 4,
   "id": "45421a04",
   "metadata": {},
   "outputs": [
    {
     "name": "stdout",
     "output_type": "stream",
     "text": [
      "[ 0.   3.7  7.4 11.1 14.8 18.5 22.2 25.9 29.6 33.3 37. ]\n"
     ]
    }
   ],
   "source": [
    "from model.psi import get_breakpoint \n",
    "from model.psi import calculate_psi\n",
    "\n",
    "breakpoints = get_breakpoint(data[:,:-1].reshape(-1), buckettype='bins', buckets=10)\n",
    "print(breakpoints)\n",
    "for i in range(len(data) - 1):\n",
    "    psi = calculate_psi(expected=data[i, :-1], actual=data[i + 1, :-1],\n",
    "                        breakpoints=breakpoints)\n",
    "    if (data[i + 1, -1] == 0 and psi > 0.1):\n",
    "        print(psi)"
   ]
  },
  {
   "cell_type": "code",
   "execution_count": 5,
   "id": "7b7b8456",
   "metadata": {},
   "outputs": [
    {
     "data": {
      "text/plain": [
       "[2, 2, 1, 1, 1]"
      ]
     },
     "execution_count": 5,
     "metadata": {},
     "output_type": "execute_result"
    }
   ],
   "source": [
    "import numpy as np\n",
    "x = [1,2,2,1,3,4,5]\n",
    "hist, _ = np.histogram(x, bins=np.arange(1, 7, 1))\n",
    "hist.tolist()"
   ]
  },
  {
   "cell_type": "code",
   "execution_count": 6,
   "id": "7780c99e",
   "metadata": {},
   "outputs": [
    {
     "name": "stderr",
     "output_type": "stream",
     "text": [
      "/home/dungnasa/anaconda3/envs/LearnML/lib/python3.8/site-packages/seaborn/_decorators.py:36: FutureWarning: Pass the following variable as a keyword arg: x. From version 0.12, the only valid positional argument will be `data`, and passing other arguments without an explicit keyword will result in an error or misinterpretation.\n",
      "  warnings.warn(\n",
      "/home/dungnasa/anaconda3/envs/LearnML/lib/python3.8/site-packages/numpy/lib/nanfunctions.py:1374: RuntimeWarning: All-NaN slice encountered\n",
      "  r, k = function_base._ureduce(\n"
     ]
    },
    {
     "data": {
      "text/plain": [
       "<AxesSubplot:>"
      ]
     },
     "execution_count": 6,
     "metadata": {},
     "output_type": "execute_result"
    },
    {
     "data": {
      "image/png": "[encoded data removed]",
      "text/plain": [
       "<Figure size 432x288 with 1 Axes>"
      ]
     },
     "metadata": {
      "needs_background": "light"
     },
     "output_type": "display_data"
    }
   ],
   "source": [
    "import seaborn as sns\n",
    "sns.lineplot([1,2,8,3,1])"
   ]
  }
 ],
 "metadata": {
  "colab": {
   "include_colab_link": true,
   "provenance": []
  },
  "kernelspec": {
   "display_name": "Python 3",
   "language": "python",
   "name": "python3"
  },
  "language_info": {
   "codemirror_mode": {
    "name": "ipython",
    "version": 3
   },
   "file_extension": ".py",
   "mimetype": "text/x-python",
   "name": "python",
   "nbconvert_exporter": "python",
   "pygments_lexer": "ipython3",
   "version": "3.10.6"
  },
  "vscode": {
   "interpreter": {
    "hash": "31f2aee4e71d21fbe5cf8b01ff0e069b9275f58929596ceb00d14d90e3e16cd6"
   }
  }
 },
 "nbformat": 4,
 "nbformat_minor": 5
}
