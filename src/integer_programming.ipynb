{
  "cells": [
    {
      "cell_type": "code",
      "source": [
        "from google.colab import drive\n",
        "drive.mount('drive')"
      ],
      "metadata": {
        "colab": {
          "base_uri": "https://localhost:8080/"
        },
        "id": "MHn4P3pZ1-OL",
        "outputId": "f755019d-2a2a-4fdf-a6aa-de8e0ab6818f"
      },
      "execution_count": 1,
      "outputs": [
        {
          "output_type": "stream",
          "name": "stdout",
          "text": [
            "Drive already mounted at drive; to attempt to forcibly remount, call drive.mount(\"drive\", force_remount=True).\n"
          ]
        }
      ]
    },
    {
      "cell_type": "code",
      "source": [
        "!pip install ortools"
      ],
      "metadata": {
        "colab": {
          "base_uri": "https://localhost:8080/"
        },
        "id": "65TipXbM2cuY",
        "outputId": "8ec34068-07be-40fc-ca05-8c989903168e"
      },
      "execution_count": 2,
      "outputs": [
        {
          "output_type": "stream",
          "name": "stdout",
          "text": [
            "Looking in indexes: https://pypi.org/simple, https://us-python.pkg.dev/colab-wheels/public/simple/\n",
            "Requirement already satisfied: ortools in /usr/local/lib/python3.7/dist-packages (9.5.2237)\n",
            "Requirement already satisfied: numpy>=1.13.3 in /usr/local/lib/python3.7/dist-packages (from ortools) (1.21.6)\n",
            "Requirement already satisfied: absl-py>=0.13 in /usr/local/lib/python3.7/dist-packages (from ortools) (1.3.0)\n",
            "Requirement already satisfied: protobuf>=4.21.5 in /usr/local/lib/python3.7/dist-packages (from ortools) (4.21.9)\n"
          ]
        }
      ]
    },
    {
      "cell_type": "code",
      "source": [
        "!pip install iteration_utilities"
      ],
      "metadata": {
        "colab": {
          "base_uri": "https://localhost:8080/"
        },
        "id": "wxZ370X6KNbU",
        "outputId": "8f27839f-0a62-4bfa-eeac-deea398afc32"
      },
      "execution_count": 3,
      "outputs": [
        {
          "output_type": "stream",
          "name": "stdout",
          "text": [
            "Looking in indexes: https://pypi.org/simple, https://us-python.pkg.dev/colab-wheels/public/simple/\n",
            "Requirement already satisfied: iteration_utilities in /usr/local/lib/python3.7/dist-packages (0.11.0)\n"
          ]
        }
      ]
    },
    {
      "cell_type": "code",
      "source": [
        "import random\n",
        "\n",
        "import matplotlib.pyplot as plt\n",
        "import numpy as np\n",
        "import pandas as pd\n",
        "import seaborn as sns\n",
        "from iteration_utilities import random_combination\n",
        "\n",
        "\n",
        "def gen_nextday(prev, true):\n",
        "    '''\n",
        "        Mix with a random normal distribution in some ratio to form new day with respect to the previous day\n",
        "        - prev: python array, all the values of previous day\n",
        "        - r: ratio of mixing with another\n",
        "    '''\n",
        "    value_range = [300, 850]\n",
        "    mu_range = [value_range[0] + 50*5, value_range[1] - 50*5]\n",
        "    if true:\n",
        "        r=0.05\n",
        "        sigma_range = [50,] # (850 - 300) / 10\n",
        "    else:\n",
        "        r = 0.3\n",
        "        sigma_range = [25, ]\n",
        "    # remove random r% of element in prev\n",
        "    result = random.sample(prev, round(len(prev) * (1 - r)))\n",
        "    # add r% of a new random normal distribution to result\n",
        "    mu = random.uniform(mu_range[0], mu_range[1])\n",
        "\n",
        "    max_sigma = max(min(mu-value_range[0], value_range[1]-mu)/6, sigma_range[0])\n",
        "    sigma = random.uniform(sigma_range[0], max_sigma)\n",
        "    s = np.random.normal(mu, sigma, len(prev)).tolist()\n",
        "    s = [round(i) for i in s]\n",
        "    result = result + random.sample(s, round(len(prev) * r))\n",
        "    # shuffle result and return\n",
        "    random.shuffle(result)\n",
        "    return result\n",
        "\n",
        "\n",
        "def generate_data():\n",
        "    num_days = 1000\n",
        "    num_sample = 10000 #10000\n",
        "\n",
        "    bin_num = 5\n",
        "    value_range = [300, 850]\n",
        "    sigma_range = [25, ] # (850 = 300) / 12\n",
        "    mu_range = [300 + sigma_range[0], 850-sigma_range[0]]\n",
        "\n",
        "    data = pd.DataFrame(columns=list(range(num_sample)) + ['Labels'])\n",
        "\n",
        "    # generate first day\n",
        "    first_day = []\n",
        "    for _ in range(bin_num):\n",
        "        mu = random.uniform(mu_range[0], mu_range[1])\n",
        "        max_sigma = max(min(mu-value_range[0], value_range[1]-mu)/6, sigma_range[0])\n",
        "        sigma = random.uniform(sigma_range[0], max_sigma)\n",
        "        s = np.random.normal(mu, sigma, round(num_sample / bin_num)).tolist()\n",
        "        first_day.extend([round(i) for i in s])\n",
        "\n",
        "    data.loc[0] = first_day + [1]\n",
        "\n",
        "    # 1 is true, 0 is false\n",
        "\n",
        "    prev = first_day\n",
        "    for day in range(1, num_days):\n",
        "        label = np.random.choice([1, 0], p=[0.7, 0.3])\n",
        "        if (label == 1):\n",
        "            next = gen_nextday(prev, True)\n",
        "        else:\n",
        "            next = gen_nextday(prev, False)\n",
        "        prev = next\n",
        "        data.loc[day] = next + [label]\n",
        "\n",
        "    plt.figure()\n",
        "    for i,row in data.loc[0:5].iterrows():\n",
        "        sns.kdeplot(row.drop('Labels'), color= 'red' if row['Labels'] == 0 else 'blue', multiple='stack')\n",
        "    plt.show()\n",
        "    print(data.loc[0:5])\n",
        "\n",
        "    return data"
      ],
      "metadata": {
        "id": "UpwD81QVJ_6O"
      },
      "execution_count": 4,
      "outputs": []
    },
    {
      "cell_type": "markdown",
      "metadata": {
        "id": "GFcIiFeT183S"
      },
      "source": [
        "# Loading data"
      ]
    },
    {
      "cell_type": "code",
      "execution_count": 5,
      "metadata": {
        "id": "snZVZpSs183W"
      },
      "outputs": [],
      "source": [
        "import pandas as pd"
      ]
    },
    {
      "cell_type": "code",
      "execution_count": 42,
      "metadata": {
        "id": "b7Mik4B-183Z",
        "colab": {
          "base_uri": "https://localhost:8080/",
          "height": 576
        },
        "outputId": "a47fe1e8-0a5c-4e46-9d4e-cb2d7cbb0e3c"
      },
      "outputs": [
        {
          "output_type": "display_data",
          "data": {
            "text/plain": [
              "<Figure size 432x288 with 1 Axes>"
            ],
            "image/png": "[encoded data removed]"
          },
          "metadata": {
            "needs_background": "light"
          }
        },
        {
          "output_type": "stream",
          "name": "stdout",
          "text": [
            "     0    1    2    3    4    5    6    7    8    9  ... 9991 9992 9993 9994  \\\n",
            "0  642  638  628  638  630  619  584  680  697  569  ...  587  481  537  560   \n",
            "1  876  787  520  614  674  765  579  748  552  627  ...  665  840  503  812   \n",
            "2  536  839  465  773  534  598  820  642  636  594  ...  546  804  818  610   \n",
            "3  485  621  765  559  799  513  783  556  668  779  ...  564  631  490  515   \n",
            "4  535  793  726  637  566  804  845  618  540  701  ...  660  638  507  807   \n",
            "5  572  662  800  583  519  818  535  850  773  613  ...  786  587  500  658   \n",
            "\n",
            "  9995 9996 9997 9998 9999 Labels  \n",
            "0  549  576  563  569  539      1  \n",
            "1  568  488  611  621  649      1  \n",
            "2  463  545  536  574  540      1  \n",
            "3  404  684  513  640  575      1  \n",
            "4  469  606  803  626  657      1  \n",
            "5  665  524  835  585  495      1  \n",
            "\n",
            "[6 rows x 10001 columns]\n"
          ]
        }
      ],
      "source": [
        "# data = pd.read_csv(\"/content/drive/MyDrive/new_pseudo_data.csv\")\n",
        "data = generate_data()"
      ]
    },
    {
      "cell_type": "code",
      "source": [
        "data"
      ],
      "metadata": {
        "colab": {
          "base_uri": "https://localhost:8080/",
          "height": 424
        },
        "id": "kBsTRzKyKhRo",
        "outputId": "98583c2f-0071-4575-adb7-5690007aa3c1"
      },
      "execution_count": 43,
      "outputs": [
        {
          "output_type": "execute_result",
          "data": {
            "text/plain": [
              "       0    1    2    3    4    5    6    7    8    9  ... 9991 9992 9993  \\\n",
              "0    642  638  628  638  630  619  584  680  697  569  ...  587  481  537   \n",
              "1    876  787  520  614  674  765  579  748  552  627  ...  665  840  503   \n",
              "2    536  839  465  773  534  598  820  642  636  594  ...  546  804  818   \n",
              "3    485  621  765  559  799  513  783  556  668  779  ...  564  631  490   \n",
              "4    535  793  726  637  566  804  845  618  540  701  ...  660  638  507   \n",
              "..   ...  ...  ...  ...  ...  ...  ...  ...  ...  ...  ...  ...  ...  ...   \n",
              "995  557  569  570  519  590  575  549  585  524  620  ...  577  634  475   \n",
              "996  578  606  490  536  586  550  530  577  528  531  ...  533  681  578   \n",
              "997  520  569  650  540  502  603  535  541  526  555  ...  582  559  537   \n",
              "998  525  638  590  564  643  535  532  575  585  544  ...  572  515  577   \n",
              "999  624  614  511  586  581  623  624  522  601  564  ...  490  582  642   \n",
              "\n",
              "    9994 9995 9996 9997 9998 9999 Labels  \n",
              "0    560  549  576  563  569  539      1  \n",
              "1    812  568  488  611  621  649      1  \n",
              "2    610  463  545  536  574  540      1  \n",
              "3    515  404  684  513  640  575      1  \n",
              "4    807  469  606  803  626  657      1  \n",
              "..   ...  ...  ...  ...  ...  ...    ...  \n",
              "995  598  644  594  660  535  579      1  \n",
              "996  574  487  520  538  540  582      0  \n",
              "997  615  543  552  533  566  521      1  \n",
              "998  546  588  588  571  595  576      0  \n",
              "999  566  550  542  560  597  548      1  \n",
              "\n",
              "[1000 rows x 10001 columns]"
            ],
            "text/html": [
              "\n",
              "  <div id=\"df-64a3d013-4ecc-48ac-94f7-54c22b763e5a\">\n",
              "    <div class=\"colab-df-container\">\n",
              "      <div>\n",
              "<style scoped>\n",
              "    .dataframe tbody tr th:only-of-type {\n",
              "        vertical-align: middle;\n",
              "    }\n",
              "\n",
              "    .dataframe tbody tr th {\n",
              "        vertical-align: top;\n",
              "    }\n",
              "\n",
              "    .dataframe thead th {\n",
              "        text-align: right;\n",
              "    }\n",
              "</style>\n",
              "<table border=\"1\" class=\"dataframe\">\n",
              "  <thead>\n",
              "    <tr style=\"text-align: right;\">\n",
              "      <th></th>\n",
              "      <th>0</th>\n",
              "      <th>1</th>\n",
              "      <th>2</th>\n",
              "      <th>3</th>\n",
              "      <th>4</th>\n",
              "      <th>5</th>\n",
              "      <th>6</th>\n",
              "      <th>7</th>\n",
              "      <th>8</th>\n",
              "      <th>9</th>\n",
              "      <th>...</th>\n",
              "      <th>9991</th>\n",
              "      <th>9992</th>\n",
              "      <th>9993</th>\n",
              "      <th>9994</th>\n",
              "      <th>9995</th>\n",
              "      <th>9996</th>\n",
              "      <th>9997</th>\n",
              "      <th>9998</th>\n",
              "      <th>9999</th>\n",
              "      <th>Labels</th>\n",
              "    </tr>\n",
              "  </thead>\n",
              "  <tbody>\n",
              "    <tr>\n",
              "      <th>0</th>\n",
              "      <td>642</td>\n",
              "      <td>638</td>\n",
              "      <td>628</td>\n",
              "      <td>638</td>\n",
              "      <td>630</td>\n",
              "      <td>619</td>\n",
              "      <td>584</td>\n",
              "      <td>680</td>\n",
              "      <td>697</td>\n",
              "      <td>569</td>\n",
              "      <td>...</td>\n",
              "      <td>587</td>\n",
              "      <td>481</td>\n",
              "      <td>537</td>\n",
              "      <td>560</td>\n",
              "      <td>549</td>\n",
              "      <td>576</td>\n",
              "      <td>563</td>\n",
              "      <td>569</td>\n",
              "      <td>539</td>\n",
              "      <td>1</td>\n",
              "    </tr>\n",
              "    <tr>\n",
              "      <th>1</th>\n",
              "      <td>876</td>\n",
              "      <td>787</td>\n",
              "      <td>520</td>\n",
              "      <td>614</td>\n",
              "      <td>674</td>\n",
              "      <td>765</td>\n",
              "      <td>579</td>\n",
              "      <td>748</td>\n",
              "      <td>552</td>\n",
              "      <td>627</td>\n",
              "      <td>...</td>\n",
              "      <td>665</td>\n",
              "      <td>840</td>\n",
              "      <td>503</td>\n",
              "      <td>812</td>\n",
              "      <td>568</td>\n",
              "      <td>488</td>\n",
              "      <td>611</td>\n",
              "      <td>621</td>\n",
              "      <td>649</td>\n",
              "      <td>1</td>\n",
              "    </tr>\n",
              "    <tr>\n",
              "      <th>2</th>\n",
              "      <td>536</td>\n",
              "      <td>839</td>\n",
              "      <td>465</td>\n",
              "      <td>773</td>\n",
              "      <td>534</td>\n",
              "      <td>598</td>\n",
              "      <td>820</td>\n",
              "      <td>642</td>\n",
              "      <td>636</td>\n",
              "      <td>594</td>\n",
              "      <td>...</td>\n",
              "      <td>546</td>\n",
              "      <td>804</td>\n",
              "      <td>818</td>\n",
              "      <td>610</td>\n",
              "      <td>463</td>\n",
              "      <td>545</td>\n",
              "      <td>536</td>\n",
              "      <td>574</td>\n",
              "      <td>540</td>\n",
              "      <td>1</td>\n",
              "    </tr>\n",
              "    <tr>\n",
              "      <th>3</th>\n",
              "      <td>485</td>\n",
              "      <td>621</td>\n",
              "      <td>765</td>\n",
              "      <td>559</td>\n",
              "      <td>799</td>\n",
              "      <td>513</td>\n",
              "      <td>783</td>\n",
              "      <td>556</td>\n",
              "      <td>668</td>\n",
              "      <td>779</td>\n",
              "      <td>...</td>\n",
              "      <td>564</td>\n",
              "      <td>631</td>\n",
              "      <td>490</td>\n",
              "      <td>515</td>\n",
              "      <td>404</td>\n",
              "      <td>684</td>\n",
              "      <td>513</td>\n",
              "      <td>640</td>\n",
              "      <td>575</td>\n",
              "      <td>1</td>\n",
              "    </tr>\n",
              "    <tr>\n",
              "      <th>4</th>\n",
              "      <td>535</td>\n",
              "      <td>793</td>\n",
              "      <td>726</td>\n",
              "      <td>637</td>\n",
              "      <td>566</td>\n",
              "      <td>804</td>\n",
              "      <td>845</td>\n",
              "      <td>618</td>\n",
              "      <td>540</td>\n",
              "      <td>701</td>\n",
              "      <td>...</td>\n",
              "      <td>660</td>\n",
              "      <td>638</td>\n",
              "      <td>507</td>\n",
              "      <td>807</td>\n",
              "      <td>469</td>\n",
              "      <td>606</td>\n",
              "      <td>803</td>\n",
              "      <td>626</td>\n",
              "      <td>657</td>\n",
              "      <td>1</td>\n",
              "    </tr>\n",
              "    <tr>\n",
              "      <th>...</th>\n",
              "      <td>...</td>\n",
              "      <td>...</td>\n",
              "      <td>...</td>\n",
              "      <td>...</td>\n",
              "      <td>...</td>\n",
              "      <td>...</td>\n",
              "      <td>...</td>\n",
              "      <td>...</td>\n",
              "      <td>...</td>\n",
              "      <td>...</td>\n",
              "      <td>...</td>\n",
              "      <td>...</td>\n",
              "      <td>...</td>\n",
              "      <td>...</td>\n",
              "      <td>...</td>\n",
              "      <td>...</td>\n",
              "      <td>...</td>\n",
              "      <td>...</td>\n",
              "      <td>...</td>\n",
              "      <td>...</td>\n",
              "      <td>...</td>\n",
              "    </tr>\n",
              "    <tr>\n",
              "      <th>995</th>\n",
              "      <td>557</td>\n",
              "      <td>569</td>\n",
              "      <td>570</td>\n",
              "      <td>519</td>\n",
              "      <td>590</td>\n",
              "      <td>575</td>\n",
              "      <td>549</td>\n",
              "      <td>585</td>\n",
              "      <td>524</td>\n",
              "      <td>620</td>\n",
              "      <td>...</td>\n",
              "      <td>577</td>\n",
              "      <td>634</td>\n",
              "      <td>475</td>\n",
              "      <td>598</td>\n",
              "      <td>644</td>\n",
              "      <td>594</td>\n",
              "      <td>660</td>\n",
              "      <td>535</td>\n",
              "      <td>579</td>\n",
              "      <td>1</td>\n",
              "    </tr>\n",
              "    <tr>\n",
              "      <th>996</th>\n",
              "      <td>578</td>\n",
              "      <td>606</td>\n",
              "      <td>490</td>\n",
              "      <td>536</td>\n",
              "      <td>586</td>\n",
              "      <td>550</td>\n",
              "      <td>530</td>\n",
              "      <td>577</td>\n",
              "      <td>528</td>\n",
              "      <td>531</td>\n",
              "      <td>...</td>\n",
              "      <td>533</td>\n",
              "      <td>681</td>\n",
              "      <td>578</td>\n",
              "      <td>574</td>\n",
              "      <td>487</td>\n",
              "      <td>520</td>\n",
              "      <td>538</td>\n",
              "      <td>540</td>\n",
              "      <td>582</td>\n",
              "      <td>0</td>\n",
              "    </tr>\n",
              "    <tr>\n",
              "      <th>997</th>\n",
              "      <td>520</td>\n",
              "      <td>569</td>\n",
              "      <td>650</td>\n",
              "      <td>540</td>\n",
              "      <td>502</td>\n",
              "      <td>603</td>\n",
              "      <td>535</td>\n",
              "      <td>541</td>\n",
              "      <td>526</td>\n",
              "      <td>555</td>\n",
              "      <td>...</td>\n",
              "      <td>582</td>\n",
              "      <td>559</td>\n",
              "      <td>537</td>\n",
              "      <td>615</td>\n",
              "      <td>543</td>\n",
              "      <td>552</td>\n",
              "      <td>533</td>\n",
              "      <td>566</td>\n",
              "      <td>521</td>\n",
              "      <td>1</td>\n",
              "    </tr>\n",
              "    <tr>\n",
              "      <th>998</th>\n",
              "      <td>525</td>\n",
              "      <td>638</td>\n",
              "      <td>590</td>\n",
              "      <td>564</td>\n",
              "      <td>643</td>\n",
              "      <td>535</td>\n",
              "      <td>532</td>\n",
              "      <td>575</td>\n",
              "      <td>585</td>\n",
              "      <td>544</td>\n",
              "      <td>...</td>\n",
              "      <td>572</td>\n",
              "      <td>515</td>\n",
              "      <td>577</td>\n",
              "      <td>546</td>\n",
              "      <td>588</td>\n",
              "      <td>588</td>\n",
              "      <td>571</td>\n",
              "      <td>595</td>\n",
              "      <td>576</td>\n",
              "      <td>0</td>\n",
              "    </tr>\n",
              "    <tr>\n",
              "      <th>999</th>\n",
              "      <td>624</td>\n",
              "      <td>614</td>\n",
              "      <td>511</td>\n",
              "      <td>586</td>\n",
              "      <td>581</td>\n",
              "      <td>623</td>\n",
              "      <td>624</td>\n",
              "      <td>522</td>\n",
              "      <td>601</td>\n",
              "      <td>564</td>\n",
              "      <td>...</td>\n",
              "      <td>490</td>\n",
              "      <td>582</td>\n",
              "      <td>642</td>\n",
              "      <td>566</td>\n",
              "      <td>550</td>\n",
              "      <td>542</td>\n",
              "      <td>560</td>\n",
              "      <td>597</td>\n",
              "      <td>548</td>\n",
              "      <td>1</td>\n",
              "    </tr>\n",
              "  </tbody>\n",
              "</table>\n",
              "<p>1000 rows × 10001 columns</p>\n",
              "</div>\n",
              "      <button class=\"colab-df-convert\" onclick=\"convertToInteractive('df-64a3d013-4ecc-48ac-94f7-54c22b763e5a')\"\n",
              "              title=\"Convert this dataframe to an interactive table.\"\n",
              "              style=\"display:none;\">\n",
              "        \n",
              "  <svg xmlns=\"http://www.w3.org/2000/svg\" height=\"24px\"viewBox=\"0 0 24 24\"\n",
              "       width=\"24px\">\n",
              "    <path d=\"M0 0h24v24H0V0z\" fill=\"none\"/>\n",
              "    <path d=\"M18.56 5.44l.94 2.06.94-2.06 2.06-.94-2.06-.94-.94-2.06-.94 2.06-2.06.94zm-11 1L8.5 8.5l.94-2.06 2.06-.94-2.06-.94L8.5 2.5l-.94 2.06-2.06.94zm10 10l.94 2.06.94-2.06 2.06-.94-2.06-.94-.94-2.06-.94 2.06-2.06.94z\"/><path d=\"M17.41 7.96l-1.37-1.37c-.4-.4-.92-.59-1.43-.59-.52 0-1.04.2-1.43.59L10.3 9.45l-7.72 7.72c-.78.78-.78 2.05 0 2.83L4 21.41c.39.39.9.59 1.41.59.51 0 1.02-.2 1.41-.59l7.78-7.78 2.81-2.81c.8-.78.8-2.07 0-2.86zM5.41 20L4 18.59l7.72-7.72 1.47 1.35L5.41 20z\"/>\n",
              "  </svg>\n",
              "      </button>\n",
              "      \n",
              "  <style>\n",
              "    .colab-df-container {\n",
              "      display:flex;\n",
              "      flex-wrap:wrap;\n",
              "      gap: 12px;\n",
              "    }\n",
              "\n",
              "    .colab-df-convert {\n",
              "      background-color: #E8F0FE;\n",
              "      border: none;\n",
              "      border-radius: 50%;\n",
              "      cursor: pointer;\n",
              "      display: none;\n",
              "      fill: #1967D2;\n",
              "      height: 32px;\n",
              "      padding: 0 0 0 0;\n",
              "      width: 32px;\n",
              "    }\n",
              "\n",
              "    .colab-df-convert:hover {\n",
              "      background-color: #E2EBFA;\n",
              "      box-shadow: 0px 1px 2px rgba(60, 64, 67, 0.3), 0px 1px 3px 1px rgba(60, 64, 67, 0.15);\n",
              "      fill: #174EA6;\n",
              "    }\n",
              "\n",
              "    [theme=dark] .colab-df-convert {\n",
              "      background-color: #3B4455;\n",
              "      fill: #D2E3FC;\n",
              "    }\n",
              "\n",
              "    [theme=dark] .colab-df-convert:hover {\n",
              "      background-color: #434B5C;\n",
              "      box-shadow: 0px 1px 3px 1px rgba(0, 0, 0, 0.15);\n",
              "      filter: drop-shadow(0px 1px 2px rgba(0, 0, 0, 0.3));\n",
              "      fill: #FFFFFF;\n",
              "    }\n",
              "  </style>\n",
              "\n",
              "      <script>\n",
              "        const buttonEl =\n",
              "          document.querySelector('#df-64a3d013-4ecc-48ac-94f7-54c22b763e5a button.colab-df-convert');\n",
              "        buttonEl.style.display =\n",
              "          google.colab.kernel.accessAllowed ? 'block' : 'none';\n",
              "\n",
              "        async function convertToInteractive(key) {\n",
              "          const element = document.querySelector('#df-64a3d013-4ecc-48ac-94f7-54c22b763e5a');\n",
              "          const dataTable =\n",
              "            await google.colab.kernel.invokeFunction('convertToInteractive',\n",
              "                                                     [key], {});\n",
              "          if (!dataTable) return;\n",
              "\n",
              "          const docLinkHtml = 'Like what you see? Visit the ' +\n",
              "            '<a target=\"_blank\" href=https://colab.research.google.com/notebooks/data_table.ipynb>data table notebook</a>'\n",
              "            + ' to learn more about interactive tables.';\n",
              "          element.innerHTML = '';\n",
              "          dataTable['output_type'] = 'display_data';\n",
              "          await google.colab.output.renderOutput(dataTable, element);\n",
              "          const docLink = document.createElement('div');\n",
              "          docLink.innerHTML = docLinkHtml;\n",
              "          element.appendChild(docLink);\n",
              "        }\n",
              "      </script>\n",
              "    </div>\n",
              "  </div>\n",
              "  "
            ]
          },
          "metadata": {},
          "execution_count": 43
        }
      ]
    },
    {
      "cell_type": "code",
      "source": [
        "# data.to_csv(\"/content/drive/MyDrive/new_pseudo_data.csv\", index=False)"
      ],
      "metadata": {
        "id": "qU-R5B5TCVaY"
      },
      "execution_count": 44,
      "outputs": []
    },
    {
      "cell_type": "code",
      "execution_count": 45,
      "metadata": {
        "colab": {
          "base_uri": "https://localhost:8080/"
        },
        "id": "jVJoWP59183c",
        "outputId": "6236513e-1fcf-4278-fd6e-4db0da321979"
      },
      "outputs": [
        {
          "output_type": "execute_result",
          "data": {
            "text/plain": [
              "1    710\n",
              "0    290\n",
              "Name: Labels, dtype: int64"
            ]
          },
          "metadata": {},
          "execution_count": 45
        }
      ],
      "source": [
        "data[\"Labels\"].value_counts()"
      ]
    },
    {
      "cell_type": "code",
      "execution_count": 46,
      "metadata": {
        "id": "WmUr50cK183e"
      },
      "outputs": [],
      "source": [
        "data[\"Labels\"] = data[\"Labels\"].apply(lambda x: 1.0 if x == 0.0 else 0.0)"
      ]
    },
    {
      "cell_type": "code",
      "execution_count": 47,
      "metadata": {
        "colab": {
          "base_uri": "https://localhost:8080/"
        },
        "id": "5n8OU3va183g",
        "outputId": "ba83d7d3-e43a-4192-86c1-592a487a5925"
      },
      "outputs": [
        {
          "output_type": "execute_result",
          "data": {
            "text/plain": [
              "0.0    710\n",
              "1.0    290\n",
              "Name: Labels, dtype: int64"
            ]
          },
          "metadata": {},
          "execution_count": 47
        }
      ],
      "source": [
        "data[\"Labels\"].value_counts()"
      ]
    },
    {
      "cell_type": "code",
      "source": [
        "data = data[0: 35]"
      ],
      "metadata": {
        "id": "XLSaiCDgLU36"
      },
      "execution_count": 12,
      "outputs": []
    },
    {
      "cell_type": "code",
      "source": [
        "data.shape"
      ],
      "metadata": {
        "colab": {
          "base_uri": "https://localhost:8080/"
        },
        "id": "JShJJvXWLYoV",
        "outputId": "8f4462a0-591a-4da6-f6fc-6761d1003b4d"
      },
      "execution_count": 13,
      "outputs": [
        {
          "output_type": "execute_result",
          "data": {
            "text/plain": [
              "(35, 10001)"
            ]
          },
          "metadata": {},
          "execution_count": 13
        }
      ]
    },
    {
      "cell_type": "code",
      "source": [
        "data[\"Labels\"].value_counts()"
      ],
      "metadata": {
        "colab": {
          "base_uri": "https://localhost:8080/"
        },
        "id": "KkzF_xkbLbfE",
        "outputId": "421f6326-3839-4915-93b4-7e5897d2b5a7"
      },
      "execution_count": 14,
      "outputs": [
        {
          "output_type": "execute_result",
          "data": {
            "text/plain": [
              "0.0    27\n",
              "1.0     8\n",
              "Name: Labels, dtype: int64"
            ]
          },
          "metadata": {},
          "execution_count": 14
        }
      ]
    },
    {
      "cell_type": "markdown",
      "metadata": {
        "id": "8D4M8xQ2183h"
      },
      "source": [
        "# Preprocessing"
      ]
    },
    {
      "cell_type": "code",
      "execution_count": 15,
      "metadata": {
        "id": "XnPzC16c183j"
      },
      "outputs": [],
      "source": [
        "import numpy as np"
      ]
    },
    {
      "cell_type": "code",
      "execution_count": 16,
      "metadata": {
        "colab": {
          "base_uri": "https://localhost:8080/"
        },
        "id": "3K0tGxTO183k",
        "outputId": "0e146ab2-aa4c-4135-f661-9d8090413da9"
      },
      "outputs": [
        {
          "output_type": "execute_result",
          "data": {
            "text/plain": [
              "array([[444, 530, 460, ..., 446, 437, 419],\n",
              "       [615, 431, 616, ..., 438, 399, 620],\n",
              "       [453, 457, 461, ..., 544, 440, 649],\n",
              "       ...,\n",
              "       [513, 521, 555, ..., 583, 535, 544],\n",
              "       [596, 605, 617, ..., 584, 576, 548],\n",
              "       [678, 558, 609, ..., 569, 594, 569]])"
            ]
          },
          "metadata": {},
          "execution_count": 16
        }
      ],
      "source": [
        "scores = data.iloc[:, :-1].to_numpy()\n",
        "scores"
      ]
    },
    {
      "cell_type": "code",
      "execution_count": 17,
      "metadata": {
        "colab": {
          "base_uri": "https://localhost:8080/"
        },
        "id": "UOj36fTt183m",
        "outputId": "3dfa4eb0-4acf-43ce-94da-771f1d1bbd65"
      },
      "outputs": [
        {
          "output_type": "execute_result",
          "data": {
            "text/plain": [
              "array([0., 0., 1., 1., 0., 1., 0., 0., 0., 0., 0., 1., 0., 0., 0., 0., 0.,\n",
              "       0., 0., 0., 0., 1., 1., 0., 1., 0., 0., 0., 0., 0., 0., 0., 0., 1.,\n",
              "       0.])"
            ]
          },
          "metadata": {},
          "execution_count": 17
        }
      ],
      "source": [
        "labels = data.iloc[:, -1].to_numpy()\n",
        "labels"
      ]
    },
    {
      "cell_type": "markdown",
      "metadata": {
        "id": "VZHvAulB183n"
      },
      "source": [
        "# Train-Test split"
      ]
    },
    {
      "cell_type": "code",
      "execution_count": 18,
      "metadata": {
        "id": "kRCi5Mry183o"
      },
      "outputs": [],
      "source": [
        "from sklearn.model_selection import train_test_split"
      ]
    },
    {
      "cell_type": "code",
      "execution_count": 19,
      "metadata": {
        "id": "1x7uSKnf183p"
      },
      "outputs": [],
      "source": [
        "X_train, X_test, y_train, y_test = train_test_split(scores, labels, test_size=0.15, random_state=42)"
      ]
    },
    {
      "cell_type": "code",
      "execution_count": 20,
      "metadata": {
        "colab": {
          "base_uri": "https://localhost:8080/"
        },
        "id": "6RW6Wzd2183q",
        "outputId": "6d4f37f5-857a-4516-8980-15a84acce266"
      },
      "outputs": [
        {
          "output_type": "stream",
          "name": "stdout",
          "text": [
            "(29, 10000)\n",
            "(29,)\n"
          ]
        }
      ],
      "source": [
        "print(X_train.shape)\n",
        "print(y_train.shape)"
      ]
    },
    {
      "cell_type": "code",
      "execution_count": 21,
      "metadata": {
        "colab": {
          "base_uri": "https://localhost:8080/"
        },
        "id": "5I6ymBlN183r",
        "outputId": "6f7d46cb-e269-4d8b-d3fe-9fd9c1154b83"
      },
      "outputs": [
        {
          "output_type": "stream",
          "name": "stdout",
          "text": [
            "(6, 10000)\n",
            "(6,)\n"
          ]
        }
      ],
      "source": [
        "print(X_test.shape)\n",
        "print(y_test.shape)"
      ]
    },
    {
      "cell_type": "markdown",
      "metadata": {
        "id": "SXccE67U183t"
      },
      "source": [
        "# Preparing interval frequencies"
      ]
    },
    {
      "cell_type": "code",
      "source": [
        "# example_bin_edges = [1, 2, 3, 4, 5]\n",
        "# bin_num = [[5, 10, 2, 6], [4, 0, 8, 9]]"
      ],
      "metadata": {
        "id": "LWT7z9CzI3dx"
      },
      "execution_count": 22,
      "outputs": []
    },
    {
      "cell_type": "code",
      "source": [
        "# size = len(example_bin_edges)\n",
        "# num_days = 2\n",
        "# percent_days = np.zeros((num_days, size, size))\n",
        "\n",
        "# for i in range(num_days):\n",
        "#     hist = bin_num[i]\n",
        "#     for j in range(size - 1):\n",
        "#         for k in range(j + 1, size):\n",
        "#             percent_days[i, j, k] = np.sum(hist[j: k])"
      ],
      "metadata": {
        "id": "6W3Iuq4bJFam"
      },
      "execution_count": 23,
      "outputs": []
    },
    {
      "cell_type": "code",
      "source": [
        "# percent_days"
      ],
      "metadata": {
        "id": "hWtNp9skJveo"
      },
      "execution_count": 24,
      "outputs": []
    },
    {
      "cell_type": "code",
      "execution_count": 25,
      "metadata": {
        "colab": {
          "base_uri": "https://localhost:8080/"
        },
        "id": "HYb2s_o_183t",
        "outputId": "b95e6d2d-4529-4007-a62d-f3c041781030"
      },
      "outputs": [
        {
          "output_type": "execute_result",
          "data": {
            "text/plain": [
              "551"
            ]
          },
          "metadata": {},
          "execution_count": 25
        }
      ],
      "source": [
        "min_edge, max_edge = 300, 850\n",
        "bin_edges = np.arange(min_edge, max_edge + 1, 1)\n",
        "len(bin_edges)"
      ]
    },
    {
      "cell_type": "code",
      "execution_count": 26,
      "metadata": {
        "id": "jjRQCy6X183v"
      },
      "outputs": [],
      "source": [
        "size = len(bin_edges)\n",
        "num_days = X_train.shape[0]\n",
        "percent_days = np.zeros((num_days, size, size))\n",
        "\n",
        "for i in range(num_days):\n",
        "    hist, _ = np.histogram(scores[i], bins=bin_edges)\n",
        "    for j in range(size - 1):\n",
        "        for k in range(j + 1, size):\n",
        "            percent_days[i, j, k] = np.sum(hist[j: k])"
      ]
    },
    {
      "cell_type": "code",
      "execution_count": 27,
      "metadata": {
        "id": "coQkT73J183w"
      },
      "outputs": [],
      "source": [
        "percent_days = percent_days / X_train.shape[1] * 100"
      ]
    },
    {
      "cell_type": "code",
      "source": [
        "percent_days.shape"
      ],
      "metadata": {
        "colab": {
          "base_uri": "https://localhost:8080/"
        },
        "id": "sd2E9-WYhMi2",
        "outputId": "9f96c8d0-a2ce-4832-f101-21a1ab8d6249"
      },
      "execution_count": 28,
      "outputs": [
        {
          "output_type": "execute_result",
          "data": {
            "text/plain": [
              "(29, 551, 551)"
            ]
          },
          "metadata": {},
          "execution_count": 28
        }
      ]
    },
    {
      "cell_type": "markdown",
      "metadata": {
        "id": "6TzhCAWG183x"
      },
      "source": [
        "# Models"
      ]
    },
    {
      "cell_type": "code",
      "execution_count": 29,
      "metadata": {
        "id": "jBMi61nL183x"
      },
      "outputs": [],
      "source": [
        "from ortools.linear_solver import pywraplp"
      ]
    },
    {
      "cell_type": "markdown",
      "metadata": {
        "id": "GxdkcBfI183y"
      },
      "source": [
        "## Declare the model"
      ]
    },
    {
      "cell_type": "code",
      "execution_count": 30,
      "metadata": {
        "id": "oEtemUlI183z"
      },
      "outputs": [],
      "source": [
        "solver = pywraplp.Solver.CreateSolver('SCIP')"
      ]
    },
    {
      "cell_type": "markdown",
      "metadata": {
        "id": "MfOxCIEO1830"
      },
      "source": [
        "## Create the variables"
      ]
    },
    {
      "cell_type": "code",
      "execution_count": 31,
      "metadata": {
        "id": "f5xxvg7v1830"
      },
      "outputs": [],
      "source": [
        "x = np.empty(shape=(size, size), dtype=object)\n",
        "\n",
        "for i in range(size):\n",
        "    for j in range(size):\n",
        "        x[i, j] = solver.IntVar(0, 1, f'x[{i}, {j}]')"
      ]
    },
    {
      "cell_type": "markdown",
      "metadata": {
        "id": "xYwMgDyF1831"
      },
      "source": [
        "## Create the constraints"
      ]
    },
    {
      "cell_type": "code",
      "source": [
        "# Ensure one direction flow\n",
        "for i in range(size):\n",
        "    solver.Add(solver.Sum(x[i, : i + 1]) == 0)"
      ],
      "metadata": {
        "id": "yv_xQQ_5Twx8"
      },
      "execution_count": 32,
      "outputs": []
    },
    {
      "cell_type": "code",
      "execution_count": 33,
      "metadata": {
        "id": "jwKsCrVz1832"
      },
      "outputs": [],
      "source": [
        "# Each row/column has at most one 1\n",
        "# Non-overlap bins (a.k.a flow constraint)\n",
        "for i in range(size):\n",
        "    solver.Add(solver.Sum(x[: i, i]) <= 1)\n",
        "    solver.Add(solver.Sum(x[i, i + 1:]) <= 1)\n",
        "    solver.Add(solver.Sum(x[: i, i]) == solver.Sum(x[i, i + 1:]))"
      ]
    },
    {
      "cell_type": "code",
      "execution_count": 34,
      "metadata": {
        "id": "22GEL23D1834",
        "colab": {
          "base_uri": "https://localhost:8080/"
        },
        "outputId": "d2084265-5356-4844-d83a-25b2d3b80461"
      },
      "outputs": [
        {
          "output_type": "execute_result",
          "data": {
            "text/plain": [
              "<ortools.linear_solver.pywraplp.Constraint; proxy of <Swig Object of type 'operations_research::MPConstraint *' at 0x7f995fd649c0> >"
            ]
          },
          "metadata": {},
          "execution_count": 34
        }
      ],
      "source": [
        "# Ensure in-and-out\n",
        "solver.Add(solver.Sum(x[0, 1:]) == 1)\n",
        "solver.Add(solver.Sum(x[0: -1, -1]) == 1)"
      ]
    },
    {
      "cell_type": "code",
      "execution_count": 35,
      "metadata": {
        "id": "aILobFBl1835",
        "colab": {
          "base_uri": "https://localhost:8080/"
        },
        "outputId": "1d7421b5-31ba-466a-ae7a-22f9ad28c2a2"
      },
      "outputs": [
        {
          "output_type": "execute_result",
          "data": {
            "text/plain": [
              "<ortools.linear_solver.pywraplp.Constraint; proxy of <Swig Object of type 'operations_research::MPConstraint *' at 0x7f996638cd20> >"
            ]
          },
          "metadata": {},
          "execution_count": 35
        }
      ],
      "source": [
        "# Ensure at most k bins\n",
        "max_num_bins = 20\n",
        "solver.Add(solver.Sum(x.flatten()) <= max_num_bins)"
      ]
    },
    {
      "cell_type": "markdown",
      "metadata": {
        "id": "XcQenaEv1836"
      },
      "source": [
        "## Create the objective function"
      ]
    },
    {
      "cell_type": "code",
      "execution_count": 36,
      "metadata": {
        "id": "z9_OTeeJ1836"
      },
      "outputs": [],
      "source": [
        "from math import log"
      ]
    },
    {
      "cell_type": "code",
      "execution_count": 37,
      "metadata": {
        "id": "ahXcGeFW1837"
      },
      "outputs": [],
      "source": [
        "objective_0 = []\n",
        "objective_1 = []\n",
        "epsilon = 1e-8 # Smoothing hyperparameters"
      ]
    },
    {
      "cell_type": "code",
      "execution_count": 38,
      "metadata": {
        "id": "vUPzUQ_Z1838"
      },
      "outputs": [],
      "source": [
        "for i in range(1, num_days):\n",
        "    if labels[i] == 0.0:\n",
        "        for j in range(size):\n",
        "            for k in range(size):\n",
        "                objective_0.append(x[j, k] * (percent_days[i, j, k] - percent_days[i - 1, j, k]) * log((percent_days[i, j, k] + epsilon) / (percent_days[i - 1, j, k] + epsilon)))"
      ]
    },
    {
      "cell_type": "code",
      "execution_count": 39,
      "metadata": {
        "id": "2TAydrja1839"
      },
      "outputs": [],
      "source": [
        "solver.Minimize(solver.Sum(objective_0))"
      ]
    },
    {
      "cell_type": "markdown",
      "metadata": {
        "id": "U2-oxDk_1839"
      },
      "source": [
        "## Invoke the solver"
      ]
    },
    {
      "cell_type": "code",
      "execution_count": 40,
      "metadata": {
        "id": "nbFUN3Dv183-"
      },
      "outputs": [],
      "source": [
        "status = solver.Solve()"
      ]
    },
    {
      "cell_type": "markdown",
      "metadata": {
        "id": "Frxyzt2a183_"
      },
      "source": [
        "## Print the solution"
      ]
    },
    {
      "cell_type": "code",
      "execution_count": 41,
      "metadata": {
        "id": "UQFYpST1184A",
        "colab": {
          "base_uri": "https://localhost:8080/"
        },
        "outputId": "1f594a8d-c57e-4c61-f3c5-133a38ebbff9"
      },
      "outputs": [
        {
          "output_type": "stream",
          "name": "stdout",
          "text": [
            "No solution found.\n"
          ]
        }
      ],
      "source": [
        "if status == pywraplp.Solver.OPTIMAL or status == pywraplp.Solver.FEASIBLE:\n",
        "    print(f'Total cost = {solver.Objective().Value()}\\n')\n",
        "    for i in range(size):\n",
        "        for j in range(size):\n",
        "            if x[i, j].solution_value() != 0:\n",
        "                print(i + 300, j + 300)\n",
        "else:\n",
        "    print('No solution found.')"
      ]
    },
    {
      "cell_type": "code",
      "source": [
        "for j in range(size):\n",
        "    for k in range(size):\n",
        "        if x[j, k].solution_value() == 1.0:\n",
        "            print(x[j, k].solution_value())"
      ],
      "metadata": {
        "id": "9qz_okphbXyU"
      },
      "execution_count": 53,
      "outputs": []
    },
    {
      "cell_type": "code",
      "source": [],
      "metadata": {
        "id": "5SAJbZzFbmNy"
      },
      "execution_count": null,
      "outputs": []
    }
  ],
  "metadata": {
    "kernelspec": {
      "display_name": "Python 3.8.12 ('LearnML')",
      "language": "python",
      "name": "python3"
    },
    "language_info": {
      "codemirror_mode": {
        "name": "ipython",
        "version": 3
      },
      "file_extension": ".py",
      "mimetype": "text/x-python",
      "name": "python",
      "nbconvert_exporter": "python",
      "pygments_lexer": "ipython3",
      "version": "3.8.12"
    },
    "orig_nbformat": 4,
    "vscode": {
      "interpreter": {
        "hash": "7a92c992b800fa774aac7d5822a596282d125a26635bcd06f076e6986145244f"
      }
    },
    "colab": {
      "provenance": []
    }
  },
  "nbformat": 4,
  "nbformat_minor": 0
}