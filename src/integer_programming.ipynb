{
  "cells": [
    {
      "cell_type": "markdown",
      "metadata": {
        "id": "GFcIiFeT183S"
      },
      "source": [
        "# Loading data"
      ]
    },
    {
      "cell_type": "code",
      "execution_count": 3,
      "metadata": {
        "id": "snZVZpSs183W"
      },
      "outputs": [],
      "source": [
        "import pandas as pd"
      ]
    },
    {
      "cell_type": "code",
      "execution_count": 4,
      "metadata": {
        "id": "b7Mik4B-183Z"
      },
      "outputs": [],
      "source": [
        "data = pd.read_csv(\"../data/new_pseudo_data.csv\")\n",
        "# data = generate_data()"
      ]
    },
    {
      "cell_type": "code",
      "execution_count": 5,
      "metadata": {
        "colab": {
          "base_uri": "https://localhost:8080/",
          "height": 424
        },
        "id": "kBsTRzKyKhRo",
        "outputId": "4ed7b8c2-2181-45bb-b091-2475efbbe3bc"
      },
      "outputs": [
        {
          "data": {
            "text/html": [
              "\n",
              "  <div id=\"df-ab044bda-1137-434e-8e78-43a091794b8b\">\n",
              "    <div class=\"colab-df-container\">\n",
              "      <div>\n",
              "<style scoped>\n",
              "    .dataframe tbody tr th:only-of-type {\n",
              "        vertical-align: middle;\n",
              "    }\n",
              "\n",
              "    .dataframe tbody tr th {\n",
              "        vertical-align: top;\n",
              "    }\n",
              "\n",
              "    .dataframe thead th {\n",
              "        text-align: right;\n",
              "    }\n",
              "</style>\n",
              "<table border=\"1\" class=\"dataframe\">\n",
              "  <thead>\n",
              "    <tr style=\"text-align: right;\">\n",
              "      <th></th>\n",
              "      <th>0</th>\n",
              "      <th>1</th>\n",
              "      <th>2</th>\n",
              "      <th>3</th>\n",
              "      <th>4</th>\n",
              "      <th>5</th>\n",
              "      <th>6</th>\n",
              "      <th>7</th>\n",
              "      <th>8</th>\n",
              "      <th>9</th>\n",
              "      <th>...</th>\n",
              "      <th>9991</th>\n",
              "      <th>9992</th>\n",
              "      <th>9993</th>\n",
              "      <th>9994</th>\n",
              "      <th>9995</th>\n",
              "      <th>9996</th>\n",
              "      <th>9997</th>\n",
              "      <th>9998</th>\n",
              "      <th>9999</th>\n",
              "      <th>Labels</th>\n",
              "    </tr>\n",
              "  </thead>\n",
              "  <tbody>\n",
              "    <tr>\n",
              "      <th>0</th>\n",
              "      <td>642</td>\n",
              "      <td>638</td>\n",
              "      <td>628</td>\n",
              "      <td>638</td>\n",
              "      <td>630</td>\n",
              "      <td>619</td>\n",
              "      <td>584</td>\n",
              "      <td>680</td>\n",
              "      <td>697</td>\n",
              "      <td>569</td>\n",
              "      <td>...</td>\n",
              "      <td>587</td>\n",
              "      <td>481</td>\n",
              "      <td>537</td>\n",
              "      <td>560</td>\n",
              "      <td>549</td>\n",
              "      <td>576</td>\n",
              "      <td>563</td>\n",
              "      <td>569</td>\n",
              "      <td>539</td>\n",
              "      <td>1</td>\n",
              "    </tr>\n",
              "    <tr>\n",
              "      <th>1</th>\n",
              "      <td>876</td>\n",
              "      <td>787</td>\n",
              "      <td>520</td>\n",
              "      <td>614</td>\n",
              "      <td>674</td>\n",
              "      <td>765</td>\n",
              "      <td>579</td>\n",
              "      <td>748</td>\n",
              "      <td>552</td>\n",
              "      <td>627</td>\n",
              "      <td>...</td>\n",
              "      <td>665</td>\n",
              "      <td>840</td>\n",
              "      <td>503</td>\n",
              "      <td>812</td>\n",
              "      <td>568</td>\n",
              "      <td>488</td>\n",
              "      <td>611</td>\n",
              "      <td>621</td>\n",
              "      <td>649</td>\n",
              "      <td>1</td>\n",
              "    </tr>\n",
              "    <tr>\n",
              "      <th>2</th>\n",
              "      <td>536</td>\n",
              "      <td>839</td>\n",
              "      <td>465</td>\n",
              "      <td>773</td>\n",
              "      <td>534</td>\n",
              "      <td>598</td>\n",
              "      <td>820</td>\n",
              "      <td>642</td>\n",
              "      <td>636</td>\n",
              "      <td>594</td>\n",
              "      <td>...</td>\n",
              "      <td>546</td>\n",
              "      <td>804</td>\n",
              "      <td>818</td>\n",
              "      <td>610</td>\n",
              "      <td>463</td>\n",
              "      <td>545</td>\n",
              "      <td>536</td>\n",
              "      <td>574</td>\n",
              "      <td>540</td>\n",
              "      <td>1</td>\n",
              "    </tr>\n",
              "    <tr>\n",
              "      <th>3</th>\n",
              "      <td>485</td>\n",
              "      <td>621</td>\n",
              "      <td>765</td>\n",
              "      <td>559</td>\n",
              "      <td>799</td>\n",
              "      <td>513</td>\n",
              "      <td>783</td>\n",
              "      <td>556</td>\n",
              "      <td>668</td>\n",
              "      <td>779</td>\n",
              "      <td>...</td>\n",
              "      <td>564</td>\n",
              "      <td>631</td>\n",
              "      <td>490</td>\n",
              "      <td>515</td>\n",
              "      <td>404</td>\n",
              "      <td>684</td>\n",
              "      <td>513</td>\n",
              "      <td>640</td>\n",
              "      <td>575</td>\n",
              "      <td>1</td>\n",
              "    </tr>\n",
              "    <tr>\n",
              "      <th>4</th>\n",
              "      <td>535</td>\n",
              "      <td>793</td>\n",
              "      <td>726</td>\n",
              "      <td>637</td>\n",
              "      <td>566</td>\n",
              "      <td>804</td>\n",
              "      <td>845</td>\n",
              "      <td>618</td>\n",
              "      <td>540</td>\n",
              "      <td>701</td>\n",
              "      <td>...</td>\n",
              "      <td>660</td>\n",
              "      <td>638</td>\n",
              "      <td>507</td>\n",
              "      <td>807</td>\n",
              "      <td>469</td>\n",
              "      <td>606</td>\n",
              "      <td>803</td>\n",
              "      <td>626</td>\n",
              "      <td>657</td>\n",
              "      <td>1</td>\n",
              "    </tr>\n",
              "    <tr>\n",
              "      <th>...</th>\n",
              "      <td>...</td>\n",
              "      <td>...</td>\n",
              "      <td>...</td>\n",
              "      <td>...</td>\n",
              "      <td>...</td>\n",
              "      <td>...</td>\n",
              "      <td>...</td>\n",
              "      <td>...</td>\n",
              "      <td>...</td>\n",
              "      <td>...</td>\n",
              "      <td>...</td>\n",
              "      <td>...</td>\n",
              "      <td>...</td>\n",
              "      <td>...</td>\n",
              "      <td>...</td>\n",
              "      <td>...</td>\n",
              "      <td>...</td>\n",
              "      <td>...</td>\n",
              "      <td>...</td>\n",
              "      <td>...</td>\n",
              "      <td>...</td>\n",
              "    </tr>\n",
              "    <tr>\n",
              "      <th>995</th>\n",
              "      <td>557</td>\n",
              "      <td>569</td>\n",
              "      <td>570</td>\n",
              "      <td>519</td>\n",
              "      <td>590</td>\n",
              "      <td>575</td>\n",
              "      <td>549</td>\n",
              "      <td>585</td>\n",
              "      <td>524</td>\n",
              "      <td>620</td>\n",
              "      <td>...</td>\n",
              "      <td>577</td>\n",
              "      <td>634</td>\n",
              "      <td>475</td>\n",
              "      <td>598</td>\n",
              "      <td>644</td>\n",
              "      <td>594</td>\n",
              "      <td>660</td>\n",
              "      <td>535</td>\n",
              "      <td>579</td>\n",
              "      <td>1</td>\n",
              "    </tr>\n",
              "    <tr>\n",
              "      <th>996</th>\n",
              "      <td>578</td>\n",
              "      <td>606</td>\n",
              "      <td>490</td>\n",
              "      <td>536</td>\n",
              "      <td>586</td>\n",
              "      <td>550</td>\n",
              "      <td>530</td>\n",
              "      <td>577</td>\n",
              "      <td>528</td>\n",
              "      <td>531</td>\n",
              "      <td>...</td>\n",
              "      <td>533</td>\n",
              "      <td>681</td>\n",
              "      <td>578</td>\n",
              "      <td>574</td>\n",
              "      <td>487</td>\n",
              "      <td>520</td>\n",
              "      <td>538</td>\n",
              "      <td>540</td>\n",
              "      <td>582</td>\n",
              "      <td>0</td>\n",
              "    </tr>\n",
              "    <tr>\n",
              "      <th>997</th>\n",
              "      <td>520</td>\n",
              "      <td>569</td>\n",
              "      <td>650</td>\n",
              "      <td>540</td>\n",
              "      <td>502</td>\n",
              "      <td>603</td>\n",
              "      <td>535</td>\n",
              "      <td>541</td>\n",
              "      <td>526</td>\n",
              "      <td>555</td>\n",
              "      <td>...</td>\n",
              "      <td>582</td>\n",
              "      <td>559</td>\n",
              "      <td>537</td>\n",
              "      <td>615</td>\n",
              "      <td>543</td>\n",
              "      <td>552</td>\n",
              "      <td>533</td>\n",
              "      <td>566</td>\n",
              "      <td>521</td>\n",
              "      <td>1</td>\n",
              "    </tr>\n",
              "    <tr>\n",
              "      <th>998</th>\n",
              "      <td>525</td>\n",
              "      <td>638</td>\n",
              "      <td>590</td>\n",
              "      <td>564</td>\n",
              "      <td>643</td>\n",
              "      <td>535</td>\n",
              "      <td>532</td>\n",
              "      <td>575</td>\n",
              "      <td>585</td>\n",
              "      <td>544</td>\n",
              "      <td>...</td>\n",
              "      <td>572</td>\n",
              "      <td>515</td>\n",
              "      <td>577</td>\n",
              "      <td>546</td>\n",
              "      <td>588</td>\n",
              "      <td>588</td>\n",
              "      <td>571</td>\n",
              "      <td>595</td>\n",
              "      <td>576</td>\n",
              "      <td>0</td>\n",
              "    </tr>\n",
              "    <tr>\n",
              "      <th>999</th>\n",
              "      <td>624</td>\n",
              "      <td>614</td>\n",
              "      <td>511</td>\n",
              "      <td>586</td>\n",
              "      <td>581</td>\n",
              "      <td>623</td>\n",
              "      <td>624</td>\n",
              "      <td>522</td>\n",
              "      <td>601</td>\n",
              "      <td>564</td>\n",
              "      <td>...</td>\n",
              "      <td>490</td>\n",
              "      <td>582</td>\n",
              "      <td>642</td>\n",
              "      <td>566</td>\n",
              "      <td>550</td>\n",
              "      <td>542</td>\n",
              "      <td>560</td>\n",
              "      <td>597</td>\n",
              "      <td>548</td>\n",
              "      <td>1</td>\n",
              "    </tr>\n",
              "  </tbody>\n",
              "</table>\n",
              "<p>1000 rows × 10001 columns</p>\n",
              "</div>\n",
              "      <button class=\"colab-df-convert\" onclick=\"convertToInteractive('df-ab044bda-1137-434e-8e78-43a091794b8b')\"\n",
              "              title=\"Convert this dataframe to an interactive table.\"\n",
              "              style=\"display:none;\">\n",
              "        \n",
              "  <svg xmlns=\"http://www.w3.org/2000/svg\" height=\"24px\"viewBox=\"0 0 24 24\"\n",
              "       width=\"24px\">\n",
              "    <path d=\"M0 0h24v24H0V0z\" fill=\"none\"/>\n",
              "    <path d=\"M18.56 5.44l.94 2.06.94-2.06 2.06-.94-2.06-.94-.94-2.06-.94 2.06-2.06.94zm-11 1L8.5 8.5l.94-2.06 2.06-.94-2.06-.94L8.5 2.5l-.94 2.06-2.06.94zm10 10l.94 2.06.94-2.06 2.06-.94-2.06-.94-.94-2.06-.94 2.06-2.06.94z\"/><path d=\"M17.41 7.96l-1.37-1.37c-.4-.4-.92-.59-1.43-.59-.52 0-1.04.2-1.43.59L10.3 9.45l-7.72 7.72c-.78.78-.78 2.05 0 2.83L4 21.41c.39.39.9.59 1.41.59.51 0 1.02-.2 1.41-.59l7.78-7.78 2.81-2.81c.8-.78.8-2.07 0-2.86zM5.41 20L4 18.59l7.72-7.72 1.47 1.35L5.41 20z\"/>\n",
              "  </svg>\n",
              "      </button>\n",
              "      \n",
              "  <style>\n",
              "    .colab-df-container {\n",
              "      display:flex;\n",
              "      flex-wrap:wrap;\n",
              "      gap: 12px;\n",
              "    }\n",
              "\n",
              "    .colab-df-convert {\n",
              "      background-color: #E8F0FE;\n",
              "      border: none;\n",
              "      border-radius: 50%;\n",
              "      cursor: pointer;\n",
              "      display: none;\n",
              "      fill: #1967D2;\n",
              "      height: 32px;\n",
              "      padding: 0 0 0 0;\n",
              "      width: 32px;\n",
              "    }\n",
              "\n",
              "    .colab-df-convert:hover {\n",
              "      background-color: #E2EBFA;\n",
              "      box-shadow: 0px 1px 2px rgba(60, 64, 67, 0.3), 0px 1px 3px 1px rgba(60, 64, 67, 0.15);\n",
              "      fill: #174EA6;\n",
              "    }\n",
              "\n",
              "    [theme=dark] .colab-df-convert {\n",
              "      background-color: #3B4455;\n",
              "      fill: #D2E3FC;\n",
              "    }\n",
              "\n",
              "    [theme=dark] .colab-df-convert:hover {\n",
              "      background-color: #434B5C;\n",
              "      box-shadow: 0px 1px 3px 1px rgba(0, 0, 0, 0.15);\n",
              "      filter: drop-shadow(0px 1px 2px rgba(0, 0, 0, 0.3));\n",
              "      fill: #FFFFFF;\n",
              "    }\n",
              "  </style>\n",
              "\n",
              "      <script>\n",
              "        const buttonEl =\n",
              "          document.querySelector('#df-ab044bda-1137-434e-8e78-43a091794b8b button.colab-df-convert');\n",
              "        buttonEl.style.display =\n",
              "          google.colab.kernel.accessAllowed ? 'block' : 'none';\n",
              "\n",
              "        async function convertToInteractive(key) {\n",
              "          const element = document.querySelector('#df-ab044bda-1137-434e-8e78-43a091794b8b');\n",
              "          const dataTable =\n",
              "            await google.colab.kernel.invokeFunction('convertToInteractive',\n",
              "                                                     [key], {});\n",
              "          if (!dataTable) return;\n",
              "\n",
              "          const docLinkHtml = 'Like what you see? Visit the ' +\n",
              "            '<a target=\"_blank\" href=https://colab.research.google.com/notebooks/data_table.ipynb>data table notebook</a>'\n",
              "            + ' to learn more about interactive tables.';\n",
              "          element.innerHTML = '';\n",
              "          dataTable['output_type'] = 'display_data';\n",
              "          await google.colab.output.renderOutput(dataTable, element);\n",
              "          const docLink = document.createElement('div');\n",
              "          docLink.innerHTML = docLinkHtml;\n",
              "          element.appendChild(docLink);\n",
              "        }\n",
              "      </script>\n",
              "    </div>\n",
              "  </div>\n",
              "  "
            ],
            "text/plain": [
              "       0    1    2    3    4    5    6    7    8    9  ...  9991  9992  9993  \\\n",
              "0    642  638  628  638  630  619  584  680  697  569  ...   587   481   537   \n",
              "1    876  787  520  614  674  765  579  748  552  627  ...   665   840   503   \n",
              "2    536  839  465  773  534  598  820  642  636  594  ...   546   804   818   \n",
              "3    485  621  765  559  799  513  783  556  668  779  ...   564   631   490   \n",
              "4    535  793  726  637  566  804  845  618  540  701  ...   660   638   507   \n",
              "..   ...  ...  ...  ...  ...  ...  ...  ...  ...  ...  ...   ...   ...   ...   \n",
              "995  557  569  570  519  590  575  549  585  524  620  ...   577   634   475   \n",
              "996  578  606  490  536  586  550  530  577  528  531  ...   533   681   578   \n",
              "997  520  569  650  540  502  603  535  541  526  555  ...   582   559   537   \n",
              "998  525  638  590  564  643  535  532  575  585  544  ...   572   515   577   \n",
              "999  624  614  511  586  581  623  624  522  601  564  ...   490   582   642   \n",
              "\n",
              "     9994  9995  9996  9997  9998  9999  Labels  \n",
              "0     560   549   576   563   569   539       1  \n",
              "1     812   568   488   611   621   649       1  \n",
              "2     610   463   545   536   574   540       1  \n",
              "3     515   404   684   513   640   575       1  \n",
              "4     807   469   606   803   626   657       1  \n",
              "..    ...   ...   ...   ...   ...   ...     ...  \n",
              "995   598   644   594   660   535   579       1  \n",
              "996   574   487   520   538   540   582       0  \n",
              "997   615   543   552   533   566   521       1  \n",
              "998   546   588   588   571   595   576       0  \n",
              "999   566   550   542   560   597   548       1  \n",
              "\n",
              "[1000 rows x 10001 columns]"
            ]
          },
          "execution_count": 5,
          "metadata": {},
          "output_type": "execute_result"
        }
      ],
      "source": [
        "data"
      ]
    },
    {
      "cell_type": "code",
      "execution_count": 6,
      "metadata": {
        "colab": {
          "base_uri": "https://localhost:8080/"
        },
        "id": "jVJoWP59183c",
        "outputId": "cf361196-460c-4883-e8e5-c03985c5ca18"
      },
      "outputs": [
        {
          "data": {
            "text/plain": [
              "1    710\n",
              "0    290\n",
              "Name: Labels, dtype: int64"
            ]
          },
          "execution_count": 6,
          "metadata": {},
          "output_type": "execute_result"
        }
      ],
      "source": [
        "data[\"Labels\"].value_counts()"
      ]
    },
    {
      "cell_type": "code",
      "execution_count": 7,
      "metadata": {
        "id": "WmUr50cK183e"
      },
      "outputs": [],
      "source": [
        "data[\"Labels\"] = data[\"Labels\"].apply(lambda x: 1.0 if x == 0.0 else 0.0)"
      ]
    },
    {
      "cell_type": "code",
      "execution_count": 8,
      "metadata": {
        "colab": {
          "base_uri": "https://localhost:8080/"
        },
        "id": "5n8OU3va183g",
        "outputId": "b04b6cc9-f733-439b-d217-9f5314a1688e"
      },
      "outputs": [
        {
          "data": {
            "text/plain": [
              "0.0    710\n",
              "1.0    290\n",
              "Name: Labels, dtype: int64"
            ]
          },
          "execution_count": 8,
          "metadata": {},
          "output_type": "execute_result"
        }
      ],
      "source": [
        "data[\"Labels\"].value_counts()"
      ]
    },
    {
      "cell_type": "code",
      "execution_count": 9,
      "metadata": {
        "id": "XLSaiCDgLU36"
      },
      "outputs": [],
      "source": [
        "# data = data[0: 35]"
      ]
    },
    {
      "cell_type": "code",
      "execution_count": 10,
      "metadata": {
        "colab": {
          "base_uri": "https://localhost:8080/"
        },
        "id": "JShJJvXWLYoV",
        "outputId": "57f38119-3e0c-4bf6-cf76-d5024cfd0102"
      },
      "outputs": [
        {
          "data": {
            "text/plain": [
              "(1000, 10001)"
            ]
          },
          "execution_count": 10,
          "metadata": {},
          "output_type": "execute_result"
        }
      ],
      "source": [
        "data.shape"
      ]
    },
    {
      "cell_type": "code",
      "execution_count": 11,
      "metadata": {
        "colab": {
          "base_uri": "https://localhost:8080/"
        },
        "id": "KkzF_xkbLbfE",
        "outputId": "a1bf885d-8a0e-49c8-9f9d-5752d72697e7"
      },
      "outputs": [
        {
          "data": {
            "text/plain": [
              "0.0    710\n",
              "1.0    290\n",
              "Name: Labels, dtype: int64"
            ]
          },
          "execution_count": 11,
          "metadata": {},
          "output_type": "execute_result"
        }
      ],
      "source": [
        "data[\"Labels\"].value_counts()"
      ]
    },
    {
      "cell_type": "markdown",
      "metadata": {
        "id": "8D4M8xQ2183h"
      },
      "source": [
        "# Preprocessing"
      ]
    },
    {
      "cell_type": "code",
      "execution_count": 12,
      "metadata": {
        "id": "XnPzC16c183j"
      },
      "outputs": [],
      "source": [
        "import numpy as np"
      ]
    },
    {
      "cell_type": "code",
      "execution_count": 13,
      "metadata": {
        "colab": {
          "base_uri": "https://localhost:8080/"
        },
        "id": "3K0tGxTO183k",
        "outputId": "78a09c42-83bb-4889-f656-b0b9b7db9080"
      },
      "outputs": [
        {
          "name": "stdout",
          "output_type": "stream",
          "text": [
            "[[642 638 628 ... 563 569 539]\n",
            " [876 787 520 ... 611 621 649]\n",
            " [536 839 465 ... 536 574 540]\n",
            " ...\n",
            " [520 569 650 ... 533 566 521]\n",
            " [525 638 590 ... 571 595 576]\n",
            " [624 614 511 ... 560 597 548]]\n",
            "(1000, 10000)\n"
          ]
        }
      ],
      "source": [
        "scores = data.iloc[:, :-1].to_numpy()\n",
        "print(scores)\n",
        "print(scores.shape)"
      ]
    },
    {
      "cell_type": "code",
      "execution_count": 14,
      "metadata": {
        "colab": {
          "base_uri": "https://localhost:8080/"
        },
        "id": "UOj36fTt183m",
        "outputId": "7b8f6bb8-606b-4f63-bdf0-d0174ef013f2"
      },
      "outputs": [
        {
          "name": "stdout",
          "output_type": "stream",
          "text": [
            "(1000,)\n"
          ]
        }
      ],
      "source": [
        "labels = data.iloc[:, -1].to_numpy()\n",
        "print(labels.shape)"
      ]
    },
    {
      "cell_type": "markdown",
      "metadata": {
        "id": "VZHvAulB183n"
      },
      "source": [
        "# Train-Test split"
      ]
    },
    {
      "cell_type": "code",
      "execution_count": 15,
      "metadata": {
        "id": "kRCi5Mry183o"
      },
      "outputs": [],
      "source": [
        "from sklearn.model_selection import train_test_split"
      ]
    },
    {
      "cell_type": "code",
      "execution_count": 16,
      "metadata": {
        "id": "1x7uSKnf183p"
      },
      "outputs": [],
      "source": [
        "X_train, X_test, y_train, y_test = train_test_split(scores, labels, test_size=0.15, random_state=42)"
      ]
    },
    {
      "cell_type": "code",
      "execution_count": 17,
      "metadata": {
        "id": "ZGjSVFP5TcWv"
      },
      "outputs": [],
      "source": [
        "y_train = y_train[1:]\n",
        "y_test = y_test[1:]"
      ]
    },
    {
      "cell_type": "code",
      "execution_count": 18,
      "metadata": {
        "colab": {
          "base_uri": "https://localhost:8080/"
        },
        "id": "6RW6Wzd2183q",
        "outputId": "cfb3fea6-35bc-48dc-86a3-f81741aa31de"
      },
      "outputs": [
        {
          "name": "stdout",
          "output_type": "stream",
          "text": [
            "(850, 10000)\n",
            "(849,)\n"
          ]
        }
      ],
      "source": [
        "print(X_train.shape)\n",
        "print(y_train.shape)"
      ]
    },
    {
      "cell_type": "code",
      "execution_count": 19,
      "metadata": {
        "colab": {
          "base_uri": "https://localhost:8080/"
        },
        "id": "5I6ymBlN183r",
        "outputId": "4f5703e1-8970-4614-dd05-aa4174c3156b"
      },
      "outputs": [
        {
          "name": "stdout",
          "output_type": "stream",
          "text": [
            "(150, 10000)\n",
            "(149,)\n"
          ]
        }
      ],
      "source": [
        "print(X_test.shape)\n",
        "print(y_test.shape)"
      ]
    },
    {
      "cell_type": "markdown",
      "metadata": {
        "id": "SXccE67U183t"
      },
      "source": [
        "# Preparing interval frequencies"
      ]
    },
    {
      "cell_type": "code",
      "execution_count": 20,
      "metadata": {
        "colab": {
          "base_uri": "https://localhost:8080/"
        },
        "id": "HYb2s_o_183t",
        "outputId": "a1e3d274-5f89-470d-bbe7-a5dbeb67cb21"
      },
      "outputs": [
        {
          "data": {
            "text/plain": [
              "551"
            ]
          },
          "execution_count": 20,
          "metadata": {},
          "output_type": "execute_result"
        }
      ],
      "source": [
        "min_edge, max_edge = 300, 850\n",
        "bin_edges = np.arange(min_edge, max_edge + 1, 1)\n",
        "len(bin_edges)"
      ]
    },
    {
      "cell_type": "code",
      "execution_count": 21,
      "metadata": {
        "id": "jjRQCy6X183v"
      },
      "outputs": [],
      "source": [
        "size = len(bin_edges)\n",
        "num_days = X_train.shape[0]\n",
        "percent_days = np.zeros((num_days, size, size))\n",
        "\n",
        "for i in range(num_days):\n",
        "    hist, _ = np.histogram(scores[i], bins=bin_edges)\n",
        "    for j in range(size - 1):\n",
        "        for k in range(j + 1, size):\n",
        "            percent_days[i, j, k] = np.sum(hist[j: k])\n",
        "\n",
        "# with open('/content/drive/MyDrive/Distributed Data Discretization/data/percent_days.npy', 'rb') as f:\n",
        "#     percent_days = np.load(f)"
      ]
    },
    {
      "cell_type": "code",
      "execution_count": 22,
      "metadata": {
        "colab": {
          "base_uri": "https://localhost:8080/"
        },
        "id": "dcXRmulR0uvd",
        "outputId": "d7643295-319c-40a7-bb9c-da6ec6500abb"
      },
      "outputs": [
        {
          "name": "stdout",
          "output_type": "stream",
          "text": [
            "551\n",
            "850\n"
          ]
        }
      ],
      "source": [
        "print(size)\n",
        "print(num_days)"
      ]
    },
    {
      "cell_type": "code",
      "execution_count": 23,
      "metadata": {
        "id": "coQkT73J183w"
      },
      "outputs": [],
      "source": [
        "percent_days = percent_days / X_train.shape[1] * 100"
      ]
    },
    {
      "cell_type": "code",
      "execution_count": 24,
      "metadata": {
        "colab": {
          "base_uri": "https://localhost:8080/"
        },
        "id": "sd2E9-WYhMi2",
        "outputId": "7637f357-185c-445d-9bbd-5f1b9aa032b9"
      },
      "outputs": [
        {
          "data": {
            "text/plain": [
              "(850, 551, 551)"
            ]
          },
          "execution_count": 24,
          "metadata": {},
          "output_type": "execute_result"
        }
      ],
      "source": [
        "percent_days.shape"
      ]
    },
    {
      "cell_type": "markdown",
      "metadata": {
        "id": "14jV9pzo0_w5"
      },
      "source": [
        "## Preparing PSIs"
      ]
    },
    {
      "cell_type": "code",
      "execution_count": 25,
      "metadata": {
        "id": "2vuCgv9pVfJb"
      },
      "outputs": [],
      "source": [
        "epsilon = 1e-8 # Smoothing hyperparameters"
      ]
    },
    {
      "cell_type": "code",
      "execution_count": 26,
      "metadata": {
        "id": "Zk4AyzmZ1D_A"
      },
      "outputs": [],
      "source": [
        "psi = []\n",
        "\n",
        "for i in range(1, num_days):\n",
        "    psi.append((percent_days[i] - percent_days[i - 1]) * np.log((percent_days[i] + epsilon) / (percent_days[i - 1] + epsilon)))\n",
        "\n",
        "psi = np.array(psi)"
      ]
    },
    {
      "cell_type": "code",
      "execution_count": 27,
      "metadata": {
        "colab": {
          "base_uri": "https://localhost:8080/"
        },
        "id": "JWpLJnmuFT2l",
        "outputId": "e1c9dfd0-8c97-4cec-b70d-169e68ed447d"
      },
      "outputs": [
        {
          "data": {
            "text/plain": [
              "(849, 551, 551)"
            ]
          },
          "execution_count": 27,
          "metadata": {},
          "output_type": "execute_result"
        }
      ],
      "source": [
        "psi.shape"
      ]
    },
    {
      "cell_type": "code",
      "execution_count": 28,
      "metadata": {
        "colab": {
          "base_uri": "https://localhost:8080/"
        },
        "id": "LnmSVHcB-Zor",
        "outputId": "9c93c2e4-deae-4925-c447-59d610ffd1cb"
      },
      "outputs": [
        {
          "data": {
            "text/plain": [
              "(551, 551)"
            ]
          },
          "execution_count": 28,
          "metadata": {},
          "output_type": "execute_result"
        }
      ],
      "source": [
        "psi_0 = psi[(1 - y_train).astype(bool)]\n",
        "psi_0 = np.sum(psi_0, axis=0)\n",
        "psi_0.shape"
      ]
    },
    {
      "cell_type": "code",
      "execution_count": 29,
      "metadata": {
        "colab": {
          "base_uri": "https://localhost:8080/"
        },
        "id": "mVmJSE3BAJZ6",
        "outputId": "75565bf2-3b76-4528-d0ce-785168b95cb5"
      },
      "outputs": [
        {
          "data": {
            "text/plain": [
              "(551, 551)"
            ]
          },
          "execution_count": 29,
          "metadata": {},
          "output_type": "execute_result"
        }
      ],
      "source": [
        "psi_1 = psi[y_train.astype(bool)]\n",
        "psi_1 = np.sum(psi_1, axis=0)\n",
        "psi_1.shape"
      ]
    },
    {
      "cell_type": "markdown",
      "metadata": {
        "id": "6TzhCAWG183x"
      },
      "source": [
        "# Models"
      ]
    },
    {
      "cell_type": "code",
      "execution_count": 30,
      "metadata": {
        "id": "jBMi61nL183x"
      },
      "outputs": [],
      "source": [
        "from ortools.linear_solver import pywraplp"
      ]
    },
    {
      "cell_type": "markdown",
      "metadata": {
        "id": "GxdkcBfI183y"
      },
      "source": [
        "## Declare the model"
      ]
    },
    {
      "cell_type": "code",
      "execution_count": 31,
      "metadata": {
        "id": "oEtemUlI183z"
      },
      "outputs": [],
      "source": [
        "solver = pywraplp.Solver.CreateSolver('SCIP')"
      ]
    },
    {
      "cell_type": "markdown",
      "metadata": {
        "id": "MfOxCIEO1830"
      },
      "source": [
        "## Create the variables"
      ]
    },
    {
      "cell_type": "code",
      "execution_count": 32,
      "metadata": {
        "id": "f5xxvg7v1830"
      },
      "outputs": [],
      "source": [
        "x = np.empty(shape=(size, size), dtype=object)\n",
        "\n",
        "for i in range(size):\n",
        "    for j in range(size):\n",
        "        if j > i:\n",
        "            x[i, j] = solver.IntVar(0, 1, f'x[{i}, {j}]')\n",
        "        else:\n",
        "            x[i, j] = 0"
      ]
    },
    {
      "cell_type": "markdown",
      "metadata": {
        "id": "xYwMgDyF1831"
      },
      "source": [
        "## Create the constraints"
      ]
    },
    {
      "cell_type": "code",
      "execution_count": 33,
      "metadata": {
        "id": "jwKsCrVz1832"
      },
      "outputs": [],
      "source": [
        "# Each row/column has at most one 1\n",
        "# Non-overlap bins (a.k.a flow constraint)\n",
        "for i in range(1, size - 1):\n",
        "    solver.Add(solver.Sum(x[: i, i]) <= 1)\n",
        "    solver.Add(solver.Sum(x[i, i + 1:]) <= 1)\n",
        "    solver.Add(solver.Sum(x[: i, i]) == solver.Sum(x[i, i + 1:]))"
      ]
    },
    {
      "cell_type": "code",
      "execution_count": 34,
      "metadata": {
        "colab": {
          "base_uri": "https://localhost:8080/"
        },
        "id": "22GEL23D1834",
        "outputId": "7e04d095-f6d2-4712-e39a-dde8c1c35d19"
      },
      "outputs": [
        {
          "data": {
            "text/plain": [
              "<ortools.linear_solver.pywraplp.Constraint; proxy of <Swig Object of type 'operations_research::MPConstraint *' at 0x7f65c10afe70> >"
            ]
          },
          "execution_count": 34,
          "metadata": {},
          "output_type": "execute_result"
        }
      ],
      "source": [
        "# Ensure in-and-out\n",
        "solver.Add(solver.Sum(x[0, 1:]) == 1)\n",
        "solver.Add(solver.Sum(x[0: -1, -1]) == 1)"
      ]
    },
    {
      "cell_type": "code",
      "execution_count": 35,
      "metadata": {
        "colab": {
          "base_uri": "https://localhost:8080/"
        },
        "id": "aILobFBl1835",
        "outputId": "459d75ec-503e-404f-c076-f6ef7f13c375"
      },
      "outputs": [
        {
          "data": {
            "text/plain": [
              "<ortools.linear_solver.pywraplp.Constraint; proxy of <Swig Object of type 'operations_research::MPConstraint *' at 0x7f65c000afc0> >"
            ]
          },
          "execution_count": 35,
          "metadata": {},
          "output_type": "execute_result"
        }
      ],
      "source": [
        "# Ensure at most k bins\n",
        "max_num_bins = 20\n",
        "min_num_bins = 10\n",
        "\n",
        "solver.Add(solver.Sum(x.flatten()) <= max_num_bins)\n",
        "solver.Add(solver.Sum(x.flatten()) >= min_num_bins)"
      ]
    },
    {
      "cell_type": "markdown",
      "metadata": {
        "id": "XcQenaEv1836"
      },
      "source": [
        "## Create the objective function"
      ]
    },
    {
      "cell_type": "code",
      "execution_count": null,
      "metadata": {
        "id": "vUPzUQ_Z1838"
      },
      "outputs": [],
      "source": [
        "# objective_0\n",
        "solver.Minimize(solver.Sum((psi_0 * x).flatten()))\n",
        "\n",
        "# objective_1\n",
        "# solver.Maximize(solver.Sum((psi_1 * x).flatten()))"
      ]
    },
    {
      "cell_type": "markdown",
      "metadata": {
        "id": "U2-oxDk_1839"
      },
      "source": [
        "## Invoke the solver"
      ]
    },
    {
      "cell_type": "code",
      "execution_count": null,
      "metadata": {
        "id": "nbFUN3Dv183-"
      },
      "outputs": [],
      "source": [
        "status = solver.Solve()"
      ]
    },
    {
      "cell_type": "markdown",
      "metadata": {
        "id": "Frxyzt2a183_"
      },
      "source": [
        "## Print the solution"
      ]
    },
    {
      "cell_type": "code",
      "execution_count": null,
      "metadata": {
        "id": "tiCcREVnBYef"
      },
      "outputs": [],
      "source": [
        "# Objective_0\n",
        "if status == pywraplp.Solver.OPTIMAL or status == pywraplp.Solver.FEASIBLE:\n",
        "    print(f'Total cost = {solver.Objective().Value()}\\n')\n",
        "    for i in range(size):\n",
        "        for j in range(size):\n",
        "            if j > i and x[i, j].solution_value() == 1:\n",
        "                print(i + 300, j + 300)\n",
        "else:\n",
        "    print('No solution found.')"
      ]
    },
    {
      "cell_type": "code",
      "execution_count": null,
      "metadata": {
        "id": "oDcN-KVqJNQg"
      },
      "outputs": [],
      "source": [
        "# Objective_1\n",
        "# if status == pywraplp.Solver.OPTIMAL or status == pywraplp.Solver.FEASIBLE:\n",
        "#     print(f'Total cost = {solver.Objective().Value()}\\n')\n",
        "#     for i in range(size):\n",
        "#         for j in range(size):\n",
        "#             if j > i and x[i, j].solution_value() == 1:\n",
        "#                 print(i + 300, j + 300)\n",
        "# else:\n",
        "#     print('No solution found.')"
      ]
    },
    {
      "cell_type": "code",
      "execution_count": null,
      "metadata": {
        "id": "va_ktp38AgaP"
      },
      "outputs": [],
      "source": []
    }
  ],
  "metadata": {
    "colab": {
      "provenance": []
    },
    "kernelspec": {
      "display_name": "Python 3.8.12 ('LearnML')",
      "language": "python",
      "name": "python3"
    },
    "language_info": {
      "codemirror_mode": {
        "name": "ipython",
        "version": 3
      },
      "file_extension": ".py",
      "mimetype": "text/x-python",
      "name": "python",
      "nbconvert_exporter": "python",
      "pygments_lexer": "ipython3",
      "version": "3.8.12"
    },
    "orig_nbformat": 4,
    "vscode": {
      "interpreter": {
        "hash": "7a92c992b800fa774aac7d5822a596282d125a26635bcd06f076e6986145244f"
      }
    }
  },
  "nbformat": 4,
  "nbformat_minor": 0
}
