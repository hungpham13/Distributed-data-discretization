{
 "cells": [
  {
   "cell_type": "code",
   "execution_count": 1,
   "metadata": {},
   "outputs": [],
   "source": [
    "from data_generation.gen_data import *\n",
    "from model.utils import *\n",
    "\n",
    "import seaborn as sns\n",
    "\n",
    "# from alibi_detect.cd import LSDDDrift"
   ]
  },
  {
   "cell_type": "code",
   "execution_count": null,
   "metadata": {},
   "outputs": [],
   "source": [
    "# def add_drift(reference, drift_size: float, drift_ratio: float, drift_mode: str='fixed'):\n",
    "#     \"\"\"Artificially adds a shift to the data.\n",
    "#     Args:\n",
    "#     curr: initial data\n",
    "#     drift_size: percents initial values would be increased by\n",
    "#     drift_ratio: defines what percent of data would be drifted\n",
    "#     drift_mode:\n",
    "#         if drift_mode == 'fixed': \n",
    "#         # here we should use mean(reference), but in out experiment mean(reference) = mean(current) at this stage\n",
    "#         all values moved by fixed delta = (alpha + mean(feature)) * drift_size\n",
    "#         elif: \n",
    "#         drift_mode == 'relative': vlues moved by delta(value) = value * drift_size\n",
    "#     Returns:\n",
    "#     curr: drifted data\n",
    "#     \"\"\"\n",
    "#     alpha = 0.001\n",
    "#     i = int(np.round(len(reference) * drift_ratio))\n",
    "#     change_sign = np.random.choice([1, 0, -1], p=[0.3, 0.5, 0.2])\n",
    "#     # change_sign = 1\n",
    "#     if drift_mode == 'fixed':\n",
    "#         delta = int((alpha + np.mean(reference)) * drift_size)\n",
    "#         reference[:i] = reference[:i] + change_sign*delta\n",
    "#     else:\n",
    "#         reference = reference.astype(float)\n",
    "#         reference[:i] = reference[:i]*(1 + change_sign*drift_size)\n",
    "#         reference = reference.astype(int)\n",
    "#     reference[reference > 850] = 850\n",
    "#     reference[reference < 300] = 300\n",
    "\n",
    "#     return reference.tolist()\n",
    "\n",
    "# def plot_drift(ref, drift_size: float, drift_ratio: float, drift_mode: str):\n",
    "#     \"\"\"For each feature from features plot initial distribution and distribution shifted by drift_size%\n",
    "#     \"\"\"\n",
    "#     # assemble title\n",
    "#     if drift_ratio == 1.:\n",
    "#         s = 'all values '\n",
    "#     else:\n",
    "#         s = f'{int(drift_ratio * 100)}% segment ' \n",
    "#     title = s + f'moved by {int(drift_size * 100)}% ({drift_mode} drift)' \n",
    "\n",
    "#     # plot distributions\n",
    "#     plt.figure(figsize=(10, 7))\n",
    "#     curr = add_drift(ref, drift_size=drift_size, drift_ratio=drift_ratio, drift_mode=drift_mode)\n",
    "#     df = pd.DataFrame(data=list(ref) + list(curr), columns=['values'])\n",
    "#     df['group'] = ['reference']*len(ref) + ['current']*len(curr) \n",
    "#     sns.histplot(data=df, x=\"values\", hue=\"group\")\n",
    "#     plt.suptitle(title, x=0.25, y=1, fontsize=20)"
   ]
  },
  {
   "cell_type": "code",
   "execution_count": 2,
   "metadata": {},
   "outputs": [
    {
     "name": "stderr",
     "output_type": "stream",
     "text": [
      "  0%|          | 0/2 [00:00<?, ?it/s]"
     ]
    },
    {
     "name": "stdout",
     "output_type": "stream",
     "text": [
      "Generating exponential distribution, 30 days, 1000 samples...\n",
      "max sigma 55.34186823901329\n"
     ]
    },
    {
     "name": "stderr",
     "output_type": "stream",
     "text": [
      "\n",
      "  0%|          | 0/29 [00:00<?, ?it/s]\u001B[A"
     ]
    },
    {
     "name": "stdout",
     "output_type": "stream",
     "text": [
      "max sigma 80.61615529975593\n",
      "max sigma 77.17427830278291\n",
      "max sigma 75.01489740761367\n",
      "max sigma 74.46807216368298\n",
      "max sigma 71.83113760243657\n",
      "max sigma 66.95416916033928\n",
      "max sigma 77.03947156601812\n",
      "max sigma 54.86333389443242\n"
     ]
    },
    {
     "name": "stderr",
     "output_type": "stream",
     "text": [
      "\n",
      "  3%|▎         | 1/29 [00:00<00:15,  1.77it/s]\u001B[A"
     ]
    },
    {
     "name": "stdout",
     "output_type": "stream",
     "text": [
      "Final: 0 [0.04689165811370298, 0.008304821757011109, 0.021817496135411618, 0.07310773077700168] 0.03753042669578185 [False, False, False, False]\n",
      "max sigma 56.453702861828184\n",
      "Final: 0 [0.03129765733969682, 0.0038223157633133246, 0.007851906138696905, 0.022850438971818876] 0.01645557955338148 [False, False, False, False]\n",
      "max sigma 62.23629438328927\n",
      "max sigma 52.60957397994722\n",
      "max sigma 60.952695553858725\n",
      "max sigma 74.55429900809895\n",
      "max sigma 65.21964870063819\n",
      "max sigma 57.254357253441036\n",
      "max sigma 68.3145050705072\n",
      "max sigma 76.06428360296361\n",
      "max sigma 59.89105085076604\n",
      "max sigma 63.06864610509982\n",
      "max sigma 79.7124200814158\n",
      "max sigma 74.0793061742005\n",
      "max sigma 70.36689921340694\n",
      "max sigma 77.81959878349751\n",
      "max sigma 56.34996796370043\n",
      "max sigma 54.30751426379121\n"
     ]
    },
    {
     "name": "stderr",
     "output_type": "stream",
     "text": [
      "\n",
      " 10%|█         | 3/29 [00:01<00:16,  1.60it/s]\u001B[A"
     ]
    },
    {
     "name": "stdout",
     "output_type": "stream",
     "text": [
      "Final: 0 [0.1025693242155591, 0.05062346879285516, 0.09411433207802813, 0.08870014464121354] 0.08400181743191398 [True, False, False, False]\n",
      "max sigma 57.76692293373579\n",
      "Final: 0 [0.09423161923872993, 0.028734307262138502, 0.08133920586656627, 0.04987934235593489] 0.0635461186808424 [False, False, False, False]\n",
      "max sigma 68.08429379675188\n",
      "max sigma 76.48378667780257\n",
      "max sigma 69.63024625239309\n",
      "max sigma 82.9753194232893\n",
      "max sigma 70.40292119927199\n",
      "max sigma 82.16512730072157\n",
      "max sigma 78.45595106332412\n",
      "max sigma 54.14942894090465\n",
      "Final: 0 [0.09837695588172858, 0.04971947637879948, 0.08472072877001167, 0.1069630203116992] 0.08494504533555973 [False, False, False, True]\n"
     ]
    },
    {
     "name": "stderr",
     "output_type": "stream",
     "text": [
      "\n",
      " 17%|█▋        | 5/29 [00:02<00:11,  2.08it/s]\u001B[A"
     ]
    },
    {
     "name": "stdout",
     "output_type": "stream",
     "text": [
      "max sigma 75.52721996575451\n",
      "max sigma 83.32127921184251\n",
      "max sigma 76.66578981935766\n",
      "max sigma 72.35049044127724\n",
      "max sigma 70.41153485084847\n",
      "max sigma 71.8159637840502\n",
      "max sigma 52.95671476516387\n"
     ]
    },
    {
     "name": "stderr",
     "output_type": "stream",
     "text": [
      "\n",
      " 21%|██        | 6/29 [00:03<00:11,  2.04it/s]\u001B[A"
     ]
    },
    {
     "name": "stdout",
     "output_type": "stream",
     "text": [
      "Final: 1 [0.12783191518297748, 0.07822142638573848, 0.13820041826877752, 0.15235928721648154] 0.12415326176349376 [True, False, True, True]\n",
      "max sigma 55.78612402179215\n",
      "Final: 1 [0.21221546861340623, 0.15461155440077648, 0.448015644055369, 0.20394773848126618] 0.2546976013877045 [True, True, True, True]\n",
      "max sigma 60.47790189672279\n",
      "max sigma 59.680131404878544\n",
      "max sigma 74.93533037885209\n",
      "max sigma 52.37374455707489\n",
      "max sigma 77.01264467700976\n",
      "max sigma 71.8950063437045\n",
      "max sigma 60.13196791963647\n",
      "max sigma 59.14045821202865\n",
      "max sigma 56.60188619216615\n",
      "max sigma 64.76945244849435\n",
      "max sigma 71.1259201914424\n",
      "max sigma 53.0767633803874\n",
      "max sigma 65.27788813752788\n",
      "max sigma 56.241200648259415\n",
      "max sigma 75.20550922516274\n",
      "max sigma 74.677394046311\n",
      "max sigma 72.89894061294028\n",
      "max sigma 79.05221336914299\n",
      "max sigma 78.16821838362144\n",
      "max sigma 76.14465823904534\n",
      "max sigma 70.92328863054975\n",
      "max sigma 62.04154629351118\n",
      "max sigma 70.94998956254399\n",
      "max sigma 68.79569642746048\n",
      "max sigma 50.10594226727676\n",
      "max sigma 80.55082373703301\n",
      "max sigma 79.76747319336975\n",
      "max sigma 81.23089963060654\n",
      "max sigma 65.88644457656308\n",
      "max sigma 75.51378530545298\n",
      "max sigma 67.06342519155949\n",
      "max sigma 58.63726116412462\n",
      "max sigma 81.29959193409206\n",
      "max sigma 50.71950093407819\n",
      "max sigma 50.163970381258686\n",
      "max sigma 58.68169733323165\n",
      "max sigma 67.11857577550911\n"
     ]
    },
    {
     "name": "stderr",
     "output_type": "stream",
     "text": [
      "\n",
      " 28%|██▊       | 8/29 [00:05<00:18,  1.16it/s]\u001B[A"
     ]
    },
    {
     "name": "stdout",
     "output_type": "stream",
     "text": [
      "max sigma 54.81148591119396\n",
      "Final: 0 [0.07228450583191309, 0.02038785523081641, 0.04613414825053304, 0.08403507187722639] 0.055710395297622235 [False, False, False, False]\n",
      "max sigma 78.2000393379418\n",
      "max sigma 51.65126959206278\n",
      "max sigma 58.95733722776746\n",
      "max sigma 62.51148756428196\n",
      "max sigma 56.05602652031829\n",
      "max sigma 74.79648787163637\n",
      "max sigma 50.34053514829467\n",
      "max sigma 50.75728915897798\n",
      "max sigma 54.314956767629496\n",
      "max sigma 55.67102923085872\n",
      "max sigma 67.79534671120923\n",
      "max sigma 60.668367881373115\n",
      "max sigma 67.20687840892151\n",
      "max sigma 59.98439325702255\n",
      "max sigma 50.79481340185961\n",
      "max sigma 55.44827898430791\n",
      "max sigma 59.125566942246074\n",
      "max sigma 80.70895858747338\n",
      "max sigma 74.49780235807206\n",
      "max sigma 68.52789994696509\n",
      "max sigma 82.6183528873227\n",
      "max sigma 73.12322720237496\n",
      "max sigma 64.00438724641526\n"
     ]
    },
    {
     "name": "stderr",
     "output_type": "stream",
     "text": [
      "\n",
      " 31%|███       | 9/29 [00:07<00:21,  1.06s/it]\u001B[A"
     ]
    },
    {
     "name": "stdout",
     "output_type": "stream",
     "text": [
      "max sigma 57.1269070252082\n",
      "Final: 1 [0.2167699828965153, 0.15425692262711999, 0.4420888365986441, 0.26058361904735905] 0.26842484029240965 [True, True, True, True]\n",
      "max sigma 59.64832254321368\n",
      "max sigma 80.71065898026609\n",
      "max sigma 54.68987484749581\n",
      "max sigma 74.2366458973017\n",
      "max sigma 68.57614129227277\n",
      "max sigma 72.4493665606514\n",
      "max sigma 62.49133985310633\n",
      "max sigma 80.38968529352428\n",
      "max sigma 66.03205651300065\n",
      "max sigma 56.64101128893719\n",
      "Final: 0 [0.06633037270597036, 0.017475766885663435, 0.035394343946404574, 0.09927773827015327] 0.05461955545204791 [False, False, False, False]\n"
     ]
    },
    {
     "name": "stderr",
     "output_type": "stream",
     "text": [
      "\n",
      " 34%|███▍      | 10/29 [00:08<00:18,  1.02it/s]\u001B[A\n",
      " 38%|███▊      | 11/29 [00:08<00:13,  1.31it/s]\u001B[A"
     ]
    },
    {
     "name": "stdout",
     "output_type": "stream",
     "text": [
      "max sigma 74.30471112904122\n",
      "max sigma 57.3495847696228\n",
      "Final: 0 [0.06867795090666551, 0.018782509046424176, 0.037956518474996905, 0.0668451572690433] 0.04806553392428247 [False, False, False, False]\n",
      "max sigma 66.01729415392644\n",
      "max sigma 51.55312491926478\n",
      "max sigma 68.18921490655403\n",
      "max sigma 51.608487524759234\n",
      "max sigma 64.90125644876359\n",
      "max sigma 73.58812433283497\n",
      "max sigma 68.40713115030921\n",
      "max sigma 61.66979063582588\n",
      "max sigma 75.32052627474661\n",
      "max sigma 55.6275699531617\n",
      "max sigma 56.5267219431477\n"
     ]
    },
    {
     "name": "stderr",
     "output_type": "stream",
     "text": [
      "\n",
      " 41%|████▏     | 12/29 [00:09<00:13,  1.27it/s]\u001B[A"
     ]
    },
    {
     "name": "stdout",
     "output_type": "stream",
     "text": [
      "Final: 0 [0.045581887671308934, 0.008216975395584128, 0.01672859319121461, 0.04845962244248615] 0.029746769675148457 [False, False, False, False]\n",
      "max sigma 52.73770151427118\n",
      "max sigma 80.86045139585606\n",
      "max sigma 60.508879427878774\n",
      "max sigma 70.70416095181633\n",
      "max sigma 74.21354230026225\n",
      "max sigma 64.09099941701743\n",
      "max sigma 53.189627785544836\n",
      "max sigma 64.02823038076731\n",
      "max sigma 65.07023119426162\n",
      "max sigma 64.38330788805263\n",
      "max sigma 76.7841014990621\n",
      "max sigma 71.3928074924465\n",
      "max sigma 61.13304630279629\n",
      "max sigma 56.37149858463139\n",
      "max sigma 74.20702872076868\n",
      "max sigma 68.7564703229666\n",
      "max sigma 72.42956933723671\n",
      "max sigma 66.57068073803669\n",
      "max sigma 53.464388794845114\n"
     ]
    },
    {
     "name": "stderr",
     "output_type": "stream",
     "text": [
      "\n",
      " 45%|████▍     | 13/29 [00:10<00:16,  1.00s/it]\u001B[A"
     ]
    },
    {
     "name": "stdout",
     "output_type": "stream",
     "text": [
      "Final: 1 [0.2176508770685993, 0.20894787974913928, 0.3935986773452854, 0.352002836344318] 0.2930500676268355 [True, True, True, True]\n",
      "max sigma 74.62167561802384\n",
      "max sigma 72.4093139661699\n",
      "max sigma 74.85962296356672\n",
      "max sigma 60.46460410710957\n",
      "max sigma 60.902523453731796\n",
      "max sigma 52.98991987119666\n",
      "max sigma 79.06751223252968\n",
      "max sigma 63.78031476999032\n",
      "max sigma 63.21799279229026\n",
      "max sigma 59.808478908789425\n",
      "max sigma 73.80650726288063\n",
      "max sigma 69.14106577217501\n",
      "max sigma 75.78120110206903\n",
      "max sigma 67.49899667058446\n",
      "max sigma 65.21809353451381\n",
      "max sigma 60.55128351203856\n",
      "max sigma 72.2808279430255\n",
      "max sigma 74.55253799567254\n",
      "max sigma 69.42484409805893\n",
      "max sigma 83.3185034705718\n",
      "max sigma 70.25570053517568\n",
      "max sigma 62.747705590695354\n",
      "max sigma 78.17319502432012\n",
      "max sigma 77.54995526425459\n",
      "max sigma 67.09765575604926\n",
      "max sigma 59.38016483097829\n",
      "max sigma 60.32042733059211\n",
      "max sigma 67.68024947456267\n",
      "max sigma 65.8600039679224\n",
      "max sigma 60.765829184197514\n",
      "max sigma 62.248623290378795\n",
      "max sigma 59.57278971806844\n",
      "max sigma 74.19272899404416\n",
      "max sigma 75.58454260937064\n",
      "max sigma 56.360087650547484\n"
     ]
    },
    {
     "name": "stderr",
     "output_type": "stream",
     "text": [
      "\n",
      " 48%|████▊     | 14/29 [00:13<00:21,  1.46s/it]\u001B[A"
     ]
    },
    {
     "name": "stdout",
     "output_type": "stream",
     "text": [
      "Final: 0 [0.08939204671392505, 0.03527520313337249, 0.06849631998840289, 0.0902292749456987] 0.07084821119534979 [False, False, False, False]\n",
      "max sigma 82.4039044809136\n",
      "max sigma 74.54780484685341\n",
      "max sigma 74.6018758377096\n",
      "max sigma 63.24580180998328\n",
      "max sigma 78.61859144988152\n",
      "max sigma 74.44061999641103\n",
      "max sigma 75.10784527437697\n",
      "max sigma 69.03094807558755\n",
      "max sigma 62.92292058587331\n",
      "max sigma 55.08628173856933\n",
      "max sigma 60.88737830795018\n",
      "max sigma 77.00487340321729\n",
      "max sigma 60.518981532783414\n",
      "max sigma 53.0706004432318\n"
     ]
    },
    {
     "name": "stderr",
     "output_type": "stream",
     "text": [
      "\n",
      " 52%|█████▏    | 15/29 [00:14<00:18,  1.33s/it]\u001B[A"
     ]
    },
    {
     "name": "stdout",
     "output_type": "stream",
     "text": [
      "Final: 1 [0.16329462287823465, 0.11927986540686224, 0.21890915681229958, 0.2689939149418278] 0.19261939000980607 [True, True, True, True]\n",
      "max sigma 55.76747450686571\n",
      "Final: 0 [0.029048185195501945, 0.0033244338239414167, 0.006758996539145371, 0.018656881986649918] 0.014447124386309664 [False, False, False, False]\n",
      "max sigma 70.54541617020341\n",
      "max sigma 81.24664481877316\n",
      "max sigma 56.22746633712185\n",
      "max sigma 79.91139540748941\n",
      "max sigma 65.99788807301529\n",
      "max sigma 82.25234759810185\n",
      "max sigma 58.02814429204356\n",
      "max sigma 70.09899560223239\n",
      "max sigma 59.42213768646449\n",
      "max sigma 69.27257725638106\n",
      "max sigma 57.62859698575509\n",
      "max sigma 74.23235984556827\n",
      "max sigma 62.36221901999276\n",
      "max sigma 57.643508355831464\n",
      "max sigma 82.35187377029301\n",
      "max sigma 82.88352444293491\n",
      "max sigma 58.37915727370736\n",
      "max sigma 50.490115000023515\n",
      "max sigma 58.5499847779087\n",
      "max sigma 56.355864550441275\n",
      "max sigma 56.324357039909536\n",
      "max sigma 80.46388183173929\n",
      "max sigma 82.36411467619723\n",
      "max sigma 79.13829325405\n",
      "max sigma 78.54031798516034\n",
      "max sigma 68.45727028499903\n",
      "max sigma 73.62448997097447\n",
      "max sigma 70.57230571232931\n",
      "max sigma 74.58268238877258\n",
      "max sigma 79.17281055296151\n"
     ]
    },
    {
     "name": "stderr",
     "output_type": "stream",
     "text": [
      "\n",
      " 59%|█████▊    | 17/29 [00:16<00:14,  1.25s/it]\u001B[A"
     ]
    },
    {
     "name": "stdout",
     "output_type": "stream",
     "text": [
      "max sigma 53.416716350069805\n",
      "Final: 0 [0.09773849971828089, 0.05269932868567819, 0.10061445629339026, 0.0858572555573919] 0.08422738506368532 [False, False, False, False]\n",
      "max sigma 71.55648013351215\n",
      "max sigma 58.54998197318033\n",
      "max sigma 81.34091754829922\n",
      "max sigma 57.16379185984889\n",
      "max sigma 62.424130795562405\n",
      "max sigma 65.83509037357237\n",
      "max sigma 79.55564845708693\n",
      "max sigma 68.20246390075268\n",
      "max sigma 74.15466519616787\n",
      "max sigma 77.55925923164834\n",
      "max sigma 70.88039702429224\n",
      "max sigma 80.2962051661899\n",
      "max sigma 83.30308951839523\n",
      "max sigma 75.67551115974629\n",
      "max sigma 57.00293348202922\n",
      "max sigma 76.25891427335687\n",
      "max sigma 76.40946019822631\n",
      "max sigma 56.518807010689294\n",
      "max sigma 70.13139813197218\n",
      "max sigma 58.385935903853046\n",
      "max sigma 64.32808660435735\n",
      "max sigma 81.17510180821296\n",
      "max sigma 73.08616267661334\n",
      "max sigma 76.77870761334366\n",
      "max sigma 61.02387902746136\n",
      "max sigma 56.05367065576422\n",
      "max sigma 69.95152837968378\n",
      "max sigma 80.79212701274339\n",
      "max sigma 59.43224961907413\n",
      "max sigma 65.83467093049406\n",
      "max sigma 56.509638651381884\n",
      "max sigma 56.21936536297028\n",
      "max sigma 69.7862904962631\n",
      "max sigma 71.90666553040744\n",
      "max sigma 56.24726451266482\n",
      "max sigma 73.89641396484153\n",
      "max sigma 79.35135920644215\n",
      "max sigma 74.42492807759572\n",
      "max sigma 81.64294135628677\n",
      "max sigma 64.71497086747213\n",
      "max sigma 78.77065034039136\n",
      "max sigma 59.653843450704244\n",
      "max sigma 57.036147929140235\n",
      "max sigma 57.19476321698414\n",
      "max sigma 81.35674098373306\n",
      "max sigma 60.66087199567672\n",
      "max sigma 73.9800007138357\n",
      "max sigma 67.10698834418922\n",
      "max sigma 52.210762739752376\n",
      "max sigma 51.80494676305417\n",
      "max sigma 70.79132833420324\n",
      "max sigma 70.34909165236392\n",
      "max sigma 66.35101079102992\n",
      "max sigma 76.61277644214151\n",
      "max sigma 79.1647474030403\n",
      "max sigma 65.4093792680655\n",
      "max sigma 54.585590299249816\n"
     ]
    },
    {
     "name": "stderr",
     "output_type": "stream",
     "text": [
      "\n",
      " 62%|██████▏   | 18/29 [00:20<00:21,  1.93s/it]\u001B[A"
     ]
    },
    {
     "name": "stdout",
     "output_type": "stream",
     "text": [
      "Final: 0 [0.0783827787374925, 0.03308986823355326, 0.06179396156199965, 0.12994702028966795] 0.07580340720567834 [False, False, False, True]\n",
      "max sigma 67.63451675182989\n",
      "max sigma 52.664375052609785\n",
      "max sigma 60.45047273083924\n",
      "max sigma 53.159792615593155\n",
      "max sigma 77.00658390984741\n",
      "max sigma 73.3197780182963\n",
      "max sigma 57.79566036112825\n",
      "max sigma 76.31726206824453\n",
      "max sigma 68.82024998132874\n",
      "max sigma 58.92040560649408\n",
      "max sigma 59.44444800402084\n",
      "max sigma 65.12417772499423\n",
      "max sigma 81.68147608125162\n",
      "max sigma 80.019255764275\n",
      "max sigma 75.7325433389969\n",
      "max sigma 77.96835235822694\n",
      "max sigma 74.8123644841357\n",
      "max sigma 82.66424076400786\n",
      "max sigma 71.48158869660449\n",
      "max sigma 53.192224952462006\n",
      "max sigma 63.507032487786056\n",
      "max sigma 57.6069941988654\n",
      "max sigma 77.35684772481322\n",
      "max sigma 74.35280748794757\n",
      "max sigma 79.17340081385696\n",
      "max sigma 68.7758703513302\n",
      "max sigma 62.05054758080026\n",
      "max sigma 82.02357650788633\n",
      "max sigma 76.77430195305726\n",
      "max sigma 64.93116502869293\n",
      "max sigma 74.53240604695873\n",
      "max sigma 74.93378050635238\n",
      "max sigma 66.42756017828476\n",
      "max sigma 53.18947499853076\n",
      "Final: 0 [0.0968954288900165, 0.045230121694730306, 0.08490206324631608, 0.12597943673009646] 0.08825176264028983 [False, False, False, True]\n"
     ]
    },
    {
     "name": "stderr",
     "output_type": "stream",
     "text": [
      "\n",
      " 66%|██████▌   | 19/29 [00:23<00:20,  2.05s/it]\u001B[A"
     ]
    },
    {
     "name": "stdout",
     "output_type": "stream",
     "text": [
      "max sigma 54.86788027154315\n",
      "Final: 1 [0.13193618596750853, 0.07013298340113593, 0.14899026233643176, 0.1728632482686288] 0.13098066999342625 [True, False, True, True]\n",
      "max sigma 75.73443490519246\n",
      "max sigma 73.83278034136599\n",
      "max sigma 74.67085077393456\n",
      "max sigma 69.30300992852874\n",
      "max sigma 59.28713836526439\n",
      "max sigma 70.92115982614159\n",
      "max sigma 67.25921710432578\n",
      "max sigma 65.73756109881833\n",
      "max sigma 55.09073732927421\n"
     ]
    },
    {
     "name": "stderr",
     "output_type": "stream",
     "text": [
      "\n",
      " 72%|███████▏  | 21/29 [00:23<00:10,  1.34s/it]\u001B[A"
     ]
    },
    {
     "name": "stdout",
     "output_type": "stream",
     "text": [
      "Final: 0 [0.0697594070876242, 0.023984594936293784, 0.04798673423153303, 0.07684346777163004] 0.05464355100677026 [False, False, False, False]\n",
      "max sigma 52.10639792366783\n",
      "Final: 0 [0.036101659813443404, 0.005121787759981513, 0.010459514821363402, 0.05407413581936605] 0.026439274553538592 [False, False, False, False]\n",
      "max sigma 68.56749712332946\n",
      "max sigma 61.755579182873625\n",
      "max sigma 79.55362048847412\n",
      "max sigma 76.54439141614239\n",
      "max sigma 52.2235010800016\n",
      "max sigma 74.68632929195087\n",
      "max sigma 81.76886651109233\n",
      "max sigma 69.41930115239813\n",
      "max sigma 74.62960703939139\n",
      "max sigma 76.78244362691991\n",
      "max sigma 75.71059347231449\n",
      "max sigma 80.79017214261978\n",
      "max sigma 80.5196143131102\n",
      "max sigma 69.32606658254345\n",
      "max sigma 63.984416492721\n",
      "max sigma 54.76716773100012\n"
     ]
    },
    {
     "name": "stderr",
     "output_type": "stream",
     "text": [
      "\n",
      " 79%|███████▉  | 23/29 [00:25<00:06,  1.07s/it]\u001B[A"
     ]
    },
    {
     "name": "stdout",
     "output_type": "stream",
     "text": [
      "Final: 0 [0.044542901756136066, 0.012411170727615769, 0.02430943683417849, 0.04913521237792357] 0.032599680423963474 [False, False, False, False]\n",
      "max sigma 65.72567093548291\n",
      "max sigma 78.81057700424147\n",
      "max sigma 61.347986318704365\n",
      "max sigma 78.5421520720766\n"
     ]
    },
    {
     "name": "stderr",
     "output_type": "stream",
     "text": [
      "\n"
     ]
    },
    {
     "name": "stdout",
     "output_type": "stream",
     "text": [
      "max sigma 64.69428229618325\n",
      "max sigma 55.179694141303266\n",
      "Final: 0 [0.07529766927411088, 0.025216301829227496, 0.0679123889559588, 0.09957661701947179] 0.06700074426969224 [False, False, False, False]\n"
     ]
    },
    {
     "name": "stderr",
     "output_type": "stream",
     "text": [
      " 83%|████████▎ | 24/29 [00:25<00:04,  1.07it/s]\u001B[A"
     ]
    },
    {
     "name": "stdout",
     "output_type": "stream",
     "text": [
      "max sigma 82.62032470846789\n",
      "max sigma 61.42939024038651\n",
      "max sigma 57.35591597361289\n",
      "max sigma 70.55356828250255\n"
     ]
    },
    {
     "name": "stderr",
     "output_type": "stream",
     "text": [
      "\n",
      " 86%|████████▌ | 25/29 [00:25<00:03,  1.25it/s]\u001B[A"
     ]
    },
    {
     "name": "stdout",
     "output_type": "stream",
     "text": [
      "max sigma 55.61502652157022\n",
      "Final: 0 [0.06476222650872335, 0.03797339105977658, 0.057329145558869615, 0.06158524682438082] 0.055412502487937595 [False, False, False, False]\n",
      "max sigma 67.70411819387341\n",
      "max sigma 73.7431336633412\n",
      "max sigma 81.82424628123015\n",
      "max sigma 69.98051085181396\n",
      "max sigma 74.77780408030621\n",
      "max sigma 62.2074427710813\n",
      "max sigma 76.58502540516413\n",
      "max sigma 69.4339123707806\n",
      "max sigma 76.17100541308412\n",
      "max sigma 52.04790226039503\n",
      "max sigma 72.69262686666737\n",
      "max sigma 69.66039303078537\n",
      "max sigma 70.2234341697067\n",
      "max sigma 59.5023141605202\n",
      "max sigma 71.67495895251837\n",
      "max sigma 73.06520253003976\n",
      "max sigma 55.42752698172993\n",
      "Final: 0 [0.0579472990582748, 0.021470976031512264, 0.05095624705618454, 0.04618487289486508] 0.044139848760209176 [False, False, False, False]\n"
     ]
    },
    {
     "name": "stderr",
     "output_type": "stream",
     "text": [
      "\n",
      " 90%|████████▉ | 26/29 [00:27<00:02,  1.12it/s]\u001B[A"
     ]
    },
    {
     "name": "stdout",
     "output_type": "stream",
     "text": [
      "max sigma 52.40169334023373\n",
      "Final: 0 [0.03252691220140778, 0.004226586965758324, 0.008473283339507922, 0.04639080371180663] 0.022904396554620163 [False, False, False, False]\n",
      "max sigma 50.41585134578751\n",
      "max sigma 54.03052727471762\n",
      "max sigma 63.90776780482042\n"
     ]
    },
    {
     "name": "stderr",
     "output_type": "stream",
     "text": [
      "\n",
      " 97%|█████████▋| 28/29 [00:27<00:00,  1.66it/s]\u001B[A"
     ]
    },
    {
     "name": "stdout",
     "output_type": "stream",
     "text": [
      "max sigma 53.174140490094146\n",
      "Final: 1 [0.1434209172852988, 0.09639835358608032, 0.1725624955639752, 0.2017910698308687] 0.15354320906655575 [True, False, True, True]\n",
      "max sigma 72.55823788267882\n",
      "max sigma 62.055017326547535\n",
      "max sigma 63.97495610440311\n",
      "max sigma 81.53043422238227\n",
      "max sigma 59.0687709428607\n",
      "max sigma 65.01465909502785\n",
      "max sigma 71.72151413027571\n",
      "max sigma 71.83108970088585\n",
      "max sigma 83.23143306912316\n",
      "max sigma 67.68689617634693\n",
      "max sigma 58.55599707595339\n",
      "max sigma 51.41222735977067\n",
      "max sigma 63.68319858087299\n",
      "max sigma 79.354723956822\n",
      "max sigma 56.528153996656066\n",
      "max sigma 61.17807277721067\n",
      "max sigma 68.21540282411509\n",
      "max sigma 59.67743618875162\n",
      "max sigma 79.41867954915783\n",
      "max sigma 51.40332319014848\n",
      "max sigma 80.8462848579422\n",
      "max sigma 59.474434577691795\n",
      "max sigma 77.33905535981528\n",
      "max sigma 56.47679831751179\n",
      "max sigma 59.65817988371441\n",
      "max sigma 67.5348951605885\n",
      "max sigma 76.45142941046886\n",
      "max sigma 80.40852027780738\n",
      "max sigma 61.08943545166562\n",
      "max sigma 64.76663326885371\n",
      "max sigma 69.23018691800428\n",
      "max sigma 52.290159487427594\n",
      "max sigma 51.153909452679194\n",
      "max sigma 65.01506362944185\n",
      "max sigma 75.82279753786607\n",
      "max sigma 79.50132469038442\n",
      "max sigma 60.182414925712315\n",
      "max sigma 71.43755503616607\n",
      "max sigma 59.85700524646146\n",
      "max sigma 73.93318129123843\n",
      "max sigma 81.55053784681957\n",
      "max sigma 63.083780728367934\n",
      "max sigma 58.489867170425896\n",
      "max sigma 81.79184849690819\n",
      "max sigma 61.532606897671826\n",
      "max sigma 51.61654648015292\n",
      "max sigma 73.20871628145653\n",
      "max sigma 81.39426536187136\n",
      "max sigma 58.08482569886227\n",
      "max sigma 82.47426469915047\n",
      "max sigma 52.4975167992208\n",
      "max sigma 74.26410639236865\n",
      "max sigma 72.33194412595454\n",
      "max sigma 76.13320091872811\n",
      "max sigma 59.1713212448924\n",
      "max sigma 61.64272836395469\n",
      "max sigma 70.24058312098771\n",
      "max sigma 50.015681619118446\n",
      "max sigma 59.56682941969086\n",
      "max sigma 82.34819479037742\n",
      "max sigma 78.98202171617523\n",
      "max sigma 55.09005418644286\n",
      "max sigma 69.03757988193956\n",
      "max sigma 51.674249742703374\n",
      "max sigma 60.808727896017025\n",
      "max sigma 60.610414101455035\n",
      "max sigma 72.31627576208716\n",
      "max sigma 60.83300741691604\n",
      "max sigma 82.90323632763693\n",
      "max sigma 75.21955755392783\n",
      "max sigma 82.11553988377989\n",
      "max sigma 53.641307128930976\n",
      "max sigma 63.3167472386242\n",
      "max sigma 68.52333732165164\n",
      "max sigma 79.48091853616855\n",
      "max sigma 74.77016832112031\n",
      "max sigma 69.13226300989818\n",
      "max sigma 74.00499351733556\n",
      "max sigma 81.00500637546766\n",
      "max sigma 69.64336066531185\n",
      "max sigma 52.32891396878855\n",
      "max sigma 79.07835926790688\n",
      "max sigma 79.0045788264619\n",
      "max sigma 82.38206598675792\n",
      "max sigma 64.91115333953235\n",
      "max sigma 66.26523819630852\n",
      "max sigma 81.5036160271289\n",
      "max sigma 63.17390204101692\n",
      "max sigma 79.42179347859178\n",
      "max sigma 74.50882895858668\n",
      "max sigma 76.85783493705924\n",
      "max sigma 51.11492375076398\n",
      "max sigma 74.89964130610399\n",
      "max sigma 57.309377641716914\n",
      "max sigma 82.40953450076324\n",
      "max sigma 82.42567038835516\n",
      "max sigma 57.775339463836794\n",
      "max sigma 64.41391884902282\n",
      "max sigma 53.80221307282219\n",
      "max sigma 82.48425983294123\n",
      "max sigma 50.765368185638295\n",
      "max sigma 71.33726646336807\n",
      "max sigma 68.60283197777532\n",
      "max sigma 82.45626243705817\n",
      "max sigma 74.079220916336\n",
      "max sigma 52.632003041984945\n",
      "max sigma 79.88524474575438\n",
      "max sigma 75.93355019541507\n",
      "max sigma 71.97521540802859\n",
      "max sigma 60.934507145884936\n",
      "max sigma 59.12644842789852\n",
      "max sigma 81.98778890554513\n",
      "max sigma 71.04645402594547\n",
      "max sigma 78.3406821932892\n",
      "max sigma 71.11982258591445\n",
      "max sigma 63.395576007990144\n",
      "max sigma 61.17071170510743\n",
      "max sigma 77.65741665224789\n",
      "max sigma 70.72144533547937\n",
      "max sigma 71.91603302414403\n",
      "max sigma 59.82515643743587\n",
      "max sigma 60.85804699966707\n",
      "max sigma 72.95472707936229\n",
      "max sigma 62.69629745019207\n",
      "max sigma 75.38577956512968\n",
      "max sigma 62.44739952824299\n",
      "max sigma 81.90679256881067\n",
      "max sigma 82.8437234226435\n",
      "max sigma 69.05467247711245\n",
      "max sigma 50.40857160495617\n",
      "max sigma 51.469226288557515\n",
      "max sigma 63.38795658751932\n",
      "max sigma 58.50702534735941\n",
      "max sigma 55.877286018608025\n",
      "max sigma 64.63320358976803\n",
      "max sigma 70.16707453611396\n",
      "max sigma 50.09466325498412\n",
      "max sigma 65.27713626451839\n",
      "max sigma 64.29753590840706\n",
      "max sigma 74.99979579655174\n",
      "max sigma 54.33367615838828\n",
      "Final: 0 [0.04446028178480828, 0.012425899131071491, 0.02000095679897222, 0.054202025340778184] 0.032772290763907544 [False, False, False, False]\n"
     ]
    },
    {
     "name": "stderr",
     "output_type": "stream",
     "text": [
      "\n",
      "100%|██████████| 29/29 [00:37<00:00,  1.29s/it]\u001B[A\n"
     ]
    },
    {
     "data": {
      "text/plain": "<Figure size 640x480 with 1 Axes>",
      "image/png": "[encoded data removed]"
     },
     "metadata": {},
     "output_type": "display_data"
    },
    {
     "name": "stderr",
     "output_type": "stream",
     "text": [
      " 50%|█████     | 1/2 [00:37<00:37, 37.87s/it]"
     ]
    },
    {
     "name": "stdout",
     "output_type": "stream",
     "text": [
      "[[407 472 500 ... 462 429   0]\n",
      " [433 430 410 ... 416 413   0]\n",
      " [413 433 418 ... 405 398   0]\n",
      " [454 430 492 ... 416 463   0]\n",
      " [471 447 442 ... 414 540   0]]\n",
      "Generating exponential distribution, 365 days, 1000 samples...\n",
      "max sigma 72.6093059860804\n"
     ]
    },
    {
     "name": "stderr",
     "output_type": "stream",
     "text": [
      "\n",
      "  0%|          | 0/364 [00:00<?, ?it/s]\u001B[A"
     ]
    },
    {
     "name": "stdout",
     "output_type": "stream",
     "text": [
      "max sigma 54.69135353187122\n",
      "max sigma 52.155452517734524\n",
      "max sigma 73.3491902377126\n",
      "max sigma 62.57007756465267\n",
      "max sigma 73.94460318846761\n",
      "max sigma 55.90079457110562\n",
      "max sigma 79.70492115866928\n",
      "Final: 1 [0.1307665429397078, 0.08501381877579453, 0.14885050267946123, 0.23354581949523243] 0.149544170972549 [True, False, True, True]\n"
     ]
    },
    {
     "name": "stderr",
     "output_type": "stream",
     "text": [
      "\n",
      "  0%|          | 1/364 [00:00<02:54,  2.08it/s]\u001B[A\n",
      "  1%|          | 2/364 [00:00<01:40,  3.62it/s]\u001B[A"
     ]
    },
    {
     "name": "stdout",
     "output_type": "stream",
     "text": [
      "max sigma 59.809780593384325\n",
      "max sigma 71.81742888626286\n",
      "Final: 0 [0.09866911838909387, 0.0416022432796836, 0.0828911411928863, 0.14671745099437544] 0.0924699884640098 [False, False, False, True]\n",
      "max sigma 70.87344771989426\n",
      "Final: 0 [0.01962066428769378, 0.0015197577917782116, 0.0030854413864505595, 0.022621209076413167] 0.01171176813558393 [False, False, False, False]\n"
     ]
    },
    {
     "name": "stderr",
     "output_type": "stream",
     "text": [
      "\n",
      "  1%|          | 4/364 [00:00<00:55,  6.54it/s]\u001B[A"
     ]
    },
    {
     "name": "stdout",
     "output_type": "stream",
     "text": [
      "max sigma 70.15113943137176\n",
      "Final: 0 [0.028723367622822068, 0.002867214707655257, 0.010775551590218754, 0.039077527574448746] 0.020360915373786204 [False, False, False, False]\n",
      "max sigma 53.936391423570775\n",
      "max sigma 64.87707444493606\n",
      "max sigma 51.486915215695944\n",
      "max sigma 69.13237866789503\n",
      "max sigma 60.39238688104948\n",
      "max sigma 53.00606040263676\n"
     ]
    },
    {
     "name": "stderr",
     "output_type": "stream",
     "text": [
      "\n",
      "  1%|▏         | 5/364 [00:01<01:43,  3.49it/s]\u001B[A"
     ]
    },
    {
     "name": "stdout",
     "output_type": "stream",
     "text": [
      "max sigma 74.57129333266057\n",
      "Final: 0 [0.05816194334199876, 0.027513914073271733, 0.039613418759776975, 0.08744736940673406] 0.053184161395445385 [False, False, False, False]\n",
      "max sigma 78.23361758108626\n",
      "Final: 0 [0.0165918642117537, 0.0011151246906843312, 0.0022031953373389647, 0.01934621443289214] 0.009814099668167283 [False, False, False, False]\n"
     ]
    },
    {
     "name": "stderr",
     "output_type": "stream",
     "text": [
      "\n",
      "  2%|▏         | 7/364 [00:01<01:07,  5.25it/s]\u001B[A"
     ]
    },
    {
     "name": "stdout",
     "output_type": "stream",
     "text": [
      "max sigma 71.58432262289061\n",
      "Final: 0 [0.02239629998693173, 0.002025075239532356, 0.004029388579417297, 0.027847317250612198] 0.014074520264123395 [False, False, False, False]\n",
      "max sigma 66.8031092445184\n",
      "Final: 0 [0.05677060486234297, 0.011837708410006736, 0.03423325410273245, 0.11021214540879924] 0.05326342819597035 [False, False, False, True]\n",
      "max sigma 74.5812134021631\n",
      "Final: 0 [0.027810742378789884, 0.007675678992804288, 0.0103506147338153, 0.02705475157795295] 0.018222946920840605 [False, False, False, False]\n"
     ]
    },
    {
     "name": "stderr",
     "output_type": "stream",
     "text": [
      "\n",
      "  2%|▏         | 9/364 [00:01<00:51,  6.95it/s]\u001B[A\n",
      "  3%|▎         | 11/364 [00:01<00:41,  8.51it/s]\u001B[A"
     ]
    },
    {
     "name": "stdout",
     "output_type": "stream",
     "text": [
      "max sigma 78.38020845726119\n",
      "Final: 0 [0.030941262021926163, 0.008398792166378916, 0.01182399065252752, 0.038514832159433986] 0.022419719250066646 [False, False, False, False]\n",
      "max sigma 68.86487344978634\n",
      "Final: 1 [0.15208295589973864, 0.08833274196394682, 0.22170369605615475, 0.3786485824109644] 0.21019199408270114 [True, False, True, True]\n",
      "max sigma 76.22767098003969\n",
      "Final: 0 [0.023895350544150453, 0.002294633520212997, 0.004569269863000944, 0.04412589927875923] 0.018721288301530907 [False, False, False, False]\n"
     ]
    },
    {
     "name": "stderr",
     "output_type": "stream",
     "text": [
      "\n",
      "  4%|▎         | 13/364 [00:01<00:37,  9.46it/s]\u001B[A"
     ]
    },
    {
     "name": "stdout",
     "output_type": "stream",
     "text": [
      "max sigma 72.85049303751468\n",
      "Final: 0 [0.018284321576643732, 0.001314065106966209, 0.0026801598549153136, 0.01888215487921312] 0.010290175354434595 [False, False, False, False]\n",
      "max sigma 80.14752167059878\n",
      "Final: 1 [0.15608268642784973, 0.10270607672061202, 0.19715808188439984, 0.30748439194383614] 0.19085780924417445 [True, True, True, True]\n",
      "max sigma 71.83070289124646\n",
      "Final: 0 [0.030218562993354053, 0.008167901338650722, 0.011469030534675607, 0.030993934679732084] 0.020212357386603118 [False, False, False, False]\n"
     ]
    },
    {
     "name": "stderr",
     "output_type": "stream",
     "text": [
      "\n",
      "  4%|▍         | 15/364 [00:02<00:34, 10.17it/s]\u001B[A"
     ]
    },
    {
     "name": "stdout",
     "output_type": "stream",
     "text": [
      "max sigma 65.8824589117665\n",
      "Final: 0 [0.06146324439763259, 0.01404464077202675, 0.03860295764442513, 0.11802988038138432] 0.0580351807988672 [False, False, False, True]\n",
      "max sigma 72.1048705243074\n",
      "max sigma 67.61867465794599\n",
      "Final: 1 [0.21115763699370885, 0.1834271511603739, 0.3711024038132052, 0.35051607194423345] 0.27905081597788034 [True, True, True, True]\n"
     ]
    },
    {
     "name": "stderr",
     "output_type": "stream",
     "text": [
      "\n",
      "  5%|▍         | 17/364 [00:02<00:37,  9.34it/s]\u001B[A\n",
      "  5%|▌         | 19/364 [00:02<00:33, 10.28it/s]\u001B[A"
     ]
    },
    {
     "name": "stdout",
     "output_type": "stream",
     "text": [
      "max sigma 60.446463739312925\n",
      "Final: 0 [0.06386423439460694, 0.015698945321373444, 0.03285190826617713, 0.14670365629778828] 0.06477968606998645 [False, False, False, True]\n",
      "max sigma 69.10846111947474\n",
      "Final: 0 [0.01873884756478273, 0.0015241929423675724, 0.0028402506419648666, 0.028544372149536677] 0.012911915824662962 [False, False, False, False]\n",
      "max sigma 81.6111381590021\n",
      "max sigma 50.268192180745324\n",
      "max sigma 74.26725017054832\n",
      "Final: 1 [0.16741864782615912, 0.13127503981254945, 0.2528908993328382, 0.3305679369902766] 0.22053813099045583 [True, True, True, True]\n",
      "max sigma 81.83990673765072\n",
      "Final: 0 [0.033960156081688876, 0.004254646327914693, 0.013386108518759595, 0.05160418569489814] 0.025801274155815325 [False, False, False, False]\n"
     ]
    },
    {
     "name": "stderr",
     "output_type": "stream",
     "text": [
      "\n",
      "  6%|▌         | 21/364 [00:02<00:38,  8.80it/s]\u001B[A"
     ]
    },
    {
     "name": "stdout",
     "output_type": "stream",
     "text": [
      "max sigma 70.00571661205042\n",
      "max sigma 61.971218076833374\n",
      "max sigma 70.7481054646626\n",
      "max sigma 72.67371367460741\n",
      "max sigma 59.96288402917916\n",
      "max sigma 69.53552350121284\n",
      "Final: 1 [0.1191627148310943, 0.06439433606369407, 0.12706960364201036, 0.22367259415984203] 0.13357481217416017 [True, False, True, True]\n"
     ]
    },
    {
     "name": "stderr",
     "output_type": "stream",
     "text": [
      "\n",
      "  6%|▌         | 22/364 [00:03<00:58,  5.88it/s]\u001B[A"
     ]
    },
    {
     "name": "stdout",
     "output_type": "stream",
     "text": [
      "max sigma 71.14033201908471\n",
      "max sigma 71.7134610711095\n",
      "max sigma 60.96090371681214\n",
      "max sigma 76.00688198126022\n"
     ]
    },
    {
     "name": "stderr",
     "output_type": "stream",
     "text": [
      "\n",
      "  6%|▋         | 23/364 [00:03<01:05,  5.20it/s]\u001B[A"
     ]
    },
    {
     "name": "stdout",
     "output_type": "stream",
     "text": [
      "Final: 1 [0.1609821463240968, 0.1074365998926622, 0.21418149474749076, 0.3099690545387134] 0.19814232387574077 [True, False, True, True]\n",
      "max sigma 64.03457785962958\n",
      "Final: 0 [0.06758586128732876, 0.022198896694357453, 0.0408509396017242, 0.11742052180269513] 0.06201405484652639 [False, False, False, True]\n",
      "max sigma 53.65772168746272\n",
      "max sigma 73.75440224054837\n",
      "Final: 0 [0.07687243082463535, 0.034051360498385946, 0.06476483609908627, 0.14495403417602312] 0.08016066539953268 [False, False, False, True]\n"
     ]
    },
    {
     "name": "stderr",
     "output_type": "stream",
     "text": [
      "\n",
      "  7%|▋         | 25/364 [00:03<00:54,  6.22it/s]\u001B[A"
     ]
    },
    {
     "name": "stdout",
     "output_type": "stream",
     "text": [
      "max sigma 70.23692690728952\n",
      "max sigma 59.9045387536789\n",
      "max sigma 56.050938262770536\n",
      "max sigma 61.69617702390531\n",
      "max sigma 52.9139087701415\n",
      "max sigma 57.999616231527625\n",
      "max sigma 64.91692239393528\n",
      "max sigma 62.185578400549765\n"
     ]
    },
    {
     "name": "stderr",
     "output_type": "stream",
     "text": [
      "\n",
      "  7%|▋         | 26/364 [00:04<01:32,  3.65it/s]"
     ]
    },
    {
     "name": "stdout",
     "output_type": "stream",
     "text": [
      "max sigma 50.46270501014237\n",
      "max sigma 69.34931904253767\n",
      "Final: 1 [0.11359157811885183, 0.05892708855642715, 0.12051188907191376, 0.2633854653073307] 0.13910400526363087 [True, False, True, True]\n"
     ]
    },
    {
     "name": "stderr",
     "output_type": "stream",
     "text": [
      "\u001B[A\n",
      "  8%|▊         | 28/364 [00:04<01:07,  4.99it/s]\u001B[A"
     ]
    },
    {
     "name": "stdout",
     "output_type": "stream",
     "text": [
      "max sigma 74.39262329658148\n",
      "Final: 0 [0.022347186885396348, 0.002076129576152122, 0.004009732988444828, 0.03896364186159485] 0.016849172827897038 [False, False, False, False]\n",
      "max sigma 83.10689251508215\n",
      "Final: 0 [0.029257720558962554, 0.0030542138125370594, 0.01100646111800499, 0.04108479862590225] 0.021100798528851716 [False, False, False, False]\n",
      "max sigma 52.399660314078915\n",
      "max sigma 73.49671098501138\n",
      "max sigma 59.28562320905348\n",
      "max sigma 61.15858042997801\n",
      "max sigma 68.52029705013001\n"
     ]
    },
    {
     "name": "stderr",
     "output_type": "stream",
     "text": [
      "\n",
      "  8%|▊         | 29/364 [00:04<01:17,  4.30it/s]\u001B[A\n",
      "  9%|▊         | 31/364 [00:05<00:58,  5.65it/s]\u001B[A"
     ]
    },
    {
     "name": "stdout",
     "output_type": "stream",
     "text": [
      "Final: 1 [0.11676117410506957, 0.05303717850349739, 0.11417782070178671, 0.2713535827894374] 0.13883243902494777 [True, False, False, True]\n",
      "max sigma 55.61278791758563\n",
      "Final: 0 [0.08522931678136382, 0.03161073495077118, 0.06301154525648295, 0.17287255678436328] 0.0881810384432453 [False, False, False, True]\n",
      "max sigma 53.70626131789319\n",
      "Final: 0 [0.08394625862807077, 0.025343331524881177, 0.07484174320698786, 0.1947688571070952] 0.09472504761675876 [False, False, False, True]\n",
      "max sigma 52.03871045357145\n",
      "max sigma 56.062038362740964\n",
      "max sigma 54.53847391229215\n",
      "max sigma 81.89637235305709\n",
      "max sigma 64.06288526986134\n"
     ]
    },
    {
     "name": "stderr",
     "output_type": "stream",
     "text": [
      "\n",
      "  9%|▉         | 32/364 [00:05<01:12,  4.58it/s]\u001B[A"
     ]
    },
    {
     "name": "stdout",
     "output_type": "stream",
     "text": [
      "Final: 1 [0.23682503822392265, 0.23214173893265957, 0.46596804039274914, 0.23322718958860222] 0.2920405017844834 [True, True, True, True]\n",
      "max sigma 83.25178036088118\n",
      "Final: 0 [0.07123108827605257, 0.019326560110224197, 0.04085579029055608, 0.1133933449552511] 0.06120169590802099 [False, False, False, True]\n",
      "max sigma 50.325022398356246\n",
      "max sigma 65.42771514016545\n"
     ]
    },
    {
     "name": "stderr",
     "output_type": "stream",
     "text": [
      "\n",
      "  9%|▉         | 34/364 [00:05<00:58,  5.64it/s]\u001B[A\n",
      " 10%|▉         | 36/364 [00:05<00:46,  7.09it/s]\u001B[A"
     ]
    },
    {
     "name": "stdout",
     "output_type": "stream",
     "text": [
      "Final: 1 [0.17306136901494634, 0.1212330090472028, 0.2518437232671653, 0.10329530526575864] 0.16235835164876827 [True, True, True, True]\n",
      "max sigma 65.94213390560299\n",
      "Final: 0 [0.026316979356447157, 0.0028004117433712257, 0.0055566755736304865, 0.014130391532808305] 0.012201114551564293 [False, False, False, False]\n",
      "max sigma 65.84541853670521\n",
      "Final: 0 [0.02541441115443563, 0.002588751746304156, 0.005172706741740511, 0.01645694168441833] 0.012408202831724656 [False, False, False, False]\n",
      "max sigma 57.07366433888092\n",
      "max sigma 70.9371426246574\n"
     ]
    },
    {
     "name": "stderr",
     "output_type": "stream",
     "text": [
      "\n",
      " 10%|█         | 37/364 [00:06<00:55,  5.91it/s]\u001B[A"
     ]
    },
    {
     "name": "stdout",
     "output_type": "stream",
     "text": [
      "max sigma 57.91856255481897\n",
      "max sigma 67.64581161329106\n",
      "Final: 1 [0.10663928522768183, 0.043195628622091094, 0.09242514931718403, 0.16858722642325175] 0.10271182239755218 [True, False, False, True]\n",
      "max sigma 70.8827382127403\n"
     ]
    },
    {
     "name": "stderr",
     "output_type": "stream",
     "text": [
      "\n",
      " 11%|█         | 39/364 [00:06<00:43,  7.46it/s]\u001B[A"
     ]
    },
    {
     "name": "stdout",
     "output_type": "stream",
     "text": [
      "Final: 0 [0.035432614758923404, 0.004986230530726799, 0.010069225329866476, 0.048768493948646595] 0.024814141142040818 [False, False, False, False]\n",
      "max sigma 62.65488543511018\n",
      "Final: 0 [0.03470179341811686, 0.004834482881204081, 0.00966895629110945, 0.055180719948354544] 0.026096488134696234 [False, False, False, False]\n",
      "max sigma 64.98823156479791\n",
      "Final: 0 [0.024545325820689065, 0.0024205978889169574, 0.00482294361179478, 0.025184098110016102] 0.014243241357854226 [False, False, False, False]\n",
      "max sigma 82.86347511152992\n",
      "max sigma 52.45915265024147\n",
      "max sigma 80.63646835699872\n",
      "max sigma 72.23315696768638\n",
      "max sigma 58.65815710535677\n",
      "max sigma 50.516124675800064\n",
      "max sigma 66.40844830556632\n",
      "max sigma 55.60531524400551\n",
      "max sigma 67.88001267650365\n",
      "max sigma 58.90874856693373\n",
      "max sigma 72.08904033573658\n",
      "max sigma 76.69403872427893\n",
      "max sigma 74.01294131748921\n",
      "max sigma 63.65864563573431\n"
     ]
    },
    {
     "name": "stderr",
     "output_type": "stream",
     "text": [
      "\n",
      " 11%|█▏        | 41/364 [00:07<01:25,  3.78it/s]\u001B[A"
     ]
    },
    {
     "name": "stdout",
     "output_type": "stream",
     "text": [
      "Final: 1 [0.15776172194544816, 0.13091210929569677, 0.223138144506945, 0.21857057176778766] 0.1825956368789694 [True, True, True, True]\n",
      "max sigma 78.00621154870096\n",
      "Final: 0 [0.09265232948908292, 0.031104697878632223, 0.07048528343045649, 0.13870612426984308] 0.08323710876700367 [False, False, False, True]\n",
      "max sigma 72.96934808760143\n",
      "Final: 0 [0.05891749483184109, 0.013087636048776224, 0.03201978887178084, 0.10712694385941453] 0.05278796590295318 [False, False, False, True]\n"
     ]
    },
    {
     "name": "stderr",
     "output_type": "stream",
     "text": [
      "\n",
      " 12%|█▏        | 43/364 [00:07<01:05,  4.87it/s]\u001B[A\n",
      " 12%|█▏        | 45/364 [00:07<00:52,  6.09it/s]\u001B[A"
     ]
    },
    {
     "name": "stdout",
     "output_type": "stream",
     "text": [
      "max sigma 71.17649779792391\n",
      "Final: 0 [0.04111775530151725, 0.011262219006139107, 0.01770390823202542, 0.06811003235141841] 0.03454847872277504 [False, False, False, False]\n",
      "max sigma 62.22779636852488\n",
      "Final: 0 [0.03451611183933762, 0.004767472493060948, 0.009561158004115344, 0.06746297195114614] 0.029076928571915014 [False, False, False, False]\n",
      "max sigma 62.564030180134374\n",
      "Final: 0 [0.04873049376744234, 0.01780919861108582, 0.035633378576391136, 0.06365855890003734] 0.04145790746373916 [False, False, False, False]\n"
     ]
    },
    {
     "name": "stderr",
     "output_type": "stream",
     "text": [
      "\n",
      " 13%|█▎        | 47/364 [00:07<00:43,  7.29it/s]\u001B[A"
     ]
    },
    {
     "name": "stdout",
     "output_type": "stream",
     "text": [
      "max sigma 70.28341870566972\n",
      "Final: 1 [0.1732785551053682, 0.13226999250348814, 0.25740559706802063, 0.37566429339696344] 0.23465460951846007 [True, True, True, True]\n",
      "max sigma 80.4128988450854\n",
      "Final: 0 [0.038544082280393105, 0.005922981127506322, 0.011893515618772056, 0.07232506740162499] 0.03217141160707412 [False, False, False, False]\n",
      "max sigma 78.70733933580205\n",
      "Final: 0 [0.03485524221969565, 0.004856788975248549, 0.009725416629714727, 0.06798264689965404] 0.029355023681078243 [False, False, False, False]\n"
     ]
    },
    {
     "name": "stderr",
     "output_type": "stream",
     "text": [
      "\n",
      " 13%|█▎        | 49/364 [00:07<00:37,  8.45it/s]\u001B[A"
     ]
    },
    {
     "name": "stdout",
     "output_type": "stream",
     "text": [
      "max sigma 66.68661718417536\n",
      "Final: 0 [0.039241608397900904, 0.006168104483999235, 0.012357336777564688, 0.03880362918348626] 0.024142669710737773 [False, False, False, False]\n",
      "max sigma 61.9470637430181\n",
      "max sigma 55.198947605792\n",
      "max sigma 54.1930824274956\n",
      "max sigma 68.0937642119166\n",
      "max sigma 57.12689645155103\n",
      "max sigma 69.52659941005231\n",
      "max sigma 70.34695949331937\n",
      "max sigma 52.24840600430836\n",
      "max sigma 51.29014405999673\n",
      "max sigma 70.37194884729251\n",
      "max sigma 65.11956898407068\n",
      "Final: 1 [0.21036854844343986, 0.19552038388663348, 0.372255940564311, 0.41795234687277344] 0.29902430494178944 [True, True, True, True]\n"
     ]
    },
    {
     "name": "stderr",
     "output_type": "stream",
     "text": [
      "\n",
      " 14%|█▍        | 51/364 [00:08<01:07,  4.62it/s]\u001B[A\n",
      " 15%|█▍        | 53/364 [00:09<00:54,  5.73it/s]\u001B[A"
     ]
    },
    {
     "name": "stdout",
     "output_type": "stream",
     "text": [
      "max sigma 62.465358125710246\n",
      "Final: 0 [0.045034695681835026, 0.012585820219220261, 0.020408105143734243, 0.05196259662896506] 0.03249780441843865 [False, False, False, False]\n",
      "max sigma 76.75739348412401\n",
      "Final: 0 [0.06599300883369384, 0.016651492605755703, 0.03503731997511402, 0.1205837003971662] 0.059566380452932444 [False, False, False, True]\n",
      "max sigma 65.75141004813129\n",
      "Final: 0 [0.036267504615403526, 0.004933364275721037, 0.014690179668035187, 0.029157597808497852] 0.0212621615919144 [False, False, False, False]\n"
     ]
    },
    {
     "name": "stderr",
     "output_type": "stream",
     "text": [
      "\n",
      " 15%|█▌        | 55/364 [00:09<00:44,  6.91it/s]\u001B[A"
     ]
    },
    {
     "name": "stdout",
     "output_type": "stream",
     "text": [
      "max sigma 65.60970628068567\n",
      "Final: 1 [0.13812980861622393, 0.0919484019151162, 0.16161513283472853, 0.12432248681127975] 0.1290039575443371 [True, False, True, True]\n",
      "max sigma 60.27799898632569\n",
      "max sigma 81.21537859363359\n",
      "max sigma 69.32276092817347\n"
     ]
    },
    {
     "name": "stderr",
     "output_type": "stream",
     "text": [
      "\n",
      " 16%|█▌        | 57/364 [00:09<00:44,  6.93it/s]\u001B[A"
     ]
    },
    {
     "name": "stdout",
     "output_type": "stream",
     "text": [
      "Final: 1 [0.20762094160988703, 0.15745059581127369, 0.37795533818534793, 0.33694713387857467] 0.26999350237127084 [True, True, True, True]\n",
      "max sigma 57.380249675411925\n",
      "Final: 0 [0.08137219251142919, 0.024672795549753716, 0.05376007361741918, 0.16595487239420276] 0.08143998351820121 [False, False, False, True]\n",
      "max sigma 67.24511806174807\n",
      "max sigma 67.67725731343171\n",
      "max sigma 67.20879409453873\n"
     ]
    },
    {
     "name": "stderr",
     "output_type": "stream",
     "text": [
      "\n",
      " 16%|█▌        | 58/364 [00:09<00:47,  6.42it/s]\u001B[A\n",
      " 16%|█▋        | 60/364 [00:09<00:39,  7.76it/s]\u001B[A"
     ]
    },
    {
     "name": "stdout",
     "output_type": "stream",
     "text": [
      "Final: 1 [0.13263446847553648, 0.07307366388574464, 0.14277440595026802, 0.10826574409426998] 0.11418707060145478 [True, False, True, True]\n",
      "max sigma 82.39046150993765\n",
      "Final: 0 [0.08024614492328402, 0.02431171345831557, 0.05208615934981532, 0.12462219635364158] 0.07031655352126412 [False, False, False, True]\n",
      "max sigma 72.18378066154291\n",
      "Final: 0 [0.03971786226550618, 0.00616534499282587, 0.01264025265838762, 0.05050198140740569] 0.027256360331031338 [False, False, False, False]\n",
      "max sigma 70.80962665006503\n",
      "Final: 0 [0.025931697946844804, 0.0026810575746709156, 0.0053834646322532586, 0.028747010078437125] 0.015685807558051525 [False, False, False, False]\n"
     ]
    },
    {
     "name": "stderr",
     "output_type": "stream",
     "text": [
      "\n",
      " 17%|█▋        | 62/364 [00:09<00:34,  8.87it/s]\u001B[A"
     ]
    },
    {
     "name": "stdout",
     "output_type": "stream",
     "text": [
      "max sigma 71.7159773399781\n",
      "Final: 0 [0.022692191406299852, 0.002057311896422963, 0.004121181209936622, 0.03217207743064425] 0.015260690485825922 [False, False, False, False]\n",
      "max sigma 62.426129444390575\n",
      "Final: 0 [0.05577926566191818, 0.011880875374215269, 0.029106324254482823, 0.10907252042572321] 0.05145974642908487 [False, False, False, True]\n",
      "max sigma 76.69514215014821\n",
      "Final: 0 [0.027730761268125056, 0.0030541031332361693, 0.006154624842530618, 0.05645727698321335] 0.023349191556776297 [False, False, False, False]\n"
     ]
    },
    {
     "name": "stderr",
     "output_type": "stream",
     "text": [
      "\n",
      " 18%|█▊        | 64/364 [00:10<00:30,  9.71it/s]\u001B[A\n",
      " 18%|█▊        | 66/364 [00:10<00:27, 10.69it/s]\u001B[A"
     ]
    },
    {
     "name": "stdout",
     "output_type": "stream",
     "text": [
      "max sigma 54.084228570407426\n",
      "Final: 0 [0.08816176662076776, 0.028725025215983517, 0.06710142557005397, 0.20639997526372483] 0.09759704816763251 [False, False, False, True]\n",
      "max sigma 65.46354584575538\n",
      "Final: 0 [0.03165149166302145, 0.004024638260403097, 0.008019580172072372, 0.036184372147507866] 0.019970020560751194 [False, False, False, False]\n",
      "max sigma 74.24319900730806\n",
      "Final: 0 [0.040897448046563596, 0.011226362528445399, 0.01755909824393742, 0.06832721543433579] 0.034502531063320546 [False, False, False, False]\n",
      "max sigma 55.1810885281966\n",
      "max sigma 57.57537749676427\n",
      "max sigma 76.62680539624891\n",
      "Final: 1 [0.203053972577829, 0.16685100373471162, 0.33593552968047624, 0.4137947151600445] 0.27990880528826534 [True, True, True, True]\n"
     ]
    },
    {
     "name": "stderr",
     "output_type": "stream",
     "text": [
      "\n",
      " 19%|█▊        | 68/364 [00:10<00:32,  9.13it/s]\u001B[A\n",
      " 19%|█▉        | 70/364 [00:10<00:30,  9.78it/s]\u001B[A"
     ]
    },
    {
     "name": "stdout",
     "output_type": "stream",
     "text": [
      "max sigma 78.30919493750999\n",
      "Final: 0 [0.028100173869318512, 0.007727558539226902, 0.010477136104414173, 0.04160572959947124] 0.021977649528107705 [False, False, False, False]\n",
      "max sigma 72.69882500120866\n",
      "Final: 0 [0.021697496810250193, 0.0019192981101989713, 0.003770274948927002, 0.029698970838333567] 0.014271510176927434 [False, False, False, False]\n",
      "max sigma 53.766664673620234\n",
      "max sigma 64.94331465650957\n",
      "max sigma 66.7741068503688\n",
      "max sigma 74.4667841846081\n",
      "max sigma 68.00196788415037\n",
      "Final: 1 [0.1814479129398708, 0.13326345013376537, 0.2754082003741779, 0.23253899380621917] 0.2056646393135083 [True, True, True, True]\n",
      "max sigma 51.25728158578094\n",
      "max sigma 81.96844689041207\n",
      "max sigma 62.52650964189646\n",
      "max sigma 76.42177375792846\n"
     ]
    },
    {
     "name": "stderr",
     "output_type": "stream",
     "text": [
      "\n",
      " 20%|█▉        | 72/364 [00:11<00:50,  5.73it/s]\u001B[A\n",
      " 20%|██        | 73/364 [00:11<00:49,  5.86it/s]\u001B[A"
     ]
    },
    {
     "name": "stdout",
     "output_type": "stream",
     "text": [
      "Final: 1 [0.19311443643360007, 0.15730210453025467, 0.3072764741093128, 0.34342169559283037] 0.25027867766649947 [True, True, True, True]\n",
      "max sigma 58.881307115005406\n",
      "max sigma 74.93893558230327\n",
      "Final: 0 [0.07029275300445803, 0.021117931293737745, 0.04873111665484994, 0.0791810302969547] 0.05483070781250011 [False, False, False, False]\n",
      "max sigma 75.77039489120857\n",
      "max sigma 54.730043780111636\n",
      "max sigma 65.2972872920107\n",
      "max sigma 82.98354828669626\n",
      "max sigma 74.39662545457084\n"
     ]
    },
    {
     "name": "stderr",
     "output_type": "stream",
     "text": [
      "\n",
      " 20%|██        | 74/364 [00:12<01:05,  4.41it/s]\u001B[A"
     ]
    },
    {
     "name": "stdout",
     "output_type": "stream",
     "text": [
      "max sigma 69.38989550732792\n",
      "Final: 1 [0.1264993782521976, 0.06415374363360424, 0.1517564595016031, 0.3675115532763261] 0.17748028366593277 [True, False, True, True]\n",
      "max sigma 51.2865897716099\n",
      "max sigma 74.86271699873578\n"
     ]
    },
    {
     "name": "stderr",
     "output_type": "stream",
     "text": [
      "\n",
      " 21%|██        | 75/364 [00:12<01:01,  4.71it/s]\u001B[A"
     ]
    },
    {
     "name": "stdout",
     "output_type": "stream",
     "text": [
      "Final: 0 [0.0949848993300704, 0.04247095989591213, 0.07686390059584984, 0.1918473928639861] 0.10154178817145462 [False, False, False, True]\n",
      "max sigma 63.07713159396811\n",
      "max sigma 64.57828990058299\n",
      "max sigma 67.11958831336115\n",
      "Final: 1 [0.20171166194928705, 0.16875267532320218, 0.35029050047331367, 0.4398293778642054] 0.29014605390250203 [True, True, True, True]\n"
     ]
    },
    {
     "name": "stderr",
     "output_type": "stream",
     "text": [
      "\n",
      " 21%|██        | 76/364 [00:12<01:01,  4.68it/s]\u001B[A\n",
      " 21%|██▏       | 78/364 [00:12<00:45,  6.29it/s]\u001B[A"
     ]
    },
    {
     "name": "stdout",
     "output_type": "stream",
     "text": [
      "max sigma 79.52432063078334\n",
      "Final: 0 [0.039416806099234966, 0.005844140594530236, 0.01659293092344872, 0.07215228307807821] 0.033501540173823036 [False, False, False, False]\n",
      "max sigma 72.9228390771007\n",
      "Final: 0 [0.021254708703698784, 0.0018193607780651437, 0.003615343500622234, 0.03976551045499843] 0.01661373085934615 [False, False, False, False]\n",
      "max sigma 65.37763869415146\n",
      "Final: 1 [0.21926255303539735, 0.21573763843530616, 0.4014921011465056, 0.32832853119428] 0.2912052059528723 [True, True, True, True]\n"
     ]
    },
    {
     "name": "stderr",
     "output_type": "stream",
     "text": [
      "\n",
      " 22%|██▏       | 80/364 [00:12<00:36,  7.78it/s]\u001B[A"
     ]
    },
    {
     "name": "stdout",
     "output_type": "stream",
     "text": [
      "max sigma 69.24985129097297\n",
      "Final: 1 [0.1322233621676896, 0.06767051970015824, 0.15037439442945308, 0.2183817307786087] 0.1421625017689774 [True, False, True, True]\n",
      "max sigma 55.11436945862139\n",
      "max sigma 57.664162736187485\n",
      "max sigma 61.85509202197344\n",
      "max sigma 78.73891965434969\n",
      "max sigma 55.213159656150424\n",
      "max sigma 63.38803676887161\n",
      "max sigma 50.69433806919714\n",
      "max sigma 73.23026660880748\n",
      "max sigma 65.45764846284305\n",
      "max sigma 72.38711955393096\n",
      "max sigma 82.88497823712885\n",
      "max sigma 66.67408147697272\n",
      "max sigma 65.19224949683742\n",
      "max sigma 53.259771538539475\n"
     ]
    },
    {
     "name": "stderr",
     "output_type": "stream",
     "text": [
      "\n",
      " 22%|██▏       | 81/364 [00:13<01:31,  3.08it/s]\u001B[A"
     ]
    },
    {
     "name": "stdout",
     "output_type": "stream",
     "text": [
      "max sigma 69.92249128583451\n",
      "Final: 0 [0.0872593322847923, 0.034658261629575464, 0.06943164566630858, 0.14172693715194107] 0.08326904418315435 [False, False, False, True]\n",
      "max sigma 58.56204043507015\n",
      "Final: 0 [0.08224773774558312, 0.025173401361969237, 0.05879653551913838, 0.1686762921611637] 0.08372349169696361 [False, False, False, True]\n"
     ]
    },
    {
     "name": "stderr",
     "output_type": "stream",
     "text": [
      "\n",
      " 23%|██▎       | 83/364 [00:13<01:05,  4.28it/s]\u001B[A"
     ]
    },
    {
     "name": "stdout",
     "output_type": "stream",
     "text": [
      "max sigma 59.899484580315935\n",
      "Final: 0 [0.057372081308501584, 0.01276846456804874, 0.026439346416598043, 0.11230690235550612] 0.052221698662163626 [False, False, False, True]\n",
      "max sigma 75.25640315114772\n",
      "Final: 0 [0.03884156519111567, 0.006112050976609409, 0.012097279031770087, 0.07799013214255511] 0.03376025683551257 [False, False, False, False]\n",
      "max sigma 68.49055326119401\n",
      "Final: 0 [0.02152904018610886, 0.0018757825316788213, 0.003727988070351245, 0.014993083237820401] 0.010531473506489832 [False, False, False, False]\n"
     ]
    },
    {
     "name": "stderr",
     "output_type": "stream",
     "text": [
      "\n",
      " 23%|██▎       | 85/364 [00:14<00:49,  5.63it/s]\u001B[A"
     ]
    },
    {
     "name": "stdout",
     "output_type": "stream",
     "text": [
      "max sigma 55.46987112788489\n",
      "Final: 0 [0.08018576163071271, 0.02400550250175298, 0.05215107787548173, 0.16483265927842117] 0.08029375032159215 [False, False, False, True]\n",
      "max sigma 58.5480606861247\n",
      "max sigma 81.49897841648858\n",
      "max sigma 61.5941454356323\n",
      "max sigma 78.54927874225412\n",
      "max sigma 58.531801854653544\n",
      "max sigma 70.72982150361425\n",
      "max sigma 74.60008719907516\n"
     ]
    },
    {
     "name": "stderr",
     "output_type": "stream",
     "text": [
      "\n",
      " 24%|██▍       | 87/364 [00:14<00:58,  4.71it/s]\u001B[A"
     ]
    },
    {
     "name": "stdout",
     "output_type": "stream",
     "text": [
      "Final: 1 [0.1813575520366387, 0.13570369026607274, 0.2678790889284316, 0.4074124646716124] 0.24808819897568885 [True, True, True, True]\n",
      "max sigma 74.33526810734982\n",
      "Final: 0 [0.028129065064790928, 0.007725741645075207, 0.010491404220411346, 0.038901165675171136] 0.021311844151362155 [False, False, False, False]\n",
      "max sigma 53.44569781921314\n",
      "max sigma 64.3652032531282\n",
      "max sigma 77.53487764927445\n",
      "max sigma 54.22291960190076\n",
      "max sigma 64.96574078060803\n",
      "max sigma 61.96112596938144\n",
      "max sigma 50.67854314217838\n",
      "max sigma 74.08359515994592\n"
     ]
    },
    {
     "name": "stderr",
     "output_type": "stream",
     "text": [
      "\n",
      " 24%|██▍       | 89/364 [00:15<01:11,  3.84it/s]\u001B[A"
     ]
    },
    {
     "name": "stdout",
     "output_type": "stream",
     "text": [
      "Final: 0 [0.0808626932315666, 0.04844922337318909, 0.07682732758518586, 0.14362558495869163] 0.08744120728715829 [False, False, False, True]\n",
      "max sigma 77.7780075464927\n",
      "Final: 1 [0.1015421697439891, 0.04503268037712052, 0.08842152141769179, 0.19995893332980402] 0.10873882621715135 [True, False, False, True]\n",
      "max sigma 58.920502048263494\n",
      "max sigma 81.57152759064176\n"
     ]
    },
    {
     "name": "stderr",
     "output_type": "stream",
     "text": [
      "\n",
      " 25%|██▌       | 91/364 [00:15<00:57,  4.75it/s]\u001B[A"
     ]
    },
    {
     "name": "stdout",
     "output_type": "stream",
     "text": [
      "Final: 0 [0.09271669949879623, 0.04693407390341873, 0.08328974770880931, 0.14004997501147723] 0.09074762403062538 [False, False, False, True]\n",
      "max sigma 56.160839703244015\n",
      "max sigma 53.909768058601344\n",
      "max sigma 82.33724790857188\n",
      "Final: 0 [0.0694443711084915, 0.03497200829262123, 0.056821279628910495, 0.094720486420049] 0.06398953636251806 [False, False, False, False]\n"
     ]
    },
    {
     "name": "stderr",
     "output_type": "stream",
     "text": [
      "\n",
      " 25%|██▌       | 92/364 [00:15<00:57,  4.76it/s]\u001B[A"
     ]
    },
    {
     "name": "stdout",
     "output_type": "stream",
     "text": [
      "max sigma 54.46876730205562\n",
      "max sigma 67.88149893154407\n",
      "max sigma 62.43261822181739\n",
      "max sigma 56.89651027651686\n"
     ]
    },
    {
     "name": "stderr",
     "output_type": "stream",
     "text": [
      "\n",
      " 26%|██▌       | 93/364 [00:16<01:08,  3.95it/s]\u001B[A"
     ]
    },
    {
     "name": "stdout",
     "output_type": "stream",
     "text": [
      "max sigma 73.652512867528\n",
      "max sigma 82.61375780478583\n",
      "Final: 0 [0.044019029096396704, 0.01719502379136052, 0.02406684794412298, 0.028705737358003913] 0.028496659547471027 [False, False, False, False]\n",
      "max sigma 79.29456890556173\n",
      "Final: 0 [0.024901501946065576, 0.0020503543111979263, 0.00913368876614585, 0.03303490279850436] 0.017280111955478426 [False, False, False, False]\n",
      "max sigma 66.3460856521538\n",
      "max sigma 54.6171008716021\n",
      "max sigma 55.46233837247056\n",
      "max sigma 51.32839595965822\n",
      "max sigma 62.758806642934246\n",
      "max sigma 54.202069491547604\n",
      "max sigma 79.0768267377535\n",
      "max sigma 79.87731913583752\n",
      "max sigma 65.78181843860686\n",
      "max sigma 80.78525157366005\n",
      "max sigma 82.34456898592946\n",
      "max sigma 65.81590888053684\n",
      "max sigma 79.72096758934909\n",
      "max sigma 77.80695872638618\n"
     ]
    },
    {
     "name": "stderr",
     "output_type": "stream",
     "text": [
      "\n",
      " 26%|██▌       | 95/364 [00:17<01:36,  2.77it/s]\u001B[A"
     ]
    },
    {
     "name": "stdout",
     "output_type": "stream",
     "text": [
      "max sigma 74.51461862141373\n",
      "Final: 1 [0.12147248678137568, 0.05343898598942599, 0.14081235533455547, 0.1665736804492714] 0.12057437713865714 [True, False, True, True]\n",
      "max sigma 60.56351010126002\n",
      "max sigma 80.76698771384831\n"
     ]
    },
    {
     "name": "stderr",
     "output_type": "stream",
     "text": [
      "\n",
      " 26%|██▋       | 96/364 [00:17<01:24,  3.18it/s]\u001B[A"
     ]
    },
    {
     "name": "stdout",
     "output_type": "stream",
     "text": [
      "Final: 0 [0.07136489435367907, 0.029292692304936897, 0.06173985811129505, 0.13228044002997638] 0.07366947119997186 [False, False, False, True]\n",
      "max sigma 81.60764294694711\n",
      "Final: 0 [0.02885009351389471, 0.007488487586585094, 0.01497463909004717, 0.01334449754541514] 0.01616442943398553 [False, False, False, False]\n",
      "max sigma 63.55706742066684\n",
      "max sigma 62.851198799029284\n",
      "max sigma 58.863034339391184\n",
      "max sigma 71.80599608520178\n",
      "max sigma 53.463873016597255\n",
      "max sigma 82.32940478301514\n"
     ]
    },
    {
     "name": "stderr",
     "output_type": "stream",
     "text": [
      "\n",
      " 27%|██▋       | 98/364 [00:17<01:16,  3.46it/s]\u001B[A"
     ]
    },
    {
     "name": "stdout",
     "output_type": "stream",
     "text": [
      "Final: 0 [0.052252657371719476, 0.022924009857020082, 0.054220821153166815, 0.04383014386741654] 0.04330690806233073 [False, False, False, False]\n",
      "max sigma 51.91853096653457\n",
      "max sigma 65.552102414626\n",
      "max sigma 55.09772376409054\n",
      "max sigma 67.82495382164204\n",
      "max sigma 81.8277894679369\n",
      "max sigma 58.78409202130823\n",
      "max sigma 63.29327688263015\n"
     ]
    },
    {
     "name": "stderr",
     "output_type": "stream",
     "text": [
      "\n",
      " 27%|██▋       | 99/364 [00:18<01:31,  2.88it/s]\u001B[A"
     ]
    },
    {
     "name": "stdout",
     "output_type": "stream",
     "text": [
      "max sigma 74.69729865267841\n",
      "Final: 1 [0.09927542462279573, 0.06398622858400692, 0.10963383355279305, 0.1565052218443535] 0.1073501771509873 [False, False, True, True]\n",
      "max sigma 68.32462779978134\n",
      "Final: 0 [0.05513918296240418, 0.011408498278276013, 0.028556190105398997, 0.0968153472161039] 0.04797980464054577 [False, False, False, False]\n"
     ]
    },
    {
     "name": "stderr",
     "output_type": "stream",
     "text": [
      "\n",
      " 28%|██▊       | 101/364 [00:18<01:04,  4.05it/s]\u001B[A"
     ]
    },
    {
     "name": "stdout",
     "output_type": "stream",
     "text": [
      "max sigma 72.05953844691032\n",
      "Final: 0 [0.03101617466248759, 0.0037340074932323353, 0.007732671196839404, 0.038007744487815506] 0.02012264946009371 [False, False, False, False]\n",
      "max sigma 56.330265671439214\n",
      "max sigma 72.98512619804535\n",
      "Final: 0 [0.05430817094658656, 0.010297202391639408, 0.037539508983493466, 0.11886023146359162] 0.05525127844632777 [False, False, False, True]\n"
     ]
    },
    {
     "name": "stderr",
     "output_type": "stream",
     "text": [
      "\n",
      " 28%|██▊       | 102/364 [00:18<00:59,  4.43it/s]\u001B[A"
     ]
    },
    {
     "name": "stdout",
     "output_type": "stream",
     "text": [
      "max sigma 73.22044037455957\n",
      "max sigma 50.479805607448235\n",
      "max sigma 82.27799919228092\n",
      "Final: 1 [0.1257776393692347, 0.07427802531261961, 0.13298655273473595, 0.21828526162618808] 0.1378318697606946 [True, False, True, True]\n"
     ]
    },
    {
     "name": "stderr",
     "output_type": "stream",
     "text": [
      "\n",
      " 28%|██▊       | 103/364 [00:19<00:58,  4.46it/s]\u001B[A\n",
      " 29%|██▊       | 104/364 [00:19<00:53,  4.90it/s]\u001B[A"
     ]
    },
    {
     "name": "stdout",
     "output_type": "stream",
     "text": [
      "max sigma 62.216701898555435\n",
      "max sigma 78.80867392842185\n",
      "Final: 0 [0.052231832537791324, 0.015123042586129606, 0.035862727637907, 0.02638076769471266] 0.03239959261413515 [False, False, False, False]\n",
      "max sigma 66.56581871686144\n",
      "Final: 0 [0.07619357780489258, 0.02160592844560051, 0.05639733646599185, 0.13476465860491718] 0.07224037533035052 [False, False, False, True]\n"
     ]
    },
    {
     "name": "stderr",
     "output_type": "stream",
     "text": [
      "\n",
      " 29%|██▉       | 106/364 [00:19<00:38,  6.64it/s]\u001B[A"
     ]
    },
    {
     "name": "stdout",
     "output_type": "stream",
     "text": [
      "max sigma 79.16117319554962\n",
      "Final: 0 [0.018515044839458247, 0.0013800828947769129, 0.0027464038679991727, 0.014098541461630624] 0.00918501826596624 [False, False, False, False]\n",
      "max sigma 65.58310303634626\n",
      "max sigma 58.69929899364816\n",
      "max sigma 51.521667861378624\n"
     ]
    },
    {
     "name": "stderr",
     "output_type": "stream",
     "text": [
      "\n",
      " 29%|██▉       | 107/364 [00:19<00:50,  5.07it/s]\u001B[A"
     ]
    },
    {
     "name": "stdout",
     "output_type": "stream",
     "text": [
      "max sigma 54.381156165521666\n",
      "max sigma 70.53167924408626\n",
      "Final: 1 [0.14810311361708017, 0.08383644060603335, 0.1876841419926023, 0.27696546814614603] 0.17414729109046545 [True, False, True, True]\n",
      "max sigma 52.45007052592147\n"
     ]
    },
    {
     "name": "stderr",
     "output_type": "stream",
     "text": [
      "\n",
      " 30%|██▉       | 108/364 [00:19<00:47,  5.42it/s]\u001B[A"
     ]
    },
    {
     "name": "stdout",
     "output_type": "stream",
     "text": [
      "max sigma 75.57852994028947\n",
      "Final: 0 [0.09917793109240912, 0.04230554258786069, 0.0931185885005611, 0.15550489215599855] 0.09752673858420736 [False, False, False, True]\n",
      "max sigma 51.373666907380574\n",
      "max sigma 76.89567871894285\n"
     ]
    },
    {
     "name": "stderr",
     "output_type": "stream",
     "text": [
      "\n",
      " 30%|██▉       | 109/364 [00:19<00:44,  5.73it/s]\u001B[A"
     ]
    },
    {
     "name": "stdout",
     "output_type": "stream",
     "text": [
      "Final: 0 [0.07337636987163332, 0.031043876000393565, 0.0563423548656925, 0.11518183393841037] 0.06898610866903244 [False, False, False, True]\n",
      "max sigma 81.82035332019457\n",
      "max sigma 72.97314778888672\n",
      "max sigma 65.63395728745338\n",
      "max sigma 61.137293841965175\n",
      "max sigma 82.35760083644762\n",
      "max sigma 71.39717949567041\n",
      "max sigma 55.6678537572382\n",
      "max sigma 54.305212704126994\n",
      "max sigma 79.61815392407281\n",
      "max sigma 75.32212737923423\n",
      "max sigma 54.41475582085362\n",
      "max sigma 57.502456999208675\n",
      "max sigma 60.72084339505966\n",
      "max sigma 53.4856799078979\n",
      "max sigma 79.93025925433953\n",
      "max sigma 71.92671068435955\n",
      "Final: 1 [0.11436713264419175, 0.07558705090140104, 0.13968336956381505, 0.1916146298334552] 0.13031304573571575 [True, False, True, True]\n"
     ]
    },
    {
     "name": "stderr",
     "output_type": "stream",
     "text": [
      "\n",
      " 30%|███       | 110/364 [00:21<01:51,  2.28it/s]\u001B[A"
     ]
    },
    {
     "name": "stdout",
     "output_type": "stream",
     "text": [
      "max sigma 63.01790800816798\n",
      "Final: 0 [0.0774295282212894, 0.021699594870151186, 0.06259717313611636, 0.16973178450409152] 0.08286452018291213 [False, False, False, True]\n",
      "max sigma 55.15143154916018\n",
      "max sigma 68.65552253871078\n",
      "max sigma 74.61308847555267\n"
     ]
    },
    {
     "name": "stderr",
     "output_type": "stream",
     "text": [
      "\n",
      " 31%|███       | 112/364 [00:21<01:18,  3.21it/s]\u001B[A"
     ]
    },
    {
     "name": "stdout",
     "output_type": "stream",
     "text": [
      "Final: 0 [0.0982515884224278, 0.05137514303292625, 0.092335335937005, 0.1770935346239776] 0.10476390050408416 [False, False, False, True]\n",
      "max sigma 56.218498429369184\n",
      "max sigma 79.88136983894056\n",
      "max sigma 69.87535900732819\n",
      "max sigma 50.873923259523394\n"
     ]
    },
    {
     "name": "stderr",
     "output_type": "stream",
     "text": [
      "\n",
      " 31%|███       | 113/364 [00:21<01:21,  3.07it/s]\u001B[A"
     ]
    },
    {
     "name": "stdout",
     "output_type": "stream",
     "text": [
      "max sigma 72.0511484205723\n",
      "Final: 0 [0.05977526094696331, 0.017749249114718948, 0.04117958042917766, 0.06369726036312924] 0.045600337713497294 [False, False, False, False]\n",
      "max sigma 51.062658506516186\n",
      "max sigma 61.49386293177861\n",
      "max sigma 60.756772465253825\n",
      "max sigma 57.603227728213675\n",
      "max sigma 74.10426934766535\n"
     ]
    },
    {
     "name": "stderr",
     "output_type": "stream",
     "text": [
      "\n",
      " 31%|███▏      | 114/364 [00:22<01:26,  2.90it/s]\u001B[A"
     ]
    },
    {
     "name": "stdout",
     "output_type": "stream",
     "text": [
      "Final: 0 [0.05795914492330197, 0.037444301215155316, 0.04910853024563898, 0.08586654094541353] 0.05759462933237744 [False, False, False, False]\n",
      "max sigma 53.06510720436199\n",
      "max sigma 64.93520654606334\n",
      "max sigma 72.88716566667865\n",
      "Final: 0 [0.043615671344522454, 0.011355745032278612, 0.02775150408149607, 0.04334340226936609] 0.031516580681915804 [False, False, False, False]\n"
     ]
    },
    {
     "name": "stderr",
     "output_type": "stream",
     "text": [
      "\n",
      " 32%|███▏      | 115/364 [00:22<01:17,  3.20it/s]\u001B[A"
     ]
    },
    {
     "name": "stdout",
     "output_type": "stream",
     "text": [
      "max sigma 75.5740083988192\n",
      "Final: 0 [0.03016323818914501, 0.008243264357205075, 0.01145070359006456, 0.03483729407052069] 0.021173625051733834 [False, False, False, False]\n",
      "max sigma 50.82163628458746\n",
      "max sigma 79.10588900763214\n",
      "Final: 0 [0.09432725356652467, 0.0463642405711515, 0.0841823793833137, 0.15485126715713635] 0.09493128516953156 [False, False, False, True]\n"
     ]
    },
    {
     "name": "stderr",
     "output_type": "stream",
     "text": [
      "\n",
      " 32%|███▏      | 117/364 [00:22<00:56,  4.36it/s]\u001B[A"
     ]
    },
    {
     "name": "stdout",
     "output_type": "stream",
     "text": [
      "max sigma 58.55220137535779\n",
      "max sigma 65.92775711590791\n",
      "max sigma 50.572854115351255\n",
      "max sigma 52.564322420019266\n",
      "max sigma 59.43030010260346\n",
      "max sigma 56.92411070649329\n",
      "max sigma 80.61233211031367\n"
     ]
    },
    {
     "name": "stderr",
     "output_type": "stream",
     "text": [
      "\n",
      " 32%|███▏      | 118/364 [00:23<01:12,  3.38it/s]\u001B[A"
     ]
    },
    {
     "name": "stdout",
     "output_type": "stream",
     "text": [
      "Final: 0 [0.0631410298661047, 0.025214328784333367, 0.0487824028407661, 0.10703767362029741] 0.061043858777875395 [False, False, False, True]\n",
      "max sigma 75.45101674703592\n",
      "Final: 0 [0.026833896106592606, 0.0024654926883331497, 0.009922783075617276, 0.022118410621021153] 0.015335145622891046 [False, False, False, False]\n",
      "max sigma 57.18917118813098\n",
      "max sigma 73.08979359625346\n",
      "max sigma 76.54531632006967\n"
     ]
    },
    {
     "name": "stderr",
     "output_type": "stream",
     "text": [
      "\n",
      " 33%|███▎      | 120/364 [00:23<01:00,  4.02it/s]\u001B[A"
     ]
    },
    {
     "name": "stdout",
     "output_type": "stream",
     "text": [
      "max sigma 73.32595271690657\n",
      "Final: 1 [0.10853013667734937, 0.05255005146895959, 0.10834385998132653, 0.20877975464773726] 0.1195509506938432 [True, False, True, True]\n",
      "max sigma 55.941883512465175\n",
      "max sigma 70.37722527303049\n",
      "max sigma 70.29304662036857\n",
      "max sigma 76.32946942576582\n",
      "Final: 0 [0.07968049133957267, 0.03515728847227674, 0.05988598491141853, 0.07285306563195706] 0.06189420758880625 [False, False, False, False]\n"
     ]
    },
    {
     "name": "stderr",
     "output_type": "stream",
     "text": [
      "\n",
      " 33%|███▎      | 121/364 [00:23<01:02,  3.89it/s]\u001B[A"
     ]
    },
    {
     "name": "stdout",
     "output_type": "stream",
     "text": [
      "max sigma 55.970887276132395\n",
      "max sigma 66.38815090443548\n",
      "max sigma 62.90607501747669\n",
      "max sigma 60.64647460932989\n"
     ]
    },
    {
     "name": "stderr",
     "output_type": "stream",
     "text": [
      "\n",
      " 34%|███▎      | 122/364 [00:24<01:11,  3.37it/s]\u001B[A"
     ]
    },
    {
     "name": "stdout",
     "output_type": "stream",
     "text": [
      "max sigma 62.283525890881265\n",
      "max sigma 77.19788454126383\n",
      "Final: 0 [0.05797349104833258, 0.017828397797573572, 0.03954499702034513, 0.08242703013262465] 0.04944347899971899 [False, False, False, False]\n",
      "max sigma 71.27503769192754\n",
      "Final: 0 [0.036032951342254954, 0.00932289144002584, 0.018728987706369226, 0.02337664456076397] 0.021865368762353496 [False, False, False, False]\n",
      "max sigma 78.26828808710336\n",
      "max sigma 62.509517296703585\n",
      "max sigma 81.15103246704173\n",
      "max sigma 64.0823255587715\n",
      "max sigma 59.12471314967805\n",
      "max sigma 78.59511504920363\n",
      "max sigma 60.68213536854538\n",
      "max sigma 76.55394787788536\n",
      "max sigma 61.04877265093436\n",
      "max sigma 74.94711871543359\n",
      "max sigma 70.53804940571688\n"
     ]
    },
    {
     "name": "stderr",
     "output_type": "stream",
     "text": [
      "\n",
      " 34%|███▍      | 124/364 [00:25<01:22,  2.92it/s]\u001B[A"
     ]
    },
    {
     "name": "stdout",
     "output_type": "stream",
     "text": [
      "Final: 1 [0.16111573263790718, 0.09636224740441784, 0.23378533397893125, 0.3805753763042519] 0.21795967258137705 [True, True, True, True]\n",
      "max sigma 73.61055040214087\n",
      "max sigma 78.6454501330702\n",
      "Final: 1 [0.13338962225981954, 0.0845632833252083, 0.1521338183468621, 0.2426460373703227] 0.15318319032555316 [True, False, True, True]\n"
     ]
    },
    {
     "name": "stderr",
     "output_type": "stream",
     "text": [
      "\n",
      " 34%|███▍      | 125/364 [00:25<01:11,  3.37it/s]\u001B[A\n",
      " 35%|███▍      | 126/364 [00:25<01:01,  3.85it/s]\u001B[A"
     ]
    },
    {
     "name": "stdout",
     "output_type": "stream",
     "text": [
      "max sigma 58.91271921793831\n",
      "max sigma 70.2876883465173\n",
      "Final: 1 [0.14393619753477324, 0.07919657497269846, 0.16798624979486815, 0.2801873245010836] 0.16782658670085587 [True, False, True, True]\n",
      "max sigma 83.2709427503678\n",
      "Final: 0 [0.024097799041716633, 0.002362064302909533, 0.004650627377363024, 0.03156826159542427] 0.015669688079353365 [False, False, False, False]\n"
     ]
    },
    {
     "name": "stderr",
     "output_type": "stream",
     "text": [
      "\n",
      " 35%|███▌      | 128/364 [00:25<00:42,  5.49it/s]\u001B[A"
     ]
    },
    {
     "name": "stdout",
     "output_type": "stream",
     "text": [
      "max sigma 69.34117784752921\n",
      "Final: 0 [0.02997233323146654, 0.003176771239657836, 0.011349420381726842, 0.05342050608639029] 0.024479757734810377 [False, False, False, False]\n",
      "max sigma 55.19633500483011\n",
      "max sigma 61.56864071379918\n",
      "max sigma 78.21901708043458\n",
      "max sigma 62.02733295162428\n",
      "max sigma 76.46830106926329\n",
      "max sigma 78.56195905883699\n",
      "max sigma 52.3967575866454\n"
     ]
    },
    {
     "name": "stderr",
     "output_type": "stream",
     "text": [
      "\n",
      " 35%|███▌      | 129/364 [00:26<01:03,  3.72it/s]\u001B[A"
     ]
    },
    {
     "name": "stdout",
     "output_type": "stream",
     "text": [
      "max sigma 73.64232373354746\n",
      "Final: 0 [0.07149519494189045, 0.03470012985237583, 0.05361976166778758, 0.10002002343085906] 0.06495877747322823 [False, False, False, False]\n",
      "max sigma 63.55244656125168\n",
      "Final: 0 [0.06741996793140527, 0.017414442084011304, 0.03660174749111286, 0.1576684715784291] 0.06977615727123963 [False, False, False, True]\n"
     ]
    },
    {
     "name": "stderr",
     "output_type": "stream",
     "text": [
      "\n",
      " 36%|███▌      | 131/364 [00:26<00:45,  5.14it/s]\u001B[A"
     ]
    },
    {
     "name": "stdout",
     "output_type": "stream",
     "text": [
      "max sigma 77.08082142065291\n",
      "Final: 0 [0.03471367959583142, 0.004548053121001221, 0.013823634277788942, 0.05669196720270284] 0.02744433354933111 [False, False, False, False]\n",
      "max sigma 60.73145183864085\n",
      "Final: 0 [0.07182353569200946, 0.024313705729308847, 0.045681324157813216, 0.1634136781645643] 0.07630806093592396 [False, False, False, True]\n",
      "max sigma 64.8414195865654\n",
      "Final: 0 [0.053371344901872196, 0.010861657625715065, 0.02699300899396212, 0.102932323980263] 0.048539583875453096 [False, False, False, True]\n"
     ]
    },
    {
     "name": "stderr",
     "output_type": "stream",
     "text": [
      "\n",
      " 37%|███▋      | 133/364 [00:26<00:34,  6.67it/s]\u001B[A\n",
      " 37%|███▋      | 135/364 [00:26<00:29,  7.89it/s]\u001B[A"
     ]
    },
    {
     "name": "stdout",
     "output_type": "stream",
     "text": [
      "max sigma 59.02374497333832\n",
      "Final: 0 [0.06698760901628995, 0.016306764616952636, 0.049879654911728855, 0.14005245485535536] 0.0683066208500817 [False, False, False, True]\n",
      "max sigma 71.38345815494415\n",
      "Final: 1 [0.12550756142669586, 0.09446847797942956, 0.1620080676480027, 0.22964526996587228] 0.1529073442550001 [True, False, True, True]\n",
      "max sigma 80.24543881870856\n",
      "Final: 1 [0.1538913224382248, 0.10154117203068232, 0.19652849706275743, 0.3360630688357406] 0.19700601509185128 [True, True, True, True]\n",
      "max sigma 51.451497098622475\n",
      "max sigma 52.736371965538865\n",
      "max sigma 74.40664394790588\n",
      "Final: 0 [0.06339619780934448, 0.03921611194364088, 0.06275915196338783, 0.036416254910274795] 0.05044692915666199 [False, False, False, False]\n"
     ]
    },
    {
     "name": "stderr",
     "output_type": "stream",
     "text": [
      "\n",
      " 38%|███▊      | 137/364 [00:26<00:29,  7.57it/s]\u001B[A"
     ]
    },
    {
     "name": "stdout",
     "output_type": "stream",
     "text": [
      "max sigma 57.79462448343126\n",
      "max sigma 63.707604660146636\n",
      "max sigma 70.19213610312606\n",
      "Final: 1 [0.12719168803520522, 0.06947012514178988, 0.168265902543335, 0.24318474009500224] 0.1520281139538331 [True, False, True, True]\n"
     ]
    },
    {
     "name": "stderr",
     "output_type": "stream",
     "text": [
      "\n",
      " 38%|███▊      | 138/364 [00:26<00:33,  6.77it/s]\u001B[A\n",
      " 38%|███▊      | 140/364 [00:27<00:27,  8.23it/s]\u001B[A"
     ]
    },
    {
     "name": "stdout",
     "output_type": "stream",
     "text": [
      "max sigma 66.95677888483378\n",
      "Final: 0 [0.04809801471793579, 0.009153384385001628, 0.01852985208177871, 0.05898452453423055] 0.03369144392973667 [False, False, False, False]\n",
      "max sigma 77.85271894168868\n",
      "Final: 0 [0.03840476998214352, 0.010466482734359765, 0.015965855485652408, 0.05859353559422355] 0.030857660949094808 [False, False, False, False]\n",
      "max sigma 78.46988408538846\n",
      "Final: 0 [0.030848424149108843, 0.003562561653088046, 0.01180341903849675, 0.031304169762834275] 0.01937964365088198 [False, False, False, False]\n"
     ]
    },
    {
     "name": "stderr",
     "output_type": "stream",
     "text": [
      "\n",
      " 39%|███▉      | 142/364 [00:27<00:24,  9.25it/s]\u001B[A"
     ]
    },
    {
     "name": "stdout",
     "output_type": "stream",
     "text": [
      "max sigma 66.37143428328898\n",
      "Final: 0 [0.04477830705878096, 0.00812212201757883, 0.016175893947939092, 0.06366304563267293] 0.03318484216424296 [False, False, False, False]\n",
      "max sigma 56.629406241302455\n",
      "max sigma 53.13624152978738\n",
      "max sigma 68.40562922838781\n",
      "max sigma 76.67803419463962\n",
      "max sigma 77.05191773872752\n",
      "max sigma 68.32022014605832\n"
     ]
    },
    {
     "name": "stderr",
     "output_type": "stream",
     "text": [
      "\n",
      " 40%|███▉      | 144/364 [00:27<00:33,  6.49it/s]\u001B[A"
     ]
    },
    {
     "name": "stdout",
     "output_type": "stream",
     "text": [
      "Final: 0 [0.09889873585220312, 0.038168030596516266, 0.08278009255432542, 0.23458252275471944] 0.11360734543944107 [False, False, False, True]\n",
      "max sigma 70.869984300931\n",
      "Final: 0 [0.030735567492012436, 0.007938805700006506, 0.015872547303932366, 0.023501779089341496] 0.0195121748963232 [False, False, False, False]\n",
      "max sigma 57.25863082411653\n",
      "max sigma 56.116369789205315\n",
      "max sigma 53.82468099416337\n",
      "max sigma 53.3789883313101\n",
      "max sigma 72.74770720896511\n",
      "max sigma 60.87159502395101\n",
      "max sigma 72.83235854112964\n"
     ]
    },
    {
     "name": "stderr",
     "output_type": "stream",
     "text": [
      "\n",
      " 40%|███▉      | 145/364 [00:28<00:47,  4.59it/s]\u001B[A"
     ]
    },
    {
     "name": "stdout",
     "output_type": "stream",
     "text": [
      "Final: 0 [0.08728903100025448, 0.034029636844034136, 0.08326211301412967, 0.1617281537656587] 0.09157723365601925 [False, False, False, True]\n",
      "max sigma 50.2952172881337\n",
      "max sigma 75.91795660315272\n",
      "max sigma 51.61773756702886\n",
      "max sigma 56.71682384615732\n",
      "max sigma 50.60325324959437\n",
      "max sigma 56.44693175943007\n",
      "max sigma 73.92005453629235\n"
     ]
    },
    {
     "name": "stderr",
     "output_type": "stream",
     "text": [
      "\n",
      " 40%|████      | 146/364 [00:28<00:59,  3.64it/s]\u001B[A"
     ]
    },
    {
     "name": "stdout",
     "output_type": "stream",
     "text": [
      "Final: 0 [0.0788607714721758, 0.05120518312870117, 0.0739188187298178, 0.14433822009908098] 0.08708074835744394 [False, False, False, True]\n",
      "max sigma 81.92690744195595\n",
      "Final: 1 [0.1351368721314258, 0.09298647054555223, 0.17024347617356317, 0.2663358129142834] 0.16617565794120615 [True, False, True, True]\n",
      "max sigma 72.25398530759276\n",
      "Final: 0 [0.05216468668983733, 0.013459423577078205, 0.05134709730561289, 0.046810927637735464] 0.04094553380256597 [False, False, False, False]\n"
     ]
    },
    {
     "name": "stderr",
     "output_type": "stream",
     "text": [
      "\n",
      " 41%|████      | 148/364 [00:28<00:43,  5.02it/s]\u001B[A\n",
      " 41%|████      | 150/364 [00:29<00:33,  6.48it/s]\u001B[A"
     ]
    },
    {
     "name": "stdout",
     "output_type": "stream",
     "text": [
      "max sigma 64.08517115001924\n",
      "Final: 0 [0.07948832907844021, 0.023554317852257676, 0.05121408017527321, 0.19893053498126695] 0.08829681552180951 [False, False, False, True]\n",
      "max sigma 66.31441698231792\n",
      "Final: 0 [0.05807932365020824, 0.013164874619324673, 0.027078955037187616, 0.09308800911401047] 0.04785279060518274 [False, False, False, False]\n",
      "max sigma 62.43569049392871\n",
      "Final: 0 [0.06829159545411642, 0.021852287823956398, 0.049933403116930494, 0.1386805006736295] 0.06968944676715821 [False, False, False, True]\n"
     ]
    },
    {
     "name": "stderr",
     "output_type": "stream",
     "text": [
      "\n",
      " 42%|████▏     | 152/364 [00:29<00:30,  7.07it/s]\u001B[A"
     ]
    },
    {
     "name": "stdout",
     "output_type": "stream",
     "text": [
      "max sigma 53.29465754179705\n",
      "max sigma 82.15907084029273\n",
      "Final: 1 [0.1545377441645626, 0.11836116907504027, 0.20809747935109318, 0.305636807273986] 0.1966582999661705 [True, True, True, True]\n",
      "max sigma 80.57944105828119\n",
      "Final: 0 [0.024464335052110344, 0.002001862056246865, 0.008961723333750577, 0.016490307175878037] 0.012979556904496455 [False, False, False, False]\n"
     ]
    },
    {
     "name": "stderr",
     "output_type": "stream",
     "text": [
      "\n",
      " 42%|████▏     | 154/364 [00:29<00:25,  8.31it/s]\u001B[A"
     ]
    },
    {
     "name": "stdout",
     "output_type": "stream",
     "text": [
      "max sigma 65.81388522664254\n",
      "Final: 0 [0.07573917099219173, 0.02102020009179075, 0.059942092229485544, 0.14657667339499433] 0.0758195341771156 [False, False, False, True]\n",
      "max sigma 76.81289842709528\n",
      "Final: 0 [0.02890855264262625, 0.007971024010553917, 0.01087348383357451, 0.0400972587341939] 0.021962579805237144 [False, False, False, False]\n",
      "max sigma 53.044704758399654\n",
      "max sigma 75.03444688730913\n"
     ]
    },
    {
     "name": "stderr",
     "output_type": "stream",
     "text": [
      "\n",
      " 43%|████▎     | 156/364 [00:29<00:24,  8.48it/s]\u001B[A\n",
      " 43%|████▎     | 158/364 [00:29<00:22,  9.21it/s]\u001B[A"
     ]
    },
    {
     "name": "stdout",
     "output_type": "stream",
     "text": [
      "Final: 0 [0.05624543043749883, 0.02160280804510078, 0.03790372183807446, 0.042660469185043674] 0.039603107376429435 [False, False, False, False]\n",
      "max sigma 71.02251559234514\n",
      "Final: 0 [0.03007169036427962, 0.00803691217337858, 0.011427585425896739, 0.04085773466296232] 0.022598480656629314 [False, False, False, False]\n",
      "max sigma 64.60222774766305\n",
      "Final: 0 [0.06986629328108374, 0.01814967239768559, 0.04752306478386685, 0.13018718672743534] 0.06643155429751788 [False, False, False, True]\n",
      "max sigma 70.60388667007942\n",
      "Final: 1 [0.1104882344352684, 0.059979491820216446, 0.13202818379280035, 0.11781565885352176] 0.10507789222545173 [True, False, True, True]\n"
     ]
    },
    {
     "name": "stderr",
     "output_type": "stream",
     "text": [
      "\n",
      " 44%|████▍     | 160/364 [00:30<00:20,  9.92it/s]\u001B[A"
     ]
    },
    {
     "name": "stdout",
     "output_type": "stream",
     "text": [
      "max sigma 82.95917703825326\n",
      "Final: 0 [0.03414850562737997, 0.004717301229029178, 0.009335499101672858, 0.052274553793867785] 0.025118964937987445 [False, False, False, False]\n",
      "max sigma 57.701070763043504\n",
      "max sigma 61.58978371223551\n",
      "max sigma 74.30980767039303\n"
     ]
    },
    {
     "name": "stderr",
     "output_type": "stream",
     "text": [
      "\n",
      " 45%|████▍     | 162/364 [00:30<00:25,  8.02it/s]\u001B[A"
     ]
    },
    {
     "name": "stdout",
     "output_type": "stream",
     "text": [
      "Final: 0 [0.09229130698200491, 0.04786408036074084, 0.0894324215754962, 0.1462529285601528] 0.09396018436959869 [False, False, False, True]\n",
      "max sigma 66.37295207155724\n",
      "max sigma 79.34291101464366\n",
      "Final: 1 [0.10643391269389753, 0.05805396172882655, 0.10519521850306075, 0.19943769551452997] 0.1172801971100787 [False, False, True, True]\n",
      "max sigma 55.43741799117735\n",
      "max sigma 54.827561511216764\n",
      "max sigma 69.7113995844375\n",
      "Final: 1 [0.17683020451559103, 0.1168647146491137, 0.2746646538267212, 0.4132162732857554] 0.24539396156929533 [True, True, True, True]\n"
     ]
    },
    {
     "name": "stderr",
     "output_type": "stream",
     "text": [
      "\n",
      " 45%|████▍     | 163/364 [00:30<00:28,  7.04it/s]\u001B[A"
     ]
    },
    {
     "name": "stdout",
     "output_type": "stream",
     "text": [
      "max sigma 55.33104179290232\n",
      "max sigma 63.09034623446007\n",
      "max sigma 52.85897159098795\n",
      "max sigma 69.03236022231359\n"
     ]
    },
    {
     "name": "stderr",
     "output_type": "stream",
     "text": [
      "\n",
      " 45%|████▌     | 164/364 [00:30<00:34,  5.85it/s]\u001B[A"
     ]
    },
    {
     "name": "stdout",
     "output_type": "stream",
     "text": [
      "Final: 1 [0.10160610296489417, 0.04023892042038133, 0.08771975358268724, 0.18820178244353836] 0.10444163985287527 [True, False, False, True]\n",
      "max sigma 53.695290838316545\n",
      "max sigma 62.26000560958827\n",
      "max sigma 50.145265571191736\n",
      "max sigma 75.20777896685888\n"
     ]
    },
    {
     "name": "stderr",
     "output_type": "stream",
     "text": [
      "\n",
      " 45%|████▌     | 165/364 [00:31<00:38,  5.14it/s]\u001B[A"
     ]
    },
    {
     "name": "stdout",
     "output_type": "stream",
     "text": [
      "Final: 1 [0.12823651790686905, 0.0714365315747611, 0.14500231953176873, 0.24408246762686472] 0.1471894591600659 [True, False, True, True]\n",
      "max sigma 65.15252517131186\n",
      "Final: 0 [0.0587881143293623, 0.013327899312765117, 0.02778766577671873, 0.10325235513491697] 0.05078900863844078 [False, False, False, True]\n",
      "max sigma 51.62677716476397\n",
      "max sigma 55.00759196286651\n",
      "max sigma 60.713215724617044\n",
      "max sigma 80.82333935979652\n",
      "max sigma 63.29976383484571\n",
      "max sigma 74.39760794889689\n",
      "Final: 0 [0.08059816161642373, 0.03077206223095371, 0.06475489578319157, 0.1317843959110794] 0.0769773788854121 [False, False, False, True]\n"
     ]
    },
    {
     "name": "stderr",
     "output_type": "stream",
     "text": [
      "\n",
      " 46%|████▌     | 167/364 [00:31<00:41,  4.70it/s]\u001B[A\n",
      " 46%|████▋     | 169/364 [00:31<00:32,  6.08it/s]\u001B[A"
     ]
    },
    {
     "name": "stdout",
     "output_type": "stream",
     "text": [
      "max sigma 66.47421609638889\n",
      "Final: 0 [0.05441825954958344, 0.020768030724436733, 0.032030737449151525, 0.0755506798038967] 0.0456919268817671 [False, False, False, False]\n",
      "max sigma 60.00760893808797\n",
      "Final: 0 [0.08101525127635631, 0.02946157265852292, 0.05708749551676834, 0.17230104999039253] 0.08496634236051002 [False, False, False, True]\n",
      "max sigma 81.8800325017924\n",
      "Final: 1 [0.15537544002408987, 0.10389268530768288, 0.21081285876615183, 0.30137455704968474] 0.19286388528690232 [True, True, True, True]\n"
     ]
    },
    {
     "name": "stderr",
     "output_type": "stream",
     "text": [
      "\n",
      " 47%|████▋     | 171/364 [00:31<00:26,  7.42it/s]\u001B[A"
     ]
    },
    {
     "name": "stdout",
     "output_type": "stream",
     "text": [
      "max sigma 62.60494375639174\n",
      "Final: 0 [0.07698304196728545, 0.027213455980061786, 0.051853895484511414, 0.1592240604144833] 0.07881861346158549 [False, False, False, True]\n",
      "max sigma 60.21222498329522\n",
      "max sigma 50.618316536902476\n",
      "max sigma 80.56084785770713\n"
     ]
    },
    {
     "name": "stderr",
     "output_type": "stream",
     "text": [
      "\n",
      " 47%|████▋     | 172/364 [00:32<00:29,  6.56it/s]\u001B[A"
     ]
    },
    {
     "name": "stdout",
     "output_type": "stream",
     "text": [
      "Final: 1 [0.11672185746152941, 0.059906782175334045, 0.11085057492758535, 0.22394523034568733] 0.12785611122753404 [True, False, True, True]\n",
      "max sigma 60.52890547978969\n",
      "max sigma 74.2855873470121\n",
      "Final: 0 [0.05796525350908168, 0.012825503244522841, 0.027153116314605152, 0.06642887182034488] 0.04109318622213864 [False, False, False, False]\n"
     ]
    },
    {
     "name": "stderr",
     "output_type": "stream",
     "text": [
      "\n",
      " 48%|████▊     | 173/364 [00:32<00:28,  6.68it/s]\u001B[A\n",
      " 48%|████▊     | 175/364 [00:32<00:22,  8.38it/s]\u001B[A"
     ]
    },
    {
     "name": "stdout",
     "output_type": "stream",
     "text": [
      "max sigma 61.10004702525907\n",
      "Final: 0 [0.08659678104044415, 0.027811013842456385, 0.06096800983466375, 0.2145059878377693] 0.0974704481388334 [False, False, False, True]\n",
      "max sigma 81.92392046810778\n",
      "Final: 1 [0.13005166811603497, 0.08582930045162049, 0.14762042128967906, 0.26618158366354244] 0.15742074338021922 [True, False, True, True]\n",
      "max sigma 77.65847990801349\n",
      "Final: 0 [0.015385894604789068, 0.0009809672127879267, 0.001908922968122494, 0.006264229412355244] 0.006135003549513683 [False, False, False, False]\n"
     ]
    },
    {
     "name": "stderr",
     "output_type": "stream",
     "text": [
      "\n",
      " 49%|████▊     | 177/364 [00:32<00:19,  9.75it/s]\u001B[A"
     ]
    },
    {
     "name": "stdout",
     "output_type": "stream",
     "text": [
      "max sigma 71.32728454402479\n",
      "Final: 1 [0.1476806119265331, 0.08548425761649102, 0.18635145938625752, 0.25509005736648277] 0.1686515965739411 [True, False, True, True]\n",
      "max sigma 74.09863209258965\n",
      "Final: 0 [0.030748343253463817, 0.003049578449195767, 0.015884957830688558, 0.012217523465686072] 0.015475100749758554 [False, False, False, False]\n",
      "max sigma 80.2592377190914\n",
      "Final: 0 [0.026053884903733313, 0.0028311626906128012, 0.005459778755930963, 0.04509615366496366] 0.019860245003810187 [False, False, False, False]\n"
     ]
    },
    {
     "name": "stderr",
     "output_type": "stream",
     "text": [
      "\n",
      " 49%|████▉     | 179/364 [00:32<00:16, 10.89it/s]\u001B[A"
     ]
    },
    {
     "name": "stdout",
     "output_type": "stream",
     "text": [
      "max sigma 53.054586170486495\n",
      "max sigma 77.06028597430372\n",
      "Final: 0 [0.0656988772273564, 0.02722252548069323, 0.043123390240752194, 0.0955563424814937] 0.057900283857573884 [False, False, False, False]\n",
      "max sigma 64.0008488250863\n",
      "max sigma 66.14914866723488\n"
     ]
    },
    {
     "name": "stderr",
     "output_type": "stream",
     "text": [
      "\n"
     ]
    },
    {
     "name": "stdout",
     "output_type": "stream",
     "text": [
      "max sigma 71.95544964765524\n",
      "max sigma 69.24379337697867\n",
      "Final: 1 [0.17243101000204267, 0.1148441870542917, 0.2456915000360899, 0.3741690955617254] 0.22678394816353742 [True, True, True, True]\n"
     ]
    },
    {
     "name": "stderr",
     "output_type": "stream",
     "text": [
      " 50%|████▉     | 181/364 [00:33<00:24,  7.61it/s]\u001B[A"
     ]
    },
    {
     "name": "stdout",
     "output_type": "stream",
     "text": [
      "max sigma 51.61179134949119\n",
      "max sigma 63.5139553965735\n",
      "max sigma 68.33250149638786\n",
      "max sigma 82.51147291175005\n",
      "max sigma 55.822506983074085\n",
      "max sigma 74.54013256961825\n",
      "max sigma 53.23680917564506\n",
      "max sigma 71.37459917036017\n"
     ]
    },
    {
     "name": "stderr",
     "output_type": "stream",
     "text": [
      "\n",
      " 50%|█████     | 182/364 [00:33<00:38,  4.78it/s]\u001B[A"
     ]
    },
    {
     "name": "stdout",
     "output_type": "stream",
     "text": [
      "Final: 0 [0.050471585603484415, 0.02090105560421926, 0.03042321626958773, 0.01667113057416663] 0.029616747012864507 [False, False, False, False]\n",
      "max sigma 67.24816601145649\n",
      "Final: 1 [0.20439521705191607, 0.1774735018933423, 0.34490105696816936, 0.2728415558477458] 0.24990283294029336 [True, True, True, True]\n",
      "max sigma 62.45132478051755\n",
      "Final: 0 [0.041079591433525, 0.0066447575337544515, 0.013522451546951378, 0.0741898640712643] 0.033859166146373784 [False, False, False, False]\n"
     ]
    },
    {
     "name": "stderr",
     "output_type": "stream",
     "text": [
      "\n",
      " 51%|█████     | 184/364 [00:33<00:29,  6.17it/s]\u001B[A"
     ]
    },
    {
     "name": "stdout",
     "output_type": "stream",
     "text": [
      "max sigma 80.8917064657793\n",
      "max sigma 68.25929410459503\n",
      "max sigma 57.476227297850755\n",
      "max sigma 52.77643194280987\n",
      "max sigma 53.61840205010196\n",
      "max sigma 50.7907686076713\n",
      "max sigma 75.38241151285168\n",
      "max sigma 67.91324193870518\n",
      "max sigma 77.84907540061272\n",
      "max sigma 76.9793135849291\n",
      "max sigma 56.22636743108501\n",
      "max sigma 77.38809135217555\n",
      "max sigma 81.88535025299412\n",
      "max sigma 79.19501573491478\n",
      "max sigma 73.88260967971473\n"
     ]
    },
    {
     "name": "stderr",
     "output_type": "stream",
     "text": [
      "\n",
      " 51%|█████     | 185/364 [00:34<00:59,  3.02it/s]\u001B[A"
     ]
    },
    {
     "name": "stdout",
     "output_type": "stream",
     "text": [
      "Final: 1 [0.1972584764267449, 0.15467174302023737, 0.32222529466623956, 0.34179501550539015] 0.253987632404653 [True, True, True, True]\n",
      "max sigma 55.41073571622113\n",
      "max sigma 52.06203713633901\n",
      "max sigma 69.86855544416137\n"
     ]
    },
    {
     "name": "stderr",
     "output_type": "stream",
     "text": [
      "\n",
      " 51%|█████     | 186/364 [00:35<00:59,  2.99it/s]\u001B[A"
     ]
    },
    {
     "name": "stdout",
     "output_type": "stream",
     "text": [
      "max sigma 69.33173743488389\n",
      "max sigma 79.56462915143679\n",
      "Final: 1 [0.16138689997862812, 0.1232328491466065, 0.22433511340674386, 0.28273256011996273] 0.1979218556629853 [True, True, True, True]\n",
      "max sigma 78.38917316015761\n",
      "max sigma 78.99807955426422\n",
      "max sigma 79.73036117946924\n",
      "max sigma 56.53434081758845\n",
      "max sigma 61.77710941507678\n",
      "max sigma 72.27533457467204\n",
      "max sigma 70.35439216177208\n",
      "max sigma 65.14304201954103\n",
      "max sigma 69.51190496029683\n",
      "Final: 1 [0.14739608154111544, 0.08294805893025498, 0.19963069358547, 0.2780966759469036] 0.177017877500936 [True, False, True, True]\n"
     ]
    },
    {
     "name": "stderr",
     "output_type": "stream",
     "text": [
      "\n",
      " 51%|█████▏    | 187/364 [00:35<01:11,  2.49it/s]\u001B[A\n",
      " 52%|█████▏    | 189/364 [00:35<00:46,  3.73it/s]\u001B[A"
     ]
    },
    {
     "name": "stdout",
     "output_type": "stream",
     "text": [
      "max sigma 68.48165370832275\n",
      "Final: 0 [0.029157269768050668, 0.003422308777139445, 0.006838916223282081, 0.03812982282319087] 0.019387079397915764 [False, False, False, False]\n",
      "max sigma 79.72502554650339\n",
      "Final: 0 [0.030159089448089985, 0.0036945567400635485, 0.007286220476673076, 0.050942417813038404] 0.023020571119466253 [False, False, False, False]\n",
      "max sigma 65.11977890124653\n",
      "Final: 0 [0.04450351739426537, 0.007760538188283536, 0.01588046274504715, 0.09170873319894045] 0.03996331288163413 [False, False, False, False]\n"
     ]
    },
    {
     "name": "stderr",
     "output_type": "stream",
     "text": [
      "\n",
      " 52%|█████▏    | 191/364 [00:36<00:34,  5.07it/s]\u001B[A"
     ]
    },
    {
     "name": "stdout",
     "output_type": "stream",
     "text": [
      "max sigma 79.2361799235407\n",
      "Final: 1 [0.16493560397018234, 0.1345214738805884, 0.23890098564351628, 0.3294732425601187] 0.21695782651360143 [True, True, True, True]\n",
      "max sigma 55.16933191472625\n",
      "max sigma 74.08579531216883\n",
      "Final: 0 [0.06735387696558684, 0.031710815858154356, 0.07258306220484614, 0.045109457108097856] 0.0541893030341713 [False, False, False, False]\n"
     ]
    },
    {
     "name": "stderr",
     "output_type": "stream",
     "text": [
      "\n",
      " 53%|█████▎    | 192/364 [00:36<00:31,  5.38it/s]\u001B[A"
     ]
    },
    {
     "name": "stdout",
     "output_type": "stream",
     "text": [
      "max sigma 81.66229278296157\n",
      "max sigma 57.69564858431473\n",
      "max sigma 54.955589273519045\n",
      "max sigma 65.0287289406967\n",
      "max sigma 77.86665065199998\n",
      "max sigma 60.07806257143417\n",
      "max sigma 78.90288471359115\n"
     ]
    },
    {
     "name": "stderr",
     "output_type": "stream",
     "text": [
      "\n"
     ]
    },
    {
     "name": "stdout",
     "output_type": "stream",
     "text": [
      "max sigma 59.27273967523539\n",
      "max sigma 69.22775301158511\n",
      "Final: 1 [0.1505016489816071, 0.09555773466345278, 0.20945236481907678, 0.3237001381139266] 0.19480297164451582 [True, True, True, True]\n"
     ]
    },
    {
     "name": "stderr",
     "output_type": "stream",
     "text": [
      " 53%|█████▎    | 193/364 [00:36<00:48,  3.50it/s]\u001B[A\n",
      " 53%|█████▎    | 194/364 [00:37<00:42,  3.99it/s]\u001B[A"
     ]
    },
    {
     "name": "stdout",
     "output_type": "stream",
     "text": [
      "max sigma 54.237786291669636\n",
      "max sigma 73.87395653668018\n",
      "Final: 0 [0.08881293362604514, 0.041049270674931325, 0.07577903029578852, 0.14667923297094992] 0.08808011689192873 [False, False, False, True]\n",
      "max sigma 77.31172326973513\n",
      "Final: 0 [0.014906500089918664, 0.0008818067647553768, 0.0017806865737649512, 0.016669115644629154] 0.008559527268267038 [False, False, False, False]\n"
     ]
    },
    {
     "name": "stderr",
     "output_type": "stream",
     "text": [
      "\n",
      " 54%|█████▍    | 196/364 [00:37<00:32,  5.19it/s]\u001B[A"
     ]
    },
    {
     "name": "stdout",
     "output_type": "stream",
     "text": [
      "max sigma 50.91261362272238\n",
      "max sigma 71.30706418225725\n",
      "Final: 0 [0.06086256574789787, 0.0350508760080844, 0.05323332894848669, 0.08422602569831131] 0.05834319910069507 [False, False, False, False]\n",
      "max sigma 50.797358377434\n",
      "max sigma 54.77759107262921\n",
      "max sigma 67.77192846275496\n",
      "max sigma 80.08287087600495\n",
      "max sigma 75.86502366628947\n",
      "Final: 0 [0.09222639312426979, 0.03570575842290154, 0.07285176336275541, 0.17876235842643243] 0.09488656833408979 [False, False, False, True]\n"
     ]
    },
    {
     "name": "stderr",
     "output_type": "stream",
     "text": [
      "\n",
      " 54%|█████▍    | 197/364 [00:37<00:38,  4.35it/s]\u001B[A"
     ]
    },
    {
     "name": "stdout",
     "output_type": "stream",
     "text": [
      "max sigma 55.24291041081684\n",
      "max sigma 75.02103238079735\n",
      "max sigma 68.88439598148084\n",
      "Final: 1 [0.1667689134991833, 0.1106844086854513, 0.23293507123282955, 0.40215843502573245] 0.22813670711079914 [True, True, True, True]\n"
     ]
    },
    {
     "name": "stderr",
     "output_type": "stream",
     "text": [
      "\n",
      " 54%|█████▍    | 198/364 [00:37<00:37,  4.44it/s]\u001B[A"
     ]
    },
    {
     "name": "stdout",
     "output_type": "stream",
     "text": [
      "max sigma 70.31964676003277\n",
      "Final: 0 [0.017776421725202864, 0.0012984591228044611, 0.002543435574713057, 0.007630036340807966] 0.0073120881908820875 [False, False, False, False]\n",
      "max sigma 68.84999880253902\n",
      "max sigma 67.2374399262779\n",
      "Final: 1 [0.17891952420817867, 0.13403431121072834, 0.2643197122974317, 0.3083458214675532] 0.22140484229597296 [True, True, True, True]\n"
     ]
    },
    {
     "name": "stderr",
     "output_type": "stream",
     "text": [
      "\n",
      " 55%|█████▍    | 200/364 [00:38<00:29,  5.54it/s]\u001B[A"
     ]
    },
    {
     "name": "stdout",
     "output_type": "stream",
     "text": [
      "max sigma 53.15414194493303\n",
      "max sigma 50.4278308141146\n",
      "max sigma 66.9026149948022\n",
      "max sigma 61.6356657616091\n",
      "max sigma 80.23941764369822\n",
      "max sigma 53.592529598796204\n",
      "max sigma 51.268096237563064\n",
      "max sigma 79.80507880116113\n",
      "max sigma 56.35287489456672\n",
      "max sigma 53.672143546965195\n",
      "max sigma 51.14231358501528\n",
      "max sigma 62.336880793583724\n",
      "max sigma 64.56655600636039\n",
      "max sigma 54.640496638917966\n",
      "max sigma 79.19996881591715\n",
      "max sigma 60.16747373552952\n",
      "max sigma 50.78704935139596\n",
      "max sigma 65.4383253332267\n",
      "max sigma 62.12203918442932\n",
      "max sigma 76.19160779808931\n",
      "max sigma 70.5903213480138\n",
      "max sigma 65.10355057985021\n",
      "max sigma 64.14630205302508\n",
      "max sigma 52.07332524698302\n"
     ]
    },
    {
     "name": "stderr",
     "output_type": "stream",
     "text": [
      "\n",
      " 55%|█████▌    | 201/364 [00:39<01:26,  1.89it/s]\u001B[A"
     ]
    },
    {
     "name": "stdout",
     "output_type": "stream",
     "text": [
      "max sigma 69.17409810145644\n",
      "Final: 0 [0.07924342837840885, 0.02505510927374601, 0.05042632849624447, 0.09222872494928483] 0.061738397774421035 [False, False, False, False]\n",
      "max sigma 71.28294682169424\n",
      "Final: 0 [0.019455583661419962, 0.0015031804261127712, 0.0030451994115350644, 0.017853837884724177] 0.010464450345947993 [False, False, False, False]\n",
      "max sigma 79.69893495140859\n",
      "max sigma 59.78154580355575\n",
      "max sigma 82.06594961147368\n",
      "max sigma 55.0798228293221\n",
      "max sigma 68.15493124397301\n",
      "max sigma 51.13156951920556\n",
      "max sigma 83.01640960693514\n"
     ]
    },
    {
     "name": "stderr",
     "output_type": "stream",
     "text": [
      "\n",
      " 56%|█████▌    | 203/364 [00:40<01:12,  2.23it/s]\u001B[A"
     ]
    },
    {
     "name": "stdout",
     "output_type": "stream",
     "text": [
      "max sigma 72.87268671689219\n",
      "Final: 1 [0.15816436204830936, 0.10067003219614368, 0.20235079048952717, 0.2864273570465551] 0.18690313544513382 [True, True, True, True]\n",
      "max sigma 74.04835132567621\n",
      "Final: 0 [0.030058157205510413, 0.0033425731332453936, 0.01140825322402903, 0.04459947921689141] 0.022352115694919062 [False, False, False, False]\n",
      "max sigma 53.68889410523358\n",
      "max sigma 53.06279650396391\n",
      "max sigma 58.3475522034114\n",
      "max sigma 53.90190179231812\n",
      "max sigma 54.688608672689575\n",
      "max sigma 80.94304110388676\n",
      "max sigma 77.92626831076738\n"
     ]
    },
    {
     "name": "stderr",
     "output_type": "stream",
     "text": [
      "\n",
      " 56%|█████▋    | 205/364 [00:41<01:04,  2.48it/s]\u001B[A"
     ]
    },
    {
     "name": "stdout",
     "output_type": "stream",
     "text": [
      "max sigma 69.26765991562588\n",
      "Final: 0 [0.0836552554197979, 0.02625510405224309, 0.06621852086446213, 0.20809614397046536] 0.09605625607674212 [False, False, False, True]\n",
      "max sigma 66.14385365713811\n",
      "Final: 0 [0.04401187777504444, 0.007749027605872946, 0.015526034513438916, 0.06469353191544282] 0.032995117952449776 [False, False, False, False]\n"
     ]
    },
    {
     "name": "stderr",
     "output_type": "stream",
     "text": [
      "\n",
      " 57%|█████▋    | 207/364 [00:41<00:46,  3.38it/s]\u001B[A"
     ]
    },
    {
     "name": "stdout",
     "output_type": "stream",
     "text": [
      "max sigma 59.37683306518628\n",
      "Final: 0 [0.08288846155309383, 0.03476998046322902, 0.07187563527788311, 0.15237505784441227] 0.08547728378465455 [False, False, False, True]\n",
      "max sigma 65.45669095772757\n",
      "Final: 0 [0.03451272489637615, 0.004789403025422475, 0.009546750772827293, 0.048049786119314965] 0.02422466620348522 [False, False, False, False]\n",
      "max sigma 60.00079814156951\n",
      "Final: 0 [0.0585066436350751, 0.01275416284608972, 0.035764783041027245, 0.1271170005863892] 0.05853564752714532 [False, False, False, True]\n"
     ]
    },
    {
     "name": "stderr",
     "output_type": "stream",
     "text": [
      "\n",
      " 57%|█████▋    | 209/364 [00:41<00:34,  4.46it/s]\u001B[A"
     ]
    },
    {
     "name": "stdout",
     "output_type": "stream",
     "text": [
      "max sigma 63.35798107874469\n",
      "Final: 1 [0.22826303889164118, 0.21980225839974069, 0.4291922934928834, 0.2962131628012139] 0.2933676883963698 [True, True, True, True]\n",
      "max sigma 60.548453941395984\n",
      "max sigma 71.23091626095804\n",
      "max sigma 54.7750286526746\n",
      "max sigma 52.86374693153429\n",
      "max sigma 68.41443709917318\n",
      "Final: 1 [0.1709609864692043, 0.11027138572933672, 0.24066679547802633, 0.28534005505452265] 0.20180980568277251 [True, True, True, True]\n"
     ]
    },
    {
     "name": "stderr",
     "output_type": "stream",
     "text": [
      "\n",
      " 58%|█████▊    | 211/364 [00:41<00:34,  4.47it/s]\u001B[A"
     ]
    },
    {
     "name": "stdout",
     "output_type": "stream",
     "text": [
      "max sigma 55.37442269726122\n",
      "Final: 0 [0.07782981012571966, 0.02268669102386853, 0.052982303074434536, 0.18603319460339499] 0.08488299970685442 [False, False, False, True]\n",
      "max sigma 60.64791499471369\n",
      "max sigma 51.22909914566458\n",
      "max sigma 52.083665190136536\n",
      "max sigma 52.97467964515359\n",
      "max sigma 74.70780998032342\n",
      "max sigma 63.08322179356234\n"
     ]
    },
    {
     "name": "stderr",
     "output_type": "stream",
     "text": [
      "\n",
      " 59%|█████▊    | 213/364 [00:42<00:35,  4.28it/s]\u001B[A"
     ]
    },
    {
     "name": "stdout",
     "output_type": "stream",
     "text": [
      "Final: 1 [0.18065399876685231, 0.14595779259826758, 0.28517412665746505, 0.21360642406892807] 0.20634808552287823 [True, True, True, True]\n",
      "max sigma 56.306399862049226\n",
      "max sigma 68.4881794879506\n",
      "Final: 1 [0.18778634570014915, 0.16412174931478482, 0.3222650834247068, 0.3734580024578107] 0.26190779522436286 [True, True, True, True]\n"
     ]
    },
    {
     "name": "stderr",
     "output_type": "stream",
     "text": [
      "\n",
      " 59%|█████▉    | 214/364 [00:42<00:32,  4.59it/s]\u001B[A\n",
      " 59%|█████▉    | 216/364 [00:42<00:24,  5.93it/s]\u001B[A"
     ]
    },
    {
     "name": "stdout",
     "output_type": "stream",
     "text": [
      "max sigma 73.18752772707451\n",
      "Final: 0 [0.04341917403288835, 0.00738316698192051, 0.015108926874673507, 0.08870265332119123] 0.0386534803026684 [False, False, False, False]\n",
      "max sigma 57.25883708659588\n",
      "Final: 0 [0.075410004552632, 0.02137451559763165, 0.050006445255975154, 0.17633507395840653] 0.08078150984116134 [False, False, False, True]\n",
      "max sigma 53.13138654838277\n",
      "max sigma 66.91214975513462\n"
     ]
    },
    {
     "name": "stderr",
     "output_type": "stream",
     "text": [
      "\n",
      " 60%|█████▉    | 217/364 [00:42<00:24,  6.06it/s]\u001B[A"
     ]
    },
    {
     "name": "stdout",
     "output_type": "stream",
     "text": [
      "Final: 1 [0.13852061557559278, 0.0925140448145333, 0.17528208395016381, 0.12483658890364437] 0.13278833331098358 [True, False, True, True]\n",
      "max sigma 77.74710359591843\n",
      "max sigma 69.31413865168122\n",
      "Final: 1 [0.13572443404641935, 0.08651058550906471, 0.1669312191483564, 0.24606048935490107] 0.1588066820146854 [True, False, True, True]\n"
     ]
    },
    {
     "name": "stderr",
     "output_type": "stream",
     "text": [
      "\n",
      " 60%|█████▉    | 218/364 [00:42<00:23,  6.18it/s]\u001B[A\n",
      " 60%|██████    | 220/364 [00:43<00:18,  7.85it/s]\u001B[A"
     ]
    },
    {
     "name": "stdout",
     "output_type": "stream",
     "text": [
      "max sigma 61.56111795595965\n",
      "Final: 0 [0.04239560982037911, 0.007123864780609626, 0.014395197959881012, 0.09233853291368206] 0.03906330136863795 [False, False, False, False]\n",
      "max sigma 69.87273866599178\n",
      "Final: 0 [0.013670460784216703, 0.0007729152472076891, 0.0014989576130890379, 0.032524429224980035] 0.012116690717373365 [False, False, False, False]\n",
      "max sigma 73.34855126285667\n",
      "Final: 0 [0.03450632528449828, 0.00499602280523934, 0.00963349272429566, 0.07066521736210818] 0.029950264544035366 [False, False, False, False]\n"
     ]
    },
    {
     "name": "stderr",
     "output_type": "stream",
     "text": [
      "\n",
      " 61%|██████    | 222/364 [00:43<00:15,  9.12it/s]\u001B[A"
     ]
    },
    {
     "name": "stdout",
     "output_type": "stream",
     "text": [
      "max sigma 77.83527303074293\n",
      "Final: 0 [0.04370835044833427, 0.007670183482051462, 0.015308882855781383, 0.08175024591497403] 0.037109415675285286 [False, False, False, False]\n",
      "max sigma 73.37965540701195\n",
      "Final: 1 [0.11252484616379428, 0.060356954757271736, 0.11015911738316525, 0.25120978415915585] 0.13356267561584678 [True, False, True, True]\n",
      "max sigma 70.19690440462414\n",
      "Final: 0 [0.017270194723952862, 0.0012117945150886143, 0.002388229490512033, 0.007553265238405184] 0.007105870991989673 [False, False, False, False]\n"
     ]
    },
    {
     "name": "stderr",
     "output_type": "stream",
     "text": [
      "\n",
      " 62%|██████▏   | 224/364 [00:43<00:13, 10.26it/s]\u001B[A\n",
      " 62%|██████▏   | 226/364 [00:43<00:12, 10.80it/s]\u001B[A"
     ]
    },
    {
     "name": "stdout",
     "output_type": "stream",
     "text": [
      "max sigma 77.73497089945506\n",
      "Final: 1 [0.13236495855092179, 0.08149085033315126, 0.1741078797635732, 0.27515303777723565] 0.16577918160622046 [True, False, True, True]\n",
      "max sigma 75.34915143014526\n",
      "Final: 0 [0.02114759885391034, 0.001791860709107832, 0.003583544376784517, 0.013975284072920657] 0.010124572003180836 [False, False, False, False]\n",
      "max sigma 52.01029763371586\n",
      "max sigma 71.61626176611435\n",
      "max sigma 50.78679089075505\n",
      "max sigma 67.20016189342952\n",
      "max sigma 68.15348514516647\n",
      "Final: 1 [0.20359201319197706, 0.1636890013283484, 0.35103019819416603, 0.3730384281768757] 0.2728374102228418 [True, True, True, True]\n"
     ]
    },
    {
     "name": "stderr",
     "output_type": "stream",
     "text": [
      "\n",
      " 63%|██████▎   | 228/364 [00:43<00:17,  7.68it/s]\u001B[A\n"
     ]
    },
    {
     "name": "stdout",
     "output_type": "stream",
     "text": [
      "max sigma 64.71309852945755\n",
      "Final: 0 [0.05386495946037803, 0.010361393358539604, 0.03706931433099135, 0.09789241304681649] 0.04979702004918137 [False, False, False, False]\n",
      "max sigma 71.97645072991061\n",
      "Final: 0 [0.0216843822072417, 0.0018331608626957529, 0.0037814120964842018, 0.026882179124671453] 0.013545283572773277 [False, False, False, False]\n",
      "max sigma 80.53134821534267\n",
      "Final: 1 [0.20541230111775508, 0.18797553504233788, 0.35291849866197583, 0.3947301754935893] 0.28525912757891453 [True, True, True, True]\n"
     ]
    },
    {
     "name": "stderr",
     "output_type": "stream",
     "text": [
      " 63%|██████▎   | 230/364 [00:44<00:14,  9.02it/s]\u001B[A"
     ]
    },
    {
     "name": "stdout",
     "output_type": "stream",
     "text": [
      "max sigma 54.64381231747351\n",
      "max sigma 66.80444656204322\n",
      "max sigma 69.46974598185186\n",
      "max sigma 70.16844711673832\n",
      "max sigma 80.35955878631678\n",
      "max sigma 78.96873091289262\n",
      "max sigma 51.77976066553477\n",
      "max sigma 72.52139389084782\n"
     ]
    },
    {
     "name": "stderr",
     "output_type": "stream",
     "text": [
      "\n",
      " 64%|██████▎   | 232/364 [00:44<00:23,  5.71it/s]\u001B[A"
     ]
    },
    {
     "name": "stdout",
     "output_type": "stream",
     "text": [
      "Final: 0 [0.07696671044897704, 0.027399589110385605, 0.05213108681378005, 0.09946438854792972] 0.0639904437302681 [False, False, False, True]\n",
      "max sigma 69.3556617180598\n",
      "Final: 0 [0.035704342944780115, 0.004990636170162967, 0.01021404396692375, 0.06336424902678682] 0.028568318027163413 [False, False, False, False]\n",
      "max sigma 55.24919770044153\n",
      "max sigma 72.14040348266178\n",
      "max sigma 71.62931671842871\n",
      "max sigma 55.533550608971346\n",
      "max sigma 72.2762163528517\n",
      "max sigma 53.563155818661166\n",
      "max sigma 59.58282502923623\n",
      "max sigma 73.71093116933059\n",
      "max sigma 72.40268261435688\n",
      "max sigma 55.40068761664603\n"
     ]
    },
    {
     "name": "stderr",
     "output_type": "stream",
     "text": [
      "\n",
      " 64%|██████▍   | 233/364 [00:45<00:36,  3.57it/s]\u001B[A"
     ]
    },
    {
     "name": "stdout",
     "output_type": "stream",
     "text": [
      "max sigma 68.45327527125653\n",
      "Final: 1 [0.1413870229799795, 0.0772557595339563, 0.17570547121569052, 0.24085498747859696] 0.15880081030205584 [True, False, True, True]\n",
      "max sigma 72.39288090358441\n",
      "Final: 0 [0.03173711999079794, 0.008593723500713872, 0.012234494690717928, 0.027384741525068312] 0.01998751992682451 [False, False, False, False]\n",
      "max sigma 55.36664396720354\n",
      "max sigma 75.32450667507187\n",
      "max sigma 71.6754813614017\n",
      "Final: 0 [0.07331270726289921, 0.031532138784157906, 0.05164620072772319, 0.134802734794843] 0.07282344539240583 [False, False, False, True]\n"
     ]
    },
    {
     "name": "stderr",
     "output_type": "stream",
     "text": [
      "\n",
      " 65%|██████▍   | 235/364 [00:45<00:30,  4.25it/s]\u001B[A\n",
      " 65%|██████▌   | 237/364 [00:45<00:23,  5.48it/s]\u001B[A"
     ]
    },
    {
     "name": "stdout",
     "output_type": "stream",
     "text": [
      "max sigma 62.30063495706497\n",
      "Final: 0 [0.06454493333639177, 0.016016366111237888, 0.03351012726566497, 0.11969461493143774] 0.05844151041118309 [False, False, False, True]\n",
      "max sigma 77.86988629588014\n",
      "Final: 0 [0.029122539970579404, 0.0033874404531281173, 0.006789927603353762, 0.04213644283168647] 0.02035908771468694 [False, False, False, False]\n",
      "max sigma 77.94397027058726\n",
      "Final: 0 [0.025815991571088825, 0.0026772230314612263, 0.005334735513526704, 0.05020893311149899] 0.021009220806893936 [False, False, False, False]\n",
      "max sigma 74.23678958773242\n",
      "max sigma 54.07355056620213\n",
      "max sigma 67.20498015744063\n",
      "Final: 1 [0.20867466909989635, 0.18295417277784976, 0.3633861583302022, 0.2768622942247347] 0.25796932360817076 [True, True, True, True]\n"
     ]
    },
    {
     "name": "stderr",
     "output_type": "stream",
     "text": [
      "\n",
      " 66%|██████▌   | 239/364 [00:46<00:21,  5.94it/s]\u001B[A"
     ]
    },
    {
     "name": "stdout",
     "output_type": "stream",
     "text": [
      "max sigma 75.71594367967907\n",
      "Final: 0 [0.04815307020825461, 0.009181345119553585, 0.018591357538299203, 0.07355946207476688] 0.03737130873521857 [False, False, False, False]\n",
      "max sigma 56.738796270045974\n",
      "max sigma 53.01059006608614\n",
      "max sigma 75.52493010601438\n",
      "max sigma 67.12404845557178\n",
      "max sigma 51.21686093179809\n",
      "max sigma 57.4219454481962\n",
      "max sigma 63.95873892160648\n",
      "max sigma 75.28342603244687\n",
      "max sigma 51.98386509125013\n",
      "max sigma 80.8620880625153\n",
      "max sigma 80.57954108180218\n",
      "max sigma 58.108103723703\n",
      "max sigma 82.95542224312608\n",
      "max sigma 60.27995889223113\n",
      "max sigma 73.14671940419498\n",
      "max sigma 81.1243575584155\n",
      "max sigma 64.57129476700607\n",
      "max sigma 69.33477924912575\n",
      "Final: 0 [0.07308987379246117, 0.06129248406349652, 0.07934169428374177, 0.046639455997578294] 0.06509087703431944 [False, False, False, False]\n"
     ]
    },
    {
     "name": "stderr",
     "output_type": "stream",
     "text": [
      "\n",
      " 66%|██████▌   | 241/364 [00:47<00:40,  3.05it/s]\u001B[A"
     ]
    },
    {
     "name": "stdout",
     "output_type": "stream",
     "text": [
      "max sigma 58.31090611431379\n",
      "max sigma 51.36462223370188\n",
      "max sigma 73.82379477304262\n",
      "max sigma 69.0460670076476\n"
     ]
    },
    {
     "name": "stderr",
     "output_type": "stream",
     "text": [
      "\n",
      " 66%|██████▋   | 242/364 [00:47<00:38,  3.13it/s]\u001B[A"
     ]
    },
    {
     "name": "stdout",
     "output_type": "stream",
     "text": [
      "Final: 0 [0.060130679843745656, 0.024917112548410884, 0.03946395540616317, 0.0667741595261068] 0.04782147683110663 [False, False, False, False]\n",
      "max sigma 51.68955941844812\n",
      "max sigma 67.38928290576523\n",
      "max sigma 76.10393237289274\n",
      "max sigma 51.12250221027826\n",
      "max sigma 53.702950389955014\n",
      "max sigma 53.519288473613834\n",
      "max sigma 76.21321283411434\n",
      "max sigma 66.14165712490642\n",
      "max sigma 71.17601261755776\n",
      "max sigma 53.5124083899888\n"
     ]
    },
    {
     "name": "stderr",
     "output_type": "stream",
     "text": [
      "\n",
      " 67%|██████▋   | 243/364 [00:48<00:49,  2.42it/s]\u001B[A"
     ]
    },
    {
     "name": "stdout",
     "output_type": "stream",
     "text": [
      "max sigma 68.15174692071066\n",
      "Final: 0 [0.07592274644802777, 0.023049801842338447, 0.04667105077141863, 0.13990610754676264] 0.07138742665213688 [False, False, False, True]\n",
      "max sigma 65.36024173544752\n",
      "Final: 0 [0.039352977680104206, 0.005781148453616858, 0.016562245404686773, 0.05036709555226638] 0.028015866772668555 [False, False, False, False]\n"
     ]
    },
    {
     "name": "stderr",
     "output_type": "stream",
     "text": [
      "\n",
      " 67%|██████▋   | 245/364 [00:48<00:34,  3.46it/s]\u001B[A"
     ]
    },
    {
     "name": "stdout",
     "output_type": "stream",
     "text": [
      "max sigma 82.64669830818234\n",
      "Final: 0 [0.06396943056604304, 0.015778115233516674, 0.036974962318288535, 0.10033535938133821] 0.054264466874796614 [False, False, False, True]\n",
      "max sigma 53.639697473619925\n",
      "max sigma 54.2537227421902\n",
      "max sigma 76.93943427718284\n",
      "max sigma 76.64686387283768\n",
      "max sigma 80.19556679657762\n",
      "max sigma 68.45056982946842\n",
      "Final: 0 [0.061189154758283716, 0.019434923211689433, 0.03864171597017453, 0.050201257147021505] 0.0423667627717923 [False, False, False, False]\n"
     ]
    },
    {
     "name": "stderr",
     "output_type": "stream",
     "text": [
      "\n",
      " 68%|██████▊   | 246/364 [00:49<00:37,  3.17it/s]\u001B[A\n",
      " 68%|██████▊   | 248/364 [00:49<00:26,  4.44it/s]\u001B[A"
     ]
    },
    {
     "name": "stdout",
     "output_type": "stream",
     "text": [
      "max sigma 72.46792803823705\n",
      "Final: 0 [0.03340204237698319, 0.004468658188749662, 0.008936059534633103, 0.04939049539523369] 0.024049313873899913 [False, False, False, False]\n",
      "max sigma 65.4937810598193\n",
      "Final: 0 [0.043107649112174615, 0.007368573833811545, 0.014903746499871634, 0.07477063493279536] 0.03503765109466329 [False, False, False, False]\n",
      "max sigma 75.6438295698166\n",
      "Final: 0 [0.03977145420880862, 0.005905393839643574, 0.01681891593496128, 0.058693563465274726] 0.03029733186217205 [False, False, False, False]\n"
     ]
    },
    {
     "name": "stderr",
     "output_type": "stream",
     "text": [
      "\n",
      " 69%|██████▊   | 250/364 [00:49<00:19,  5.75it/s]\u001B[A"
     ]
    },
    {
     "name": "stdout",
     "output_type": "stream",
     "text": [
      "max sigma 82.68902484136943\n",
      "Final: 0 [0.05585553398999701, 0.017035735648689942, 0.02917599609594018, 0.09486406829282547] 0.04923283350686315 [False, False, False, False]\n",
      "max sigma 70.610125758336\n",
      "Final: 0 [0.032011653631916756, 0.0033638970263976434, 0.017887032643860375, 0.011901644404854927] 0.016291056926757426 [False, False, False, False]\n",
      "max sigma 77.08448502654812\n",
      "Final: 0 [0.03289537831836773, 0.004368351452974735, 0.008674229419649394, 0.059107522918653344] 0.0262613705274113 [False, False, False, False]\n"
     ]
    },
    {
     "name": "stderr",
     "output_type": "stream",
     "text": [
      "\n",
      " 69%|██████▉   | 252/364 [00:49<00:16,  6.98it/s]\u001B[A\n",
      " 70%|██████▉   | 254/364 [00:49<00:13,  8.21it/s]\u001B[A"
     ]
    },
    {
     "name": "stdout",
     "output_type": "stream",
     "text": [
      "max sigma 63.27811557759526\n",
      "Final: 0 [0.06622466412264988, 0.020761040901090752, 0.04929693495439662, 0.12179401379215965] 0.06451916344257422 [False, False, False, True]\n",
      "max sigma 68.35918393809948\n",
      "Final: 0 [0.03629391189280646, 0.014432633529198336, 0.018888641127971492, 0.03143522421068075] 0.025262602690164258 [False, False, False, False]\n",
      "max sigma 65.78506256574985\n",
      "Final: 0 [0.039175230518083505, 0.005740893819975959, 0.01644382117895447, 0.05535074723402889] 0.029177673187760704 [False, False, False, False]\n"
     ]
    },
    {
     "name": "stderr",
     "output_type": "stream",
     "text": [
      "\n",
      " 70%|███████   | 256/364 [00:49<00:11,  9.36it/s]\u001B[A"
     ]
    },
    {
     "name": "stdout",
     "output_type": "stream",
     "text": [
      "max sigma 61.22877323339784\n",
      "Final: 0 [0.06461648665171187, 0.016218152328245115, 0.0335951765567373, 0.11851646390518748] 0.05823656986047044 [False, False, False, True]\n",
      "max sigma 70.06294282499864\n",
      "Final: 0 [0.024141362299655352, 0.002433880144930121, 0.004691266524117254, 0.03485187059163592] 0.01652959489008466 [False, False, False, False]\n",
      "max sigma 81.18638039890966\n",
      "max sigma 79.97299632240349\n",
      "max sigma 56.925724201589674\n",
      "max sigma 76.22576546716903\n",
      "max sigma 83.07607789164418\n",
      "max sigma 59.37728259481628\n"
     ]
    },
    {
     "name": "stderr",
     "output_type": "stream",
     "text": [
      "\n",
      " 71%|███████   | 258/364 [00:50<00:18,  5.83it/s]\u001B[A"
     ]
    },
    {
     "name": "stdout",
     "output_type": "stream",
     "text": [
      "max sigma 67.99796147515838\n",
      "max sigma 65.48367847819263\n",
      "Final: 1 [0.18754543123637793, 0.15187740451647025, 0.2895678488837438, 0.30683817606049757] 0.2339572151742724 [True, True, True, True]\n",
      "max sigma 53.31191827361192\n",
      "max sigma 73.81410140528128\n",
      "max sigma 63.270018852564476\n",
      "Final: 1 [0.16875334042807075, 0.12477668969985685, 0.24285802970173925, 0.3355764318125668] 0.21799112291055842 [True, True, True, True]\n"
     ]
    },
    {
     "name": "stderr",
     "output_type": "stream",
     "text": [
      "\n",
      " 71%|███████   | 259/364 [00:50<00:19,  5.51it/s]\u001B[A\n",
      " 72%|███████▏  | 261/364 [00:50<00:14,  6.91it/s]\u001B[A"
     ]
    },
    {
     "name": "stdout",
     "output_type": "stream",
     "text": [
      "max sigma 53.77283122204786\n",
      "Final: 0 [0.08095137079032172, 0.02423038625320716, 0.0625080313264212, 0.15493151390830148] 0.0806553255695629 [False, False, False, True]\n",
      "max sigma 61.06523395102283\n",
      "Final: 1 [0.19803191858725225, 0.18026014929903864, 0.3410403146738818, 0.27875646339299387] 0.24952221148829165 [True, True, True, True]\n",
      "max sigma 72.91086312547914\n",
      "max sigma 72.87547044291898\n",
      "max sigma 83.14686048467301\n",
      "max sigma 81.76263788734688\n",
      "max sigma 59.72863416919623\n",
      "Final: 1 [0.15440206966016362, 0.10950381123426978, 0.19885461054427747, 0.21510331696882823] 0.16946595210188478 [True, True, True, True]\n"
     ]
    },
    {
     "name": "stderr",
     "output_type": "stream",
     "text": [
      "\n",
      " 72%|███████▏  | 262/364 [00:51<00:18,  5.45it/s]\u001B[A\n",
      " 73%|███████▎  | 264/364 [00:51<00:14,  6.98it/s]\u001B[A"
     ]
    },
    {
     "name": "stdout",
     "output_type": "stream",
     "text": [
      "max sigma 64.26841307064876\n",
      "Final: 0 [0.057656996053772044, 0.012275120996923475, 0.027062317980632185, 0.058413533747937445] 0.03885199219481629 [False, False, False, False]\n",
      "max sigma 64.23969348421504\n",
      "Final: 0 [0.04391275799232577, 0.007508774312814534, 0.01550140769434755, 0.047583238011778696] 0.02862654450281664 [False, False, False, False]\n",
      "max sigma 62.869021117110414\n",
      "Final: 0 [0.03465242359417521, 0.004439289032356827, 0.013782264374893459, 0.02730172904263144] 0.020043926511014235 [False, False, False, False]\n",
      "max sigma 66.57597014027517\n",
      "max sigma 50.51817742055812\n",
      "max sigma 73.11640163968252\n",
      "max sigma 64.2231246752292\n"
     ]
    },
    {
     "name": "stderr",
     "output_type": "stream",
     "text": [
      "\n",
      " 73%|███████▎  | 266/364 [00:51<00:15,  6.48it/s]\u001B[A"
     ]
    },
    {
     "name": "stdout",
     "output_type": "stream",
     "text": [
      "Final: 1 [0.1697562787879638, 0.11374305550789651, 0.2411520841255333, 0.3149285930568481] 0.20989500286956042 [True, False, True, True]\n",
      "max sigma 63.9160359840998\n",
      "max sigma 56.640088313332704\n",
      "max sigma 62.81736124649683\n",
      "max sigma 82.68944652732974\n",
      "max sigma 73.29099843636273\n",
      "max sigma 68.83210413802699\n",
      "max sigma 72.84116213769228\n",
      "max sigma 66.289337320932\n",
      "max sigma 74.09104259937237\n",
      "max sigma 51.2458047074828\n",
      "max sigma 75.03152072589039\n",
      "max sigma 55.14586486491324\n",
      "max sigma 74.00984871343492\n"
     ]
    },
    {
     "name": "stderr",
     "output_type": "stream",
     "text": [
      "\n",
      " 73%|███████▎  | 267/364 [00:52<00:30,  3.14it/s]\u001B[A"
     ]
    },
    {
     "name": "stdout",
     "output_type": "stream",
     "text": [
      "max sigma 62.187629214198104\n",
      "Final: 1 [0.1380170868313467, 0.1012916110635541, 0.17321935804495958, 0.08317329399236006] 0.1239253374830551 [True, True, True, False]\n",
      "max sigma 58.316365994988665\n",
      "Final: 0 [0.04406483432612846, 0.007696007610919467, 0.015561871545009834, 0.07099091734302068] 0.03457840770626961 [False, False, False, False]\n"
     ]
    },
    {
     "name": "stderr",
     "output_type": "stream",
     "text": [
      "\n",
      " 74%|███████▍  | 269/364 [00:52<00:22,  4.29it/s]\u001B[A"
     ]
    },
    {
     "name": "stdout",
     "output_type": "stream",
     "text": [
      "max sigma 66.37431383193416\n",
      "Final: 0 [0.0943760478545943, 0.028179203468172778, 0.08973292389388146, 0.0686952818462293] 0.07024586426571947 [False, False, False, False]\n",
      "max sigma 57.57304221621704\n",
      "Final: 0 [0.04478977684987183, 0.012517866425848765, 0.020221736399353936, 0.08188793903543391] 0.039854329677627115 [False, False, False, False]\n",
      "max sigma 57.195514162732934\n",
      "Final: 0 [0.044982805165812656, 0.007977166931974157, 0.016223755793105078, 0.08635045090026425] 0.038883544697789034 [False, False, False, False]\n"
     ]
    },
    {
     "name": "stderr",
     "output_type": "stream",
     "text": [
      "\n",
      " 74%|███████▍  | 271/364 [00:53<00:16,  5.58it/s]\u001B[A"
     ]
    },
    {
     "name": "stdout",
     "output_type": "stream",
     "text": [
      "max sigma 54.39624410101393\n",
      "Final: 0 [0.064301442742836, 0.015586199514601384, 0.04282623913470023, 0.1241889270956483] 0.06172570212194648 [False, False, False, True]\n",
      "max sigma 72.85269586038119\n",
      "max sigma 64.41831773783822\n",
      "Final: 1 [0.16081035075530756, 0.10335496767060644, 0.21297583220680277, 0.34824738060757526] 0.206347132810073 [True, True, True, True]\n"
     ]
    },
    {
     "name": "stderr",
     "output_type": "stream",
     "text": [
      "\n",
      " 75%|███████▌  | 273/364 [00:53<00:14,  6.43it/s]\u001B[A"
     ]
    },
    {
     "name": "stdout",
     "output_type": "stream",
     "text": [
      "max sigma 64.53651469332799\n",
      "max sigma 66.71133114761103\n",
      "max sigma 70.4436940107261\n",
      "max sigma 78.94483800099947\n"
     ]
    },
    {
     "name": "stderr",
     "output_type": "stream",
     "text": [
      "\n",
      " 75%|███████▌  | 274/364 [00:53<00:18,  4.81it/s]"
     ]
    },
    {
     "name": "stdout",
     "output_type": "stream",
     "text": [
      "max sigma 55.35312132906972\n",
      "max sigma 66.03701973405676\n",
      "Final: 1 [0.17875912757367363, 0.11768535062596905, 0.27948614552833867, 0.2896843305489002] 0.21640373856922038 [True, True, True, True]\n"
     ]
    },
    {
     "name": "stderr",
     "output_type": "stream",
     "text": [
      "\u001B[A"
     ]
    },
    {
     "name": "stdout",
     "output_type": "stream",
     "text": [
      "max sigma 75.56402901443785\n",
      "max sigma 71.51974175640366\n",
      "max sigma 83.1586535767711\n",
      "max sigma 56.3855309631388\n",
      "max sigma 61.076494979533514\n",
      "max sigma 59.15688619466679\n",
      "max sigma 55.08830258352384\n",
      "max sigma 58.77892286576048\n",
      "max sigma 76.77229602452068\n",
      "max sigma 70.35617961259338\n",
      "max sigma 78.80657288599969\n",
      "max sigma 75.98976491483226\n",
      "max sigma 75.9826949756537\n",
      "max sigma 71.56365774730428\n"
     ]
    },
    {
     "name": "stderr",
     "output_type": "stream",
     "text": [
      "\n",
      " 76%|███████▌  | 275/364 [00:54<00:35,  2.49it/s]\u001B[A"
     ]
    },
    {
     "name": "stdout",
     "output_type": "stream",
     "text": [
      "max sigma 73.84183269389807\n",
      "max sigma 66.34768920042204\n",
      "Final: 0 [0.07948917652020121, 0.029757119078707133, 0.054957399865981915, 0.13057308253168542] 0.07369419449914393 [False, False, False, True]\n",
      "max sigma 77.28174560794271\n",
      "max sigma 74.49045480482391\n",
      "max sigma 77.48584007674333\n",
      "max sigma 69.24620275923742\n",
      "max sigma 70.05817775842006\n",
      "max sigma 59.57186716049629\n",
      "max sigma 50.305381346905165\n",
      "max sigma 60.06609449293262\n",
      "max sigma 54.56380217883471\n",
      "max sigma 74.41504140878881\n",
      "max sigma 57.694742486232975\n",
      "max sigma 73.58842442540497\n",
      "max sigma 80.68834427555021\n",
      "max sigma 76.11699458287451\n",
      "max sigma 65.92339455537383\n",
      "Final: 0 [0.060257086843515, 0.029681828510834653, 0.047279454443076685, 0.06708510964896738] 0.051075869861598434 [False, False, False, False]\n"
     ]
    },
    {
     "name": "stderr",
     "output_type": "stream",
     "text": [
      "\n",
      " 76%|███████▌  | 276/364 [00:55<00:48,  1.80it/s]\u001B[A"
     ]
    },
    {
     "name": "stdout",
     "output_type": "stream",
     "text": [
      "max sigma 80.42947154764192\n",
      "max sigma 58.57338193931063\n",
      "max sigma 64.13962313519953\n",
      "max sigma 83.28473195920787\n",
      "max sigma 60.797615985561755\n",
      "max sigma 70.65150503903203\n",
      "max sigma 73.32085388421199\n",
      "max sigma 83.0169253411234\n",
      "max sigma 63.227776232225175\n",
      "max sigma 78.41652020546216\n",
      "max sigma 69.43706258510781\n",
      "max sigma 69.0501611370604\n",
      "max sigma 78.7291633404132\n",
      "max sigma 70.67764734007373\n",
      "max sigma 70.89448838188423\n",
      "max sigma 71.49980787116174\n",
      "max sigma 66.35761123684433\n",
      "Final: 0 [0.06749646365594358, 0.01866585824269457, 0.04140709615653029, 0.04687473228837542] 0.04361103758588597 [False, False, False, False]\n"
     ]
    },
    {
     "name": "stderr",
     "output_type": "stream",
     "text": [
      "\n",
      " 76%|███████▌  | 277/364 [00:57<01:01,  1.40it/s]\u001B[A"
     ]
    },
    {
     "name": "stdout",
     "output_type": "stream",
     "text": [
      "max sigma 52.180762600998946\n",
      "max sigma 72.69617722142891\n",
      "max sigma 76.3039789664133\n",
      "max sigma 55.31435313721818\n",
      "max sigma 55.38269669542141\n",
      "max sigma 74.21156780736267\n",
      "max sigma 64.49336767090479\n",
      "max sigma 77.66121618363586\n",
      "max sigma 69.05911270293173\n",
      "max sigma 73.57339774849633\n",
      "max sigma 70.02127631726789\n",
      "max sigma 81.99251817429301\n",
      "max sigma 51.643602999574455\n",
      "max sigma 82.70983723731642\n",
      "max sigma 55.132409144650524\n",
      "max sigma 63.50835551975604\n",
      "max sigma 69.12652865065134\n",
      "max sigma 56.947076900466904\n",
      "max sigma 82.2744998219476\n",
      "max sigma 81.20305960935282\n",
      "max sigma 57.2394764604021\n",
      "max sigma 56.48831278116612\n",
      "max sigma 53.113484519299654\n",
      "max sigma 55.780279164442994\n",
      "max sigma 83.3099234999632\n",
      "max sigma 77.04352506182757\n"
     ]
    },
    {
     "name": "stderr",
     "output_type": "stream",
     "text": [
      "\n",
      " 76%|███████▋  | 278/364 [00:59<01:28,  1.03s/it]\u001B[A"
     ]
    },
    {
     "name": "stdout",
     "output_type": "stream",
     "text": [
      "max sigma 67.4890485648995\n",
      "Final: 0 [0.09975817063492984, 0.04275424432686965, 0.08483538715721359, 0.09278134764936427] 0.08003228744209434 [False, False, False, False]\n",
      "max sigma 58.37785279289593\n",
      "Final: 0 [0.06620907317814195, 0.016812934027610187, 0.035334637518504894, 0.14044168434758367] 0.06469958226796017 [False, False, False, True]\n"
     ]
    },
    {
     "name": "stderr",
     "output_type": "stream",
     "text": [
      "\n",
      " 77%|███████▋  | 280/364 [00:59<00:52,  1.61it/s]\u001B[A"
     ]
    },
    {
     "name": "stdout",
     "output_type": "stream",
     "text": [
      "max sigma 67.71077001686103\n",
      "Final: 0 [0.023061744315660635, 0.002129563895391037, 0.004259169029705189, 0.04012538576660424] 0.017393965751840275 [False, False, False, False]\n",
      "max sigma 50.31323705506463\n",
      "max sigma 53.17999164481861\n",
      "max sigma 64.66206434149736\n",
      "max sigma 68.60002458895724\n",
      "max sigma 71.40647759414435\n",
      "max sigma 61.14895546631245\n",
      "max sigma 56.405133200692376\n",
      "max sigma 70.58127241710447\n",
      "max sigma 65.62114165927903\n",
      "max sigma 53.6422250575802\n",
      "max sigma 74.97152549658956\n",
      "max sigma 77.90700897136605\n",
      "max sigma 79.74341853889734\n",
      "max sigma 62.35596646816449\n",
      "max sigma 80.51264157801113\n",
      "max sigma 78.63296553367609\n",
      "max sigma 73.85881890844546\n",
      "max sigma 80.6019091458561\n",
      "max sigma 60.506152204496175\n",
      "max sigma 77.18334659677453\n",
      "max sigma 83.24417508840399\n",
      "max sigma 57.09186448432403\n",
      "max sigma 78.99219926249823\n",
      "max sigma 77.82567010565678\n",
      "max sigma 70.94908332199368\n",
      "max sigma 68.68713707559498\n",
      "max sigma 60.521179867592195\n",
      "max sigma 71.97541589207367\n",
      "max sigma 59.77973636313008\n",
      "max sigma 79.9794687051259\n",
      "max sigma 50.546634800060396\n",
      "max sigma 63.66640555704081\n",
      "max sigma 50.1954557399309\n",
      "max sigma 78.9282933194501\n",
      "max sigma 75.05091037575478\n",
      "max sigma 80.65452279975584\n",
      "max sigma 79.1209147187858\n"
     ]
    },
    {
     "name": "stderr",
     "output_type": "stream",
     "text": [
      "\n",
      " 77%|███████▋  | 281/364 [01:01<01:31,  1.10s/it]\u001B[A"
     ]
    },
    {
     "name": "stdout",
     "output_type": "stream",
     "text": [
      "max sigma 67.9903224773888\n",
      "Final: 0 [0.09149521427208757, 0.03229390555826649, 0.08309033401250855, 0.17575390064793864] 0.09565833862270032 [False, False, False, True]\n",
      "max sigma 50.03243889490864\n",
      "max sigma 80.33800323901706\n",
      "max sigma 78.965586524596\n",
      "max sigma 57.6948612567661\n",
      "max sigma 57.76881575564581\n",
      "max sigma 54.09550369493801\n",
      "max sigma 80.84906590967933\n",
      "max sigma 60.095425721100774\n",
      "max sigma 68.96588945996855\n",
      "max sigma 51.302663393846274\n",
      "max sigma 64.28941809921935\n",
      "max sigma 82.63181264607715\n",
      "max sigma 63.16503168623103\n",
      "max sigma 51.80218865759624\n",
      "max sigma 79.44413847780777\n",
      "max sigma 52.72928602357126\n",
      "max sigma 73.11437234085126\n",
      "max sigma 71.48424678076685\n",
      "max sigma 66.76816066413964\n"
     ]
    },
    {
     "name": "stderr",
     "output_type": "stream",
     "text": [
      "\n",
      " 77%|███████▋  | 282/364 [01:03<01:34,  1.16s/it]\u001B[A"
     ]
    },
    {
     "name": "stdout",
     "output_type": "stream",
     "text": [
      "Final: 0 [0.06549827292440467, 0.018303262322007328, 0.034743688257466154, 0.09497771875389006] 0.053380735564442054 [False, False, False, False]\n",
      "max sigma 50.45810700024189\n",
      "max sigma 82.87154689871738\n",
      "max sigma 79.14573855134927\n",
      "max sigma 65.40319990139699\n",
      "max sigma 65.42903009587265\n",
      "max sigma 63.526271418793044\n"
     ]
    },
    {
     "name": "stderr",
     "output_type": "stream",
     "text": [
      "\n"
     ]
    },
    {
     "name": "stdout",
     "output_type": "stream",
     "text": [
      "max sigma 63.157591210634415\n",
      "max sigma 66.1492540997835\n",
      "Final: 0 [0.08066364192892439, 0.03639114760662733, 0.06069527471159006, 0.08234468430543175] 0.06502368713814338 [False, False, False, False]\n"
     ]
    },
    {
     "name": "stderr",
     "output_type": "stream",
     "text": [
      " 78%|███████▊  | 283/364 [01:03<01:20,  1.01it/s]\u001B[A"
     ]
    },
    {
     "name": "stdout",
     "output_type": "stream",
     "text": [
      "max sigma 64.01950374147987\n",
      "Final: 0 [0.03383628972952711, 0.004596673088321875, 0.00916466158129966, 0.03455761611108116] 0.02053881012755745 [False, False, False, False]\n",
      "max sigma 53.89909768513322\n",
      "max sigma 56.73651216271511\n",
      "max sigma 71.27050874121532\n",
      "max sigma 62.236056775768965\n",
      "max sigma 75.36830750572062\n",
      "max sigma 80.23633478780778\n",
      "max sigma 81.77973198347092\n",
      "max sigma 78.93033687014922\n",
      "max sigma 52.089923764023524\n",
      "max sigma 80.15203505258796\n",
      "max sigma 81.19764202544623\n",
      "max sigma 63.81920990768109\n",
      "max sigma 52.50479785355674\n",
      "max sigma 57.53490861794645\n",
      "max sigma 59.61997433561104\n",
      "max sigma 78.30786374124891\n",
      "max sigma 57.259633045418205\n",
      "max sigma 73.86294967137417\n",
      "max sigma 81.08955869857868\n",
      "max sigma 58.67451943041817\n",
      "max sigma 77.60677353831397\n",
      "max sigma 58.974242474420144\n",
      "max sigma 79.47402348981764\n",
      "max sigma 58.154729738695664\n",
      "max sigma 75.46751057898689\n",
      "max sigma 57.45059591327814\n",
      "max sigma 62.4692032712425\n",
      "max sigma 50.16062559981359\n",
      "max sigma 74.56676864583615\n",
      "max sigma 69.38510535497862\n",
      "max sigma 65.71712800582698\n"
     ]
    },
    {
     "name": "stderr",
     "output_type": "stream",
     "text": [
      "\n",
      " 78%|███████▊  | 285/364 [01:06<01:23,  1.05s/it]\u001B[A"
     ]
    },
    {
     "name": "stdout",
     "output_type": "stream",
     "text": [
      "Final: 0 [0.09806555962239007, 0.04081685019120021, 0.09634436882734661, 0.07800899588738897] 0.07830894363208146 [False, False, False, False]\n",
      "max sigma 77.14750647655337\n",
      "max sigma 68.15917418983815\n",
      "Final: 1 [0.20621655810651884, 0.17232852712615832, 0.3956910855296524, 0.20057305955965365] 0.2437023075804958 [True, True, True, True]\n"
     ]
    },
    {
     "name": "stderr",
     "output_type": "stream",
     "text": [
      "\n",
      " 79%|███████▊  | 286/364 [01:06<01:05,  1.19it/s]\u001B[A"
     ]
    },
    {
     "name": "stdout",
     "output_type": "stream",
     "text": [
      "max sigma 53.47551462113389\n",
      "max sigma 53.02198249121992\n",
      "max sigma 71.24537563871957\n",
      "max sigma 55.263536688199714\n",
      "max sigma 65.6887700054156\n",
      "max sigma 65.7851262462538\n",
      "max sigma 69.51812047785957\n",
      "max sigma 55.2709883489548\n",
      "max sigma 55.59342219927191\n",
      "max sigma 72.26660252915754\n",
      "max sigma 52.56916873472627\n",
      "max sigma 80.37482100831733\n",
      "max sigma 81.55263924923649\n",
      "max sigma 64.45282401916268\n",
      "max sigma 80.93240846830354\n",
      "max sigma 64.30582440644837\n",
      "max sigma 71.88105159271367\n",
      "max sigma 58.68888440936795\n",
      "max sigma 54.40362253567446\n",
      "max sigma 55.543006430769616\n",
      "max sigma 68.68729826640106\n",
      "max sigma 51.28877247591629\n",
      "max sigma 58.03805480099019\n"
     ]
    },
    {
     "name": "stderr",
     "output_type": "stream",
     "text": [
      "\n",
      " 79%|███████▉  | 287/364 [01:07<01:20,  1.05s/it]\u001B[A"
     ]
    },
    {
     "name": "stdout",
     "output_type": "stream",
     "text": [
      "max sigma 67.42918026403527\n",
      "Final: 0 [0.054070236178730476, 0.011381910547543743, 0.02794825246788551, 0.06907793323479276] 0.04061958310723812 [False, False, False, False]\n",
      "max sigma 50.178477631360316\n",
      "max sigma 76.01989915850704\n",
      "max sigma 63.35726298448454\n",
      "max sigma 66.98363782246668\n",
      "Final: 0 [0.06093362429467743, 0.034921045150860926, 0.04802442647476743, 0.06308481486056539] 0.051740977695217794 [False, False, False, False]\n"
     ]
    },
    {
     "name": "stderr",
     "output_type": "stream",
     "text": [
      "\n",
      " 79%|███████▉  | 288/364 [01:08<01:04,  1.18it/s]\u001B[A\n",
      " 80%|███████▉  | 290/364 [01:08<00:38,  1.93it/s]\u001B[A"
     ]
    },
    {
     "name": "stdout",
     "output_type": "stream",
     "text": [
      "max sigma 56.44366160762555\n",
      "Final: 0 [0.08427696495831642, 0.026369654597830854, 0.061575223375062826, 0.19072114862277673] 0.0907357478884967 [False, False, False, True]\n",
      "max sigma 75.01138639425021\n",
      "Final: 0 [0.06845849797297573, 0.017752885031615227, 0.0377623639316726, 0.10869446311127334] 0.058167052511884226 [False, False, False, True]\n",
      "max sigma 67.61773396724357\n",
      "Final: 0 [0.010879721248705787, 0.0004731728450340822, 0.0009470278407140254, 0.009859272063946272] 0.005539798499600042 [False, False, False, False]\n",
      "max sigma 50.35597831123774\n",
      "max sigma 50.48011096633612\n",
      "max sigma 74.17999216271112\n",
      "max sigma 59.65622986963069\n",
      "max sigma 63.91400974424531\n",
      "max sigma 58.87711749191976\n",
      "max sigma 52.990048182837846\n",
      "max sigma 67.39237256344127\n"
     ]
    },
    {
     "name": "stderr",
     "output_type": "stream",
     "text": [
      "\n",
      " 80%|████████  | 292/364 [01:08<00:32,  2.23it/s]\u001B[A"
     ]
    },
    {
     "name": "stdout",
     "output_type": "stream",
     "text": [
      "Final: 0 [0.06480239342167618, 0.020751715585678662, 0.04651125877172739, 0.08396224372340139] 0.054006902875620905 [False, False, False, False]\n",
      "max sigma 74.21835895486645\n",
      "Final: 0 [0.04895069043256582, 0.009293031207413947, 0.0192345173426026, 0.06070555218084933] 0.03454594779085793 [False, False, False, False]\n",
      "max sigma 80.15482887025455\n",
      "Final: 0 [0.07122618127129464, 0.03012679527021092, 0.050413218316567525, 0.09759618653973491] 0.062340595349451994 [False, False, False, False]\n"
     ]
    },
    {
     "name": "stderr",
     "output_type": "stream",
     "text": [
      "\n",
      " 81%|████████  | 294/364 [01:09<00:22,  3.14it/s]\u001B[A\n",
      " 81%|████████▏ | 296/364 [01:09<00:16,  4.20it/s]\u001B[A"
     ]
    },
    {
     "name": "stdout",
     "output_type": "stream",
     "text": [
      "max sigma 57.79567868677592\n",
      "Final: 0 [0.07584458988623029, 0.021267574862397064, 0.056139092754437694, 0.16865492309938168] 0.08047654515061169 [False, False, False, True]\n",
      "max sigma 71.72391273501735\n",
      "Final: 0 [0.030213508196515963, 0.00365318645948253, 0.0073100092744107885, 0.04329246760270764] 0.02111729288327923 [False, False, False, False]\n",
      "max sigma 61.83430617387925\n",
      "Final: 0 [0.04985222718912428, 0.009727079156698466, 0.019929726715198978, 0.06591439224039172] 0.03635585632535336 [False, False, False, False]\n"
     ]
    },
    {
     "name": "stderr",
     "output_type": "stream",
     "text": [
      "\n",
      " 82%|████████▏ | 298/364 [01:09<00:12,  5.27it/s]\u001B[A"
     ]
    },
    {
     "name": "stdout",
     "output_type": "stream",
     "text": [
      "max sigma 52.715275999387735\n",
      "Final: 0 [0.08611201803068172, 0.02731565871255904, 0.06435953623088418, 0.19160018278994562] 0.09234684894101763 [False, False, False, True]\n",
      "max sigma 71.44086573321427\n",
      "Final: 0 [0.028477864574740424, 0.0032167353080311406, 0.00649389388679818, 0.04448970342348911] 0.020669549298264714 [False, False, False, False]\n",
      "max sigma 76.83236621710584\n",
      "Final: 0 [0.04778971428079309, 0.013535366776897564, 0.0224479826675986, 0.0780211620706552] 0.04044855644898611 [False, False, False, False]\n"
     ]
    },
    {
     "name": "stderr",
     "output_type": "stream",
     "text": [
      "\n",
      " 82%|████████▏ | 300/364 [01:09<00:09,  6.50it/s]\u001B[A\n",
      " 83%|████████▎ | 302/364 [01:09<00:08,  7.63it/s]\u001B[A"
     ]
    },
    {
     "name": "stdout",
     "output_type": "stream",
     "text": [
      "max sigma 59.692921970892485\n",
      "Final: 0 [0.05333420455178195, 0.011149823333072593, 0.022813960324796337, 0.0875234337206957] 0.043705355482586646 [False, False, False, False]\n",
      "max sigma 53.83820432515105\n",
      "Final: 0 [0.06701698849490743, 0.016684035962085616, 0.04057644314176474, 0.11663536823437891] 0.06022820895828418 [False, False, False, True]\n",
      "max sigma 51.95098761040356\n",
      "Final: 0 [0.06975118059896594, 0.018560764121911433, 0.039294894156729356, 0.1519046740833148] 0.06987787824023038 [False, False, False, True]\n"
     ]
    },
    {
     "name": "stderr",
     "output_type": "stream",
     "text": [
      "\n",
      " 84%|████████▎ | 304/364 [01:09<00:06,  8.68it/s]\u001B[A"
     ]
    },
    {
     "name": "stdout",
     "output_type": "stream",
     "text": [
      "max sigma 50.07662522950026\n",
      "Final: 0 [0.07337879176901607, 0.020718419215745805, 0.04349788605485737, 0.12076795770250189] 0.06459076368553028 [False, False, False, True]\n",
      "max sigma 78.19027659015437\n",
      "Final: 0 [0.057347700181607904, 0.01743968570958516, 0.03052102067661089, 0.12255003609955269] 0.05696461066683916 [False, False, False, True]\n",
      "max sigma 74.49151794820966\n",
      "Final: 0 [0.04540099896754087, 0.01273761244123959, 0.02066146763475119, 0.09311781919782562] 0.04297947456033932 [False, False, False, False]\n"
     ]
    },
    {
     "name": "stderr",
     "output_type": "stream",
     "text": [
      "\n",
      " 84%|████████▍ | 306/364 [01:10<00:05,  9.75it/s]\u001B[A\n",
      " 85%|████████▍ | 308/364 [01:10<00:05, 10.62it/s]\u001B[A"
     ]
    },
    {
     "name": "stdout",
     "output_type": "stream",
     "text": [
      "max sigma 56.15736762579979\n",
      "Final: 0 [0.06037318641608187, 0.013666675894749226, 0.033470647993010895, 0.08857167848177168] 0.04902054719640342 [False, False, False, False]\n",
      "max sigma 61.61695223609695\n",
      "Final: 0 [0.05339634241095527, 0.015714438536752084, 0.0270216417766794, 0.05292687848511585] 0.037264825302375654 [False, False, False, False]\n",
      "max sigma 57.798647867264435\n",
      "Final: 0 [0.05093185108961357, 0.014518875569877444, 0.029099467690845687, 0.0714304867080309] 0.0414951702645919 [False, False, False, False]\n"
     ]
    },
    {
     "name": "stderr",
     "output_type": "stream",
     "text": [
      "\n",
      " 85%|████████▌ | 310/364 [01:10<00:04, 11.08it/s]\u001B[A"
     ]
    },
    {
     "name": "stdout",
     "output_type": "stream",
     "text": [
      "max sigma 58.661245833427074\n",
      "Final: 0 [0.043528232326229314, 0.007498127883764631, 0.015182808779368126, 0.05595910532378134] 0.030542068578285855 [False, False, False, False]\n",
      "max sigma 51.00627786286331\n",
      "Final: 0 [0.06242004779593574, 0.01479966123919016, 0.03545120709544355, 0.10979643093800964] 0.055616836767144774 [False, False, False, True]\n",
      "max sigma 77.71456158035555\n",
      "max sigma 76.30539081209497\n",
      "max sigma 78.2834780463484\n",
      "max sigma 79.18399184303057\n",
      "max sigma 70.59958483413493\n",
      "max sigma 73.15902605024048\n",
      "max sigma 76.80129238572233\n",
      "max sigma 77.71862816300074\n",
      "max sigma 56.04345001565961\n"
     ]
    },
    {
     "name": "stderr",
     "output_type": "stream",
     "text": [
      "\n",
      " 86%|████████▌ | 312/364 [01:11<00:08,  5.88it/s]\u001B[A"
     ]
    },
    {
     "name": "stdout",
     "output_type": "stream",
     "text": [
      "Final: 1 [0.21597016881950495, 0.19835753126214478, 0.4122481789712341, 0.3520864479371276] 0.2946655817475029 [True, True, True, True]\n",
      "max sigma 68.32326692617346\n",
      "max sigma 59.6864046685666\n",
      "max sigma 61.130074420427455\n",
      "max sigma 60.50712249464565\n",
      "max sigma 63.944904012494476\n",
      "max sigma 80.02411022308668\n",
      "max sigma 76.30056154447664\n",
      "max sigma 79.43815289822798\n",
      "max sigma 58.05263757316876\n"
     ]
    },
    {
     "name": "stderr",
     "output_type": "stream",
     "text": [
      "\n",
      " 86%|████████▌ | 313/364 [01:11<00:13,  3.87it/s]\u001B[A"
     ]
    },
    {
     "name": "stdout",
     "output_type": "stream",
     "text": [
      "Final: 1 [0.17474384472298637, 0.11661978923111135, 0.26074617212493867, 0.23021987594375154] 0.19558242050569696 [True, True, True, True]\n",
      "max sigma 63.31576170134307\n",
      "Final: 0 [0.09924731682032037, 0.03315066319323414, 0.08597424676231491, 0.08087693790072827] 0.07481229116914942 [False, False, False, False]\n",
      "max sigma 74.99516601195425\n",
      "max sigma 66.49824340028628\n",
      "max sigma 82.3095439514309\n",
      "max sigma 63.037543066726506\n",
      "max sigma 79.96064767733655\n",
      "max sigma 63.65948148213207\n",
      "max sigma 78.14636218199121\n",
      "max sigma 73.79148310044627\n",
      "max sigma 62.066635076309545\n",
      "max sigma 61.38963563367414\n",
      "max sigma 77.29834780224944\n",
      "max sigma 70.20071047042309\n",
      "max sigma 55.03875242058344\n",
      "max sigma 78.10459283390067\n",
      "max sigma 78.63069126911576\n",
      "max sigma 66.65644162441754\n",
      "max sigma 51.54314286076002\n",
      "max sigma 51.33313567010384\n",
      "max sigma 68.53725086471604\n",
      "max sigma 74.17935776482655\n",
      "max sigma 69.76969267285544\n",
      "max sigma 50.46407401509142\n",
      "max sigma 61.38217589953384\n",
      "max sigma 55.957549055049036\n",
      "max sigma 80.73011524229935\n",
      "max sigma 71.19526794260658\n",
      "max sigma 70.1806923141199\n",
      "max sigma 51.24079001399142\n",
      "max sigma 64.17326286566602\n",
      "max sigma 60.38959983218342\n",
      "max sigma 74.51577128053482\n",
      "max sigma 64.57336585409105\n",
      "max sigma 65.76693320559168\n",
      "max sigma 65.38503668569165\n",
      "max sigma 66.73026572871485\n",
      "max sigma 58.06088574242267\n",
      "max sigma 67.54246964022427\n",
      "max sigma 77.18542683651856\n",
      "max sigma 64.86570364527445\n",
      "max sigma 60.61767696605568\n",
      "max sigma 51.103463039928634\n",
      "max sigma 65.57311399627251\n",
      "max sigma 51.957008574485144\n",
      "max sigma 77.79609950988197\n",
      "max sigma 63.925650585926824\n",
      "max sigma 62.185920473779255\n",
      "max sigma 80.7370158918307\n",
      "max sigma 59.372571077954944\n",
      "max sigma 69.35830804000527\n",
      "max sigma 73.89121095761841\n",
      "max sigma 56.91021764292964\n",
      "max sigma 62.74301497000048\n",
      "max sigma 56.313755728258535\n",
      "max sigma 70.51931132226746\n",
      "max sigma 70.1534600364317\n",
      "max sigma 59.859072598843944\n",
      "max sigma 74.23669386530912\n",
      "max sigma 74.67543513703178\n",
      "max sigma 76.78059434849206\n",
      "max sigma 76.35758003199165\n",
      "max sigma 62.267568738206215\n",
      "max sigma 67.29073886590022\n",
      "max sigma 61.487010356319615\n",
      "max sigma 59.616712962688666\n",
      "max sigma 82.14750731445861\n",
      "max sigma 82.30664725587913\n",
      "max sigma 63.7084722289845\n",
      "max sigma 65.8953613931618\n",
      "max sigma 74.53871379276013\n",
      "max sigma 63.34127674489347\n",
      "max sigma 76.06168531713854\n",
      "max sigma 75.89359087328326\n",
      "max sigma 58.30096556508587\n",
      "max sigma 67.52131518459346\n",
      "max sigma 74.68658021095568\n",
      "max sigma 51.32105906190444\n",
      "max sigma 52.01539553503653\n",
      "max sigma 55.16707339303897\n",
      "max sigma 67.97304243488838\n",
      "max sigma 79.43085174359635\n",
      "max sigma 57.43030240481411\n",
      "max sigma 51.12516410827152\n",
      "max sigma 64.6437533040574\n",
      "max sigma 58.60687864164762\n",
      "max sigma 61.116644124024525\n",
      "max sigma 67.85840730416915\n",
      "max sigma 65.40272385961025\n",
      "max sigma 75.59195087697408\n",
      "max sigma 81.60424461192531\n",
      "max sigma 57.95660050510495\n",
      "max sigma 61.30065297553514\n",
      "max sigma 58.637702239405826\n",
      "max sigma 78.58043852018682\n",
      "max sigma 53.7845800839242\n",
      "max sigma 61.57752964336081\n",
      "max sigma 62.917126276401405\n",
      "max sigma 55.68547988691618\n",
      "max sigma 50.368885858134526\n",
      "max sigma 60.80456516781745\n",
      "max sigma 74.10073024440044\n",
      "max sigma 63.64101425022966\n",
      "max sigma 51.749253784895586\n",
      "max sigma 52.32894018436415\n",
      "max sigma 58.03780616316317\n",
      "max sigma 50.81041174726423\n",
      "max sigma 54.673396441684645\n",
      "max sigma 56.88274949505516\n",
      "max sigma 65.46736450837416\n",
      "max sigma 61.11328107193807\n",
      "max sigma 72.81722850566757\n",
      "max sigma 72.55001849503424\n",
      "max sigma 53.757699942047985\n",
      "max sigma 77.82869445253623\n",
      "max sigma 78.35516421550967\n",
      "max sigma 53.1466938997772\n",
      "max sigma 58.350724877469894\n",
      "max sigma 60.76884564413717\n",
      "max sigma 50.40196705974957\n",
      "max sigma 81.86259053781593\n",
      "max sigma 78.26621743129829\n",
      "max sigma 52.72131833112769\n",
      "max sigma 62.81204718461803\n",
      "max sigma 60.46866148186435\n",
      "max sigma 62.91858018978356\n",
      "max sigma 54.520708420945574\n",
      "max sigma 60.29405545489434\n",
      "max sigma 68.29955068891734\n",
      "max sigma 60.974426220416\n",
      "max sigma 81.58727594709278\n",
      "max sigma 51.3732080866713\n",
      "max sigma 77.48181813655488\n",
      "max sigma 61.45651135884668\n",
      "max sigma 76.56833118980838\n",
      "max sigma 50.669965883265455\n",
      "max sigma 66.96884103073796\n",
      "max sigma 53.23933490170706\n",
      "max sigma 57.43525976006227\n",
      "max sigma 60.18578450437474\n",
      "max sigma 83.32546798547317\n",
      "max sigma 80.35155724486067\n",
      "max sigma 64.34951296088813\n",
      "max sigma 66.59295340296963\n",
      "max sigma 76.73933766281512\n",
      "max sigma 50.3555759405693\n",
      "max sigma 72.67241229401141\n",
      "max sigma 60.23201643659703\n",
      "max sigma 55.99092226335832\n",
      "max sigma 67.35325028979953\n",
      "max sigma 69.22528516918094\n",
      "max sigma 52.64499459349008\n",
      "max sigma 51.02037088749387\n",
      "max sigma 66.81880055327849\n",
      "max sigma 77.18275411470688\n",
      "max sigma 60.277163940485515\n",
      "max sigma 64.64107385697226\n",
      "max sigma 80.75586948452015\n",
      "max sigma 71.4219264574042\n",
      "max sigma 59.89167172224423\n",
      "max sigma 69.71626488564111\n",
      "max sigma 74.41876502194452\n",
      "max sigma 71.89507475962773\n",
      "max sigma 51.06363998210444\n",
      "max sigma 67.51277985871793\n",
      "max sigma 72.66975867797062\n",
      "max sigma 59.57662930133366\n",
      "max sigma 55.005205277520986\n",
      "max sigma 69.6301744685157\n",
      "max sigma 79.34267180181958\n",
      "max sigma 76.20366355581632\n",
      "max sigma 59.452516046052516\n",
      "max sigma 73.5459624088129\n",
      "max sigma 61.5058685792612\n",
      "max sigma 80.57733744521056\n",
      "max sigma 54.60056836752415\n",
      "max sigma 77.04399401071505\n",
      "max sigma 57.494891072449036\n",
      "max sigma 53.120769607714884\n",
      "max sigma 60.469176405716176\n",
      "max sigma 59.79987676356503\n",
      "max sigma 69.63305595008917\n",
      "max sigma 63.13995505295069\n",
      "max sigma 72.76238437035606\n",
      "max sigma 51.92881883204685\n",
      "max sigma 77.65612675208656\n",
      "max sigma 75.24242133233058\n",
      "max sigma 57.37725399297616\n",
      "Final: 0 [0.09358228130471316, 0.03840482566844782, 0.07136461767128362, 0.10379925369347662] 0.07678774458448032 [False, False, False, True]\n"
     ]
    },
    {
     "name": "stderr",
     "output_type": "stream",
     "text": [
      "\n",
      " 87%|████████▋ | 315/364 [01:24<01:57,  2.40s/it]\u001B[A"
     ]
    },
    {
     "name": "stdout",
     "output_type": "stream",
     "text": [
      "max sigma 64.06702109029084\n",
      "Final: 0 [0.0876992717223834, 0.02712502124748496, 0.06424175830418598, 0.10926067647603606] 0.0720816819375226 [False, False, False, True]\n",
      "max sigma 75.00000998138607\n",
      "max sigma 52.555361463690964\n",
      "max sigma 50.84326019926622\n",
      "max sigma 52.630135521717\n",
      "max sigma 82.59518391714839\n",
      "max sigma 82.74030411156916\n",
      "max sigma 79.80727818752321\n",
      "max sigma 74.95422913795115\n",
      "max sigma 69.94348639306524\n",
      "max sigma 81.75471263555987\n",
      "max sigma 63.888265815346436\n",
      "max sigma 64.49370005771031\n",
      "max sigma 76.60228468817282\n",
      "max sigma 62.526453636872965\n",
      "max sigma 54.092259553149994\n",
      "max sigma 61.629347839156594\n",
      "max sigma 56.04904399440852\n",
      "max sigma 72.05131796752103\n",
      "max sigma 75.51961231523721\n",
      "max sigma 59.124030369865864\n",
      "max sigma 52.30539468855053\n",
      "max sigma 80.31863792425251\n",
      "max sigma 67.15712218931576\n",
      "max sigma 55.56144738097563\n",
      "max sigma 73.13024153652998\n",
      "max sigma 77.29739564324984\n",
      "max sigma 74.8642596873381\n",
      "max sigma 79.33719764938678\n",
      "max sigma 65.22052955831616\n",
      "max sigma 58.54373074437486\n",
      "max sigma 68.88257463639756\n",
      "max sigma 82.43331087037639\n",
      "max sigma 51.770111937617\n",
      "max sigma 55.8887985651985\n",
      "max sigma 62.504969586364076\n",
      "max sigma 70.15764410985173\n",
      "max sigma 67.70612058088314\n",
      "max sigma 61.53139838708622\n",
      "max sigma 69.27040206950339\n",
      "max sigma 61.137975512628635\n",
      "max sigma 67.6579688341626\n",
      "max sigma 51.420458196827745\n",
      "max sigma 65.36780364106123\n",
      "max sigma 50.13330514564276\n",
      "max sigma 65.12435443085549\n",
      "max sigma 55.20139954708319\n",
      "max sigma 73.04189519563931\n",
      "max sigma 80.22142236636914\n",
      "max sigma 68.27987787917841\n",
      "max sigma 67.4260896222922\n",
      "max sigma 73.12044817310475\n",
      "max sigma 80.79229563375618\n",
      "max sigma 54.024042108910976\n",
      "max sigma 82.5186664006065\n",
      "max sigma 71.67340040936192\n",
      "max sigma 73.94443462834818\n",
      "max sigma 56.451323548364975\n",
      "max sigma 75.09370833970934\n",
      "max sigma 69.20985013657457\n",
      "max sigma 53.20436156954096\n",
      "max sigma 67.23950250047903\n",
      "max sigma 61.78821846236383\n",
      "max sigma 66.82607668823414\n",
      "max sigma 78.42023007523146\n",
      "max sigma 81.00858987650524\n",
      "max sigma 74.72365632955302\n",
      "max sigma 78.31504479873895\n",
      "max sigma 69.7019633553635\n",
      "max sigma 72.5708519130515\n",
      "max sigma 77.78273354276246\n",
      "max sigma 66.56301356437284\n",
      "max sigma 52.56213482724596\n",
      "max sigma 66.13742169658754\n",
      "max sigma 59.74735306979176\n",
      "max sigma 81.86504591881105\n",
      "max sigma 81.40764770609208\n",
      "max sigma 60.23225860032221\n",
      "max sigma 59.12330684355652\n",
      "max sigma 53.478343242760616\n",
      "max sigma 75.3566416517267\n",
      "max sigma 59.84618972076593\n",
      "max sigma 57.00259875911172\n",
      "max sigma 82.97108876420047\n",
      "max sigma 82.3399957395759\n",
      "max sigma 75.10648501332219\n",
      "max sigma 76.20563248280594\n",
      "max sigma 76.7545533726424\n",
      "max sigma 65.41909314315603\n",
      "max sigma 67.36996437741902\n",
      "max sigma 70.8512781898487\n",
      "max sigma 69.6366683649291\n",
      "max sigma 59.942119841091994\n",
      "max sigma 59.04927220966673\n",
      "max sigma 69.15856328982606\n",
      "max sigma 75.65576277817426\n",
      "max sigma 67.80202109794936\n",
      "max sigma 73.64342868247547\n",
      "max sigma 50.57256819302123\n",
      "max sigma 66.2683950830223\n",
      "max sigma 72.18320677880422\n",
      "max sigma 65.68522971968748\n",
      "max sigma 72.92038192535631\n",
      "max sigma 68.97928887813555\n",
      "max sigma 77.84770447973749\n",
      "max sigma 68.5481741684659\n",
      "max sigma 72.7894712454053\n",
      "max sigma 51.02036156032583\n",
      "max sigma 57.05704505958246\n",
      "max sigma 50.22589658559453\n",
      "max sigma 76.37522292425297\n",
      "max sigma 67.11170804958893\n",
      "max sigma 67.42755756745203\n",
      "max sigma 74.87062560196807\n",
      "max sigma 68.69524632834596\n",
      "max sigma 81.38098570172455\n",
      "max sigma 59.439152777554874\n",
      "max sigma 59.4658710817641\n",
      "max sigma 77.3552179895637\n",
      "max sigma 62.07049832852465\n",
      "max sigma 70.94789962486648\n",
      "max sigma 76.65460716353523\n",
      "max sigma 81.36659238295924\n",
      "max sigma 77.95301131466935\n",
      "max sigma 64.62944739980405\n",
      "max sigma 74.69061373906986\n",
      "max sigma 61.96782608215941\n",
      "max sigma 75.78814829796954\n",
      "max sigma 64.46307078515758\n",
      "max sigma 82.75253368302474\n",
      "max sigma 66.75770993686972\n",
      "max sigma 54.56002820714949\n",
      "max sigma 66.93116691492465\n",
      "max sigma 59.018595149559324\n",
      "max sigma 65.55220987689995\n",
      "max sigma 76.94426403841904\n",
      "max sigma 60.05187357557626\n",
      "max sigma 66.0810542844227\n",
      "max sigma 80.86876706318328\n",
      "max sigma 55.62560384227788\n",
      "max sigma 53.46629195401488\n",
      "max sigma 51.72649649969511\n",
      "max sigma 79.62451802314233\n",
      "max sigma 70.83046847602907\n",
      "max sigma 76.24539772028398\n",
      "max sigma 56.2530324484649\n",
      "max sigma 78.71025892166574\n",
      "max sigma 62.84528307466034\n",
      "max sigma 71.79001468658389\n",
      "max sigma 73.69187806976345\n",
      "max sigma 73.23135807080041\n",
      "max sigma 77.73871446493983\n",
      "max sigma 68.53158275438204\n",
      "max sigma 65.25591301227784\n",
      "max sigma 64.042072593823\n",
      "max sigma 53.28757402201427\n",
      "max sigma 67.32159288247264\n",
      "max sigma 81.43422589434984\n",
      "max sigma 81.19951911220387\n",
      "max sigma 80.19046919484292\n",
      "max sigma 76.48323750228683\n",
      "max sigma 54.40182728446538\n",
      "max sigma 71.41021072079532\n",
      "max sigma 50.38634981757681\n",
      "max sigma 52.37948630040345\n",
      "max sigma 71.7174883718402\n",
      "max sigma 68.8273140947299\n",
      "max sigma 52.95559896505233\n",
      "max sigma 54.983421272124964\n",
      "max sigma 83.11285003721495\n",
      "max sigma 61.41119628305258\n",
      "max sigma 70.653470888032\n",
      "max sigma 68.66218115833128\n",
      "max sigma 78.15464858866058\n",
      "max sigma 66.80886346593225\n",
      "max sigma 60.939515744184064\n",
      "max sigma 66.38952863134027\n",
      "max sigma 56.96463119497912\n"
     ]
    },
    {
     "name": "stderr",
     "output_type": "stream",
     "text": [
      "\n",
      " 87%|████████▋ | 317/364 [01:37<02:53,  3.70s/it]\u001B[A"
     ]
    },
    {
     "name": "stdout",
     "output_type": "stream",
     "text": [
      "max sigma 57.80004538621419\n",
      "Final: 0 [0.09858406731923582, 0.04956479026093268, 0.08461415029798433, 0.12497429143357433] 0.08943432482793179 [False, False, False, True]\n",
      "max sigma 54.49648559654918\n",
      "Final: 0 [0.03817514200016876, 0.005830216700156384, 0.011667125408687697, 0.05608496024459782] 0.027939361088402663 [False, False, False, False]\n"
     ]
    },
    {
     "name": "stderr",
     "output_type": "stream",
     "text": [
      "\n",
      " 88%|████████▊ | 319/364 [01:37<01:54,  2.55s/it]\u001B[A"
     ]
    },
    {
     "name": "stdout",
     "output_type": "stream",
     "text": [
      "max sigma 62.083630291318435\n",
      "Final: 0 [0.0786299110577436, 0.02158594173162015, 0.05227657083478875, 0.08531159282730184] 0.05945100411286358 [False, False, False, False]\n",
      "max sigma 64.31555680671549\n",
      "Final: 0 [0.0768130804384312, 0.021158089586185314, 0.04885557883672542, 0.12312856124889668] 0.06748882752755966 [False, False, False, True]\n",
      "max sigma 69.8410915674123\n",
      "max sigma 72.69648090288744\n",
      "max sigma 73.63359221883452\n",
      "max sigma 53.782483867341625\n",
      "max sigma 63.01266792815886\n",
      "max sigma 73.02804117747478\n",
      "max sigma 59.16856904030916\n",
      "Final: 1 [0.15362384476874036, 0.09893205334442721, 0.1990263649192342, 0.14192650977837204] 0.14837719320269346 [True, False, True, True]\n"
     ]
    },
    {
     "name": "stderr",
     "output_type": "stream",
     "text": [
      "\n",
      " 88%|████████▊ | 321/364 [01:38<01:19,  1.84s/it]\u001B[A"
     ]
    },
    {
     "name": "stdout",
     "output_type": "stream",
     "text": [
      "max sigma 71.97212004124272\n",
      "max sigma 65.0083349481398\n",
      "max sigma 57.997554885716305\n",
      "Final: 0 [0.08910769623085064, 0.03661206321486768, 0.06570980388810987, 0.14408076218167815] 0.08387758137887659 [False, False, False, True]\n"
     ]
    },
    {
     "name": "stderr",
     "output_type": "stream",
     "text": [
      "\n",
      " 88%|████████▊ | 322/364 [01:38<01:05,  1.55s/it]\u001B[A"
     ]
    },
    {
     "name": "stdout",
     "output_type": "stream",
     "text": [
      "max sigma 65.93876601611355\n",
      "max sigma 71.8182179442216\n",
      "max sigma 54.62746113743867\n",
      "Final: 1 [0.2001029154045457, 0.20129925439958127, 0.36569941800497247, 0.30406604159064204] 0.26779190734993535 [True, True, True, True]\n"
     ]
    },
    {
     "name": "stderr",
     "output_type": "stream",
     "text": [
      "\n",
      " 89%|████████▊ | 323/364 [01:38<00:52,  1.27s/it]\u001B[A"
     ]
    },
    {
     "name": "stdout",
     "output_type": "stream",
     "text": [
      "max sigma 79.13408858241262\n",
      "max sigma 56.517957079458064\n",
      "max sigma 78.23591954807758\n",
      "max sigma 64.67510621139179\n",
      "max sigma 58.128529428170204\n",
      "max sigma 71.9186641296961\n",
      "max sigma 77.5327851232715\n",
      "max sigma 71.42760394807242\n",
      "max sigma 71.297530114709\n",
      "max sigma 72.92933586825234\n",
      "max sigma 62.376589751237475\n",
      "max sigma 50.71164467091213\n",
      "max sigma 70.02558129209608\n",
      "max sigma 74.78346365808231\n",
      "max sigma 54.144233996745925\n",
      "max sigma 58.59836225571178\n",
      "max sigma 66.59875016501128\n",
      "max sigma 55.57457243850308\n",
      "max sigma 77.70617584675544\n",
      "max sigma 58.38662202339848\n",
      "max sigma 67.78406646884048\n",
      "max sigma 58.486175672483114\n",
      "max sigma 59.381031545026836\n",
      "max sigma 82.31178619271118\n",
      "max sigma 58.76103065147644\n",
      "max sigma 81.03680706599016\n",
      "max sigma 65.28233440659305\n",
      "max sigma 73.75993405069244\n",
      "max sigma 79.62900770456861\n",
      "max sigma 58.06350252905069\n",
      "max sigma 60.40101183969356\n",
      "max sigma 61.97136556725123\n",
      "max sigma 57.76822943321164\n",
      "max sigma 77.96236029096501\n"
     ]
    },
    {
     "name": "stderr",
     "output_type": "stream",
     "text": [
      "\n",
      " 89%|████████▉ | 324/364 [01:41<01:01,  1.55s/it]\u001B[A"
     ]
    },
    {
     "name": "stdout",
     "output_type": "stream",
     "text": [
      "max sigma 64.11758553650016\n",
      "max sigma 56.683412250656794\n",
      "Final: 0 [0.0988717052120811, 0.04574965797324454, 0.08781403112654543, 0.08500979254046465] 0.07936129671308392 [False, False, False, False]\n",
      "max sigma 80.68151328603749\n",
      "max sigma 81.3175754531472\n",
      "max sigma 56.2071081712592\n",
      "max sigma 67.28091137427502\n",
      "max sigma 66.72099294769362\n",
      "max sigma 77.33823933042929\n",
      "max sigma 69.22416016471713\n",
      "max sigma 79.2377030460023\n",
      "max sigma 57.822251829481466\n",
      "max sigma 61.05472783798609\n",
      "max sigma 54.03779550392392\n",
      "max sigma 73.01104701111069\n",
      "max sigma 78.02892218032412\n",
      "max sigma 80.4460249883552\n",
      "max sigma 51.658970628695705\n",
      "max sigma 55.31692694219081\n",
      "max sigma 82.39312626438884\n",
      "max sigma 82.67528104224698\n",
      "max sigma 58.20582425906616\n",
      "max sigma 64.79990777934101\n",
      "max sigma 64.82385374270204\n",
      "max sigma 73.74607725802007\n",
      "max sigma 81.0162522377331\n",
      "max sigma 76.08110828693214\n",
      "max sigma 78.09340590791471\n",
      "max sigma 64.75540798310278\n",
      "max sigma 78.1348432712313\n",
      "max sigma 62.22598029123151\n",
      "max sigma 66.3087144691608\n",
      "max sigma 68.89068235473776\n",
      "max sigma 53.76817756131985\n",
      "max sigma 74.3922310723447\n",
      "max sigma 82.79157957050802\n",
      "max sigma 75.41693183377667\n",
      "max sigma 80.35995384680261\n",
      "max sigma 52.50289813875869\n",
      "max sigma 73.10842464795162\n",
      "max sigma 70.62459487311071\n",
      "max sigma 72.83051425332594\n",
      "max sigma 62.57821053691953\n",
      "max sigma 64.99366841273581\n",
      "max sigma 83.19601866938535\n",
      "max sigma 65.72889707637724\n",
      "max sigma 64.62071748597482\n",
      "max sigma 81.67790937910225\n",
      "max sigma 75.75860659838406\n",
      "max sigma 52.47789384680262\n",
      "max sigma 67.25539487829842\n",
      "max sigma 77.45115583333124\n",
      "max sigma 67.98668470682117\n",
      "max sigma 64.97657558491714\n",
      "max sigma 60.87015228481808\n",
      "max sigma 56.902818535669816\n"
     ]
    },
    {
     "name": "stderr",
     "output_type": "stream",
     "text": [
      "\n",
      " 89%|████████▉ | 325/364 [01:44<01:19,  2.03s/it]\u001B[A"
     ]
    },
    {
     "name": "stdout",
     "output_type": "stream",
     "text": [
      "Final: 0 [0.07749826232930102, 0.024283260052517238, 0.06667828477413763, 0.12118191972680019] 0.07241043172068902 [False, False, False, True]\n",
      "max sigma 69.90733058184487\n",
      "max sigma 63.054071180719724\n",
      "max sigma 53.816508323433176\n",
      "max sigma 70.17306027643428\n"
     ]
    },
    {
     "name": "stderr",
     "output_type": "stream",
     "text": [
      "\n",
      " 90%|████████▉ | 326/364 [01:45<01:00,  1.61s/it]\u001B[A"
     ]
    },
    {
     "name": "stdout",
     "output_type": "stream",
     "text": [
      "max sigma 60.18794458496908\n",
      "max sigma 56.1809468519596\n",
      "Final: 0 [0.09692613907409829, 0.06014956912175313, 0.09353926220569538, 0.1110000023344315] 0.09040374318399458 [False, False, False, True]\n",
      "max sigma 68.32981608534124\n",
      "max sigma 72.65202557011658\n",
      "max sigma 66.6057648317028\n",
      "max sigma 72.54642255060958\n",
      "max sigma 59.58912201451168\n",
      "max sigma 58.45330752405073\n",
      "max sigma 68.21610629452823\n",
      "max sigma 81.72328734864907\n",
      "max sigma 64.7142775406888\n",
      "max sigma 66.49436662685734\n",
      "max sigma 55.34181533944237\n",
      "max sigma 66.73802321786711\n",
      "max sigma 52.83828627448039\n",
      "max sigma 74.12292802369502\n",
      "max sigma 59.55050277529093\n",
      "max sigma 73.80498109754383\n",
      "max sigma 68.67896685264175\n"
     ]
    },
    {
     "name": "stderr",
     "output_type": "stream",
     "text": [
      "\n",
      " 90%|████████▉ | 327/364 [01:46<00:55,  1.50s/it]\u001B[A"
     ]
    },
    {
     "name": "stdout",
     "output_type": "stream",
     "text": [
      "max sigma 55.85045362950601\n",
      "Final: 0 [0.05733974947424416, 0.01242935490099777, 0.03480362369799027, 0.07891280711279375] 0.04587138379650649 [False, False, False, False]\n",
      "max sigma 76.715391159908\n",
      "max sigma 74.26846573564228\n",
      "max sigma 67.62130283823876\n",
      "max sigma 73.63424157748098\n",
      "max sigma 50.25514895766029\n",
      "max sigma 76.91481657310658\n",
      "max sigma 64.67865101388095\n",
      "max sigma 65.03415297865301\n",
      "max sigma 68.09211653152886\n",
      "max sigma 64.29105648642803\n",
      "max sigma 63.68231698911715\n",
      "max sigma 80.14453865126347\n",
      "max sigma 67.5801061073693\n",
      "max sigma 55.16642489165137\n",
      "max sigma 61.565915011733146\n",
      "max sigma 52.03257426569409\n",
      "max sigma 73.51378248672495\n",
      "max sigma 78.04829842990046\n",
      "max sigma 83.00166125111434\n",
      "max sigma 60.34766613328289\n",
      "max sigma 59.171387466111014\n",
      "max sigma 65.96843917880028\n",
      "max sigma 58.14578045677744\n",
      "max sigma 63.28514309222476\n",
      "max sigma 71.99587201629629\n",
      "max sigma 75.0497376575568\n",
      "max sigma 82.21041210466767\n",
      "max sigma 80.94430976653814\n",
      "max sigma 70.50345287380567\n",
      "max sigma 75.60087899322211\n",
      "max sigma 70.24220951834627\n",
      "max sigma 76.8277358826504\n",
      "max sigma 75.97320841266135\n",
      "max sigma 55.479688458552765\n"
     ]
    },
    {
     "name": "stderr",
     "output_type": "stream",
     "text": [
      "\n",
      " 90%|█████████ | 328/364 [01:48<01:02,  1.73s/it]\u001B[A"
     ]
    },
    {
     "name": "stdout",
     "output_type": "stream",
     "text": [
      "max sigma 55.36174643841309\n",
      "Final: 0 [0.054939033526683105, 0.011377037851337266, 0.032599490234614246, 0.10383353575602348] 0.05068727434216452 [False, False, False, True]\n",
      "max sigma 61.019865232450876\n",
      "max sigma 67.3411360554356\n"
     ]
    },
    {
     "name": "stderr",
     "output_type": "stream",
     "text": [
      "\n",
      " 90%|█████████ | 329/364 [01:49<00:46,  1.32s/it]\u001B[A"
     ]
    },
    {
     "name": "stdout",
     "output_type": "stream",
     "text": [
      "max sigma 72.81442732969629\n",
      "max sigma 55.03839275220431\n",
      "Final: 0 [0.05665506330744894, 0.02663675536656881, 0.03838693651897952, 0.06440955888908138] 0.046522078520519664 [False, False, False, False]\n",
      "max sigma 55.609055723154334\n",
      "max sigma 72.36013829743524\n",
      "max sigma 62.55661788484091\n",
      "max sigma 70.68300118438431\n",
      "max sigma 67.90970195222194\n",
      "max sigma 62.06290460170146\n",
      "max sigma 80.34721969159075\n",
      "max sigma 53.99299873241538\n",
      "Final: 1 [0.11595576017488164, 0.07119343952502134, 0.13115192059907987, 0.14827337374871719] 0.116643623511925 [True, False, True, True]\n"
     ]
    },
    {
     "name": "stderr",
     "output_type": "stream",
     "text": [
      "\n",
      " 91%|█████████ | 330/364 [01:49<00:37,  1.09s/it]\u001B[A"
     ]
    },
    {
     "name": "stdout",
     "output_type": "stream",
     "text": [
      "max sigma 58.65590090750334\n",
      "max sigma 81.74727091507286\n",
      "max sigma 68.36015824728713\n",
      "max sigma 70.00169528955071\n",
      "max sigma 76.38553243654962\n",
      "max sigma 60.47865510688291\n",
      "max sigma 54.383792250159935\n",
      "Final: 0 [0.0736314308010832, 0.02969154299636935, 0.04901342729652551, 0.06294029669289189] 0.05381917444671749 [False, False, False, False]\n"
     ]
    },
    {
     "name": "stderr",
     "output_type": "stream",
     "text": [
      "\n",
      " 91%|█████████ | 331/364 [01:50<00:30,  1.10it/s]\u001B[A"
     ]
    },
    {
     "name": "stdout",
     "output_type": "stream",
     "text": [
      "max sigma 58.80159196072835\n",
      "max sigma 57.48637450162531\n",
      "max sigma 57.45591956350942\n",
      "max sigma 59.83958499068016\n",
      "max sigma 74.03139948176022\n",
      "max sigma 58.63918222124622\n",
      "max sigma 69.99475713331803\n",
      "max sigma 58.34199971452699\n",
      "max sigma 65.21042324183834\n",
      "max sigma 78.6628226452289\n",
      "max sigma 56.01700249223802\n",
      "max sigma 71.11770512727087\n",
      "max sigma 73.93071831904831\n",
      "max sigma 58.307086473494415\n",
      "max sigma 55.41300411728552\n",
      "max sigma 54.67033477472694\n",
      "Final: 0 [0.06972430637033805, 0.017192424527215224, 0.053258609250482536, 0.0702094181392886] 0.052596189571831105 [False, False, False, False]\n"
     ]
    },
    {
     "name": "stderr",
     "output_type": "stream",
     "text": [
      "\n",
      " 91%|█████████ | 332/364 [01:51<00:30,  1.05it/s]\u001B[A\n",
      " 92%|█████████▏| 334/364 [01:51<00:16,  1.81it/s]\u001B[A"
     ]
    },
    {
     "name": "stdout",
     "output_type": "stream",
     "text": [
      "max sigma 52.05929378350788\n",
      "Final: 1 [0.17553165076109467, 0.14123250451892963, 0.26183871718719703, 0.3135750978209423] 0.22304449257204093 [True, True, True, True]\n",
      "max sigma 51.65042960580919\n",
      "Final: 1 [0.12420231768352526, 0.07134272728328944, 0.1382266873187512, 0.1427757905342459] 0.11913688070495296 [True, False, True, True]\n",
      "max sigma 65.27302040549175\n",
      "max sigma 79.66037033839257\n",
      "max sigma 61.00130094572387\n",
      "max sigma 57.919152508759375\n",
      "max sigma 59.81110605392405\n",
      "max sigma 61.74508730336663\n",
      "max sigma 69.2772104566493\n",
      "max sigma 56.08230274726551\n",
      "max sigma 68.76250097591817\n",
      "max sigma 67.61065647843641\n",
      "max sigma 55.09420191184415\n",
      "max sigma 61.9283105379036\n",
      "max sigma 52.940476957738234\n",
      "Final: 0 [0.07749441235283522, 0.02748010956947605, 0.06216871468227787, 0.09755381847005343] 0.06617426376866065 [False, False, False, False]\n"
     ]
    },
    {
     "name": "stderr",
     "output_type": "stream",
     "text": [
      "\n",
      " 92%|█████████▏| 335/364 [01:52<00:18,  1.58it/s]\u001B[A\n",
      " 92%|█████████▏| 336/364 [01:52<00:14,  1.98it/s]\u001B[A"
     ]
    },
    {
     "name": "stdout",
     "output_type": "stream",
     "text": [
      "max sigma 66.30412116673672\n",
      "max sigma 54.34315766870816\n",
      "Final: 1 [0.1867148874156358, 0.1300804353782101, 0.3085002746086944, 0.25274234386203864] 0.21950948531614473 [True, True, True, True]\n",
      "max sigma 81.8522865858766\n",
      "max sigma 59.305422137678875\n"
     ]
    },
    {
     "name": "stderr",
     "output_type": "stream",
     "text": [
      "\n",
      " 93%|█████████▎| 337/364 [01:52<00:11,  2.36it/s]\u001B[A"
     ]
    },
    {
     "name": "stdout",
     "output_type": "stream",
     "text": [
      "max sigma 55.65153336085143\n",
      "Final: 1 [0.141224810146725, 0.08188334030636368, 0.1764576118986969, 0.1885208541499616] 0.1470216541254368 [True, False, True, True]\n",
      "max sigma 74.35839889461101\n",
      "max sigma 65.12762193483616\n"
     ]
    },
    {
     "name": "stderr",
     "output_type": "stream",
     "text": [
      "\n",
      " 93%|█████████▎| 338/364 [01:52<00:09,  2.75it/s]\u001B[A"
     ]
    },
    {
     "name": "stdout",
     "output_type": "stream",
     "text": [
      "max sigma 52.49403274326016\n",
      "Final: 1 [0.15200224950452337, 0.10008868142010836, 0.1881472772553799, 0.2746653219772761] 0.17872588253932195 [True, True, True, True]\n",
      "max sigma 50.677170651252936\n",
      "Final: 0 [0.03770835972497932, 0.005637377924969467, 0.011389758582372417, 0.07745954391835509] 0.03304876003766907 [False, False, False, False]\n",
      "max sigma 69.5846217536531\n",
      "max sigma 50.14245557626733\n",
      "max sigma 50.85526259422852\n",
      "max sigma 54.96333883716405\n",
      "max sigma 63.34685921279068\n",
      "max sigma 81.62762784647684\n",
      "max sigma 56.68862486448222\n",
      "max sigma 58.60256374179509\n",
      "max sigma 79.06153987086316\n",
      "max sigma 82.31561212624592\n",
      "max sigma 82.4364752807874\n",
      "max sigma 77.95496302649804\n",
      "max sigma 58.06283201438896\n",
      "max sigma 58.54902709941056\n",
      "max sigma 82.94174781454414\n",
      "max sigma 77.51832739893355\n",
      "max sigma 52.3453623280152\n",
      "max sigma 68.099629760001\n",
      "max sigma 75.36323053298058\n",
      "max sigma 62.57838352348559\n",
      "max sigma 82.65952000366777\n",
      "max sigma 51.32306912721587\n",
      "max sigma 70.80864036792688\n",
      "max sigma 54.716441485791314\n",
      "max sigma 60.22495541179762\n",
      "max sigma 62.83125084169353\n",
      "max sigma 72.42584669719515\n",
      "max sigma 66.83932142454289\n",
      "max sigma 76.04267682536631\n",
      "max sigma 50.70440890702677\n",
      "max sigma 61.44661383921751\n",
      "max sigma 54.419818950200955\n",
      "Final: 0 [0.08637673809341795, 0.03427966485949296, 0.06421933316132467, 0.1770390376534204] 0.090478693441914 [False, False, False, True]\n"
     ]
    },
    {
     "name": "stderr",
     "output_type": "stream",
     "text": [
      "\n",
      " 93%|█████████▎| 340/364 [01:54<00:16,  1.46it/s]\u001B[A"
     ]
    },
    {
     "name": "stdout",
     "output_type": "stream",
     "text": [
      "max sigma 78.2642489662868\n",
      "max sigma 61.560143302151346\n",
      "max sigma 58.159241699664335\n",
      "max sigma 75.51056809547799\n",
      "max sigma 51.41816824136405\n",
      "max sigma 73.83271946782952\n",
      "max sigma 66.36861158591951\n",
      "max sigma 81.25422544566895\n",
      "max sigma 61.75253651858164\n",
      "max sigma 51.142839565304676\n",
      "max sigma 62.88437195552888\n",
      "max sigma 66.02419866390464\n"
     ]
    },
    {
     "name": "stderr",
     "output_type": "stream",
     "text": [
      "\n",
      " 94%|█████████▎| 341/364 [01:55<00:17,  1.34it/s]\u001B[A"
     ]
    },
    {
     "name": "stdout",
     "output_type": "stream",
     "text": [
      "max sigma 79.52679987130459\n",
      "max sigma 53.84455875680768\n",
      "Final: 0 [0.08047888402827424, 0.02741040988701112, 0.052749873121772796, 0.05718781821162445] 0.05445674631217065 [False, False, False, False]\n",
      "max sigma 73.14175607032462\n",
      "max sigma 57.45753923590738\n",
      "max sigma 74.16305625598284\n",
      "max sigma 80.35983150761528\n",
      "max sigma 54.74372879105704\n"
     ]
    },
    {
     "name": "stderr",
     "output_type": "stream",
     "text": [
      "\n",
      " 94%|█████████▍| 342/364 [01:56<00:14,  1.56it/s]\u001B[A"
     ]
    },
    {
     "name": "stdout",
     "output_type": "stream",
     "text": [
      "Final: 1 [0.11296530808996093, 0.05386222107098851, 0.10779898455715685, 0.1257940841464384] 0.10010514946613618 [True, False, True, True]\n",
      "max sigma 56.27758542737396\n",
      "Final: 0 [0.061100454493155536, 0.012768881913232395, 0.035676419374245726, 0.034519554478350846] 0.036016327564746126 [False, False, False, False]\n",
      "max sigma 76.35260445746599\n",
      "max sigma 61.82006250713869\n",
      "max sigma 56.17992180531405\n",
      "max sigma 72.54994923389272\n",
      "max sigma 63.20530554940194\n",
      "max sigma 77.03722496314815\n",
      "max sigma 75.4303883170054\n",
      "max sigma 52.911403612236576\n",
      "max sigma 56.97289535986166\n",
      "max sigma 62.00886224396527\n",
      "max sigma 69.7726440581318\n",
      "max sigma 76.14156857676778\n",
      "max sigma 70.652618386918\n",
      "max sigma 78.47493905835329\n",
      "max sigma 78.87703470043353\n",
      "max sigma 70.23904946522934\n",
      "max sigma 79.5221765948744\n",
      "max sigma 77.96034124931566\n"
     ]
    },
    {
     "name": "stderr",
     "output_type": "stream",
     "text": [
      "\n",
      " 95%|█████████▍| 344/364 [01:57<00:13,  1.53it/s]\u001B[A"
     ]
    },
    {
     "name": "stdout",
     "output_type": "stream",
     "text": [
      "max sigma 53.78383595059457\n",
      "Final: 0 [0.09201106799809046, 0.03641068363013415, 0.07759038869326727, 0.10108589984097102] 0.07677451004061572 [False, False, False, True]\n",
      "max sigma 69.68873450171952\n",
      "max sigma 75.554267791239\n",
      "max sigma 75.29368408814373\n"
     ]
    },
    {
     "name": "stderr",
     "output_type": "stream",
     "text": [
      "\n",
      " 95%|█████████▍| 345/364 [01:57<00:10,  1.77it/s]\u001B[A"
     ]
    },
    {
     "name": "stdout",
     "output_type": "stream",
     "text": [
      "max sigma 56.03476627624203\n",
      "Final: 1 [0.2026055448926, 0.14922857270459014, 0.38961824562542885, 0.23343038599402097] 0.24372068730416 [True, True, True, True]\n",
      "max sigma 80.84827106532725\n",
      "max sigma 53.31903154573274\n",
      "max sigma 60.487383078569145\n",
      "max sigma 67.27785311511923\n",
      "max sigma 60.06952489564037\n",
      "max sigma 58.23607748457683\n",
      "max sigma 61.41789179038847\n",
      "max sigma 61.01917998554018\n",
      "max sigma 54.258324761665826\n"
     ]
    },
    {
     "name": "stderr",
     "output_type": "stream",
     "text": [
      "\n",
      " 95%|█████████▌| 346/364 [01:58<00:10,  1.71it/s]\u001B[A"
     ]
    },
    {
     "name": "stdout",
     "output_type": "stream",
     "text": [
      "Final: 0 [0.08847689256070729, 0.032349572832386105, 0.071531412265628, 0.08275482336032149] 0.06877817525476071 [False, False, False, False]\n",
      "max sigma 77.72913665456481\n",
      "max sigma 53.519578499170734\n",
      "max sigma 52.16754526064195\n",
      "max sigma 77.42752463355096\n",
      "max sigma 56.61056830752568\n",
      "max sigma 78.01904139753908\n",
      "max sigma 50.69718206671894\n",
      "max sigma 62.12342662023779\n",
      "max sigma 59.14518976708526\n",
      "max sigma 77.86432316855765\n",
      "max sigma 74.68320657122642\n",
      "max sigma 67.0289682332005\n",
      "max sigma 66.87099239207282\n",
      "max sigma 78.62784114601955\n",
      "max sigma 58.96642873790464\n",
      "max sigma 56.702484884034334\n",
      "max sigma 72.15460044515851\n",
      "max sigma 82.27550929248218\n",
      "max sigma 71.68776485149688\n",
      "max sigma 57.37091756642534\n",
      "max sigma 61.01449098610025\n",
      "max sigma 52.69706734732487\n",
      "max sigma 82.775576022515\n",
      "max sigma 55.20653165437469\n"
     ]
    },
    {
     "name": "stderr",
     "output_type": "stream",
     "text": [
      "\n",
      " 95%|█████████▌| 347/364 [02:00<00:14,  1.18it/s]\u001B[A"
     ]
    },
    {
     "name": "stdout",
     "output_type": "stream",
     "text": [
      "Final: 0 [0.06899849134292024, 0.022618142880659203, 0.046530041104914724, 0.06942896887671225] 0.0518939110513016 [False, False, False, False]\n",
      "max sigma 52.560199430404815\n",
      "Final: 0 [0.03131583918904692, 0.003958523995540128, 0.007863417970573907, 0.04560338984722728] 0.02218529275059706 [False, False, False, False]\n",
      "max sigma 81.43743572272501\n",
      "max sigma 56.577133350529344\n",
      "max sigma 56.0721849066559\n",
      "max sigma 81.9942378807386\n",
      "max sigma 64.15981127297225\n",
      "max sigma 57.13420489051498\n",
      "max sigma 67.27561931417524\n",
      "max sigma 78.7199328222459\n",
      "max sigma 52.6257477977756\n",
      "max sigma 81.00154633577363\n",
      "max sigma 66.56148358935654\n",
      "max sigma 77.9830375356546\n",
      "max sigma 76.36067037276337\n",
      "max sigma 53.5059118271289\n",
      "max sigma 63.289796810318\n"
     ]
    },
    {
     "name": "stderr",
     "output_type": "stream",
     "text": [
      "\n",
      " 96%|█████████▌| 349/364 [02:01<00:11,  1.35it/s]\u001B[A"
     ]
    },
    {
     "name": "stdout",
     "output_type": "stream",
     "text": [
      "max sigma 83.13696111208253\n",
      "max sigma 55.55897587995374\n",
      "Final: 0 [0.0714186308551255, 0.024819978301095464, 0.04520741148501868, 0.07863985560849525] 0.055021469062433714 [False, False, False, False]\n",
      "max sigma 78.14257662443174\n",
      "max sigma 60.00340589781729\n",
      "max sigma 58.919614434881474\n",
      "max sigma 64.11221717003347\n",
      "max sigma 72.44723365225487\n",
      "max sigma 50.99544097280303\n",
      "max sigma 72.8265345919702\n",
      "max sigma 68.24416786346285\n",
      "max sigma 63.29111003289855\n",
      "max sigma 50.85069374743383\n",
      "max sigma 79.45622511258632\n",
      "max sigma 77.57433080550959\n",
      "max sigma 67.2923842531308\n",
      "max sigma 59.281403676472905\n",
      "max sigma 74.70697761571869\n",
      "max sigma 67.6203645099062\n",
      "max sigma 61.611296606005375\n"
     ]
    },
    {
     "name": "stderr",
     "output_type": "stream",
     "text": [
      "\n",
      " 96%|█████████▌| 350/364 [02:02<00:12,  1.16it/s]\u001B[A"
     ]
    },
    {
     "name": "stdout",
     "output_type": "stream",
     "text": [
      "max sigma 80.01552340500541\n",
      "max sigma 53.03014958142959\n",
      "Final: 1 [0.15164866251954767, 0.10306834039739636, 0.2002748186640705, 0.26667808083179834] 0.1804174756032032 [True, True, True, True]\n",
      "max sigma 77.22692251007841\n",
      "max sigma 71.18767879586869\n",
      "max sigma 80.19130373847399\n",
      "max sigma 63.259836196597426\n",
      "max sigma 51.62488193620413\n",
      "max sigma 76.85542540692386\n",
      "max sigma 79.1699079564712\n",
      "max sigma 59.91183650470415\n",
      "max sigma 66.6024129642753\n",
      "max sigma 63.25759807119251\n",
      "max sigma 57.7295028049233\n",
      "max sigma 82.30767837057313\n",
      "max sigma 81.57680677454573\n",
      "max sigma 50.628165018422614\n",
      "max sigma 69.10007034210271\n",
      "max sigma 50.387719619338064\n",
      "max sigma 69.92001890443764\n",
      "max sigma 64.36688320324413\n",
      "max sigma 53.153307112288154\n",
      "max sigma 59.23129005189253\n",
      "max sigma 52.16448339626197\n"
     ]
    },
    {
     "name": "stderr",
     "output_type": "stream",
     "text": [
      "\n",
      " 96%|█████████▋| 351/364 [02:04<00:13,  1.02s/it]\u001B[A"
     ]
    },
    {
     "name": "stdout",
     "output_type": "stream",
     "text": [
      "max sigma 79.32454812316682\n",
      "max sigma 54.090040048335105\n",
      "Final: 0 [0.045355167943585496, 0.007410096456279479, 0.02175522004064257, 0.04347904012915203] 0.029499881142414894 [False, False, False, False]\n",
      "max sigma 51.892781602502545\n",
      "Final: 0 [0.02720989047105892, 0.003000029412932574, 0.00592951016047003, 0.032132724650337834] 0.01706803867369984 [False, False, False, False]\n",
      "max sigma 62.320348189312426\n",
      "max sigma 70.41236769101879\n",
      "max sigma 52.56165015023638\n",
      "Final: 1 [0.14451425663646988, 0.09785719969439484, 0.18439548896650948, 0.18315574172706148] 0.1524806717561089 [True, False, True, True]\n"
     ]
    },
    {
     "name": "stderr",
     "output_type": "stream",
     "text": [
      "\n",
      " 97%|█████████▋| 353/364 [02:04<00:07,  1.53it/s]\u001B[A"
     ]
    },
    {
     "name": "stdout",
     "output_type": "stream",
     "text": [
      "max sigma 66.01246641533037\n",
      "max sigma 65.67454601734494\n",
      "max sigma 55.27933421744998\n",
      "max sigma 55.622204547956166\n",
      "max sigma 57.60730399851051\n",
      "max sigma 50.99707240582817\n",
      "max sigma 70.9893668111359\n",
      "max sigma 65.86606462012601\n",
      "max sigma 60.248641524060226\n",
      "max sigma 69.17830330752138\n",
      "max sigma 64.84121129692949\n",
      "max sigma 76.42898506724787\n",
      "max sigma 71.73569536899724\n",
      "max sigma 55.37545056488276\n",
      "max sigma 54.379470549412645\n",
      "max sigma 66.90731848114574\n",
      "max sigma 56.90156841943459\n",
      "max sigma 67.2137302375611\n",
      "max sigma 55.8982877554948\n",
      "max sigma 68.3985942022427\n"
     ]
    },
    {
     "name": "stderr",
     "output_type": "stream",
     "text": [
      "\n",
      " 97%|█████████▋| 354/364 [02:05<00:08,  1.20it/s]\u001B[A"
     ]
    },
    {
     "name": "stdout",
     "output_type": "stream",
     "text": [
      "max sigma 50.439794832429584\n",
      "max sigma 53.3624379648752\n",
      "Final: 0 [0.0689117652012229, 0.03156225552137422, 0.05118858257292225, 0.07828871430415058] 0.057487829399917485 [False, False, False, False]\n",
      "max sigma 52.31446117094291\n"
     ]
    },
    {
     "name": "stderr",
     "output_type": "stream",
     "text": [
      "\n",
      " 98%|█████████▊| 356/364 [02:05<00:04,  1.83it/s]\u001B[A"
     ]
    },
    {
     "name": "stdout",
     "output_type": "stream",
     "text": [
      "Final: 0 [0.02419389450126279, 0.0023386194874948814, 0.004686445937018625, 0.023523360066150707] 0.013685579997981749 [False, False, False, False]\n",
      "max sigma 75.05009784410561\n",
      "max sigma 52.91742196291716\n",
      "Final: 0 [0.05957122902787538, 0.01451213620823389, 0.03282071632680729, 0.06335423369474738] 0.042564578814415985 [False, False, False, False]\n",
      "max sigma 57.00877135333826\n",
      "max sigma 68.34011336545423\n",
      "max sigma 64.13933227246662\n",
      "max sigma 52.3494822242753\n",
      "Final: 0 [0.08040857641630825, 0.03208744496047253, 0.056799260177349126, 0.08641653310125921] 0.06392795366384728 [False, False, False, False]\n"
     ]
    },
    {
     "name": "stderr",
     "output_type": "stream",
     "text": [
      "\n",
      " 98%|█████████▊| 357/364 [02:06<00:03,  2.06it/s]\u001B[A"
     ]
    },
    {
     "name": "stdout",
     "output_type": "stream",
     "text": [
      "max sigma 79.89617575480008\n",
      "max sigma 50.66514984627842\n",
      "max sigma 63.51896003822382\n",
      "max sigma 63.28991775887474\n",
      "max sigma 51.50545428810707\n",
      "max sigma 67.06234959442088\n",
      "max sigma 50.393258201059744\n",
      "max sigma 78.14332694545335\n",
      "max sigma 59.282725800823755\n",
      "max sigma 69.08973632366762\n",
      "max sigma 70.62558367211231\n",
      "max sigma 79.01283992559036\n",
      "max sigma 76.90488889176011\n",
      "max sigma 75.53232098299183\n",
      "max sigma 79.48517277534586\n",
      "max sigma 57.698127047521474\n",
      "max sigma 81.16914102347896\n",
      "max sigma 77.77362516370836\n",
      "max sigma 77.84190168300643\n",
      "max sigma 64.32650590684398\n",
      "max sigma 82.9305929859097\n",
      "max sigma 83.0136060467534\n",
      "max sigma 80.77429757746017\n",
      "max sigma 68.90097725963312\n",
      "max sigma 61.80252556339345\n",
      "max sigma 55.56534108963024\n",
      "max sigma 76.09151873691401\n",
      "max sigma 57.727079078708094\n",
      "max sigma 57.40400348614298\n",
      "max sigma 74.91430938616043\n",
      "max sigma 54.79223827051616\n",
      "max sigma 58.85171973575424\n",
      "max sigma 63.16374781375779\n",
      "max sigma 59.91126776642674\n",
      "max sigma 63.59101452991604\n",
      "max sigma 73.8404674704534\n",
      "max sigma 80.65670554314117\n",
      "max sigma 57.01554192966254\n",
      "max sigma 82.60787161493829\n",
      "max sigma 80.98504151886827\n",
      "max sigma 58.815543494143675\n",
      "max sigma 65.85347024342263\n",
      "max sigma 63.337647997475905\n",
      "max sigma 81.83016920694028\n",
      "max sigma 74.06614803482269\n",
      "max sigma 75.51920061415683\n",
      "max sigma 54.33829181088205\n",
      "max sigma 77.37035067667391\n",
      "max sigma 55.334170953477496\n",
      "max sigma 59.872452743234476\n",
      "max sigma 66.05374334443559\n",
      "max sigma 63.87253326439865\n",
      "max sigma 81.43085495600731\n",
      "max sigma 75.69445413141652\n",
      "max sigma 68.60263342889657\n",
      "max sigma 57.409795570374136\n",
      "max sigma 80.41397906613633\n"
     ]
    },
    {
     "name": "stderr",
     "output_type": "stream",
     "text": [
      "\n",
      " 98%|█████████▊| 358/364 [02:10<00:07,  1.31s/it]\u001B[A"
     ]
    },
    {
     "name": "stdout",
     "output_type": "stream",
     "text": [
      "max sigma 51.9501694689047\n",
      "Final: 0 [0.08063576794559084, 0.030844547087881997, 0.06476387131649783, 0.0776659203997288] 0.06347752668742487 [False, False, False, False]\n",
      "max sigma 77.34511869439787\n",
      "max sigma 56.804722789027664\n",
      "max sigma 58.84247955022863\n",
      "max sigma 72.40003583204562\n",
      "max sigma 66.44346372999728\n",
      "max sigma 74.18380158505556\n",
      "max sigma 64.55598661781148\n",
      "max sigma 75.58201674008463\n",
      "max sigma 82.24682967695112\n",
      "max sigma 81.49412510890402\n",
      "max sigma 65.83938620573842\n",
      "max sigma 71.20487342560087\n",
      "max sigma 67.24948161969398\n",
      "max sigma 78.74758538039703\n"
     ]
    },
    {
     "name": "stderr",
     "output_type": "stream",
     "text": [
      "\n",
      " 99%|█████████▊| 359/364 [02:11<00:06,  1.23s/it]\u001B[A"
     ]
    },
    {
     "name": "stdout",
     "output_type": "stream",
     "text": [
      "max sigma 51.56067371714702\n",
      "Final: 0 [0.08400531335183704, 0.04121448927407797, 0.07750249978285262, 0.10196013772466947] 0.07617061003335927 [False, False, False, True]\n",
      "max sigma 56.860185775392246\n",
      "max sigma 58.15218665385078\n",
      "max sigma 56.105385430429465\n",
      "max sigma 72.86527856638475\n",
      "max sigma 80.71454383107789\n",
      "max sigma 56.85462889773146\n",
      "max sigma 50.692318477645394\n",
      "max sigma 68.0006015165801\n",
      "max sigma 69.75007865314774\n",
      "max sigma 57.166452998324836\n",
      "max sigma 72.29260124191303\n",
      "max sigma 54.350450285654496\n",
      "max sigma 73.88928094200173\n",
      "max sigma 55.517802255743085\n",
      "max sigma 78.36157583679619\n",
      "max sigma 77.50873173027503\n",
      "max sigma 79.31265087193647\n",
      "max sigma 53.66907827423673\n",
      "max sigma 61.990840906517256\n",
      "max sigma 78.37504809050169\n",
      "max sigma 82.97204764268702\n",
      "max sigma 73.21448037644025\n",
      "max sigma 50.981499021426124\n",
      "max sigma 54.89615105255219\n",
      "max sigma 62.249422133618815\n",
      "max sigma 61.02090915389007\n",
      "max sigma 70.81186360370175\n",
      "max sigma 61.63244292329065\n",
      "max sigma 70.70631588251292\n",
      "max sigma 71.29095304793789\n",
      "max sigma 78.59601866578146\n",
      "max sigma 65.22174089556829\n",
      "max sigma 56.37432547454504\n",
      "max sigma 53.788802480523145\n",
      "max sigma 61.39685773008447\n",
      "max sigma 70.43082072221777\n",
      "max sigma 64.40834914672412\n",
      "max sigma 60.40386185275933\n",
      "max sigma 75.60330126602135\n"
     ]
    },
    {
     "name": "stderr",
     "output_type": "stream",
     "text": [
      "\n",
      " 99%|█████████▉| 360/364 [02:13<00:06,  1.63s/it]\u001B[A"
     ]
    },
    {
     "name": "stdout",
     "output_type": "stream",
     "text": [
      "max sigma 53.12117836458757\n",
      "max sigma 51.929887981711545\n",
      "Final: 0 [0.05314163813326549, 0.014561282487302948, 0.04674268995491661, 0.023400934729593644] 0.03446163632626967 [False, False, False, False]\n",
      "max sigma 72.59266067905976\n",
      "max sigma 72.15491157062809\n",
      "max sigma 79.37816645516038\n",
      "max sigma 66.09870750140612\n",
      "max sigma 79.67819525738985\n",
      "max sigma 61.569730447431425\n",
      "max sigma 59.5447820805114\n",
      "max sigma 72.48135303290223\n",
      "max sigma 70.04959254678431\n"
     ]
    },
    {
     "name": "stderr",
     "output_type": "stream",
     "text": [
      "\n",
      " 99%|█████████▉| 361/364 [02:14<00:04,  1.38s/it]\u001B[A"
     ]
    },
    {
     "name": "stdout",
     "output_type": "stream",
     "text": [
      "max sigma 76.2790283153488\n",
      "max sigma 50.392913408244375\n",
      "Final: 1 [0.13064922419618366, 0.08549507405873726, 0.1485740018846183, 0.21750364136779982] 0.14555548537683477 [True, False, True, True]\n",
      "max sigma 68.38744461678561\n",
      "max sigma 51.615957315738946\n",
      "max sigma 54.47976748526821\n",
      "max sigma 55.66852234586512\n",
      "max sigma 57.98351023741611\n",
      "max sigma 80.28563274054493\n",
      "max sigma 58.45282011085525\n",
      "max sigma 67.82606856548425\n",
      "max sigma 63.8024289541886\n",
      "max sigma 72.04774829574042\n",
      "max sigma 76.7962673510031\n",
      "max sigma 59.53335846260264\n",
      "max sigma 59.23458970370681\n",
      "max sigma 66.17818034388635\n",
      "max sigma 78.54911809800456\n",
      "max sigma 77.02133602654528\n",
      "max sigma 53.20239001412184\n",
      "Final: 1 [0.21228160285586528, 0.15069006855268954, 0.43072982820752814, 0.2681093240876569] 0.26545270592593495 [True, True, True, True]\n"
     ]
    },
    {
     "name": "stderr",
     "output_type": "stream",
     "text": [
      "\n",
      " 99%|█████████▉| 362/364 [02:15<00:02,  1.31s/it]\u001B[A"
     ]
    },
    {
     "name": "stdout",
     "output_type": "stream",
     "text": [
      "max sigma 65.12593193797436\n",
      "max sigma 66.26379013152557\n",
      "max sigma 62.62785854345145\n",
      "max sigma 78.30292204978564\n",
      "max sigma 82.97955784295516\n",
      "max sigma 65.0342730104175\n",
      "max sigma 68.92538459415341\n",
      "max sigma 63.28341786997263\n",
      "max sigma 65.5426527726728\n",
      "max sigma 76.33938351951933\n"
     ]
    },
    {
     "name": "stderr",
     "output_type": "stream",
     "text": [
      "\n",
      "100%|█████████▉| 363/364 [02:16<00:01,  1.17s/it]\u001B[A"
     ]
    },
    {
     "name": "stdout",
     "output_type": "stream",
     "text": [
      "max sigma 59.166523628280515\n",
      "max sigma 53.45962283654876\n",
      "Final: 1 [0.1082121797787155, 0.049724689324772274, 0.09884348725013307, 0.1655391033888015] 0.10557986493560559 [False, False, True, True]\n"
     ]
    },
    {
     "name": "stderr",
     "output_type": "stream",
     "text": [
      "\n",
      "100%|██████████| 364/364 [02:16<00:00,  2.66it/s]\u001B[A\n"
     ]
    },
    {
     "name": "stdout",
     "output_type": "stream",
     "text": [
      "max sigma 81.37086783831451\n",
      "max sigma 54.80932712445534\n",
      "Final: 1 [0.1782815080212376, 0.11910157990963545, 0.2748498151084765, 0.2603925610645254] 0.20815636602596876 [True, True, True, True]\n"
     ]
    },
    {
     "data": {
      "text/plain": "<Figure size 640x480 with 1 Axes>",
      "image/png": "[encoded data removed]"
     },
     "metadata": {},
     "output_type": "display_data"
    },
    {
     "name": "stderr",
     "output_type": "stream",
     "text": [
      "100%|██████████| 2/2 [02:55<00:00, 87.52s/it]"
     ]
    },
    {
     "name": "stdout",
     "output_type": "stream",
     "text": [
      "[[300 303 300 ... 300 300   0]\n",
      " [300 300 339 ... 310 300   1]\n",
      " [300 300 300 ... 300 307   0]\n",
      " [317 300 300 ... 379 334   0]\n",
      " [300 300 300 ... 321 389   0]]\n"
     ]
    },
    {
     "name": "stderr",
     "output_type": "stream",
     "text": [
      "\n"
     ]
    }
   ],
   "source": [
    "num_days = [30, 365]\n",
    "num_samples = [1000]\n",
    "dist = \"exponential\"\n",
    "mode = \"plain\"\n",
    "# value_range = [300, 850]\n",
    "# mu_range = [600, 700]\n",
    "# sigma_range = [100, ]\n",
    "\n",
    "num_days_num_samples = [(num_day, num_sample) for num_day in num_days for num_sample in num_samples]\n",
    "# data = generate_data(60, 100000, \"logistic\", mode=None)\n",
    "for num_day, num_sample in tqdm(num_days_num_samples):\n",
    "    # data = generate_data(num_day, num_sample, dist=dist, mode=\"historgram\")\n",
    "    data = generate_data(num_day, num_sample, dist=dist, mode=mode, visualize=True)\n",
    "    # with open(f\"../data/train/{mode}/{dist}_{num_day}_days_{num_sample}_samples.npy\", \"wb\") as f:\n",
    "    #     np.save(f, data)"
   ]
  },
  {
   "cell_type": "code",
   "execution_count": null,
   "metadata": {},
   "outputs": [],
   "source": [
    "data_path = \"../data/train/plain/logistic_30_days_100000_samples.npy\"\n",
    "data = np.load(data_path)\n",
    "data.shape"
   ]
  },
  {
   "cell_type": "code",
   "execution_count": null,
   "metadata": {},
   "outputs": [],
   "source": [
    "num_day = 30\n",
    "num_sample = 100000\n",
    "dist = \"logistic\"\n",
    "mode = \"plain\"\n",
    "\n",
    "data = generate_data(num_day, num_sample, dist=dist, mode=mode)"
   ]
  },
  {
   "cell_type": "code",
   "execution_count": null,
   "metadata": {},
   "outputs": [],
   "source": [
    "X, y = data[:, :-1], data[1:, -1]\n",
    "print(X.shape)\n",
    "print(y.shape)"
   ]
  },
  {
   "cell_type": "code",
   "execution_count": null,
   "metadata": {},
   "outputs": [],
   "source": [
    "index_0 = np.where(y == 0)[0]\n",
    "index_0"
   ]
  },
  {
   "cell_type": "code",
   "execution_count": null,
   "metadata": {},
   "outputs": [],
   "source": [
    "index_1 = np.where(y == 1)[0]\n",
    "index_1"
   ]
  },
  {
   "cell_type": "code",
   "execution_count": null,
   "metadata": {},
   "outputs": [],
   "source": [
    "for idx, i in enumerate(index_0):\n",
    "    plt.figure(figsize=(10, 7))\n",
    "    sns.kdeplot([X[i], X[i + 1]])\n",
    "\n",
    "    print(idx, y[i])\n",
    "\n",
    "    value, is_drift = ks(X[i], X[i + 1])\n",
    "    print(value, is_drift)\n",
    "\n",
    "    value, is_drift = js(X[i], X[i + 1])\n",
    "    print(value, is_drift)\n",
    "\n",
    "    value, is_drift = kl_div(X[i], X[i + 1])\n",
    "    print(value, is_drift)\n",
    "\n",
    "    value, is_drift = psi(X[i], X[i + 1])\n",
    "    print(value, is_drift)\n",
    "\n",
    "    value, is_drift = wd(X[i], X[i + 1])\n",
    "    print(value, is_drift, \"\\n\")"
   ]
  },
  {
   "cell_type": "code",
   "execution_count": null,
   "metadata": {},
   "outputs": [],
   "source": [
    "for idx, i in enumerate(index_1):\n",
    "    plt.figure(figsize=(10, 7))\n",
    "    sns.kdeplot([X[i], X[i + 1]])\n",
    "\n",
    "    print(idx, y[i])\n",
    "\n",
    "    value, is_drift = ks(X[i], X[i + 1])\n",
    "    print(value, is_drift)\n",
    "\n",
    "    value, is_drift = js(X[i], X[i + 1])\n",
    "    print(value, is_drift)\n",
    "\n",
    "    value, is_drift = kl_div(X[i], X[i + 1])\n",
    "    print(value, is_drift)\n",
    "\n",
    "    value, is_drift = psi(X[i], X[i + 1])\n",
    "    print(value, is_drift)\n",
    "\n",
    "    value, is_drift = wd(X[i], X[i + 1])\n",
    "    print(value, is_drift, \"\\n\")"
   ]
  },
  {
   "attachments": {},
   "cell_type": "markdown",
   "metadata": {},
   "source": [
    "# Modeling"
   ]
  },
  {
   "cell_type": "code",
   "execution_count": null,
   "metadata": {},
   "outputs": [],
   "source": [
    "data_path = \"../data/train/hist/logistic_30_days_10000_samples.npy\"\n",
    "data = np.load(data_path)\n",
    "data.shape"
   ]
  },
  {
   "cell_type": "code",
   "execution_count": null,
   "metadata": {},
   "outputs": [],
   "source": [
    "train_data"
   ]
  },
  {
   "cell_type": "code",
   "execution_count": null,
   "metadata": {},
   "outputs": [],
   "source": [
    "X, y = data[:, :-1], data[:, -1]"
   ]
  },
  {
   "cell_type": "code",
   "execution_count": null,
   "metadata": {},
   "outputs": [],
   "source": [
    "i =58\n",
    "\n",
    "print(y[i + 1])\n",
    "\n",
    "plt.figure(figsize=(10, 7))\n",
    "sns.histplot([X[i], X[i + 1]])\n",
    "\n",
    "value, is_drift = js(X[i], X[i + 1])\n",
    "print(value, is_drift)\n",
    "\n",
    "value, is_drift = kl_div(X[i], X[i + 1])\n",
    "print(value, is_drift)\n",
    "\n",
    "value, is_drift = psi(X[i], X[i + 1])\n",
    "print(value, is_drift)\n",
    "\n",
    "value, is_drift = wd(X[i], X[i + 1])\n",
    "print(value, is_drift)"
   ]
  },
  {
   "cell_type": "code",
   "execution_count": null,
   "metadata": {},
   "outputs": [],
   "source": [
    "with open(\"../data/train/logistic_30_days_100000_samples.np\", \"wb\") as f:\n",
    "    np.save(f, data)"
   ]
  },
  {
   "cell_type": "code",
   "execution_count": null,
   "metadata": {},
   "outputs": [],
   "source": []
  }
 ],
 "metadata": {
  "kernelspec": {
   "display_name": "Python 3 (ipykernel)",
   "language": "python",
   "name": "python3"
  },
  "language_info": {
   "codemirror_mode": {
    "name": "ipython",
    "version": 3
   },
   "file_extension": ".py",
   "mimetype": "text/x-python",
   "name": "python",
   "nbconvert_exporter": "python",
   "pygments_lexer": "ipython3",
   "version": "3.8.16"
  },
  "vscode": {
   "interpreter": {
    "hash": "871ce1bc0dd274fbcbdef4ad0365f378d1ced7d5dc441c7b13130107f9334e06"
   }
  }
 },
 "nbformat": 4,
 "nbformat_minor": 2
}
