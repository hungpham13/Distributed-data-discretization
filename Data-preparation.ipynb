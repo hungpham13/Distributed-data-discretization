{
  "cells": [
    {
      "cell_type": "markdown",
      "metadata": {
        "id": "view-in-github",
        "colab_type": "text"
      },
      "source": [
        "<a href=\"https://colab.research.google.com/github/hungpham13/Distributed-data-discretization/blob/main/Data-preparation.ipynb\" target=\"_parent\"><img src=\"https://colab.research.google.com/assets/colab-badge.svg\" alt=\"Open In Colab\"/></a>"
      ]
    },
    {
      "cell_type": "code",
      "execution_count": 2,
      "id": "543a6409",
      "metadata": {
        "id": "543a6409"
      },
      "outputs": [],
      "source": [
        "# import pyspark\n",
        "# from pyspark.sql import SparkSession\n",
        "# from pyspark.sql.types import StructType,StructField, StringType, IntegerType \n",
        "# from pyspark.sql.types import ArrayType, DoubleType, BooleanType\n",
        "# from pyspark.sql.functions import col,array_contains\n",
        "\n",
        "import pandas as pd\n",
        "import numpy as np\n",
        "\n",
        "import seaborn as sns\n",
        "import matplotlib.pyplot as plt"
      ]
    },
    {
      "cell_type": "code",
      "execution_count": null,
      "id": "bd305246",
      "metadata": {
        "id": "bd305246",
        "outputId": "c771e00f-fad7-4fa8-e786-007bde0ad302"
      },
      "outputs": [
        {
          "data": {
            "text/plain": [
              "0       14.45\n",
              "1       23.40\n",
              "2       25.00\n",
              "3       21.25\n",
              "4       13.80\n",
              "        ...  \n",
              "9995    22.75\n",
              "9996    21.25\n",
              "9997    19.45\n",
              "9998    25.55\n",
              "9999    21.80\n",
              "Name: D1, Length: 10000, dtype: float64"
            ]
          },
          "execution_count": 2,
          "metadata": {},
          "output_type": "execute_result"
        }
      ],
      "source": [
        "df2021 = pd.read_csv('diemthi2021.csv')\n",
        "df2021['D1'].dropna().sample(n = 10000, random_state=1, ignore_index=True)"
      ]
    },
    {
      "cell_type": "code",
      "execution_count": null,
      "id": "77d2fe6a",
      "metadata": {
        "id": "77d2fe6a",
        "outputId": "60b34ecf-9970-4744-8fd2-c0f3a01aa47a"
      },
      "outputs": [
        {
          "data": {
            "text/plain": [
              "<AxesSubplot:xlabel='D1', ylabel='Count'>"
            ]
          },
          "execution_count": 3,
          "metadata": {},
          "output_type": "execute_result"
        },
        {
          "data": {
            "image/png": "[encoded data removed]",
            "text/plain": [
              "<Figure size 432x288 with 1 Axes>"
            ]
          },
          "metadata": {
            "needs_background": "light"
          },
          "output_type": "display_data"
        }
      ],
      "source": [
        "sns.histplot(df2021['D1'].dropna().sample(n = 10000, ignore_index=True), binwidth=0.5)"
      ]
    },
    {
      "cell_type": "code",
      "execution_count": null,
      "id": "082bf15a",
      "metadata": {
        "id": "082bf15a",
        "outputId": "6c306a1f-13ce-4dd6-cabd-184a5b165695"
      },
      "outputs": [
        {
          "data": {
            "text/plain": [
              "<AxesSubplot:xlabel='D1', ylabel='Count'>"
            ]
          },
          "execution_count": 4,
          "metadata": {},
          "output_type": "execute_result"
        },
        {
          "data": {
            "image/png": "[encoded data removed]",
            "text/plain": [
              "<Figure size 432x288 with 1 Axes>"
            ]
          },
          "metadata": {
            "needs_background": "light"
          },
          "output_type": "display_data"
        }
      ],
      "source": [
        "sns.histplot(df2021['D1'].dropna(), binwidth=0.5)"
      ]
    },
    {
      "cell_type": "code",
      "execution_count": null,
      "id": "51caf254",
      "metadata": {
        "id": "51caf254"
      },
      "outputs": [],
      "source": [
        "def data_create(num_sample = 10000, num_row = 450, year = 2021):\n",
        "    data = []\n",
        "    df = pd.read_csv('diemthi'+str(year)+'.csv')\n",
        "\n",
        "    for i in range(num_row):\n",
        "        data.append(list(df['D1'].dropna().sample(n = num_sample, ignore_index=True)))\n",
        "        \n",
        "    return np.array(data)"
      ]
    },
    {
      "cell_type": "code",
      "execution_count": null,
      "id": "3ee1aecd",
      "metadata": {
        "id": "3ee1aecd"
      },
      "outputs": [],
      "source": [
        "data2021 = data_create(num_row=630)"
      ]
    },
    {
      "cell_type": "code",
      "execution_count": null,
      "id": "a063ffa1",
      "metadata": {
        "id": "a063ffa1",
        "outputId": "467b93f3-dd1b-4bbb-bb0f-f5ab8205b9a9"
      },
      "outputs": [
        {
          "data": {
            "text/plain": [
              "(630, 10000)"
            ]
          },
          "execution_count": 7,
          "metadata": {},
          "output_type": "execute_result"
        }
      ],
      "source": [
        "data2021.shape"
      ]
    },
    {
      "cell_type": "code",
      "execution_count": null,
      "id": "ab2e4958",
      "metadata": {
        "id": "ab2e4958",
        "outputId": "9641a938-cd17-40a6-8ff8-be97889b18ab"
      },
      "outputs": [
        {
          "data": {
            "text/plain": [
              "array([[15.6 , 23.5 , 19.5 , ..., 12.2 , 14.25, 12.7 ],\n",
              "       [19.6 , 16.15, 21.6 , ..., 12.2 , 15.85, 15.95],\n",
              "       [21.8 , 24.95, 16.85, ..., 20.85, 16.85, 19.55],\n",
              "       ...,\n",
              "       [19.5 , 17.6 , 22.15, ..., 27.1 , 16.05, 13.3 ],\n",
              "       [18.25, 13.4 ,  8.05, ..., 20.2 , 19.05, 23.05],\n",
              "       [16.95, 14.55, 21.1 , ..., 19.25, 25.75, 17.85]])"
            ]
          },
          "execution_count": 8,
          "metadata": {},
          "output_type": "execute_result"
        }
      ],
      "source": [
        "data2021"
      ]
    },
    {
      "cell_type": "code",
      "execution_count": null,
      "id": "b125bc6e",
      "metadata": {
        "id": "b125bc6e"
      },
      "outputs": [],
      "source": [
        "# pd.DataFrame(data2021).to_csv('2021D1.csv')"
      ]
    },
    {
      "cell_type": "code",
      "execution_count": null,
      "id": "c88ff430",
      "metadata": {
        "id": "c88ff430",
        "outputId": "43fbf29f-011a-4fe8-b10b-cf3f40da7e1e"
      },
      "outputs": [
        {
          "data": {
            "text/plain": [
              "array([[13.05, 18.35, 19.65, ..., 17.3 , 12.65, 15.75],\n",
              "       [11.75, 13.2 , 10.55, ..., 18.85, 19.85, 13.2 ],\n",
              "       [16.2 , 13.35, 14.5 , ..., 12.95, 20.9 ,  6.8 ],\n",
              "       ...,\n",
              "       [12.1 , 16.  , 15.6 , ..., 22.55, 19.3 , 19.85],\n",
              "       [20.6 , 21.9 , 20.  , ..., 18.05, 22.75, 15.75],\n",
              "       [20.8 , 13.05, 20.65, ..., 17.25,  6.  , 15.7 ]])"
            ]
          },
          "execution_count": 10,
          "metadata": {},
          "output_type": "execute_result"
        }
      ],
      "source": [
        "data2018 = data_create(num_row = 30, year = 2018)\n",
        "data2019 = data_create(num_row = 20, year = 2019)\n",
        "data2020 = data_create(num_row = 20, year = 2020)\n",
        "\n",
        "data_other = np.append(data2018, data2019, axis=0)\n",
        "data_other = np.append(data_other, data2020, axis=0)\n",
        "data_other"
      ]
    },
    {
      "cell_type": "code",
      "execution_count": null,
      "id": "9f9b495b",
      "metadata": {
        "id": "9f9b495b"
      },
      "outputs": [],
      "source": [
        "# pd.DataFrame(data_other).to_csv('OtherD1.csv')"
      ]
    },
    {
      "cell_type": "code",
      "execution_count": null,
      "id": "bf867508",
      "metadata": {
        "id": "bf867508"
      },
      "outputs": [],
      "source": [
        "df2018 = pd.read_csv('diemthi2018.csv')\n",
        "df2019 = pd.read_csv('diemthi2019.csv')\n",
        "df2020 = pd.read_csv('diemthi2020.csv')"
      ]
    },
    {
      "cell_type": "code",
      "execution_count": null,
      "id": "3878d043",
      "metadata": {
        "id": "3878d043",
        "outputId": "65dd680b-b7a3-4de0-91ec-12e520bc2f83"
      },
      "outputs": [
        {
          "data": {
            "image/png": "[encoded data removed]",
            "text/plain": [
              "<Figure size 432x288 with 1 Axes>"
            ]
          },
          "metadata": {
            "needs_background": "light"
          },
          "output_type": "display_data"
        },
        {
          "data": {
            "image/png": "[encoded data removed]",
            "text/plain": [
              "<Figure size 432x288 with 1 Axes>"
            ]
          },
          "metadata": {
            "needs_background": "light"
          },
          "output_type": "display_data"
        }
      ],
      "source": [
        "sns.histplot(df2020['D1'].dropna(), binwidth=0.5)\n",
        "plt.show()\n",
        "\n",
        "sns.histplot(data2020[0], binwidth=0.5)\n",
        "plt.show()"
      ]
    },
    {
      "cell_type": "code",
      "execution_count": null,
      "id": "c282d52e",
      "metadata": {
        "id": "c282d52e",
        "outputId": "9210c349-1010-40b5-9b9b-07f43fcd5cbd"
      },
      "outputs": [
        {
          "data": {
            "image/png": "[encoded data removed]",
            "text/plain": [
              "<Figure size 432x288 with 1 Axes>"
            ]
          },
          "metadata": {
            "needs_background": "light"
          },
          "output_type": "display_data"
        },
        {
          "data": {
            "image/png": "[encoded data removed]",
            "text/plain": [
              "<Figure size 432x288 with 1 Axes>"
            ]
          },
          "metadata": {
            "needs_background": "light"
          },
          "output_type": "display_data"
        }
      ],
      "source": [
        "sns.histplot(df2019['D1'].dropna(), binwidth=0.5)\n",
        "plt.show()\n",
        "\n",
        "sns.histplot(data2019[0], binwidth=0.5)\n",
        "plt.show()"
      ]
    },
    {
      "cell_type": "code",
      "execution_count": null,
      "id": "e383c80b",
      "metadata": {
        "pycharm": {
          "name": "#%%\n"
        },
        "id": "e383c80b",
        "outputId": "8c31eaa5-be8f-4e43-810f-fd4e3f843dff"
      },
      "outputs": [
        {
          "data": {
            "image/png": "[encoded data removed]",
            "text/plain": [
              "<Figure size 432x288 with 1 Axes>"
            ]
          },
          "metadata": {
            "needs_background": "light"
          },
          "output_type": "display_data"
        },
        {
          "data": {
            "image/png": "[encoded data removed]",
            "text/plain": [
              "<Figure size 432x288 with 1 Axes>"
            ]
          },
          "metadata": {
            "needs_background": "light"
          },
          "output_type": "display_data"
        }
      ],
      "source": [
        "sns.histplot(df2018['D1'].dropna(), binwidth=0.5)\n",
        "plt.show()\n",
        "\n",
        "sns.histplot(data2018[0], binwidth=0.5)\n",
        "plt.show()"
      ]
    },
    {
      "cell_type": "code",
      "execution_count": null,
      "id": "3ce0432e",
      "metadata": {
        "pycharm": {
          "name": "#%%\n"
        },
        "id": "3ce0432e",
        "outputId": "a8e9ccf1-a5e0-485b-a647-1396984caadb"
      },
      "outputs": [
        {
          "data": {
            "text/plain": [
              "<AxesSubplot:xlabel='D1', ylabel='Density'>"
            ]
          },
          "execution_count": 16,
          "metadata": {},
          "output_type": "execute_result"
        },
        {
          "data": {
            "image/png": "[encoded data removed]",
            "text/plain": [
              "<Figure size 432x288 with 1 Axes>"
            ]
          },
          "metadata": {
            "needs_background": "light"
          },
          "output_type": "display_data"
        }
      ],
      "source": [
        "sns.kdeplot(data = df2018, x = 'D1')\n",
        "sns.kdeplot(data = df2019, x = 'D1')\n",
        "sns.kdeplot(data = df2020, x = 'D1')\n",
        "sns.kdeplot(data = df2021, x = 'D1')"
      ]
    },
    {
      "cell_type": "code",
      "execution_count": null,
      "id": "6a91bcde",
      "metadata": {
        "pycharm": {
          "name": "#%%\n"
        },
        "id": "6a91bcde",
        "outputId": "26a27a42-066e-48f8-ab09-6923c0f697fa"
      },
      "outputs": [
        {
          "data": {
            "text/plain": [
              "<AxesSubplot:ylabel='Density'>"
            ]
          },
          "execution_count": 17,
          "metadata": {},
          "output_type": "execute_result"
        },
        {
          "data": {
            "image/png": "[encoded data removed]",
            "text/plain": [
              "<Figure size 432x288 with 1 Axes>"
            ]
          },
          "metadata": {
            "needs_background": "light"
          },
          "output_type": "display_data"
        }
      ],
      "source": [
        "sns.kdeplot(data2021[0])\n",
        "sns.kdeplot(data2021[1])\n",
        "sns.kdeplot(data2021[2])\n",
        "sns.kdeplot(data2021[100])"
      ]
    },
    {
      "cell_type": "code",
      "execution_count": null,
      "id": "e764fe78",
      "metadata": {
        "id": "e764fe78"
      },
      "outputs": [],
      "source": []
    },
    {
      "cell_type": "code",
      "execution_count": null,
      "id": "fb9e4572",
      "metadata": {
        "id": "fb9e4572"
      },
      "outputs": [],
      "source": [
        "sns.kdeplot(data = df2018, x = 'D1')\n",
        "sns.kdeplot(data = df2019, x = 'D1')\n",
        "sns.kdeplot(data = df2020, x = 'D1')\n",
        "sns.kdeplot(data = df2021, x = 'D1')"
      ]
    },
    {
      "cell_type": "code",
      "execution_count": null,
      "id": "9e335c70",
      "metadata": {
        "id": "9e335c70"
      },
      "outputs": [],
      "source": [
        "sns.kdeplot(data2021[0])\n",
        "sns.kdeplot(data2021[1])\n",
        "sns.kdeplot(data2021[2])\n",
        "sns.kdeplot(data2021[100])"
      ]
    },
    {
      "cell_type": "code",
      "execution_count": 28,
      "id": "8ca708d5",
      "metadata": {
        "id": "8ca708d5",
        "outputId": "113eed01-0a8c-4067-ed2d-d405bd5a5e62",
        "colab": {
          "base_uri": "https://localhost:8080/",
          "height": 282
        }
      },
      "outputs": [
        {
          "output_type": "execute_result",
          "data": {
            "text/plain": [
              "<matplotlib.axes._subplots.AxesSubplot at 0x7f5eaf583f50>"
            ]
          },
          "metadata": {},
          "execution_count": 28
        },
        {
          "output_type": "display_data",
          "data": {
            "text/plain": [
              "<Figure size 432x288 with 1 Axes>"
            ],
            "image/png": "[encoded data removed]"
          },
          "metadata": {
            "needs_background": "light"
          }
        }
      ],
      "source": [
        "import random\n",
        "\n",
        "mu_range = [0,1]\n",
        "sigma_range = [0.05,0.5]\n",
        "result = []\n",
        "config = []\n",
        "for _ in range(20):\n",
        "    mu = random.uniform(mu_range[0], mu_range[1])\n",
        "    sigma = random.uniform(sigma_range[0], sigma_range[1])\n",
        "    config.append((mu,sigma))\n",
        "    s = np.random.normal(mu, sigma, 500).tolist()\n",
        "    result.extend(s)\n",
        "\n",
        "sns.kdeplot(result)"
      ]
    },
    {
      "cell_type": "code",
      "source": [
        "def generate_true_dist(config, num_sample):\n",
        "    result = []\n",
        "    partial_num = round(num_sample/len(config))\n",
        "    for (mu,sigma) in config:\n",
        "        s = np.random.normal(mu, sigma, partial_num).tolist()\n",
        "        result.extend(s)\n",
        "    sns.kdeplot(result)\n",
        "    return result\n"
      ],
      "metadata": {
        "id": "GG0bfObgIv0D"
      },
      "id": "GG0bfObgIv0D",
      "execution_count": 32,
      "outputs": []
    },
    {
      "cell_type": "code",
      "source": [
        "generate_true_dist(config, 10000)\n",
        "generate_true_dist(config, 10000)\n",
        "generate_true_dist(config, 10000)\n",
        "generate_true_dist(config, 10000)"
      ],
      "metadata": {
        "id": "t_pjNWeFJwIH",
        "outputId": "51189d27-aac7-44ed-898d-6d8abf3f9025",
        "colab": {
          "base_uri": "https://localhost:8080/",
          "height": 1000
        }
      },
      "id": "t_pjNWeFJwIH",
      "execution_count": 33,
      "outputs": [
        {
          "output_type": "execute_result",
          "data": {
            "text/plain": [
              "[0.7106937356830146,\n",
              " 0.10964847903965619,\n",
              " 0.43499468197003843,\n",
              " 0.366909103018976,\n",
              " 0.5670852168921219,\n",
              " 0.26594772296734637,\n",
              " -0.12194377546418889,\n",
              " 0.5300346871472802,\n",
              " 0.2113574381618575,\n",
              " 0.802895209633046,\n",
              " 0.2792764947745772,\n",
              " 0.26274001113817846,\n",
              " 0.4497014487476524,\n",
              " 0.26463229076490985,\n",
              " -0.13311129260095683,\n",
              " 0.39024243449783,\n",
              " 0.3824605058948969,\n",
              " 0.4898948489105285,\n",
              " 0.5084159325659151,\n",
              " 0.26553822710159153,\n",
              " 0.555306335860541,\n",
              " 0.5442623229682415,\n",
              " 0.26076836077286125,\n",
              " 0.5228765979393271,\n",
              " -0.05751782310801723,\n",
              " 0.5589146712264121,\n",
              " 0.2791345883800972,\n",
              " 0.6469620716180502,\n",
              " 0.18734173228728784,\n",
              " 0.5223223215039873,\n",
              " 0.7255477178284431,\n",
              " 0.5339673667230276,\n",
              " 0.5655089964108053,\n",
              " 0.3427243962133382,\n",
              " 0.2687685606246515,\n",
              " 0.47912545822567987,\n",
              " 0.5273577025682732,\n",
              " 0.3550163124777304,\n",
              " 0.5388957578582751,\n",
              " 0.11834062609788981,\n",
              " 0.22482541945173123,\n",
              " 0.42057080909308164,\n",
              " 0.3453565987856511,\n",
              " 0.3806356901269862,\n",
              " 0.3378559888925169,\n",
              " 0.20301632070299755,\n",
              " 0.1954290171836903,\n",
              " 0.15961147792691285,\n",
              " 0.6100779302011499,\n",
              " 0.3899841255344689,\n",
              " 0.26469872871797484,\n",
              " 0.29374557022379705,\n",
              " 0.5058819101544706,\n",
              " 0.26956731396113764,\n",
              " 0.9094828053577227,\n",
              " 0.18586474086323,\n",
              " 0.7469219996525294,\n",
              " 0.5131411682850424,\n",
              " 0.20015180697798224,\n",
              " 0.05031944639805175,\n",
              " 0.4316803449539211,\n",
              " 0.18627032394995763,\n",
              " 0.5120904005819482,\n",
              " 0.23585593039065483,\n",
              " 0.2643084946846577,\n",
              " 0.21733496178138237,\n",
              " -0.07018641835758127,\n",
              " 0.6239558119242985,\n",
              " 0.6300214232873346,\n",
              " 0.32803957063666717,\n",
              " 0.10020374418956302,\n",
              " 0.346082854945435,\n",
              " 0.21573373732854773,\n",
              " 0.49666559913576214,\n",
              " 0.3433786701440604,\n",
              " 0.3902032542787289,\n",
              " 0.6478354361735579,\n",
              " 0.3359346859425837,\n",
              " 0.37845628066489495,\n",
              " 0.44516686733440325,\n",
              " 0.3466287308870402,\n",
              " 0.38443994764771533,\n",
              " -0.06729293982505896,\n",
              " 0.3782283403400128,\n",
              " 0.6509020311295619,\n",
              " 0.15714267901053205,\n",
              " 0.647427373127768,\n",
              " 0.43314593897834713,\n",
              " 0.2689860424902513,\n",
              " 0.18754856555578195,\n",
              " 0.03833167511018298,\n",
              " 0.42789159788298203,\n",
              " 0.5402276846216673,\n",
              " 0.3495822321653481,\n",
              " 0.2508164073755523,\n",
              " 0.1463988411311707,\n",
              " 0.5135265052962842,\n",
              " 0.5535854333104326,\n",
              " 0.5513172386177411,\n",
              " 0.225208168590814,\n",
              " 0.531027447545553,\n",
              " 0.2771586722375171,\n",
              " 0.3914222768528238,\n",
              " 0.05168567385561562,\n",
              " 0.18318439906916537,\n",
              " 0.07558728765105982,\n",
              " 0.3959549768844015,\n",
              " 0.49319907959461756,\n",
              " 0.06764795502826637,\n",
              " 0.6202282721022598,\n",
              " 0.31506158723341077,\n",
              " 0.03279124465289984,\n",
              " 0.27738183937492616,\n",
              " 0.2742505553380866,\n",
              " 0.21919414082861255,\n",
              " 0.07671056130962584,\n",
              " -0.06722658569291834,\n",
              " 0.19630493874968716,\n",
              " 0.25304725717083215,\n",
              " 1.1819758073715096,\n",
              " 0.8305025192580169,\n",
              " 0.3091092309159894,\n",
              " 0.38479574521194715,\n",
              " 0.5818642679356617,\n",
              " 0.46971035416004203,\n",
              " 0.033865378239028965,\n",
              " 0.21589680156228513,\n",
              " 0.33997741794866354,\n",
              " 0.4650987514576065,\n",
              " 0.18634808611156586,\n",
              " 0.42348730463982853,\n",
              " 0.31245414792143394,\n",
              " 0.06259211692595051,\n",
              " 0.6517946546357958,\n",
              " 0.5070138352646749,\n",
              " 0.2617423281958955,\n",
              " 0.44150634557544544,\n",
              " -0.0211288465939517,\n",
              " -0.048278178606596556,\n",
              " 0.11201344619506079,\n",
              " 0.7917568527449397,\n",
              " 0.9122394506332544,\n",
              " 0.3382019008053261,\n",
              " 0.26951463121269786,\n",
              " 0.3431395259790707,\n",
              " 0.10152474497941819,\n",
              " 0.8246617038575565,\n",
              " 0.23970067554818564,\n",
              " 0.5256602661315936,\n",
              " -0.11087116752326948,\n",
              " 0.11774877868472647,\n",
              " -0.07805467487103118,\n",
              " 0.3611742712112999,\n",
              " 0.2249625266629417,\n",
              " 0.33959954841219503,\n",
              " -0.2662215570204117,\n",
              " 0.032295345170857914,\n",
              " 0.36609019477042914,\n",
              " 0.3814480849474615,\n",
              " 0.19803706729679124,\n",
              " 0.5582377734982155,\n",
              " 0.5566101845407867,\n",
              " -0.05152839527549974,\n",
              " 0.24680125260017002,\n",
              " 0.33717564193746336,\n",
              " 0.3596572573843207,\n",
              " 0.5179256093184973,\n",
              " 0.22238486101735866,\n",
              " -0.06938545263328905,\n",
              " 0.45780986332372026,\n",
              " 0.25968446237934173,\n",
              " 0.2843021258273588,\n",
              " 0.44774994592966616,\n",
              " 0.46465201131032396,\n",
              " 0.7938120066848277,\n",
              " 0.2328699259262384,\n",
              " 0.17762075711419703,\n",
              " 0.15865836515657225,\n",
              " 0.8839263316005094,\n",
              " 0.2962227814720214,\n",
              " 0.4452656729995046,\n",
              " 0.44369629423250295,\n",
              " 0.26443159858992665,\n",
              " 0.7171574328809228,\n",
              " 0.051886881477093916,\n",
              " 0.37024423681925267,\n",
              " 0.6611665871198329,\n",
              " 0.4522789038537702,\n",
              " 0.32563926957969824,\n",
              " 0.3514226673423495,\n",
              " 0.3595433702013738,\n",
              " 0.24499619635824726,\n",
              " 0.3341064104867277,\n",
              " 0.33463617840255333,\n",
              " 0.2426912850569226,\n",
              " 0.04956319190779884,\n",
              " 0.1789255235834482,\n",
              " 0.1556574398302461,\n",
              " 0.5891435970492674,\n",
              " 0.49641894974935,\n",
              " 0.31877890067402365,\n",
              " 0.11365503705230554,\n",
              " 0.34142607505652967,\n",
              " 0.34551209314720305,\n",
              " 0.25099850244703176,\n",
              " 0.1677024941269749,\n",
              " 0.31445417710368506,\n",
              " 0.3209511307077578,\n",
              " 0.15766763271253587,\n",
              " 0.3069610601205002,\n",
              " 0.5168973383794212,\n",
              " 0.6249465363958941,\n",
              " 0.23013449585590923,\n",
              " 0.49137484925903296,\n",
              " 0.4033220308248763,\n",
              " 0.25156174457268204,\n",
              " 0.16217949752189076,\n",
              " 0.4734555287797859,\n",
              " 0.4164685225398549,\n",
              " 0.38114050935310423,\n",
              " 0.45820302130684326,\n",
              " 0.22994364696051922,\n",
              " 0.3630486262189908,\n",
              " 0.46752261655067706,\n",
              " 0.21527926903558903,\n",
              " 0.09430192518745784,\n",
              " 0.6026820924614901,\n",
              " 0.018473925367723687,\n",
              " 0.09305185538971056,\n",
              " 0.1725145505489273,\n",
              " 0.29269398497497984,\n",
              " 0.19572349318875704,\n",
              " 0.42668538506980214,\n",
              " 0.3653259610301603,\n",
              " 0.5839979741812492,\n",
              " 0.2299874606331496,\n",
              " 0.30260276191771107,\n",
              " 0.44506304478617176,\n",
              " 0.7625594954252382,\n",
              " 0.6076712370252431,\n",
              " 0.10283099511655469,\n",
              " 0.4638427465219499,\n",
              " 0.06132423186493946,\n",
              " 0.32948931164965845,\n",
              " 0.4420316651043703,\n",
              " 0.27544712437421115,\n",
              " 0.2639833309393988,\n",
              " 0.6286575014700624,\n",
              " 0.2944165560259817,\n",
              " 0.26126501525482,\n",
              " 0.7062914956811006,\n",
              " 0.08093365692195531,\n",
              " 0.44020066632898924,\n",
              " 0.22064856710355685,\n",
              " 0.15856462974727137,\n",
              " 0.5995651964562689,\n",
              " 0.43785986853267117,\n",
              " 0.3791808730292942,\n",
              " 0.4757639493746562,\n",
              " 0.4332517512707752,\n",
              " 0.4880627695396306,\n",
              " 0.19925674292050422,\n",
              " 0.4404878181481005,\n",
              " 0.3775546019116992,\n",
              " 0.3887894265217794,\n",
              " 0.6084671871666323,\n",
              " 0.5265775797128954,\n",
              " 0.11410146529859264,\n",
              " 0.4854895945616353,\n",
              " -0.01919336546456024,\n",
              " 0.5803172264188938,\n",
              " 0.08530146008997302,\n",
              " 0.39907073746333654,\n",
              " 0.31691084195059777,\n",
              " 0.349526517758056,\n",
              " 0.4561871401671881,\n",
              " -0.10091371982135328,\n",
              " 0.050290610665943536,\n",
              " 0.035887416689215856,\n",
              " -0.030899775535947416,\n",
              " 0.24027523172055074,\n",
              " 0.29904430182270125,\n",
              " 0.16259570586956765,\n",
              " 0.5369131179206812,\n",
              " 0.20003115024488366,\n",
              " 0.1451704893893908,\n",
              " 0.6303797888986533,\n",
              " 0.30380967004451886,\n",
              " 0.7410551674174175,\n",
              " 0.47896102116522377,\n",
              " -0.1282549518191622,\n",
              " 0.6617033931623475,\n",
              " 0.46531049572118066,\n",
              " 0.012309947925608578,\n",
              " 0.19068286282947874,\n",
              " 0.5729418875622466,\n",
              " 0.4891041634322697,\n",
              " 0.39734778944181703,\n",
              " 0.13853631746047823,\n",
              " 0.20395805971487949,\n",
              " 0.12439378295358225,\n",
              " 0.5194198669262299,\n",
              " 0.22618720127986655,\n",
              " 0.5953230525209592,\n",
              " 0.5075748237724785,\n",
              " 0.8738036119377384,\n",
              " 0.7954829968229828,\n",
              " 0.18260117350766628,\n",
              " 0.4320466544683885,\n",
              " 0.23947852913407358,\n",
              " 0.4716312261463612,\n",
              " 0.23462727814569978,\n",
              " 0.4240196154886197,\n",
              " 0.13147926215859862,\n",
              " 0.5496287274669429,\n",
              " 0.47325764023746353,\n",
              " 0.4197905407545437,\n",
              " 0.14303732675967676,\n",
              " -0.1255324468702741,\n",
              " 0.46045372791240746,\n",
              " 0.6937814001970974,\n",
              " -0.08371888782394948,\n",
              " 0.2873695879456517,\n",
              " 0.19332964985485498,\n",
              " 0.46639212577208145,\n",
              " -0.07140282261935904,\n",
              " 0.405378741116408,\n",
              " 0.27631829373146566,\n",
              " 0.20358390424854744,\n",
              " 0.5656577803163201,\n",
              " 0.345612492108406,\n",
              " 0.6319120197544617,\n",
              " 0.26279035820842866,\n",
              " 0.5009705507616954,\n",
              " 0.32075642794034553,\n",
              " 0.4427860814695931,\n",
              " 0.2570768722636192,\n",
              " 0.12207021748218089,\n",
              " 0.5713417409934495,\n",
              " 0.43208125404254105,\n",
              " 0.49796965614989064,\n",
              " 0.26879511459084415,\n",
              " 0.25666275052235593,\n",
              " 0.03203725352218273,\n",
              " 0.37055991098991614,\n",
              " -0.06933395276575915,\n",
              " 0.21633755367754864,\n",
              " -0.04133337943977522,\n",
              " 0.5231071359928661,\n",
              " -0.10164484744955488,\n",
              " -0.04862616110743534,\n",
              " 0.025224853729212127,\n",
              " 0.6116297502699072,\n",
              " 0.1306514323242332,\n",
              " 0.49867593563965507,\n",
              " 0.4615240628070636,\n",
              " 0.5229502211159726,\n",
              " 0.13991426283465713,\n",
              " 0.03386795867314196,\n",
              " 0.5824411019388358,\n",
              " 0.172419670897627,\n",
              " 0.4988388783807529,\n",
              " 0.4492373010002905,\n",
              " 0.31013524877267745,\n",
              " 0.8352951262422109,\n",
              " 0.06847512060731398,\n",
              " 0.48457598956049386,\n",
              " 0.19856047648118835,\n",
              " 0.28054756104170636,\n",
              " 0.0503162027347871,\n",
              " 0.31377128132034904,\n",
              " 0.03662534981068771,\n",
              " 0.4657337548648044,\n",
              " 0.3531295883875326,\n",
              " 0.43924498033756754,\n",
              " 0.6860420641436229,\n",
              " 0.21807365093626774,\n",
              " 0.555885147741935,\n",
              " 0.2798492518692091,\n",
              " 0.5973156006846383,\n",
              " 0.2401019051165791,\n",
              " 0.28205239602055354,\n",
              " 0.13010261250742808,\n",
              " 0.24455692847360483,\n",
              " 0.3346409311924452,\n",
              " 0.42969065762455716,\n",
              " 0.17159601256196313,\n",
              " 0.06620069963958186,\n",
              " 0.591505929370934,\n",
              " 0.37694885723130683,\n",
              " 0.15467214253369618,\n",
              " 0.7698250483185956,\n",
              " 0.010915232025167365,\n",
              " -0.1309354211335605,\n",
              " 0.5469504638725706,\n",
              " 0.36590366742299535,\n",
              " 0.513586299920513,\n",
              " 0.27015433186069504,\n",
              " 0.46354156488605147,\n",
              " 0.26783851241393,\n",
              " 0.18530601917359574,\n",
              " 0.12799824374810287,\n",
              " 0.08164165717534444,\n",
              " 0.5923725887524165,\n",
              " 0.3420991299243955,\n",
              " 0.2771341377227091,\n",
              " 0.3320269747349153,\n",
              " 0.34718619805618356,\n",
              " 0.14270479177914908,\n",
              " -0.06035541033952202,\n",
              " 0.38764888085023136,\n",
              " 0.27260948452022715,\n",
              " 0.4730290977284184,\n",
              " 0.7800417865124368,\n",
              " 0.12139518316820061,\n",
              " 0.35299831897717177,\n",
              " 0.2216759147518781,\n",
              " 0.42251177880877866,\n",
              " -0.013346457328785366,\n",
              " 0.5652575713717601,\n",
              " 0.500257918503085,\n",
              " 0.7150304770372847,\n",
              " 0.15911519170662736,\n",
              " 0.11656853756670979,\n",
              " 0.2996484265361327,\n",
              " 0.504522313836445,\n",
              " 0.5783005830372046,\n",
              " -0.24100995236469025,\n",
              " 0.6233020471731928,\n",
              " 0.4968686247776286,\n",
              " 0.03920794746885936,\n",
              " 0.2194520981485962,\n",
              " 0.31319014495356023,\n",
              " 0.0011770145148844446,\n",
              " 0.35964703853290897,\n",
              " 0.36318761654836007,\n",
              " -0.02170174203521552,\n",
              " 0.3028243564622848,\n",
              " 0.003762875100869867,\n",
              " 0.37535573783031834,\n",
              " 0.4897803031011094,\n",
              " 0.5335864558157353,\n",
              " 0.12655879792228447,\n",
              " 0.18080937091428564,\n",
              " 0.6164244165213344,\n",
              " 0.19926019759075345,\n",
              " 0.323365046309022,\n",
              " 0.601063918587069,\n",
              " 0.6320166535052628,\n",
              " 0.05947913811891814,\n",
              " 0.6274281190008308,\n",
              " 0.37624357167597144,\n",
              " 0.15483219932355421,\n",
              " -0.013569189912934043,\n",
              " 0.4469699209526293,\n",
              " 0.779347140981848,\n",
              " 0.38432899828941924,\n",
              " 0.29081637479893374,\n",
              " 0.5491152709695117,\n",
              " 0.24244957746052093,\n",
              " 0.21275996799622132,\n",
              " 0.6191931460890641,\n",
              " 0.08106532629336138,\n",
              " 0.09579132155890241,\n",
              " 0.5766587751201324,\n",
              " 0.08256206391924154,\n",
              " 0.366611780550619,\n",
              " 0.6379257309397499,\n",
              " 0.36378260316619926,\n",
              " 0.7307588661468791,\n",
              " 0.2950641976792121,\n",
              " 0.5323405545313873,\n",
              " 0.4687371725566677,\n",
              " 0.44832165092097687,\n",
              " 0.19919309928288503,\n",
              " 0.22416243038797382,\n",
              " 0.29878525129634426,\n",
              " 0.23251679637081138,\n",
              " 0.2164496592217328,\n",
              " 0.3780097255231981,\n",
              " 0.2827741339657129,\n",
              " -0.20796435126505664,\n",
              " 0.31938589839052695,\n",
              " 0.6818686345277094,\n",
              " 0.16723538820264436,\n",
              " 0.48995308819461303,\n",
              " 0.4008388239480214,\n",
              " 0.6533005224688655,\n",
              " 0.5186901876628103,\n",
              " 0.3036066855941494,\n",
              " 0.3203429162199324,\n",
              " 0.235746988224092,\n",
              " 0.42749043595162256,\n",
              " 0.42773680169578493,\n",
              " 0.46781969611741103,\n",
              " 0.08610894287634902,\n",
              " 0.38014744193122463,\n",
              " 0.6984182230542068,\n",
              " -0.02441633810577032,\n",
              " 0.2246517332747338,\n",
              " 0.48262762815764515,\n",
              " 0.2839985285362222,\n",
              " 0.047185549913727365,\n",
              " 0.7202595659330884,\n",
              " 0.6622581067631956,\n",
              " 0.8375874588116643,\n",
              " 0.7121260751724516,\n",
              " 0.4827761444958011,\n",
              " 0.0925530199770625,\n",
              " 0.1334969589443853,\n",
              " 0.5566564611762659,\n",
              " 0.4144749575345388,\n",
              " 0.6278200278894975,\n",
              " 0.5741898429623764,\n",
              " 0.4125086943070798,\n",
              " 0.3271702431824356,\n",
              " 0.548562522686668,\n",
              " 0.4568779047224845,\n",
              " 0.6850966282462265,\n",
              " 0.8195473916401987,\n",
              " 0.651257464758185,\n",
              " -0.30016415062558144,\n",
              " 0.7436564337356629,\n",
              " 1.0688114799603978,\n",
              " 1.1020872014646366,\n",
              " 0.38299473065541234,\n",
              " 0.39020039539382834,\n",
              " 0.6098678474912658,\n",
              " 0.44750973909382796,\n",
              " 0.5541749786580497,\n",
              " 0.7114761041891582,\n",
              " 0.16911632627718642,\n",
              " 0.39697387539774287,\n",
              " 1.0042620638188307,\n",
              " 0.6409026616607444,\n",
              " 0.5642803309607682,\n",
              " 0.7892334517609028,\n",
              " 0.3687773728008316,\n",
              " -0.05252531026901708,\n",
              " 0.5955908740791239,\n",
              " 0.34244577871932413,\n",
              " 0.37734778174373773,\n",
              " -0.014069114386314863,\n",
              " 0.39637107021184836,\n",
              " 1.4167471129651048,\n",
              " 0.05205000121964115,\n",
              " 1.070629110398744,\n",
              " 0.4405728433454702,\n",
              " 0.24093667927015638,\n",
              " 0.7995399269006773,\n",
              " 0.6388017536020647,\n",
              " 0.8649121308199128,\n",
              " 0.12180315612624715,\n",
              " 0.8915493262990233,\n",
              " 0.5884567033042339,\n",
              " -0.015386309792888353,\n",
              " 0.5740125714604332,\n",
              " 0.7300067279291614,\n",
              " 0.19381273404171306,\n",
              " 1.1495289476787618,\n",
              " 1.0240602755327652,\n",
              " 0.6972148019197564,\n",
              " -0.26680684094067453,\n",
              " 0.521244411141591,\n",
              " 0.3489835017553282,\n",
              " 0.18109330646674227,\n",
              " 0.28634911366162896,\n",
              " 0.5360163581346991,\n",
              " 0.9899135413317153,\n",
              " 0.6521843651567096,\n",
              " 0.03853612877788648,\n",
              " 0.6705937775445776,\n",
              " 0.47759161125421346,\n",
              " 0.3545642793393464,\n",
              " 0.23433349350128724,\n",
              " 0.7010938007166941,\n",
              " 0.2160609945481397,\n",
              " 0.9611374698962516,\n",
              " 0.5680786693527645,\n",
              " 0.21889441055776038,\n",
              " 1.3624195556501926,\n",
              " 0.5490175750845184,\n",
              " 0.7294752260862188,\n",
              " 0.4373748074277737,\n",
              " 0.750386302244203,\n",
              " 0.1920402398029562,\n",
              " -0.053596639296746296,\n",
              " 0.5182456705382127,\n",
              " 1.0277200448996897,\n",
              " 0.04996545728850266,\n",
              " 0.6785079164747944,\n",
              " 1.0886974295286096,\n",
              " 1.0566861072839486,\n",
              " 0.4064004881153806,\n",
              " 0.5220713229977793,\n",
              " 0.4706647672341539,\n",
              " 0.4626254448697064,\n",
              " 0.8904471945932282,\n",
              " 0.7079581355363219,\n",
              " 0.7119366400550436,\n",
              " 0.4626207699952012,\n",
              " 0.16417774220889686,\n",
              " 0.730394946315497,\n",
              " 0.635677619183757,\n",
              " 0.22664571164538716,\n",
              " 0.5948578430775574,\n",
              " 0.6594418903479057,\n",
              " 0.5058715140037967,\n",
              " 0.14906013448005956,\n",
              " 0.4358358633838432,\n",
              " 0.5408499957898643,\n",
              " 0.810697528431005,\n",
              " 0.27511245816454577,\n",
              " 0.6434825990734943,\n",
              " 1.108077424824979,\n",
              " 0.4818336446704698,\n",
              " 0.23084988606073326,\n",
              " 0.4010324059981121,\n",
              " 0.4778241913830022,\n",
              " 0.6110161948572292,\n",
              " 0.7349430270844661,\n",
              " 0.924256925132898,\n",
              " 0.34781630244491657,\n",
              " 0.7158473150310718,\n",
              " 0.986450118801535,\n",
              " 0.8864796793949585,\n",
              " 1.2783601265140305,\n",
              " 0.874178921384329,\n",
              " 0.294913760907624,\n",
              " 0.443158575581955,\n",
              " 0.49595801845344506,\n",
              " 0.027485946506757952,\n",
              " -0.07915063985474935,\n",
              " 0.4779980612033483,\n",
              " 0.5287831140936714,\n",
              " -0.14094683753020398,\n",
              " 0.5212626534790294,\n",
              " 0.9362754281907683,\n",
              " 0.7440981769064734,\n",
              " 0.24261570295126145,\n",
              " 0.5590636272312292,\n",
              " 1.2066528933608986,\n",
              " 0.24850317899656893,\n",
              " 0.29621255170889377,\n",
              " 0.5731719197745737,\n",
              " 0.8271448005530361,\n",
              " 0.5809498813854945,\n",
              " 0.42387205407133416,\n",
              " 0.7897563155206879,\n",
              " 0.11855901090574583,\n",
              " 0.9905586854890462,\n",
              " 0.9617849582434621,\n",
              " 0.3903193577688624,\n",
              " 0.5611804789560475,\n",
              " 0.3778886031597057,\n",
              " -0.415762343351495,\n",
              " 0.44869264686803156,\n",
              " 0.9791785550786803,\n",
              " 0.2010159110151311,\n",
              " 0.19708653497806505,\n",
              " 1.324700323025456,\n",
              " 0.7037778662187152,\n",
              " 0.49327265356712235,\n",
              " 0.9092349528938195,\n",
              " 0.7118803140357884,\n",
              " 0.7294438356981311,\n",
              " 0.5069028440330215,\n",
              " 0.4242847785157781,\n",
              " -0.02056531506158199,\n",
              " 0.6638697810974128,\n",
              " -0.29446435809175564,\n",
              " 0.5761600489500973,\n",
              " 1.0043352955251152,\n",
              " 0.12209164131966532,\n",
              " 0.8228108128436105,\n",
              " 0.14397953100409494,\n",
              " 0.11002303596438073,\n",
              " 0.7414460250007374,\n",
              " 0.9437769451766047,\n",
              " 0.30391972616374374,\n",
              " 0.12408297124025458,\n",
              " 0.5534234896126954,\n",
              " 0.11615150257110846,\n",
              " 1.4768965904674674,\n",
              " -0.1274380750600993,\n",
              " 0.41667486902375933,\n",
              " 0.4613209066540167,\n",
              " 0.560718229771862,\n",
              " 0.3126107895650051,\n",
              " 0.8772443589710083,\n",
              " -0.01306983952648988,\n",
              " 0.057028311281872135,\n",
              " 1.0602266289828552,\n",
              " 0.36142208692698113,\n",
              " 0.8260685102297902,\n",
              " 0.7735601895147872,\n",
              " 0.21617063184214963,\n",
              " 1.3689823292103456,\n",
              " 0.8302057087669876,\n",
              " 0.46574890507884037,\n",
              " 0.371295564080388,\n",
              " 0.11726803338538222,\n",
              " 0.38256333203515946,\n",
              " 0.8847513193619201,\n",
              " 0.202022736585604,\n",
              " 0.18314966621939133,\n",
              " 0.47414918963836333,\n",
              " 0.5809255110721351,\n",
              " 0.6034729125364967,\n",
              " 1.1215928913185989,\n",
              " 0.5510468517343011,\n",
              " 0.7428950168117583,\n",
              " 0.8656512368756702,\n",
              " 0.19208453093476163,\n",
              " 1.1086184406346167,\n",
              " 0.41445667988440094,\n",
              " 0.4656070511950083,\n",
              " 0.7899922774577578,\n",
              " 1.0123159315223675,\n",
              " 0.746137627685142,\n",
              " 0.17631084903534888,\n",
              " 0.35644292164824054,\n",
              " 0.31264722347691365,\n",
              " 0.6152908967168904,\n",
              " 0.7401948790630519,\n",
              " 0.17592613580676114,\n",
              " 0.4186023420735564,\n",
              " 0.7188298096012432,\n",
              " 0.5823779031728988,\n",
              " 0.5340016140746854,\n",
              " 0.07143130638941819,\n",
              " 0.7692493699539461,\n",
              " 0.719627138759452,\n",
              " 0.23379230869344192,\n",
              " 0.32690463483728055,\n",
              " 0.5032130210071135,\n",
              " 0.5635650580012833,\n",
              " 0.747110010406022,\n",
              " 0.26651931165507203,\n",
              " -0.0015011321049567261,\n",
              " 0.1634732897321065,\n",
              " 0.6575951588385587,\n",
              " -0.15813359364542168,\n",
              " 0.3500625851031256,\n",
              " 1.2224588844699822,\n",
              " 0.998789230585439,\n",
              " 0.8578340931441146,\n",
              " 0.04284842498054853,\n",
              " 0.08168184299790793,\n",
              " 0.33673838974533044,\n",
              " 0.8134514157679974,\n",
              " 0.8147510457825229,\n",
              " 0.5965945635274933,\n",
              " 0.3873885463057327,\n",
              " 0.8572297891008553,\n",
              " 0.8791261866360776,\n",
              " 0.6961194148985468,\n",
              " 0.7577025417779196,\n",
              " -0.28241955642744554,\n",
              " 0.5887837052349573,\n",
              " 0.3922722863214062,\n",
              " 0.568456356098416,\n",
              " 0.7281108866379377,\n",
              " 0.3320490975024993,\n",
              " 0.5049486971509657,\n",
              " 0.665674222585757,\n",
              " -0.059920721142145084,\n",
              " 0.654368132608303,\n",
              " 0.14551787196586746,\n",
              " 0.4989476819165101,\n",
              " 0.2982892744813344,\n",
              " 0.4281046150182158,\n",
              " 0.6609699128642761,\n",
              " 0.3884667249194859,\n",
              " 0.3607316715179364,\n",
              " 0.6596062743648481,\n",
              " 0.4297704318828438,\n",
              " 1.1077267153174297,\n",
              " 0.5589798631603622,\n",
              " 0.7085022953850988,\n",
              " -0.02980114741244222,\n",
              " 0.5421270537931846,\n",
              " 1.3094571391133583,\n",
              " 0.446586354436666,\n",
              " 0.8075314471602123,\n",
              " 0.09357526768648233,\n",
              " 0.532182888237214,\n",
              " -0.2377876378662812,\n",
              " 1.0672303207557259,\n",
              " 0.7292045567772192,\n",
              " 1.0124704321351208,\n",
              " 0.26142934469087,\n",
              " 0.8002045352971985,\n",
              " 0.630982667985568,\n",
              " 0.43722202272715155,\n",
              " 0.886813616364934,\n",
              " 0.7690273053846363,\n",
              " 1.0480445433486199,\n",
              " 0.5897198220424683,\n",
              " 0.0660539901883831,\n",
              " 0.4719061084740859,\n",
              " 0.8126595622382664,\n",
              " 0.28688185520360493,\n",
              " 0.6278483223117615,\n",
              " 0.6411463374621313,\n",
              " 0.4366966048518589,\n",
              " 0.47947288808952737,\n",
              " 0.7955156908236194,\n",
              " 1.0350436812943284,\n",
              " 0.25672744312474366,\n",
              " 0.489381351508302,\n",
              " 0.2832891683129021,\n",
              " -0.05074393509650721,\n",
              " 0.5694640091438279,\n",
              " 1.3429083348119832,\n",
              " 0.2566965878933614,\n",
              " 0.8189124282051021,\n",
              " 1.2172121087456231,\n",
              " 0.2388211492935331,\n",
              " 1.3791923091035287,\n",
              " 0.14113123637306235,\n",
              " 0.3229360376103969,\n",
              " 0.6235148473305023,\n",
              " 0.5092398606351689,\n",
              " 0.4784976497865782,\n",
              " 0.20935091627688796,\n",
              " 0.027613136801470373,\n",
              " 0.7540214907118723,\n",
              " 0.2383641046271508,\n",
              " -0.04782030310128149,\n",
              " 0.2843757387542377,\n",
              " 0.3014191147075148,\n",
              " 0.855832297008464,\n",
              " 0.2782698403174968,\n",
              " 0.2077787636642333,\n",
              " 0.18847058191967098,\n",
              " 0.41110686824640924,\n",
              " -0.15036089635799765,\n",
              " 0.6916206737393888,\n",
              " 0.6924753496906806,\n",
              " -0.10156403570165795,\n",
              " 1.1810129499373894,\n",
              " 0.6266493072639632,\n",
              " 0.07419293730587961,\n",
              " 0.3163920656461381,\n",
              " 0.5945233151689496,\n",
              " 0.8970444326011477,\n",
              " 0.9680142847658675,\n",
              " 0.5827805037659328,\n",
              " 0.4489637747187352,\n",
              " 0.8131699088087581,\n",
              " 0.7067262467605433,\n",
              " -0.14219964546120245,\n",
              " 1.2146885697120275,\n",
              " 0.24413311138914767,\n",
              " 0.30384594345222876,\n",
              " 0.8201232357737269,\n",
              " 0.7790277672439869,\n",
              " 0.5403360750951092,\n",
              " 0.40904944322448855,\n",
              " 0.650693373040704,\n",
              " 0.4585723248111785,\n",
              " 0.771414234251437,\n",
              " -0.0003793278061764438,\n",
              " 0.4866685927200786,\n",
              " 0.8473691876228246,\n",
              " 0.4087414600527852,\n",
              " 0.6681665223137079,\n",
              " -0.007206162068691735,\n",
              " 0.246435083754729,\n",
              " -0.1656578722372989,\n",
              " 0.803426205696705,\n",
              " -0.005434200072467754,\n",
              " 0.6009016024588464,\n",
              " 0.3853980298191266,\n",
              " 0.6538808455072307,\n",
              " 0.1649677875969494,\n",
              " 0.6966097605243455,\n",
              " 0.7572496185165892,\n",
              " 0.4447044520140184,\n",
              " 0.5466871620338508,\n",
              " 0.8246915384951274,\n",
              " 0.06222898293036905,\n",
              " 0.4676120802259984,\n",
              " 1.0398370998339033,\n",
              " 0.44601408773700857,\n",
              " 0.3338049349516111,\n",
              " 0.24942800759438216,\n",
              " 0.3368771345628825,\n",
              " -0.18255782396070763,\n",
              " 0.7716001565435222,\n",
              " 1.4003809176268707,\n",
              " 0.8682018129513335,\n",
              " 0.5947901875720235,\n",
              " 0.5430920276094744,\n",
              " 0.2642228956717073,\n",
              " 0.6933897670960831,\n",
              " 0.04927449460762656,\n",
              " -0.03306736002960786,\n",
              " 0.8743204004987355,\n",
              " 0.8565189584723476,\n",
              " 0.5318687762457909,\n",
              " 0.41645256852969703,\n",
              " 0.6124315633469021,\n",
              " 0.8050893850383473,\n",
              " 0.3436255194748506,\n",
              " -0.013909087354766148,\n",
              " 0.7496751472958385,\n",
              " 0.7702534877231992,\n",
              " 0.5874644254312297,\n",
              " 0.3682425066672951,\n",
              " 0.6241090518964149,\n",
              " -0.28240023052149943,\n",
              " 0.24104784578649974,\n",
              " -0.15580937329180078,\n",
              " 0.26947828658884304,\n",
              " 0.9324194228094858,\n",
              " 1.2885818664415958,\n",
              " 0.6516945572382286,\n",
              " 0.2704327200567953,\n",
              " 0.7775111396069933,\n",
              " 0.450261257372345,\n",
              " 0.6489218511286158,\n",
              " 0.7869230554945877,\n",
              " 0.6010537305468726,\n",
              " 1.0202251205868873,\n",
              " 0.9106470671085728,\n",
              " 0.643499572312868,\n",
              " 0.6216079217510985,\n",
              " 0.32061513107206907,\n",
              " 0.5614161266033749,\n",
              " 0.9725429718585852,\n",
              " 0.1256069849510031,\n",
              " 0.6637176750546279,\n",
              " 0.4315694165864104,\n",
              " 0.24413966761587563,\n",
              " 0.9374165478370013,\n",
              " 0.5841142442825882,\n",
              " 0.22276086940116774,\n",
              " 0.3900361100236464,\n",
              " 0.6506161553337044,\n",
              " -0.1228688177694589,\n",
              " 0.6572663122851818,\n",
              " 0.9739706316361265,\n",
              " 0.6388665668364072,\n",
              " 0.7580586118498925,\n",
              " 0.9316076291022646,\n",
              " 0.4342159265247509,\n",
              " 0.6161487510666284,\n",
              " 0.5671768525887515,\n",
              " 0.8214931146722337,\n",
              " 0.20819480284244268,\n",
              " 1.2903853004573969,\n",
              " 0.7011492251173004,\n",
              " 0.6064588780885776,\n",
              " 0.07749117424688495,\n",
              " 0.8642628241458945,\n",
              " 0.3837352355583289,\n",
              " 0.7911323084982111,\n",
              " 0.09191796545404507,\n",
              " 0.789213930496172,\n",
              " 0.17708452173174077,\n",
              " 0.7410936427115096,\n",
              " 0.47984505410916806,\n",
              " 0.2686710021673465,\n",
              " 0.5612826061125206,\n",
              " 0.9078726431242856,\n",
              " 0.5722378355692747,\n",
              " 0.579921715207491,\n",
              " 0.6561859384781374,\n",
              " 1.103346016107491,\n",
              " 0.5852767461754411,\n",
              " 0.48870050521105685,\n",
              " 0.5365024083092209,\n",
              " 0.4439583668964643,\n",
              " 0.32411738541704715,\n",
              " 0.09183754292893337,\n",
              " 0.36341913899923584,\n",
              " 0.48536761793884503,\n",
              " 0.23309585267310773,\n",
              " 0.6452971154023969,\n",
              " 0.9353197025734723,\n",
              " 0.3000420932691438,\n",
              " 0.499981079021638,\n",
              " 0.7685589690270518,\n",
              " 1.1890621984171446,\n",
              " 0.8155126186358383,\n",
              " 0.2508033107396946,\n",
              " 0.2521814200542118,\n",
              " -0.0719492904268032,\n",
              " 1.2182280172493676,\n",
              " 0.674614968631337,\n",
              " 0.5559585161301939,\n",
              " 0.7999369973153115,\n",
              " 0.11453407019075468,\n",
              " 0.5944137642114298,\n",
              " 0.8269119915274424,\n",
              " 0.5752630302225362,\n",
              " 0.36841817491857004,\n",
              " 0.7774470005021111,\n",
              " ...]"
            ]
          },
          "metadata": {},
          "execution_count": 33
        },
        {
          "output_type": "display_data",
          "data": {
            "text/plain": [
              "<Figure size 432x288 with 1 Axes>"
            ],
            "image/png": "[encoded data removed]"
          },
          "metadata": {
            "needs_background": "light"
          }
        }
      ]
    }
  ],
  "metadata": {
    "kernelspec": {
      "display_name": "Python 3 (ipykernel)",
      "language": "python",
      "name": "python3"
    },
    "language_info": {
      "codemirror_mode": {
        "name": "ipython",
        "version": 3
      },
      "file_extension": ".py",
      "mimetype": "text/x-python",
      "name": "python",
      "nbconvert_exporter": "python",
      "pygments_lexer": "ipython3",
      "version": "3.9.12"
    },
    "colab": {
      "provenance": [],
      "include_colab_link": true
    }
  },
  "nbformat": 4,
  "nbformat_minor": 5
}