{
 "cells": [
  {
   "cell_type": "markdown",
   "metadata": {
    "colab_type": "text",
    "id": "view-in-github"
   },
   "source": [
    "<a href=\"https://colab.research.google.com/github/hungpham13/Distributed-data-discretization/blob/main/Data-preparation.ipynb\" target=\"_parent\"><img src=\"https://colab.research.google.com/assets/colab-badge.svg\" alt=\"Open In Colab\"/></a>"
   ]
  },
  {
   "cell_type": "code",
   "execution_count": null,
   "id": "70bcee23",
   "metadata": {},
   "outputs": [],
   "source": [
    "!git clone https://github.com/hungpham13/Distributed-data-discretization\n",
    "%cd Distributed-data-discretization/\n",
    "!pip install -r requirements.txt"
   ]
  },
  {
   "cell_type": "code",
   "execution_count": 1,
   "id": "543a6409",
   "metadata": {
    "id": "543a6409"
   },
   "outputs": [],
   "source": [
    "import pandas as pd\n",
    "import numpy as np\n",
    "\n",
    "import seaborn as sns\n",
    "import matplotlib.pyplot as plt"
   ]
  },
  {
   "cell_type": "code",
   "execution_count": 2,
   "id": "bc16a1b1",
   "metadata": {},
   "outputs": [
    {
     "ename": "KeyboardInterrupt",
     "evalue": "",
     "output_type": "error",
     "traceback": [
      "\u001b[0;31m---------------------------------------------------------------------------\u001b[0m",
      "\u001b[0;31mKeyboardInterrupt\u001b[0m                         Traceback (most recent call last)",
      "Cell \u001b[0;32mIn [2], line 7\u001b[0m\n\u001b[1;32m      2\u001b[0m datas \u001b[39m=\u001b[39m []\n\u001b[1;32m      3\u001b[0m \u001b[39m# for num_days in [30, 6*30, 365, 2*365, 3*365, 5*365]:\u001b[39;00m\n\u001b[1;32m      4\u001b[0m \u001b[39m#     for num_sample in [10000, 100000, 1000000, 10000000]:\u001b[39;00m\n\u001b[1;32m      5\u001b[0m \u001b[39m#         for dist in ['normal', 'logistic', 'uniform']:\u001b[39;00m\n\u001b[1;32m      6\u001b[0m \u001b[39m#             datas.append(generate_data(num_days, num_sample, dist))\u001b[39;00m\n\u001b[0;32m----> 7\u001b[0m data \u001b[39m=\u001b[39m generate_data(\u001b[39m2\u001b[39;49m\u001b[39m*\u001b[39;49m\u001b[39m365\u001b[39;49m, \u001b[39m1000000\u001b[39;49m, \u001b[39m'\u001b[39;49m\u001b[39mnormal\u001b[39;49m\u001b[39m'\u001b[39;49m)\n",
      "File \u001b[0;32m~/PythonProject/Distributed-data-discretization/data/gen_data.py:106\u001b[0m, in \u001b[0;36mgenerate_data\u001b[0;34m(num_days, num_sample, dist)\u001b[0m\n\u001b[1;32m    104\u001b[0m         next = gen_nextday(prev, False, dist)\n\u001b[1;32m    105\u001b[0m     prev = next\n\u001b[0;32m--> 106\u001b[0m     # data.loc[day] = next + [label]\n\u001b[1;32m    107\u001b[0m     data = np.append(data, [next + [label]], axis=0)\n\u001b[1;32m    109\u001b[0m plt.figure()\n",
      "File \u001b[0;32m<__array_function__ internals>:180\u001b[0m, in \u001b[0;36mappend\u001b[0;34m(*args, **kwargs)\u001b[0m\n",
      "File \u001b[0;32m~/PythonProject/Distributed-data-discretization/venv/lib/python3.10/site-packages/numpy/lib/function_base.py:5444\u001b[0m, in \u001b[0;36mappend\u001b[0;34m(arr, values, axis)\u001b[0m\n\u001b[1;32m   5442\u001b[0m     values \u001b[39m=\u001b[39m ravel(values)\n\u001b[1;32m   5443\u001b[0m     axis \u001b[39m=\u001b[39m arr\u001b[39m.\u001b[39mndim\u001b[39m-\u001b[39m\u001b[39m1\u001b[39m\n\u001b[0;32m-> 5444\u001b[0m \u001b[39mreturn\u001b[39;00m concatenate((arr, values), axis\u001b[39m=\u001b[39;49maxis)\n",
      "File \u001b[0;32m<__array_function__ internals>:180\u001b[0m, in \u001b[0;36mconcatenate\u001b[0;34m(*args, **kwargs)\u001b[0m\n",
      "\u001b[0;31mKeyboardInterrupt\u001b[0m: "
     ]
    },
    {
     "ename": "",
     "evalue": "",
     "output_type": "error",
     "traceback": [
      "\u001b[1;31mThe Kernel crashed while executing code in the the current cell or a previous cell. Please review the code in the cell(s) to identify a possible cause of the failure. Click <a href='https://aka.ms/vscodeJupyterKernelCrash'>here</a> for more info. View Jupyter <a href='command:jupyter.viewOutput'>log</a> for further details."
     ]
    }
   ],
   "source": [
    "from data.gen_data import generate_data\n",
    "datas = []\n",
    "# for num_days in [30, 6*30, 365, 2*365, 3*365, 5*365]:\n",
    "#     for num_sample in [10000, 100000, 1000000, 10000000]:\n",
    "#         for dist in ['normal', 'logistic', 'uniform']:\n",
    "#             datas.append(generate_data(num_days, num_sample, dist))\n",
    "data = generate_data(2*365, 1000000, 'normal')"
   ]
  },
  {
   "cell_type": "code",
   "execution_count": 15,
   "id": "0b6ffcf8",
   "metadata": {},
   "outputs": [
    {
     "name": "stdout",
     "output_type": "stream",
     "text": [
      "[1 2] 3\n",
      "[4 5] 6\n"
     ]
    }
   ],
   "source": [
    "a = np.append([[1, 2, 3], [4, 5, 6]], [[7, 8, 9]], axis=0)\n",
    "for i in a[:2, :]:\n",
    "    print(i[:-1])\n",
    "\n",
    "    print(i[:-1], i[-1])"
   ]
  }
 ],
 "metadata": {
  "colab": {
   "include_colab_link": true,
   "provenance": []
  },
  "kernelspec": {
   "display_name": "venv",
   "language": "python",
   "name": "python3"
  },
  "language_info": {
   "codemirror_mode": {
    "name": "ipython",
    "version": 3
   },
   "file_extension": ".py",
   "mimetype": "text/x-python",
   "name": "python",
   "nbconvert_exporter": "python",
   "pygments_lexer": "ipython3",
   "version": "3.10.6"
  },
  "vscode": {
   "interpreter": {
    "hash": "cb52c0e0aa3cfa993e6c7c17c5fc2c2314d32b544a55ce58d875da255c921575"
   }
  }
 },
 "nbformat": 4,
 "nbformat_minor": 5
}
