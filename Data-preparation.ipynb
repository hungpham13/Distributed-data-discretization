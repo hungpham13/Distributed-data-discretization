{
 "cells": [
  {
   "cell_type": "markdown",
   "metadata": {
    "colab_type": "text",
    "id": "view-in-github"
   },
   "source": [
    "<a href=\"https://colab.research.google.com/github/hungpham13/Distributed-data-discretization/blob/main/Data-preparation.ipynb\" target=\"_parent\"><img src=\"https://colab.research.google.com/assets/colab-badge.svg\" alt=\"Open In Colab\"/></a>"
   ]
  },
  {
   "cell_type": "code",
   "execution_count": 1,
   "id": "70bcee23",
   "metadata": {},
   "outputs": [],
   "source": [
    "# !git clone https://github.com/hungpham13/Distributed-data-discretization\n",
    "# %cd Distributed-data-discretization/\n",
    "# !pip install -r requirements.txt"
   ]
  },
  {
   "cell_type": "code",
   "execution_count": 2,
   "id": "543a6409",
   "metadata": {
    "id": "543a6409"
   },
   "outputs": [],
   "source": [
    "import pandas as pd\n",
    "\n",
    "import seaborn as sns\n",
    "import matplotlib.pyplot as plt"
   ]
  },
  {
   "cell_type": "code",
   "execution_count": 3,
   "id": "bc16a1b1",
   "metadata": {},
   "outputs": [
    {
     "name": "stdout",
     "output_type": "stream",
     "text": [
      "Generating exponential distribution, 30 days, 1000 samples...\n"
     ]
    },
    {
     "name": "stderr",
     "output_type": "stream",
     "text": [
      "100%|██████████| 29/29 [00:02<00:00, 12.18it/s]\n"
     ]
    },
    {
     "name": "stdout",
     "output_type": "stream",
     "text": [
      "Generating exponential distribution, 60 days, 1000 samples...\n"
     ]
    },
    {
     "name": "stderr",
     "output_type": "stream",
     "text": [
      "100%|██████████| 59/59 [00:06<00:00,  9.45it/s]\n"
     ]
    },
    {
     "name": "stdout",
     "output_type": "stream",
     "text": [
      "Generating exponential distribution, 120 days, 1000 samples...\n"
     ]
    },
    {
     "name": "stderr",
     "output_type": "stream",
     "text": [
      "100%|██████████| 119/119 [00:09<00:00, 12.79it/s]\n"
     ]
    },
    {
     "name": "stdout",
     "output_type": "stream",
     "text": [
      "Generating exponential distribution, 365 days, 1000 samples...\n"
     ]
    },
    {
     "name": "stderr",
     "output_type": "stream",
     "text": [
      "100%|██████████| 364/364 [00:28<00:00, 12.69it/s]\n"
     ]
    },
    {
     "name": "stdout",
     "output_type": "stream",
     "text": [
      "Generating exponential distribution, 730 days, 1000 samples...\n"
     ]
    },
    {
     "name": "stderr",
     "output_type": "stream",
     "text": [
      "100%|██████████| 729/729 [00:56<00:00, 12.90it/s]\n"
     ]
    },
    {
     "name": "stdout",
     "output_type": "stream",
     "text": [
      "Generating exponential distribution, 1095 days, 1000 samples...\n"
     ]
    },
    {
     "name": "stderr",
     "output_type": "stream",
     "text": [
      "100%|██████████| 1094/1094 [01:24<00:00, 12.91it/s]\n"
     ]
    },
    {
     "name": "stdout",
     "output_type": "stream",
     "text": [
      "Generating exponential distribution, 30 days, 3000 samples...\n"
     ]
    },
    {
     "name": "stderr",
     "output_type": "stream",
     "text": [
      "100%|██████████| 29/29 [00:02<00:00, 13.10it/s]\n"
     ]
    },
    {
     "name": "stdout",
     "output_type": "stream",
     "text": [
      "Generating exponential distribution, 60 days, 3000 samples...\n"
     ]
    },
    {
     "name": "stderr",
     "output_type": "stream",
     "text": [
      "100%|██████████| 59/59 [00:04<00:00, 12.60it/s]\n"
     ]
    },
    {
     "name": "stdout",
     "output_type": "stream",
     "text": [
      "Generating exponential distribution, 120 days, 3000 samples...\n"
     ]
    },
    {
     "name": "stderr",
     "output_type": "stream",
     "text": [
      "100%|██████████| 119/119 [00:10<00:00, 11.53it/s]\n"
     ]
    },
    {
     "name": "stdout",
     "output_type": "stream",
     "text": [
      "Generating exponential distribution, 365 days, 3000 samples...\n"
     ]
    },
    {
     "name": "stderr",
     "output_type": "stream",
     "text": [
      "100%|██████████| 364/364 [00:29<00:00, 12.48it/s]\n"
     ]
    },
    {
     "name": "stdout",
     "output_type": "stream",
     "text": [
      "Generating exponential distribution, 730 days, 3000 samples...\n"
     ]
    },
    {
     "name": "stderr",
     "output_type": "stream",
     "text": [
      "100%|██████████| 729/729 [01:06<00:00, 11.01it/s]\n"
     ]
    },
    {
     "name": "stdout",
     "output_type": "stream",
     "text": [
      "Generating exponential distribution, 1095 days, 3000 samples...\n"
     ]
    },
    {
     "name": "stderr",
     "output_type": "stream",
     "text": [
      "  1%|          | 6/1094 [01:10<3:31:47, 11.68s/it]\n"
     ]
    },
    {
     "name": "stdout",
     "output_type": "stream",
     "text": [
      "Error, retrying...\n",
      "Generating exponential distribution, 1095 days, 3000 samples...\n"
     ]
    },
    {
     "name": "stderr",
     "output_type": "stream",
     "text": [
      "  1%|          | 6/1094 [01:08<3:28:31, 11.50s/it]\n"
     ]
    },
    {
     "name": "stdout",
     "output_type": "stream",
     "text": [
      "Error, retrying...\n",
      "Generating exponential distribution, 1095 days, 3000 samples...\n"
     ]
    },
    {
     "name": "stderr",
     "output_type": "stream",
     "text": [
      "100%|██████████| 1094/1094 [01:25<00:00, 12.85it/s]\n"
     ]
    },
    {
     "name": "stdout",
     "output_type": "stream",
     "text": [
      "Generating exponential distribution, 30 days, 10000 samples...\n"
     ]
    },
    {
     "name": "stderr",
     "output_type": "stream",
     "text": [
      "100%|██████████| 29/29 [00:03<00:00,  9.17it/s]\n"
     ]
    },
    {
     "name": "stdout",
     "output_type": "stream",
     "text": [
      "Generating exponential distribution, 60 days, 10000 samples...\n"
     ]
    },
    {
     "name": "stderr",
     "output_type": "stream",
     "text": [
      "100%|██████████| 59/59 [00:05<00:00, 10.04it/s]\n"
     ]
    },
    {
     "name": "stdout",
     "output_type": "stream",
     "text": [
      "Generating exponential distribution, 120 days, 10000 samples...\n"
     ]
    },
    {
     "name": "stderr",
     "output_type": "stream",
     "text": [
      "100%|██████████| 119/119 [00:10<00:00, 11.56it/s]\n"
     ]
    },
    {
     "name": "stdout",
     "output_type": "stream",
     "text": [
      "Generating exponential distribution, 365 days, 10000 samples...\n"
     ]
    },
    {
     "name": "stderr",
     "output_type": "stream",
     "text": [
      "  2%|▏         | 8/364 [00:25<18:58,  3.20s/it]\n"
     ]
    },
    {
     "name": "stdout",
     "output_type": "stream",
     "text": [
      "Error, retrying...\n",
      "Generating exponential distribution, 365 days, 10000 samples...\n"
     ]
    },
    {
     "name": "stderr",
     "output_type": "stream",
     "text": [
      " 34%|███▍      | 123/364 [00:12<00:24,  9.85it/s]"
     ]
    }
   ],
   "source": [
    "from data.gen_data import generate_data\n",
    "# data = generate_data(365, 10000, 'exponential', visualize=True)\n",
    "nums_sam = [1000, 3000, 10000, 30000, 100000, 300000, 1000000]\n",
    "nums_day = [30, 60, 120, 365, 365*2, 365*3]\n",
    "dists = ['exponential']\n",
    "\n",
    "for dist in dists:\n",
    "    for num_samples in nums_sam:\n",
    "        for num_days in nums_day:\n",
    "            data = generate_data(num_days, num_samples, dist, visualize=False)"
   ]
  },
  {
   "cell_type": "code",
   "execution_count": null,
   "id": "d3160d0b",
   "metadata": {},
   "outputs": [
    {
     "name": "stdout",
     "output_type": "stream",
     "text": [
      "807 True\n",
      "300 True\n"
     ]
    }
   ],
   "source": [
    "import numpy as np\n",
    "data[0, :-1]\n",
    "print(np.max(data[:,:-1]), np.max(data[:,:-1]) <= 850)\n",
    "print(np.min(data[:, :-1]), np.min(data[:, :-1]) >=300)"
   ]
  },
  {
   "cell_type": "code",
   "execution_count": null,
   "id": "45421a04",
   "metadata": {},
   "outputs": [
    {
     "name": "stdout",
     "output_type": "stream",
     "text": [
      "[300.  350.7 401.4 452.1 502.8 553.5 604.2 654.9 705.6 756.3 807. ]\n",
      "0.18654924403693762\n",
      "0.10927285954250823\n",
      "0.19647613023360028\n",
      "0.2744817154300866\n",
      "0.11410041298296691\n",
      "0.10137260968927361\n",
      "0.13819511887695884\n",
      "0.214094921676866\n",
      "0.15295986587171304\n",
      "0.20521311765305913\n"
     ]
    }
   ],
   "source": [
    "from model.psi import get_breakpoint \n",
    "from model.psi import calculate_psi\n",
    "\n",
    "breakpoints = get_breakpoint(data[:,:-1].reshape(-1), buckettype='bins', buckets=10)\n",
    "print(breakpoints)\n",
    "for i in range(len(data) - 1):\n",
    "    psi = calculate_psi(expected=data[i, :-1], actual=data[i + 1, :-1],\n",
    "                        breakpoints=breakpoints)\n",
    "    if (data[i + 1, -1] == 0 and psi > 0.1):\n",
    "        print(psi)"
   ]
  }
 ],
 "metadata": {
  "colab": {
   "include_colab_link": true,
   "provenance": []
  },
  "kernelspec": {
   "display_name": "venv",
   "language": "python",
   "name": "python3"
  },
  "language_info": {
   "codemirror_mode": {
    "name": "ipython",
    "version": 3
   },
   "file_extension": ".py",
   "mimetype": "text/x-python",
   "name": "python",
   "nbconvert_exporter": "python",
   "pygments_lexer": "ipython3",
   "version": "3.10.6"
  },
  "vscode": {
   "interpreter": {
    "hash": "cb52c0e0aa3cfa993e6c7c17c5fc2c2314d32b544a55ce58d875da255c921575"
   }
  }
 },
 "nbformat": 4,
 "nbformat_minor": 5
}
